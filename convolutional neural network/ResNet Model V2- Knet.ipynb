{
 "cells": [
  {
   "cell_type": "markdown",
   "id": "eeccffd3",
   "metadata": {},
   "source": [
    "# Imports"
   ]
  },
  {
   "cell_type": "code",
   "execution_count": 1,
   "id": "526f2ea0",
   "metadata": {},
   "outputs": [
    {
     "name": "stderr",
     "output_type": "stream",
     "text": [
      "WARNING: using Data.Data in module Main conflicts with an existing identifier.\n"
     ]
    }
   ],
   "source": [
    "using MLDatasets: CIFAR10\n",
    "using MLDataUtils\n",
    "using Knet, IterTools\n",
    "using Dictionaries\n",
    "using TimerOutputs\n",
    "using JSON\n",
    "using Printf\n",
    "using Knet:minibatch\n",
    "using Knet:minimize\n",
    "using Knet: Param\n",
    "using Knet: dir, accuracy, progress, sgd, gc, Data, nll, relu, conv4\n",
    "using Flatten\n",
    "using Flux.Data;\n",
    "using Flux, Statistics\n",
    "using Statistics: mean, var\n",
    "using Functors"
   ]
  },
  {
   "cell_type": "markdown",
   "id": "200c3cb6",
   "metadata": {},
   "source": [
    "# Processing Data/Batch Processing"
   ]
  },
  {
   "cell_type": "code",
   "execution_count": 2,
   "id": "b0aa0ba8",
   "metadata": {},
   "outputs": [
    {
     "name": "stdout",
     "output_type": "stream",
     "text": [
      "32×32×3×45000 Array{Float32, 4}\n",
      "45000-element Vector{Int64}\n",
      "32×32×3×5000 Array{Float32, 4}\n",
      "5000-element Vector{Int64}\n",
      "32×32×3×10000 Array{Float32, 4}\n",
      "10000-element Vector{Int64}\n"
     ]
    }
   ],
   "source": [
    "# This loads the CIFAR-10 Dataset for training, validation, and evaluation\n",
    "xtrn,ytrn = CIFAR10.traindata(Float32, 1:45000)\n",
    "xval,yval =  CIFAR10.traindata(Float32, 45001:50000)\n",
    "xtst,ytst = CIFAR10.testdata(Float32)\n",
    "println.(summary.((xtrn,ytrn,xval, yval, xtst,ytst)));"
   ]
  },
  {
   "cell_type": "code",
   "execution_count": 3,
   "id": "7db40f98",
   "metadata": {},
   "outputs": [
    {
     "data": {
      "text/plain": [
       "DataLoader{Tuple{Array{Float32, 4}, Vector{Int64}}, Random._GLOBAL_RNG, Val{nothing}}(([0.61960787 0.59607846 … 0.23921569 0.21176471; 0.62352943 0.5921569 … 0.19215687 0.21960784; … ; 0.49411765 0.49019608 … 0.11372549 0.13333334; 0.45490196 0.46666667 … 0.078431375 0.08235294;;; 0.4392157 0.4392157 … 0.45490196 0.41960785; 0.43529412 0.43137255 … 0.4 0.4117647; … ; 0.35686275 0.35686275 … 0.32156864 0.32941177; 0.33333334 0.34509805 … 0.2509804 0.2627451;;; 0.19215687 0.2 … 0.65882355 0.627451; 0.18431373 0.15686275 … 0.5803922 0.58431375; … ; 0.14117648 0.1254902 … 0.49411765 0.5058824; 0.12941177 0.13333334 … 0.41960785 0.43137255;;;; 0.92156863 0.93333334 … 0.32156864 0.33333334; 0.90588236 0.92156863 … 0.18039216 0.24313726; … ; 0.9137255 0.9254902 … 0.7254902 0.7058824; 0.9098039 0.92156863 … 0.73333335 0.7294118;;; 0.92156863 0.93333334 … 0.3764706 0.39607844; 0.90588236 0.92156863 … 0.22352941 0.29411766; … ; 0.9137255 0.9254902 … 0.78431374 0.7647059; 0.9098039 0.92156863 … 0.7921569 0.78431374;;; 0.92156863 0.93333334 … 0.32156864 0.3254902; 0.90588236 0.92156863 … 0.14117648 0.1882353; … ; 0.9137255 0.9254902 … 0.76862746 0.7490196; 0.9098039 0.92156863 … 0.78431374 0.78039217;;;; 0.61960787 0.6666667 … 0.09019608 0.10980392; 0.61960787 0.6745098 … 0.105882354 0.11764706; … ; 0.92941177 0.9647059 … 0.015686275 0.015686275; 0.93333334 0.9647059 … 0.019607844 0.02745098;;; 0.74509805 0.78431374 … 0.13333334 0.16078432; 0.73333335 0.78039217 … 0.14901961 0.16862746; … ; 0.9372549 0.9647059 … 0.023529412 0.019607844; 0.94509804 0.96862745 … 0.02745098 0.03137255;;; 0.87058824 0.8980392 … 0.15294118 0.18431373; 0.85490197 0.8862745 … 0.16862746 0.19607843; … ; 0.9529412 0.98039216 … 0.011764706 0.011764706; 0.9647059 0.9843137 … 0.011764706 0.02745098;;;; … ;;;; 0.078431375 0.08235294 … 0.12941177 0.12156863; 0.07450981 0.078431375 … 0.13333334 0.1254902; … ; 0.047058824 0.039215688 … 0.105882354 0.101960786; 0.050980393 0.047058824 … 0.09803922 0.09803922;;; 0.05882353 0.0627451 … 0.09803922 0.09019608; 0.05490196 0.0627451 … 0.101960786 0.09411765; … ; 0.043137256 0.03529412 … 0.09411765 0.09019608; 0.047058824 0.043137256 … 0.08627451 0.078431375;;; 0.047058824 0.050980393 … 0.05490196 0.047058824; 0.043137256 0.050980393 … 0.05882353 0.050980393; … ; 0.03529412 0.02745098 … 0.21960784 0.20784314; 0.039215688 0.03529412 … 0.18431373 0.18431373;;;; 0.09803922 0.047058824 … 0.40392157 0.37254903; 0.05882353 0.078431375 … 0.40784314 0.37254903; … ; 0.36078432 0.58431375 … 0.3882353 0.37254903; 0.29411766 0.40784314 … 0.36078432 0.36078432;;; 0.15686275 0.09803922 … 0.5176471 0.49411765; 0.14117648 0.14509805 … 0.5137255 0.48235294; … ; 0.44313726 0.65882355 … 0.49803922 0.48235294; 0.34901962 0.45882353 … 0.4745098 0.47058824;;; 0.047058824 0.023529412 … 0.3254902 0.30588236; 0.011764706 0.02745098 … 0.3254902 0.29803923; … ; 0.4392157 0.69411767 … 0.32941177 0.31764707; 0.36078432 0.5137255 … 0.30980393 0.3137255;;;; 0.28627452 0.27058825 … 0.4509804 0.45490196; 0.38431373 0.32941177 … 0.48235294 0.4745098; … ; 0.5294118 0.2784314 … 0.25882354 0.26666668; 0.79607844 0.47058824 … 0.105882354 0.105882354;;; 0.30588236 0.28627452 … 0.4745098 0.47058824; 0.40392157 0.34901962 … 0.4862745 0.47843137; … ; 0.58431375 0.32156864 … 0.25490198 0.25490198; 0.84313726 0.52156866 … 0.105882354 0.101960786;;; 0.29411766 0.27450982 … 0.35686275 0.3529412; 0.44313726 0.38039216 … 0.37254903 0.36862746; … ; 0.6039216 0.3137255 … 0.23137255 0.22745098; 0.8745098 0.5294118 … 0.105882354 0.101960786], [3, 8, 8, 0, 6, 6, 1, 6, 3, 1  …  7, 0, 3, 5, 3, 8, 3, 5, 1, 7]), 256, false, true, false, false, Val{nothing}(), Random._GLOBAL_RNG())"
      ]
     },
     "execution_count": 3,
     "metadata": {},
     "output_type": "execute_result"
    }
   ],
   "source": [
    "train_loader = DataLoader((xtrn, ytrn), batchsize=256)\n",
    "val_loader = DataLoader((xval, yval), batchsize = 256)\n",
    "test_loader = DataLoader((xtst, ytst), batchsize = 256)"
   ]
  },
  {
   "cell_type": "markdown",
   "id": "a50fbde6",
   "metadata": {},
   "source": [
    "# Define Struct ResNetLayer"
   ]
  },
  {
   "cell_type": "code",
   "execution_count": 4,
   "id": "3fbd3c98",
   "metadata": {},
   "outputs": [],
   "source": [
    "mutable struct ResNetLayer\n",
    "    conv1::Flux.Conv\n",
    "    conv2::Flux.Conv\n",
    "    bn1::BatchNorm\n",
    "    bn2::BatchNorm\n",
    "    activation_function::Function\n",
    "    in_channels::Int\n",
    "    channels::Int\n",
    "    stride::Int \n",
    "end \n",
    "\n",
    "@functor ResNetLayer (conv1, conv2, bn1, bn2)"
   ]
  },
  {
   "cell_type": "code",
   "execution_count": 5,
   "id": "28360856",
   "metadata": {},
   "outputs": [
    {
     "data": {
      "text/plain": [
       "ResNetLayer"
      ]
     },
     "execution_count": 5,
     "metadata": {},
     "output_type": "execute_result"
    }
   ],
   "source": [
    "# Constructor\n",
    "function ResNetLayer(in_channels::Int, channels::Int, activation_function = relu, stride = 1)\n",
    "    bn1 = BatchNorm(in_channels)\n",
    "    conv1 = Flux.Conv((3,3), in_channels => channels, activation_function; stride = stride)\n",
    "    bn2 = BatchNorm(channels)\n",
    "    conv2 = Flux.Conv((3,3), channels => channels, activation_function; stride = stride)\n",
    "    return ResNetLayer(conv1, conv2, bn1, bn2, activation_function, in_channels, channels, stride)\n",
    "end"
   ]
  },
  {
   "cell_type": "markdown",
   "id": "779746c6",
   "metadata": {},
   "source": [
    "# Define Residual Identity"
   ]
  },
  {
   "cell_type": "code",
   "execution_count": 6,
   "id": "e83efd28",
   "metadata": {},
   "outputs": [
    {
     "data": {
      "text/plain": [
       "residual_identity (generic function with 1 method)"
      ]
     },
     "execution_count": 6,
     "metadata": {},
     "output_type": "execute_result"
    }
   ],
   "source": [
    "function residual_identity(layer::ResNetLayer, x::AbstractArray{T, 4}) where {T<:Number}\n",
    "    (w, h, c, b) = size(x)\n",
    "    stride = layer.stride\n",
    "    if stride > 1\n",
    "        @assert ((w % stride == 0) & (h % stride == 0)) \"Spatial dimensions are not divisible by `stride`\"\n",
    "    \n",
    "        # Strided downsample\n",
    "        x_id = copy(x[begin:2:end, begin:2:end, :, :])\n",
    "    else\n",
    "        x_id = x\n",
    "    end\n",
    "\n",
    "    channels = layer.channels\n",
    "    in_channels = layer.in_channels\n",
    "    if in_channels < channels\n",
    "        # Zero padding on extra channels\n",
    "        (w, h, c, b) = size(x_id)\n",
    "        pad = zeros(w, h, channels - in_channels, b)\n",
    "        x_id = cat(x_id, pad; dims=3)\n",
    "    elseif in_channels > channels\n",
    "        error(\"in_channels > out_channels not supported\")\n",
    "    end\n",
    "    return x_id\n",
    "end"
   ]
  },
  {
   "cell_type": "markdown",
   "id": "55f1a6b8",
   "metadata": {},
   "source": [
    "# Forward Function"
   ]
  },
  {
   "cell_type": "code",
   "execution_count": 7,
   "id": "a484933c",
   "metadata": {},
   "outputs": [],
   "source": [
    "function (self::ResNetLayer)(x::AbstractArray)\n",
    "    identity = residual_identity(self, x)\n",
    "    z = self.bn1(x)\n",
    "    z = self.activation_function(z)\n",
    "    z = self.conv1(z)\n",
    "    z = self.bn2(z)\n",
    "    z = self.activation_function(z)\n",
    "    z = self.conv2(z)\n",
    "    y = z + identity \n",
    "    return y\n",
    "end "
   ]
  },
  {
   "cell_type": "code",
   "execution_count": 8,
   "id": "c9d89029",
   "metadata": {},
   "outputs": [
    {
     "ename": "LoadError",
     "evalue": "MethodError: no method matching ResNetLayer(::Int64, ::Int64; stride=2)\n\u001b[0mClosest candidates are:\n\u001b[0m  ResNetLayer(::Int64, ::Int64) at In[5]:2\u001b[91m got unsupported keyword argument \"stride\"\u001b[39m\n\u001b[0m  ResNetLayer(::Int64, ::Int64, \u001b[91m::Any\u001b[39m) at In[5]:2\u001b[91m got unsupported keyword argument \"stride\"\u001b[39m\n\u001b[0m  ResNetLayer(::Int64, ::Int64, \u001b[91m::Any\u001b[39m, \u001b[91m::Any\u001b[39m) at In[5]:2\u001b[91m got unsupported keyword argument \"stride\"\u001b[39m\n\u001b[0m  ...",
     "output_type": "error",
     "traceback": [
      "MethodError: no method matching ResNetLayer(::Int64, ::Int64; stride=2)\n\u001b[0mClosest candidates are:\n\u001b[0m  ResNetLayer(::Int64, ::Int64) at In[5]:2\u001b[91m got unsupported keyword argument \"stride\"\u001b[39m\n\u001b[0m  ResNetLayer(::Int64, ::Int64, \u001b[91m::Any\u001b[39m) at In[5]:2\u001b[91m got unsupported keyword argument \"stride\"\u001b[39m\n\u001b[0m  ResNetLayer(::Int64, ::Int64, \u001b[91m::Any\u001b[39m, \u001b[91m::Any\u001b[39m) at In[5]:2\u001b[91m got unsupported keyword argument \"stride\"\u001b[39m\n\u001b[0m  ...",
      "",
      "Stacktrace:",
      " [1] top-level scope",
      "   @ In[8]:2",
      " [2] eval",
      "   @ .\\boot.jl:368 [inlined]",
      " [3] include_string(mapexpr::typeof(REPL.softscope), mod::Module, code::String, filename::String)",
      "   @ Base .\\loading.jl:1428"
     ]
    }
   ],
   "source": [
    "# Example\n",
    "l = ResNetLayer(3, 10, stride = 2)\n",
    "x = randn(Float32, (64, 64, 3, 2))\n",
    "y = l(x)\n",
    "size(y)"
   ]
  },
  {
   "cell_type": "code",
   "execution_count": null,
   "id": "8d213e04",
   "metadata": {},
   "outputs": [],
   "source": []
  }
 ],
 "metadata": {
  "kernelspec": {
   "display_name": "Julia 1.8.2",
   "language": "julia",
   "name": "julia-1.8"
  },
  "language_info": {
   "file_extension": ".jl",
   "mimetype": "application/julia",
   "name": "julia",
   "version": "1.8.2"
  }
 },
 "nbformat": 4,
 "nbformat_minor": 5
}
