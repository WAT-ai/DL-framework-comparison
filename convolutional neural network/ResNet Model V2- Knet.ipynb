{
 "cells": [
  {
   "cell_type": "markdown",
   "id": "3a44a186",
   "metadata": {},
   "source": [
    "# Imports"
   ]
  },
  {
   "cell_type": "code",
   "execution_count": 1,
   "id": "7a88e0c0",
   "metadata": {},
   "outputs": [
    {
     "name": "stderr",
     "output_type": "stream",
     "text": [
      "WARNING: using Data.Data in module Main conflicts with an existing identifier.\n"
     ]
    }
   ],
   "source": [
    "using MLDatasets: CIFAR10\n",
    "using MLDataUtils\n",
    "using Knet, IterTools\n",
    "using Dictionaries\n",
    "using TimerOutputs\n",
    "using JSON\n",
    "using Printf\n",
    "using Knet:minibatch\n",
    "using Knet:minimize\n",
    "using Knet: Param\n",
    "using Knet: dir, accuracy, progress, sgd, gc, Data, nll, relu, conv4\n",
    "using Flatten\n",
    "using Flux.Data;\n",
    "using Flux, Statistics\n",
    "using Statistics: mean, var\n",
    "using Functors"
   ]
  },
  {
   "cell_type": "markdown",
   "id": "bb72d038",
   "metadata": {},
   "source": [
    "# Processing Data/Batch Processing"
   ]
  },
  {
   "cell_type": "code",
   "execution_count": 2,
   "id": "4cf6721f",
   "metadata": {},
   "outputs": [
    {
     "name": "stdout",
     "output_type": "stream",
     "text": [
      "32×32×3×45000 Array{Float32, 4}\n",
      "45000-element Vector{Int64}\n",
      "32×32×3×5000 Array{Float32, 4}\n",
      "5000-element Vector{Int64}\n",
      "32×32×3×10000 Array{Float32, 4}\n",
      "10000-element Vector{Int64}\n"
     ]
    }
   ],
   "source": [
    "# This loads the CIFAR-10 Dataset for training, validation, and evaluation\n",
    "xtrn,ytrn = CIFAR10.traindata(Float32, 1:45000)\n",
    "xval,yval =  CIFAR10.traindata(Float32, 45001:50000)\n",
    "xtst,ytst = CIFAR10.testdata(Float32)\n",
    "println.(summary.((xtrn,ytrn,xval, yval, xtst,ytst)));"
   ]
  },
  {
   "cell_type": "code",
   "execution_count": 3,
   "id": "f49ad3e2",
   "metadata": {},
   "outputs": [
    {
     "data": {
      "text/plain": [
       "DataLoader{Tuple{Array{Float32, 4}, Vector{Int64}}, Random._GLOBAL_RNG, Val{nothing}}(([0.61960787 0.59607846 … 0.23921569 0.21176471; 0.62352943 0.5921569 … 0.19215687 0.21960784; … ; 0.49411765 0.49019608 … 0.11372549 0.13333334; 0.45490196 0.46666667 … 0.078431375 0.08235294;;; 0.4392157 0.4392157 … 0.45490196 0.41960785; 0.43529412 0.43137255 … 0.4 0.4117647; … ; 0.35686275 0.35686275 … 0.32156864 0.32941177; 0.33333334 0.34509805 … 0.2509804 0.2627451;;; 0.19215687 0.2 … 0.65882355 0.627451; 0.18431373 0.15686275 … 0.5803922 0.58431375; … ; 0.14117648 0.1254902 … 0.49411765 0.5058824; 0.12941177 0.13333334 … 0.41960785 0.43137255;;;; 0.92156863 0.93333334 … 0.32156864 0.33333334; 0.90588236 0.92156863 … 0.18039216 0.24313726; … ; 0.9137255 0.9254902 … 0.7254902 0.7058824; 0.9098039 0.92156863 … 0.73333335 0.7294118;;; 0.92156863 0.93333334 … 0.3764706 0.39607844; 0.90588236 0.92156863 … 0.22352941 0.29411766; … ; 0.9137255 0.9254902 … 0.78431374 0.7647059; 0.9098039 0.92156863 … 0.7921569 0.78431374;;; 0.92156863 0.93333334 … 0.32156864 0.3254902; 0.90588236 0.92156863 … 0.14117648 0.1882353; … ; 0.9137255 0.9254902 … 0.76862746 0.7490196; 0.9098039 0.92156863 … 0.78431374 0.78039217;;;; 0.61960787 0.6666667 … 0.09019608 0.10980392; 0.61960787 0.6745098 … 0.105882354 0.11764706; … ; 0.92941177 0.9647059 … 0.015686275 0.015686275; 0.93333334 0.9647059 … 0.019607844 0.02745098;;; 0.74509805 0.78431374 … 0.13333334 0.16078432; 0.73333335 0.78039217 … 0.14901961 0.16862746; … ; 0.9372549 0.9647059 … 0.023529412 0.019607844; 0.94509804 0.96862745 … 0.02745098 0.03137255;;; 0.87058824 0.8980392 … 0.15294118 0.18431373; 0.85490197 0.8862745 … 0.16862746 0.19607843; … ; 0.9529412 0.98039216 … 0.011764706 0.011764706; 0.9647059 0.9843137 … 0.011764706 0.02745098;;;; … ;;;; 0.078431375 0.08235294 … 0.12941177 0.12156863; 0.07450981 0.078431375 … 0.13333334 0.1254902; … ; 0.047058824 0.039215688 … 0.105882354 0.101960786; 0.050980393 0.047058824 … 0.09803922 0.09803922;;; 0.05882353 0.0627451 … 0.09803922 0.09019608; 0.05490196 0.0627451 … 0.101960786 0.09411765; … ; 0.043137256 0.03529412 … 0.09411765 0.09019608; 0.047058824 0.043137256 … 0.08627451 0.078431375;;; 0.047058824 0.050980393 … 0.05490196 0.047058824; 0.043137256 0.050980393 … 0.05882353 0.050980393; … ; 0.03529412 0.02745098 … 0.21960784 0.20784314; 0.039215688 0.03529412 … 0.18431373 0.18431373;;;; 0.09803922 0.047058824 … 0.40392157 0.37254903; 0.05882353 0.078431375 … 0.40784314 0.37254903; … ; 0.36078432 0.58431375 … 0.3882353 0.37254903; 0.29411766 0.40784314 … 0.36078432 0.36078432;;; 0.15686275 0.09803922 … 0.5176471 0.49411765; 0.14117648 0.14509805 … 0.5137255 0.48235294; … ; 0.44313726 0.65882355 … 0.49803922 0.48235294; 0.34901962 0.45882353 … 0.4745098 0.47058824;;; 0.047058824 0.023529412 … 0.3254902 0.30588236; 0.011764706 0.02745098 … 0.3254902 0.29803923; … ; 0.4392157 0.69411767 … 0.32941177 0.31764707; 0.36078432 0.5137255 … 0.30980393 0.3137255;;;; 0.28627452 0.27058825 … 0.4509804 0.45490196; 0.38431373 0.32941177 … 0.48235294 0.4745098; … ; 0.5294118 0.2784314 … 0.25882354 0.26666668; 0.79607844 0.47058824 … 0.105882354 0.105882354;;; 0.30588236 0.28627452 … 0.4745098 0.47058824; 0.40392157 0.34901962 … 0.4862745 0.47843137; … ; 0.58431375 0.32156864 … 0.25490198 0.25490198; 0.84313726 0.52156866 … 0.105882354 0.101960786;;; 0.29411766 0.27450982 … 0.35686275 0.3529412; 0.44313726 0.38039216 … 0.37254903 0.36862746; … ; 0.6039216 0.3137255 … 0.23137255 0.22745098; 0.8745098 0.5294118 … 0.105882354 0.101960786], [3, 8, 8, 0, 6, 6, 1, 6, 3, 1  …  7, 0, 3, 5, 3, 8, 3, 5, 1, 7]), 256, false, true, false, false, Val{nothing}(), Random._GLOBAL_RNG())"
      ]
     },
     "execution_count": 3,
     "metadata": {},
     "output_type": "execute_result"
    }
   ],
   "source": [
    "train_loader = DataLoader((xtrn, ytrn), batchsize=256)\n",
    "val_loader = DataLoader((xval, yval), batchsize = 256)\n",
    "test_loader = DataLoader((xtst, ytst), batchsize = 256)"
   ]
  },
  {
   "cell_type": "markdown",
   "id": "1f2e30a5",
   "metadata": {},
   "source": [
    "# Define Struct ResNetLayer"
   ]
  },
  {
   "cell_type": "code",
   "execution_count": 4,
   "id": "0b16fa40",
   "metadata": {},
   "outputs": [],
   "source": [
    "mutable struct ResNetLayer\n",
    "    conv1::Flux.Conv\n",
    "    conv2::Flux.Conv\n",
    "    bn1::BatchNorm\n",
    "    bn2::BatchNorm\n",
    "    activation_function::Function\n",
    "    in_channels::Int\n",
    "    channels::Int\n",
    "    stride::Int \n",
    "end \n",
    "\n",
    "@functor ResNetLayer (conv1, conv2, bn1, bn2)"
   ]
  },
  {
   "cell_type": "code",
   "execution_count": 5,
   "id": "055ba6b1",
   "metadata": {},
   "outputs": [
    {
     "data": {
      "text/plain": [
       "ResNetLayer"
      ]
     },
     "execution_count": 5,
     "metadata": {},
     "output_type": "execute_result"
    }
   ],
   "source": [
    "# Constructor\n",
    "function ResNetLayer(in_channels::Int, channels::Int; activation_function = relu, stride = 1)\n",
    "    bn1 = BatchNorm(in_channels)\n",
    "    conv1 = Flux.Conv((3,3), in_channels => channels, activation_function; stride = stride)\n",
    "    bn2 = BatchNorm(channels)\n",
    "    conv2 = Flux.Conv((3,3), channels => channels, activation_function; stride = stride)\n",
    "    return ResNetLayer(conv1, conv2, bn1, bn2, activation_function, in_channels, channels, stride)\n",
    "end"
   ]
  },
  {
   "cell_type": "markdown",
   "id": "1fbe7b50",
   "metadata": {},
   "source": [
    "# Define Residual Identity"
   ]
  },
  {
   "cell_type": "code",
   "execution_count": 6,
   "id": "f54242be",
   "metadata": {},
   "outputs": [
    {
     "data": {
      "text/plain": [
       "residual_identity (generic function with 1 method)"
      ]
     },
     "execution_count": 6,
     "metadata": {},
     "output_type": "execute_result"
    }
   ],
   "source": [
    "function residual_identity(layer::ResNetLayer, x::AbstractArray{T, 4}) where {T<:Number}\n",
    "    (w, h, c, b) = size(x)\n",
    "    stride = layer.stride\n",
    "    if stride > 1\n",
    "        @assert ((w % stride == 0) & (h % stride == 0)) \"Spatial dimensions are not divisible by `stride`\"\n",
    "    \n",
    "        # Strided downsample\n",
    "        x_id = copy(x[begin:2:end, begin:2:end, :, :])\n",
    "    else\n",
    "        x_id = x\n",
    "    end\n",
    "\n",
    "    channels = layer.channels\n",
    "    in_channels = layer.in_channels\n",
    "    if in_channels < channels\n",
    "        # Zero padding on extra channels\n",
    "        (w, h, c, b) = size(x_id)\n",
    "        pad = zeros(w, h, channels - in_channels, b)\n",
    "        x_id = cat(x_id, pad; dims=3)\n",
    "    elseif in_channels > channels\n",
    "        error(\"in_channels > out_channels not supported\")\n",
    "    end\n",
    "    return x_id\n",
    "end"
   ]
  },
  {
   "cell_type": "markdown",
   "id": "8aac0568",
   "metadata": {},
   "source": [
    "# Forward Function"
   ]
  },
  {
   "cell_type": "code",
   "execution_count": 10,
   "id": "3881663f",
   "metadata": {},
   "outputs": [],
   "source": [
    "function (self::ResNetLayer)(x::AbstractArray)\n",
    "    identity = residual_identity(self, x)\n",
    "    z = self.bn1(x)\n",
    "    z = self.activation_function(z)\n",
    "    z = self.conv1(z)\n",
    "    z = self.bn2(z)\n",
    "    z = self.activation_function(z)\n",
    "    z = self.conv2(z)\n",
    "    y = z + identity \n",
    "    return y\n",
    "end "
   ]
  },
  {
   "cell_type": "code",
   "execution_count": 11,
   "id": "316c8d7f",
   "metadata": {},
   "outputs": [
    {
     "data": {
      "text/plain": [
       "ResNetLayer(Conv((3, 3), 3 => 10, relu, stride=2), Conv((3, 3), 10 => 10, relu, stride=2), BatchNorm(3), BatchNorm(10), Knet.Ops20.relu, 3, 10, 2, 0)"
      ]
     },
     "execution_count": 11,
     "metadata": {},
     "output_type": "execute_result"
    }
   ],
   "source": [
    "# Example\n",
    "l = ResNetLayer(3, 10; stride = 2, pad = 0)\n"
   ]
  },
  {
   "cell_type": "code",
   "execution_count": 15,
   "id": "3db6251e",
   "metadata": {},
   "outputs": [
    {
     "data": {
      "text/plain": [
       "64×64×3×2 Array{Float32, 4}:\n",
       "[:, :, 1, 1] =\n",
       "  1.93723    -0.0038152    1.00776     …  -0.268737    0.772344     0.439853\n",
       " -1.11342     0.888429    -0.394805       -0.983046   -1.55638      2.38319\n",
       " -1.01276    -0.189184     0.00920959      0.082171   -0.282        0.785619\n",
       " -0.392059   -0.184873    -1.81964        -0.0519429   0.106289    -0.736538\n",
       "  0.19757     0.467828     0.448932       -0.36157    -0.879078    -0.65364\n",
       " -0.972052   -0.00179285  -1.44282     …  -0.123626   -0.00435947  -0.531083\n",
       " -0.612597   -0.171173     0.14255         0.692491    0.548423     0.683022\n",
       "  1.25817    -0.170542     0.845562       -0.803024   -0.623968    -2.29548\n",
       " -0.266937    1.96865     -1.98532         0.816746    0.717069    -1.49578\n",
       " -0.0521157   0.142611     1.59346        -2.30004    -1.42817     -1.13307\n",
       "  2.12283     1.47045     -1.58077     …  -0.352557   -0.600046    -0.338219\n",
       "  1.05403    -0.0555598   -1.05525        -0.127607    0.857893    -1.35023\n",
       " -0.856175   -0.982227    -0.988386        1.138      -0.288336     0.735353\n",
       "  ⋮                                    ⋱                           \n",
       "  0.755552   -1.59975      1.23963        -1.50395     0.264384     0.718516\n",
       " -0.383118   -0.909808    -0.787967       -2.88865     1.75656      0.213767\n",
       " -0.668381   -0.697628    -0.149039        0.930507    0.81691     -1.18663\n",
       " -0.783636   -0.659775     1.69925     …   0.577181    1.49819     -0.849574\n",
       "  0.57908     0.412455     2.04327        -1.81523     0.32882      0.674949\n",
       "  0.705221   -0.339854     0.336234        1.93957     1.55426      0.331621\n",
       " -0.402188    0.992751    -0.470351       -1.55654    -0.613687     1.43096\n",
       "  0.285479   -0.611887     0.973315        0.960482    1.10192     -0.117772\n",
       "  1.55644    -0.590366     0.337902    …   0.141687    0.136244    -0.431893\n",
       " -0.864679    0.514239     0.847648        0.746462   -0.393826    -0.417075\n",
       " -0.980209    0.300756    -0.0960876      -1.67165    -0.750691     0.759232\n",
       " -0.3949     -2.43357      0.0152755      -1.10364     2.26395      0.14055\n",
       "\n",
       "[:, :, 2, 1] =\n",
       " -2.32355       1.00156    …  -0.0701956  -0.836908   -1.89917\n",
       "  1.04352       0.17987       -0.957125   -1.84391    -0.546967\n",
       " -0.915839     -0.489784       1.34493     1.00435     1.43219\n",
       "  0.78521       1.81712       -0.629379   -0.777888   -0.1249\n",
       "  0.141494      1.25472       -0.124471    1.10209     1.90448\n",
       "  0.000519215  -1.0506     …   0.733363    0.808046    0.098419\n",
       " -1.1189       -0.552053       0.565745   -0.368468    0.867749\n",
       " -0.84709      -0.346625      -0.881431   -0.0301449   0.416381\n",
       " -0.230508     -0.525351      -0.335971   -0.629214   -1.34824\n",
       "  0.833687     -1.65521        0.145906   -0.559392   -1.0417\n",
       "  0.303557      0.160128   …  -0.133876    0.70595    -0.0710908\n",
       " -0.945794     -0.372286       0.157022    0.520109   -0.553506\n",
       " -0.688362      0.908274       0.365752    0.261675    1.44053\n",
       "  ⋮                        ⋱                          \n",
       "  1.1257       -0.81426        0.502263    0.776487   -0.00868012\n",
       "  0.516202      0.0884552     -0.645942    0.185443    0.279642\n",
       "  0.262167     -1.16257        0.385125   -0.0882821  -0.883799\n",
       "  0.820539     -0.567252   …  -0.825821   -1.52597     0.830642\n",
       "  0.404737     -0.416801       0.899569    1.0347     -0.840583\n",
       " -0.699052     -0.974771       0.750472   -0.761852    2.14697\n",
       " -0.412614     -0.0319316     -0.22123     0.991919   -0.973949\n",
       "  0.361078      0.142957       1.24954    -1.93624     0.231768\n",
       "  0.0268987     0.981564   …  -1.70584     1.15414     0.866787\n",
       " -1.46858       1.09673       -1.11747     0.856632    0.456886\n",
       " -0.117358     -0.0955382     -0.18092     1.41447     0.497232\n",
       "  0.597155     -1.56297       -0.193186   -2.90925    -0.463144\n",
       "\n",
       "[:, :, 3, 1] =\n",
       " -0.661052   -1.43996     0.369589   …  -0.140701   -0.554115    0.606915\n",
       " -2.05038     0.132761   -0.765542      -0.993403   -0.613025   -0.495729\n",
       " -0.0564577   1.71149     0.632053       0.0280497   1.01765     0.416239\n",
       "  0.185878    2.91298    -0.158277       1.2439      0.798715    1.43122\n",
       "  0.176058    0.770648   -0.0930822      1.37595     0.266198   -0.0775581\n",
       " -0.801515   -0.0412963   0.996478   …  -2.25544    -0.499216    0.298604\n",
       "  0.0717726  -0.622027    1.12376       -0.0182525  -0.0241319   0.790553\n",
       "  0.565299   -0.976237    1.10213        0.894315   -0.527155    1.63639\n",
       "  1.80068     1.92752     0.63103        1.89302    -0.289506   -0.663129\n",
       "  0.76663    -0.247099   -0.130537      -0.487301   -1.56555     0.899509\n",
       " -0.839651   -0.225549   -0.986695   …   0.433356   -0.309599   -0.0260602\n",
       " -0.299321   -0.28825    -0.244942       0.363609   -1.12806    -0.356537\n",
       " -1.22345    -0.458875    1.93982       -1.54144    -1.63941     2.01241\n",
       "  ⋮                                  ⋱                          \n",
       " -0.534667    0.314462   -0.169809       1.831      -0.303435    1.97937\n",
       " -0.16555    -1.32027     1.23676       -0.536022   -1.07766    -2.183\n",
       "  1.72966    -1.38351     1.02683       -0.584877    0.644302   -0.336674\n",
       "  1.04335     0.225725   -1.22778    …   1.07201    -0.639405    1.74068\n",
       " -0.656627   -1.3051     -1.22059        0.917509   -0.616721   -0.686058\n",
       " -0.778703    0.147619   -1.26244        0.87749     1.15391    -0.0203009\n",
       "  0.568605    0.757572    0.370278       0.749421   -0.926598   -0.50433\n",
       "  1.85186    -1.02303     0.602001       0.475687   -1.03261    -0.0744234\n",
       "  0.44897     0.224272    0.491139   …  -0.525537   -0.560198    0.727543\n",
       " -1.0191      0.576765    1.76492       -0.787169    0.269278    0.724673\n",
       "  2.05386    -0.223774    0.411601       1.19905    -1.51291    -0.35303\n",
       "  0.999387    0.107672    1.48222       -0.308091   -0.842177    0.456322\n",
       "\n",
       "[:, :, 1, 2] =\n",
       " -0.478833   -0.949141   -0.909521  …   0.566145   -0.806388   -0.103036\n",
       " -0.752491   -0.220061    0.374108     -0.563949   -0.33751     0.291631\n",
       "  1.25745    -1.56106     0.157859      0.303748   -0.130795   -0.971778\n",
       "  1.12126     1.18819     0.463906      0.327253    1.23034    -1.1625\n",
       " -0.540558    0.399086    0.915441     -0.192106    1.34276    -0.712125\n",
       " -0.0149236   0.367581   -0.864331  …   0.72153    -1.43657    -0.534063\n",
       "  0.532564    0.191133   -0.852938      0.903429    1.27837     1.80162\n",
       "  1.30331     0.944996   -0.414618      0.0177562   0.621489   -0.412114\n",
       " -1.69508     1.01265     0.529925     -0.475814   -1.45582    -0.012964\n",
       "  0.907772    0.481818   -1.85653      -0.944343    1.62906    -0.278814\n",
       " -1.28081     0.994347   -0.125699  …   0.853954    0.770404   -0.467438\n",
       "  1.58481    -0.202481   -0.330101     -0.482117   -0.0351453   0.464559\n",
       " -0.620726   -0.755369    0.745984     -0.786137    0.321789   -0.0923321\n",
       "  ⋮                                 ⋱                          \n",
       "  0.537256    0.125566    1.32509      -0.8879      1.40392    -0.798437\n",
       "  2.13567     2.07036    -0.63291      -2.07044    -0.308257    0.778777\n",
       " -0.109189    0.42111    -0.268277      0.932572   -0.470156    1.46397\n",
       "  0.643967    1.29824    -0.328954  …   0.480872   -0.358953    0.116543\n",
       " -0.0951204  -0.0243449   0.85459      -0.980945    2.15267    -0.952766\n",
       " -2.00296    -0.588196   -0.389323     -0.197178   -0.341192   -1.09176\n",
       "  1.2586      0.832861   -1.45609       0.244501   -0.129899   -1.59832\n",
       "  0.776852   -1.49437    -0.377505     -0.0556672  -0.632541    0.401117\n",
       " -0.108585    0.0491398   0.340784  …  -1.03658     0.0200718   0.367884\n",
       " -0.92731    -1.90718    -0.558201      0.610026    2.53304    -0.111334\n",
       " -0.270401    1.04571     0.902924     -0.512312   -0.0238466  -1.63743\n",
       " -0.206619   -0.512932    2.3688       -0.118872   -0.233185    0.566295\n",
       "\n",
       "[:, :, 2, 2] =\n",
       "  0.234511   -0.010806   -0.832856  …   0.43269     0.305379    0.303762\n",
       " -1.95149     0.50084     0.121275     -0.720525   -0.646199    1.69683\n",
       "  1.23164    -0.673325   -0.478049      0.32442     1.27672    -0.625925\n",
       " -0.25276    -1.4575      0.37511       1.10781    -1.13742    -0.277507\n",
       "  0.508942   -0.820347    1.11952       2.72176    -1.81007    -0.821581\n",
       "  1.90962    -1.82509     0.627871  …  -1.15038    -0.738956   -0.695905\n",
       " -3.59668     0.117514   -0.349758      0.789587   -1.05735     1.45537\n",
       " -0.633973    1.61463     0.576952      1.1558      0.371561   -1.43009\n",
       "  0.936568   -1.11766    -0.336715      0.117287   -0.63424     0.482243\n",
       " -0.253183   -0.12117    -1.09076       0.222656    0.0313442  -0.62774\n",
       "  0.213864    0.130833   -1.76951   …   1.82745     0.557266    2.30872\n",
       "  0.338235   -0.0273923  -2.06415       1.42201     0.440293    1.00772\n",
       "  0.667596   -2.13915     1.10299      -1.84244     1.0915      0.130394\n",
       "  ⋮                                 ⋱                          \n",
       "  0.586522    1.37729    -0.22929       0.411727    0.0435822  -0.116045\n",
       " -0.153603   -1.2998      1.52197      -0.56521    -0.0838249   1.18758\n",
       " -0.886851    0.258616    1.97687      -0.654801    0.194263   -0.545757\n",
       "  0.799342    0.151642   -1.13255   …   0.98931     0.964001   -1.27512\n",
       "  0.127431   -1.55811     0.919991      1.39099     1.62688     0.295337\n",
       "  0.782026    1.02843     0.59295      -0.813902    0.522271    0.163845\n",
       "  0.0650917  -1.96543     0.337413     -0.777451   -0.107169   -1.35744\n",
       "  0.150674   -0.388523    1.77383      -0.883289   -0.389462    0.78941\n",
       "  1.09536     0.341656    0.69347   …   0.0138373   0.488107   -1.06297\n",
       " -0.270047   -1.49177    -1.69148      -0.403618   -1.77107     1.62124\n",
       "  0.819439    0.192678   -0.82619      -0.0491964  -1.03829    -0.854479\n",
       "  0.121415    0.910955    0.345215      1.69571     0.857381    0.507913\n",
       "\n",
       "[:, :, 3, 2] =\n",
       "  1.54546    -1.57292    -1.22172    …  -0.188748    1.28291     1.16054\n",
       " -0.262547    0.598369    0.247646      -0.189469   -0.083296    0.311285\n",
       " -0.746231    1.13651     0.625644      -0.979754   -0.728773   -0.094224\n",
       "  0.59957    -1.43058     1.04906       -0.0492022  -0.348014   -0.208658\n",
       " -0.304111   -0.215611   -0.513582       0.240893   -0.281331   -0.352183\n",
       "  0.424201    1.02872    -1.27367    …   1.31776     0.76941     0.606991\n",
       " -1.28498    -0.421116   -1.06405        1.1623     -0.450123    1.73071\n",
       " -1.50988    -0.108995    0.914812      -0.184181   -0.722843   -0.572129\n",
       "  1.42696    -0.215924    0.178053       1.54265     0.148367    0.890746\n",
       "  0.139446    0.554282    0.870106      -0.532146    0.193758   -0.968426\n",
       " -0.0406143   0.624965   -2.45956    …   0.568808    0.808988    1.85776\n",
       "  0.0362163   1.47467     1.08824        0.920676    0.529394   -0.121682\n",
       "  0.575251   -1.00362    -0.895482      -0.758474   -1.35153     1.742\n",
       "  ⋮                                  ⋱                          \n",
       "  0.824018    1.15677    -1.28596        0.61364    -0.250242    0.675139\n",
       " -1.01877    -0.241783    0.650845      -1.139       0.238043    1.51527\n",
       "  1.90379    -0.86203    -0.605472      -2.78706     2.4508     -0.204887\n",
       " -0.188355   -0.686378    1.00882    …  -0.119225   -0.355753   -0.849154\n",
       " -1.68806     1.31191     0.0933924     -1.36017    -0.0328785  -2.0318\n",
       "  0.142966    0.0406816  -0.865487      -0.624338   -0.530236   -0.897478\n",
       " -0.693914    0.829991    1.02462       -0.550439    0.301905    1.42072\n",
       " -1.15714    -1.47882    -0.283758      -0.191736    0.993716    1.3369\n",
       " -0.635416    0.0334166  -0.970027   …   0.892278    1.03937    -0.771635\n",
       " -0.881207   -0.269159    0.149887      -2.51309     0.637512   -1.40859\n",
       " -0.115297   -0.723799    1.74762       -2.52757     0.402234    0.141189\n",
       "  0.249918    0.0963379   0.912426      -0.165192   -1.12594     0.00358097"
      ]
     },
     "execution_count": 15,
     "metadata": {},
     "output_type": "execute_result"
    }
   ],
   "source": [
    "x = randn(Float32, (64, 64, 3, 2))\n",
    "x\n"
   ]
  },
  {
   "cell_type": "code",
   "execution_count": 16,
   "id": "6e0743e2",
   "metadata": {},
   "outputs": [
    {
     "ename": "LoadError",
     "evalue": "MethodError: no method matching Array{Float32, 4}(::Int64)\n\u001b[0mClosest candidates are:\n\u001b[0m  Array{T, N}(\u001b[91m::Union{Union{NNlib.BatchedAdjoint{T, <:CuArray{T}}, NNlib.BatchedTranspose{T, <:CuArray{T}}} where T, Union{Base.LogicalIndex{T, <:Union{NNlib.BatchedAdjoint{T, <:CuArray{T}}, NNlib.BatchedTranspose{T, <:CuArray{T}}}}, Base.ReinterpretArray{T, N, <:Any, <:Union{SubArray{<:Any, <:Any, var\"#s14\"}, var\"#s14\"}} where var\"#s14\"<:Union{NNlib.BatchedAdjoint{T, <:CuArray{T}}, NNlib.BatchedTranspose{T, <:CuArray{T}}}, Base.ReshapedArray{T, N, <:Union{Base.ReinterpretArray{<:Any, <:Any, <:Any, <:Union{SubArray{<:Any, <:Any, var\"#s15\"}, var\"#s15\"}}, SubArray{<:Any, <:Any, var\"#s15\"}, var\"#s15\"}} where var\"#s15\"<:Union{NNlib.BatchedAdjoint{T, <:CuArray{T}}, NNlib.BatchedTranspose{T, <:CuArray{T}}}, SubArray{T, N, <:Union{Base.ReinterpretArray{<:Any, <:Any, <:Any, <:Union{SubArray{<:Any, <:Any, var\"#s16\"}, var\"#s16\"}}, Base.ReshapedArray{<:Any, <:Any, <:Union{Base.ReinterpretArray{<:Any, <:Any, <:Any, <:Union{SubArray{<:Any, <:Any, var\"#s16\"}, var\"#s16\"}}, SubArray{<:Any, <:Any, var\"#s16\"}, var\"#s16\"}}, var\"#s16\"}} where var\"#s16\"<:Union{NNlib.BatchedAdjoint{T, <:CuArray{T}}, NNlib.BatchedTranspose{T, <:CuArray{T}}}, LinearAlgebra.Adjoint{T, <:Union{NNlib.BatchedAdjoint{T, <:CuArray{T}}, NNlib.BatchedTranspose{T, <:CuArray{T}}}}, LinearAlgebra.Diagonal{T, <:Union{NNlib.BatchedAdjoint{T, <:CuArray{T}}, NNlib.BatchedTranspose{T, <:CuArray{T}}}}, LinearAlgebra.LowerTriangular{T, <:Union{NNlib.BatchedAdjoint{T, <:CuArray{T}}, NNlib.BatchedTranspose{T, <:CuArray{T}}}}, LinearAlgebra.Symmetric{T, <:Union{NNlib.BatchedAdjoint{T, <:CuArray{T}}, NNlib.BatchedTranspose{T, <:CuArray{T}}}}, LinearAlgebra.Transpose{T, <:Union{NNlib.BatchedAdjoint{T, <:CuArray{T}}, NNlib.BatchedTranspose{T, <:CuArray{T}}}}, LinearAlgebra.Tridiagonal{T, <:Union{NNlib.BatchedAdjoint{T, <:CuArray{T}}, NNlib.BatchedTranspose{T, <:CuArray{T}}}}, LinearAlgebra.UnitLowerTriangular{T, <:Union{NNlib.BatchedAdjoint{T, <:CuArray{T}}, NNlib.BatchedTranspose{T, <:CuArray{T}}}}, LinearAlgebra.UnitUpperTriangular{T, <:Union{NNlib.BatchedAdjoint{T, <:CuArray{T}}, NNlib.BatchedTranspose{T, <:CuArray{T}}}}, LinearAlgebra.UpperTriangular{T, <:Union{NNlib.BatchedAdjoint{T, <:CuArray{T}}, NNlib.BatchedTranspose{T, <:CuArray{T}}}}, PermutedDimsArray{T, N, <:Any, <:Any, <:Union{NNlib.BatchedAdjoint{T, <:CuArray{T}}, NNlib.BatchedTranspose{T, <:CuArray{T}}}}} where {T, N}}\u001b[39m) where {T, N} at C:\\Users\\Yash\\.julia\\packages\\NNlibCUDA\\kCpTE\\src\\batchedadjtrans.jl:16\n\u001b[0m  Array{T, N}(\u001b[91m::BitArray{N}\u001b[39m) where {T, N} at bitarray.jl:495\n\u001b[0m  Array{T, N}(\u001b[91m::FillArrays.Zeros{V, N}\u001b[39m) where {T, V, N} at C:\\Users\\Yash\\.julia\\packages\\FillArrays\\Slipo\\src\\FillArrays.jl:441\n\u001b[0m  ...",
     "output_type": "error",
     "traceback": [
      "MethodError: no method matching Array{Float32, 4}(::Int64)\n\u001b[0mClosest candidates are:\n\u001b[0m  Array{T, N}(\u001b[91m::Union{Union{NNlib.BatchedAdjoint{T, <:CuArray{T}}, NNlib.BatchedTranspose{T, <:CuArray{T}}} where T, Union{Base.LogicalIndex{T, <:Union{NNlib.BatchedAdjoint{T, <:CuArray{T}}, NNlib.BatchedTranspose{T, <:CuArray{T}}}}, Base.ReinterpretArray{T, N, <:Any, <:Union{SubArray{<:Any, <:Any, var\"#s14\"}, var\"#s14\"}} where var\"#s14\"<:Union{NNlib.BatchedAdjoint{T, <:CuArray{T}}, NNlib.BatchedTranspose{T, <:CuArray{T}}}, Base.ReshapedArray{T, N, <:Union{Base.ReinterpretArray{<:Any, <:Any, <:Any, <:Union{SubArray{<:Any, <:Any, var\"#s15\"}, var\"#s15\"}}, SubArray{<:Any, <:Any, var\"#s15\"}, var\"#s15\"}} where var\"#s15\"<:Union{NNlib.BatchedAdjoint{T, <:CuArray{T}}, NNlib.BatchedTranspose{T, <:CuArray{T}}}, SubArray{T, N, <:Union{Base.ReinterpretArray{<:Any, <:Any, <:Any, <:Union{SubArray{<:Any, <:Any, var\"#s16\"}, var\"#s16\"}}, Base.ReshapedArray{<:Any, <:Any, <:Union{Base.ReinterpretArray{<:Any, <:Any, <:Any, <:Union{SubArray{<:Any, <:Any, var\"#s16\"}, var\"#s16\"}}, SubArray{<:Any, <:Any, var\"#s16\"}, var\"#s16\"}}, var\"#s16\"}} where var\"#s16\"<:Union{NNlib.BatchedAdjoint{T, <:CuArray{T}}, NNlib.BatchedTranspose{T, <:CuArray{T}}}, LinearAlgebra.Adjoint{T, <:Union{NNlib.BatchedAdjoint{T, <:CuArray{T}}, NNlib.BatchedTranspose{T, <:CuArray{T}}}}, LinearAlgebra.Diagonal{T, <:Union{NNlib.BatchedAdjoint{T, <:CuArray{T}}, NNlib.BatchedTranspose{T, <:CuArray{T}}}}, LinearAlgebra.LowerTriangular{T, <:Union{NNlib.BatchedAdjoint{T, <:CuArray{T}}, NNlib.BatchedTranspose{T, <:CuArray{T}}}}, LinearAlgebra.Symmetric{T, <:Union{NNlib.BatchedAdjoint{T, <:CuArray{T}}, NNlib.BatchedTranspose{T, <:CuArray{T}}}}, LinearAlgebra.Transpose{T, <:Union{NNlib.BatchedAdjoint{T, <:CuArray{T}}, NNlib.BatchedTranspose{T, <:CuArray{T}}}}, LinearAlgebra.Tridiagonal{T, <:Union{NNlib.BatchedAdjoint{T, <:CuArray{T}}, NNlib.BatchedTranspose{T, <:CuArray{T}}}}, LinearAlgebra.UnitLowerTriangular{T, <:Union{NNlib.BatchedAdjoint{T, <:CuArray{T}}, NNlib.BatchedTranspose{T, <:CuArray{T}}}}, LinearAlgebra.UnitUpperTriangular{T, <:Union{NNlib.BatchedAdjoint{T, <:CuArray{T}}, NNlib.BatchedTranspose{T, <:CuArray{T}}}}, LinearAlgebra.UpperTriangular{T, <:Union{NNlib.BatchedAdjoint{T, <:CuArray{T}}, NNlib.BatchedTranspose{T, <:CuArray{T}}}}, PermutedDimsArray{T, N, <:Any, <:Any, <:Union{NNlib.BatchedAdjoint{T, <:CuArray{T}}, NNlib.BatchedTranspose{T, <:CuArray{T}}}}} where {T, N}}\u001b[39m) where {T, N} at C:\\Users\\Yash\\.julia\\packages\\NNlibCUDA\\kCpTE\\src\\batchedadjtrans.jl:16\n\u001b[0m  Array{T, N}(\u001b[91m::BitArray{N}\u001b[39m) where {T, N} at bitarray.jl:495\n\u001b[0m  Array{T, N}(\u001b[91m::FillArrays.Zeros{V, N}\u001b[39m) where {T, V, N} at C:\\Users\\Yash\\.julia\\packages\\FillArrays\\Slipo\\src\\FillArrays.jl:441\n\u001b[0m  ...",
      "",
      "Stacktrace:",
      " [1] relu(x::Array{Float32, 4})",
      "   @ Knet.Ops20 C:\\Users\\Yash\\.julia\\packages\\Knet\\YIFWC\\src\\ops20\\activation.jl:26",
      " [2] (::ResNetLayer)(x::Array{Float32, 4})",
      "   @ Main .\\In[10]:4",
      " [3] top-level scope",
      "   @ In[16]:1",
      " [4] eval",
      "   @ .\\boot.jl:368 [inlined]",
      " [5] include_string(mapexpr::typeof(REPL.softscope), mod::Module, code::String, filename::String)",
      "   @ Base .\\loading.jl:1428"
     ]
    }
   ],
   "source": [
    "y = l(x)"
   ]
  },
  {
   "cell_type": "code",
   "execution_count": null,
   "id": "b08cda2d",
   "metadata": {},
   "outputs": [],
   "source": []
  }
 ],
 "metadata": {
  "kernelspec": {
   "display_name": "Julia 1.8.2",
   "language": "julia",
   "name": "julia-1.8"
  },
  "language_info": {
   "file_extension": ".jl",
   "mimetype": "application/julia",
   "name": "julia",
   "version": "1.8.2"
  }
 },
 "nbformat": 4,
 "nbformat_minor": 5
}
