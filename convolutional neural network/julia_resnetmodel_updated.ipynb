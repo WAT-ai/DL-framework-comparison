{
 "cells": [
  {
   "cell_type": "markdown",
   "id": "69f91157",
   "metadata": {},
   "source": [
    "# Imports"
   ]
  },
  {
   "cell_type": "code",
   "execution_count": 28,
   "id": "9b1583d4",
   "metadata": {},
   "outputs": [],
   "source": [
    "using Yota;\n",
    "using MLDatasets;\n",
    "using NNlib;\n",
    "using Statistics;\n",
    "using Distributions;\n",
    "using Functors;\n",
    "using Optimisers;\n",
    "using MLUtils: DataLoader;\n",
    "using OneHotArrays: onehotbatch\n",
    "using Knet:conv4\n",
    "using Metrics;\n",
    "using TimerOutputs;\n",
    "using Flux: BatchNorm, kaiming_uniform, nfan;\n",
    "using Functors\n",
    "\n",
    "# Model creation\n",
    "using NNlib;\n",
    "using Flux: BatchNorm, Chain, GlobalMeanPool, kaiming_uniform, nfan;\n",
    "using Statistics;\n",
    "using Distributions;\n",
    "using Functors;\n"
   ]
  },
  {
   "cell_type": "markdown",
   "id": "19aff91e",
   "metadata": {},
   "source": [
    "# Conv 2D"
   ]
  },
  {
   "cell_type": "code",
   "execution_count": 20,
   "id": "481a3d9a",
   "metadata": {},
   "outputs": [],
   "source": [
    "mutable struct Conv2D{T}\n",
    "    w::AbstractArray{T, 4}\n",
    "    b::AbstractVector{T}\n",
    "    use_bias::Bool\n",
    "end\n",
    "\n",
    "@functor Conv2D (w, b)"
   ]
  },
  {
   "cell_type": "code",
   "execution_count": 21,
   "id": "59da1b27",
   "metadata": {},
   "outputs": [],
   "source": [
    "function Conv2D(kernel_size::Tuple{Int, Int}, in_channels::Int, out_channels::Int;\n",
    "    bias::Bool=false)\n",
    "    w_size = (kernel_size..., in_channels, out_channels)\n",
    "    w = kaiming_uniform(w_size...)\n",
    "    (fan_in, fan_out) = nfan(w_size)\n",
    "    \n",
    "    if bias\n",
    "        # Init bias with fan_in from weights. Use gain = √2 for ReLU\n",
    "        bound = √3 * √2 / √fan_in\n",
    "        rng = Uniform(-bound, bound)\n",
    "        b = rand(rng, out_channels, Float32)\n",
    "    else\n",
    "        b = zeros(Float32, out_channels)\n",
    "    end\n",
    "\n",
    "    return Conv2D(w, b, bias)\n",
    "end\n",
    "\n",
    "function (self::Conv2D)(x::AbstractArray; stride::Int=1, pad::Int=0, dilation::Int=1)\n",
    "    y = conv4(self.w, x; stride=stride, padding=pad, dilation=dilation)\n",
    "    if self.use_bias\n",
    "        # Bias is applied channel-wise\n",
    "        (w, h, c, b) = size(y)\n",
    "        bias = reshape(self.b, (1, 1, c, 1))\n",
    "        y = y .+ bias\n",
    "    end\n",
    "    return y\n",
    "end\n",
    "     "
   ]
  },
  {
   "cell_type": "markdown",
   "id": "252e934f",
   "metadata": {},
   "source": [
    "# ResNetLayer"
   ]
  },
  {
   "cell_type": "code",
   "execution_count": 22,
   "id": "3e66be4f",
   "metadata": {},
   "outputs": [],
   "source": [
    "mutable struct ResNetLayer\n",
    "    conv1::Conv2D\n",
    "    conv2::Conv2D\n",
    "    bn1::BatchNorm\n",
    "    bn2::BatchNorm\n",
    "    f::Function\n",
    "    in_channels::Int\n",
    "    channels::Int\n",
    "    stride::Int\n",
    "end\n",
    "\n",
    "@functor ResNetLayer (conv1, conv2, bn1, bn2)\n",
    "\n",
    "function residual_identity(layer::ResNetLayer, x::AbstractArray{T, 4}) where {T<:Number}\n",
    "    (w, h, c, b) = size(x)\n",
    "    stride = layer.stride\n",
    "    if stride > 1\n",
    "        @assert ((w % stride == 0) & (h % stride == 0)) \"Spatial dimensions are not divisible by `stride`\"\n",
    "    \n",
    "        # Strided downsample\n",
    "        x_id = copy(x[begin:2:end, begin:2:end, :, :])\n",
    "    else\n",
    "        x_id = x\n",
    "    end\n",
    "\n",
    "    channels = layer.channels\n",
    "    in_channels = layer.in_channels\n",
    "    if in_channels < channels\n",
    "        # Zero padding on extra channels\n",
    "        (w, h, c, b) = size(x_id)\n",
    "        pad = zeros(w, h, channels - in_channels, b)\n",
    "        x_id = cat(x_id, pad; dims=3)\n",
    "    elseif in_channels > channels\n",
    "        error(\"in_channels > out_channels not supported\")\n",
    "    end\n",
    "    return x_id\n",
    "end\n",
    "\n",
    "function ResNetLayer(in_channels::Int, channels::Int; stride=1, f=relu)\n",
    "    bn1 = BatchNorm(in_channels)\n",
    "    conv1 = Conv2D((3, 3), in_channels, channels, bias=false)\n",
    "    bn2 = BatchNorm(channels)\n",
    "    conv2 = Conv2D((3, 3), channels, channels, bias=false)\n",
    "\n",
    "    return ResNetLayer(conv1, conv2, bn1, bn2, f, in_channels, channels, stride)\n",
    "end\n",
    "\n",
    "\n",
    "function (self::ResNetLayer)(x::AbstractArray)\n",
    "    identity = residual_identity(self, x)\n",
    "    z = self.bn1(x)\n",
    "    z = self.f(z)\n",
    "    z = self.conv1(z; pad=1, stride=self.stride)  # pad=1 will keep same size with (3x3) kernel\n",
    "    z = self.bn2(z)\n",
    "    z = self.f(z)\n",
    "    z = self.conv2(z; pad=1)\n",
    "\n",
    "    y = z + identity\n",
    "    return y\n",
    "end"
   ]
  },
  {
   "cell_type": "markdown",
   "id": "9f06e04e",
   "metadata": {},
   "source": [
    "# Testing ResNetLayer"
   ]
  },
  {
   "cell_type": "code",
   "execution_count": 23,
   "id": "7cdc72a9",
   "metadata": {},
   "outputs": [
    {
     "data": {
      "text/plain": [
       "(16, 16, 10, 4)"
      ]
     },
     "execution_count": 23,
     "metadata": {},
     "output_type": "execute_result"
    }
   ],
   "source": [
    "\n",
    "l = ResNetLayer(3, 10; stride=2);\n",
    "x = randn(Float32, (32, 32, 3, 4));\n",
    "y = l(x);\n",
    "size(y)"
   ]
  },
  {
   "cell_type": "markdown",
   "id": "7b21b952",
   "metadata": {},
   "source": [
    "# Linear Layer"
   ]
  },
  {
   "cell_type": "code",
   "execution_count": 24,
   "id": "8987f02c",
   "metadata": {},
   "outputs": [
    {
     "name": "stderr",
     "output_type": "stream",
     "text": [
      "WARNING: method definition for Linear at In[24]:22 declares type variable T but does not use it.\n"
     ]
    }
   ],
   "source": [
    "mutable struct Linear\n",
    "    W::AbstractMatrix{T} where T\n",
    "    b::AbstractVector{T} where T\n",
    "end\n",
    "\n",
    "@functor Linear\n",
    "\n",
    "# Init\n",
    "function Linear(in_features::Int, out_features::Int)\n",
    "    k_sqrt = sqrt(1 / in_features)\n",
    "    d = Uniform(-k_sqrt, k_sqrt)\n",
    "    return Linear(rand(d, out_features, in_features), rand(d, out_features))\n",
    "end\n",
    "Linear(in_out::Pair{Int, Int}) = Linear(in_out[1], in_out[2])\n",
    "\n",
    "function Base.show(io::IO, l::Linear)\n",
    "    o, i = size(l.W)\n",
    "    print(io, \"Linear(o)\")\n",
    "end\n",
    "\n",
    "# Forward\n",
    "(l::Linear)(x::AbstractArray) where T = l.W * x .+ l.b\n"
   ]
  },
  {
   "cell_type": "code",
   "execution_count": 38,
   "id": "02eca287",
   "metadata": {},
   "outputs": [
    {
     "data": {
      "text/plain": [
       "ResNet20Model"
      ]
     },
     "execution_count": 38,
     "metadata": {},
     "output_type": "execute_result"
    }
   ],
   "source": [
    "# ResNet Architecture\n",
    "\n",
    "mutable struct ResNet20Model\n",
    "    input_conv::Conv2D\n",
    "    resnet_blocks::Chain\n",
    "    pool::GlobalMeanPool\n",
    "    linear::Linear\n",
    "end\n",
    "\n",
    "@functor ResNet20Model\n",
    "\n",
    "function ResNet20Model(in_channels::Int, num_classes::Int)\n",
    "    resnet_blocks = Chain(\n",
    "        block_1 = ResNetLayer(16, 16),\n",
    "        block_2 = ResNetLayer(16, 16),\n",
    "        block_3 = ResNetLayer(16, 16),\n",
    "        block_4 = ResNetLayer(16, 32; stride=2),\n",
    "        block_5 = ResNetLayer(32, 32),\n",
    "        block_6 = ResNetLayer(32, 32),\n",
    "        block_7 = ResNetLayer(32, 64; stride=2),\n",
    "        block_8 = ResNetLayer(64, 64),\n",
    "        block_9 = ResNetLayer(64, 64)\n",
    "    )\n",
    "    return ResNet20Model(\n",
    "        Conv2D((3, 3), in_channels, 16, bias=false),\n",
    "        resnet_blocks,\n",
    "        GlobalMeanPool(),\n",
    "        Linear(64, num_classes)\n",
    "    )\n",
    "end"
   ]
  },
  {
   "cell_type": "code",
   "execution_count": 39,
   "id": "cdef0144",
   "metadata": {},
   "outputs": [],
   "source": [
    "function (self::ResNet20Model)(x::AbstractArray)\n",
    "    z = self.input_conv(x)\n",
    "    z = self.resnet_blocks(z)\n",
    "    z = self.pool(z)\n",
    "    z = dropdims(z, dims=(1, 2))\n",
    "    y = self.linear(z)\n",
    "    return y\n",
    "end\n",
    "     "
   ]
  },
  {
   "cell_type": "code",
   "execution_count": 40,
   "id": "25c15eb5",
   "metadata": {},
   "outputs": [
    {
     "ename": "LoadError",
     "evalue": "AssertionError: Spatial dimensions are not divisible by `stride`",
     "output_type": "error",
     "traceback": [
      "AssertionError: Spatial dimensions are not divisible by `stride`",
      "",
      "Stacktrace:",
      "  [1] residual_identity(layer::ResNetLayer, x::Array{Float64, 4})",
      "    @ Main .\\In[22]:18",
      "  [2] (::ResNetLayer)(x::Array{Float64, 4})",
      "    @ Main .\\In[22]:50",
      "  [3] macro expansion",
      "    @ C:\\Users\\Yash\\.julia\\packages\\Flux\\4k0Ls\\src\\layers\\basic.jl:53 [inlined]",
      "  [4] _applychain(layers::NTuple{9, ResNetLayer}, x::Array{Float32, 4})",
      "    @ Flux C:\\Users\\Yash\\.julia\\packages\\Flux\\4k0Ls\\src\\layers\\basic.jl:53",
      "  [5] _applychain",
      "    @ C:\\Users\\Yash\\.julia\\packages\\Flux\\4k0Ls\\src\\layers\\basic.jl:59 [inlined]",
      "  [6] (::Chain{NamedTuple{(:block_1, :block_2, :block_3, :block_4, :block_5, :block_6, :block_7, :block_8, :block_9), NTuple{9, ResNetLayer}}})(x::Array{Float32, 4})",
      "    @ Flux C:\\Users\\Yash\\.julia\\packages\\Flux\\4k0Ls\\src\\layers\\basic.jl:51",
      "  [7] (::ResNet20Model)(x::Array{Float32, 4})",
      "    @ Main .\\In[39]:3",
      "  [8] top-level scope",
      "    @ In[40]:6",
      "  [9] eval",
      "    @ .\\boot.jl:368 [inlined]",
      " [10] include_string(mapexpr::typeof(REPL.softscope), mod::Module, code::String, filename::String)",
      "    @ Base .\\loading.jl:1428"
     ]
    }
   ],
   "source": [
    "\n",
    "# Testing ResNet20 model\n",
    "# Expected output: (10, 4)\n",
    "m = ResNet20Model(3, 10);\n",
    "inputs = randn(Float32, (32, 32, 3, 4))\n",
    "outputs = m(inputs);\n",
    "size(outputs)\n",
    "     "
   ]
  },
  {
   "cell_type": "code",
   "execution_count": null,
   "id": "df6a846b",
   "metadata": {},
   "outputs": [],
   "source": []
  }
 ],
 "metadata": {
  "kernelspec": {
   "display_name": "Julia 1.8.2",
   "language": "julia",
   "name": "julia-1.8"
  },
  "language_info": {
   "file_extension": ".jl",
   "mimetype": "application/julia",
   "name": "julia",
   "version": "1.8.2"
  }
 },
 "nbformat": 4,
 "nbformat_minor": 5
}
