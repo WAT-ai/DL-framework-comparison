{
 "cells": [
  {
   "cell_type": "markdown",
   "id": "69f91157",
   "metadata": {},
   "source": [
    "# Imports"
   ]
  },
  {
   "cell_type": "code",
   "execution_count": 1,
   "id": "9b1583d4",
   "metadata": {},
   "outputs": [],
   "source": [
    "\n",
    "using Yota;\n",
    "using MLDatasets;\n",
    "using NNlib;\n",
    "using Statistics;\n",
    "using Distributions;\n",
    "using Functors;\n",
    "using Optimisers;\n",
    "using MLUtils: DataLoader;\n",
    "using OneHotArrays: onehotbatch\n",
    "using Knet:conv4\n",
    "using Metrics;\n",
    "using TimerOutputs;\n",
    "using Flux: BatchNorm, kaiming_uniform, nfan;\n",
    "using Functors\n",
    "\n",
    "# Model creation\n",
    "using NNlib;\n",
    "using Flux: BatchNorm, Chain, GlobalMeanPool, kaiming_uniform, nfan;\n",
    "using Statistics;\n",
    "using Distributions;\n",
    "using Functors;\n",
    "\n",
    "# Data processing\n",
    "using MLDatasets;\n",
    "using MLUtils: DataLoader;\n",
    "using MLDataPattern;\n",
    "using ImageCore;\n",
    "using Augmentor;\n",
    "using ImageFiltering;\n",
    "using MappedArrays;\n",
    "using Random;\n",
    "using Flux: DataLoader;\n",
    "# using OneHotArrays: onehotbatch\n",
    "\n",
    "# Training\n",
    "# using Yota;\n",
    "using Zygote;\n",
    "using Optimisers;\n",
    "using Metrics;\n",
    "using TimerOutputs;\n",
    "\n",
    "\n",
    "#using Knet: Knet, dir, accuracy, progress, sgd, gc, Data, nll, relu\n",
    "\n",
    "\n",
    "\n"
   ]
  },
  {
   "cell_type": "markdown",
   "id": "19aff91e",
   "metadata": {},
   "source": [
    "# Conv 2D"
   ]
  },
  {
   "cell_type": "code",
   "execution_count": 2,
   "id": "481a3d9a",
   "metadata": {},
   "outputs": [],
   "source": [
    "mutable struct Conv2D{T}\n",
    "    w::AbstractArray{T, 4}\n",
    "    b::AbstractVector{T}\n",
    "    use_bias::Bool\n",
    "    padding::Int \n",
    "end\n",
    "\n",
    "@functor Conv2D (w, b)"
   ]
  },
  {
   "cell_type": "code",
   "execution_count": 3,
   "id": "59da1b27",
   "metadata": {},
   "outputs": [],
   "source": [
    "function Conv2D(kernel_size::Tuple{Int, Int}, in_channels::Int, out_channels::Int;\n",
    "    bias::Bool=false, padding::Int=1)\n",
    "    w_size = (kernel_size..., in_channels, out_channels)\n",
    "    w = kaiming_uniform(w_size...)\n",
    "    (fan_in, fan_out) = nfan(w_size)\n",
    "    \n",
    "    if bias\n",
    "        # Init bias with fan_in from weights. Use gain = √2 for ReLU\n",
    "        bound = √3 * √2 / √fan_in\n",
    "        rng = Uniform(-bound, bound)\n",
    "        b = rand(rng, out_channels, Float32)\n",
    "    else\n",
    "        b = zeros(Float32, out_channels)\n",
    "    end\n",
    "\n",
    "    return Conv2D(w, b, bias, padding)\n",
    "end\n",
    "\n",
    "function (self::Conv2D)(x::AbstractArray; stride::Int=1, pad::Int=0, dilation::Int=1)\n",
    "    y = conv4(self.w, x; stride=stride, padding=self.padding, dilation=dilation)\n",
    "    if self.use_bias\n",
    "        # Bias is applied channel-wise\n",
    "        (w, h, c, b) = size(y)\n",
    "        bias = reshape(self.b, (1, 1, c, 1))\n",
    "        y = y .+ bias\n",
    "    end\n",
    "    return y\n",
    "end\n",
    "     "
   ]
  },
  {
   "cell_type": "markdown",
   "id": "252e934f",
   "metadata": {},
   "source": [
    "# ResNetLayer"
   ]
  },
  {
   "cell_type": "code",
   "execution_count": 4,
   "id": "3e66be4f",
   "metadata": {},
   "outputs": [],
   "source": [
    "mutable struct ResNetLayer\n",
    "    conv1::Conv2D\n",
    "    conv2::Conv2D\n",
    "    bn1::BatchNorm\n",
    "    bn2::BatchNorm\n",
    "    f::Function\n",
    "    in_channels::Int\n",
    "    channels::Int\n",
    "    stride::Int\n",
    "end\n",
    "\n",
    "@functor ResNetLayer (conv1, conv2, bn1, bn2)\n",
    "\n",
    "function residual_identity(layer::ResNetLayer, x::AbstractArray{T, 4}) where {T<:Number}\n",
    "    (w, h, c, b) = size(x)\n",
    "    stride = layer.stride\n",
    "    if stride > 1\n",
    "        @assert ((w % stride == 0) & (h % stride == 0)) \"Spatial dimensions are not divisible by `stride`\"\n",
    "    \n",
    "        # Strided downsample\n",
    "        x_id = copy(x[begin:2:end, begin:2:end, :, :])\n",
    "    else\n",
    "        x_id = x\n",
    "    end\n",
    "\n",
    "    channels = layer.channels\n",
    "    in_channels = layer.in_channels\n",
    "    if in_channels < channels\n",
    "        # Zero padding on extra channels\n",
    "        (w, h, c, b) = size(x_id)\n",
    "        pad = zeros(w, h, channels - in_channels, b)\n",
    "        x_id = cat(x_id, pad; dims=3)\n",
    "    elseif in_channels > channels\n",
    "        error(\"in_channels > out_channels not supported\")\n",
    "    end\n",
    "    return x_id\n",
    "end\n",
    "\n",
    "function ResNetLayer(in_channels::Int, channels::Int; stride=1, f=relu)\n",
    "    bn1 = BatchNorm(in_channels)\n",
    "    conv1 = Conv2D((3, 3), in_channels, channels, bias=false)\n",
    "    bn2 = BatchNorm(channels)\n",
    "    conv2 = Conv2D((3, 3), channels, channels, bias=false)\n",
    "\n",
    "    return ResNetLayer(conv1, conv2, bn1, bn2, f, in_channels, channels, stride)\n",
    "end\n",
    "\n",
    "\n",
    "function (self::ResNetLayer)(x::AbstractArray)\n",
    "    identity = residual_identity(self, x)\n",
    "    z = self.bn1(x)\n",
    "    z = self.f(z)\n",
    "    z = self.conv1(z; pad=1, stride=self.stride)  # pad=1 will keep same size with (3x3) kernel\n",
    "    z = self.bn2(z)\n",
    "    z = self.f(z)\n",
    "    z = self.conv2(z; pad=1)\n",
    "\n",
    "    y = z + identity\n",
    "    return y\n",
    "end"
   ]
  },
  {
   "cell_type": "markdown",
   "id": "9f06e04e",
   "metadata": {},
   "source": [
    "# Testing ResNetLayer"
   ]
  },
  {
   "cell_type": "code",
   "execution_count": 5,
   "id": "7cdc72a9",
   "metadata": {},
   "outputs": [
    {
     "data": {
      "text/plain": [
       "(16, 16, 10, 4)"
      ]
     },
     "execution_count": 5,
     "metadata": {},
     "output_type": "execute_result"
    }
   ],
   "source": [
    "\n",
    "l = ResNetLayer(3, 10; stride=2);\n",
    "x = randn(Float32, (32, 32, 3, 4));\n",
    "y = l(x);\n",
    "size(y)"
   ]
  },
  {
   "cell_type": "markdown",
   "id": "7b21b952",
   "metadata": {},
   "source": [
    "# Linear Layer"
   ]
  },
  {
   "cell_type": "code",
   "execution_count": 6,
   "id": "8987f02c",
   "metadata": {},
   "outputs": [
    {
     "name": "stderr",
     "output_type": "stream",
     "text": [
      "WARNING: method definition for Linear at In[6]:22 declares type variable T but does not use it.\n"
     ]
    }
   ],
   "source": [
    "mutable struct Linear\n",
    "    W::AbstractMatrix{T} where T\n",
    "    b::AbstractVector{T} where T\n",
    "end\n",
    "\n",
    "@functor Linear\n",
    "\n",
    "# Init\n",
    "function Linear(in_features::Int, out_features::Int)\n",
    "    k_sqrt = sqrt(1 / in_features)\n",
    "    d = Uniform(-k_sqrt, k_sqrt)\n",
    "    return Linear(rand(d, out_features, in_features), rand(d, out_features))\n",
    "end\n",
    "Linear(in_out::Pair{Int, Int}) = Linear(in_out[1], in_out[2])\n",
    "\n",
    "function Base.show(io::IO, l::Linear)\n",
    "    o, i = size(l.W)\n",
    "    print(io, \"Linear(o)\")\n",
    "end\n",
    "\n",
    "# Forward\n",
    "(l::Linear)(x::AbstractArray) where T = l.W * x .+ l.b\n"
   ]
  },
  {
   "cell_type": "code",
   "execution_count": null,
   "id": "a386ea7a",
   "metadata": {},
   "outputs": [],
   "source": []
  },
  {
   "cell_type": "code",
   "execution_count": 7,
   "id": "02eca287",
   "metadata": {},
   "outputs": [
    {
     "data": {
      "text/plain": [
       "ResNet20Model"
      ]
     },
     "execution_count": 7,
     "metadata": {},
     "output_type": "execute_result"
    }
   ],
   "source": [
    "# ResNet Architecture\n",
    "\n",
    "mutable struct ResNet20Model\n",
    "    input_conv::Conv2D\n",
    "    resnet_blocks::Chain\n",
    "    pool::GlobalMeanPool\n",
    "    linear::Linear\n",
    "end\n",
    "\n",
    "@functor ResNet20Model\n",
    "\n",
    "function ResNet20Model(in_channels::Int, num_classes::Int)\n",
    "    resnet_blocks = Chain(\n",
    "        block_1 = ResNetLayer(16, 16),\n",
    "        block_2 = ResNetLayer(16, 16),\n",
    "        block_3 = ResNetLayer(16, 16),\n",
    "        block_4 = ResNetLayer(16, 32; stride=2),\n",
    "        block_5 = ResNetLayer(32, 32),\n",
    "        block_6 = ResNetLayer(32, 32),\n",
    "        block_7 = ResNetLayer(32, 64; stride=2),\n",
    "        block_8 = ResNetLayer(64, 64),\n",
    "        block_9 = ResNetLayer(64, 64)\n",
    "    )\n",
    "    return ResNet20Model(\n",
    "        Conv2D((3, 3), in_channels, 16, bias=false),\n",
    "        resnet_blocks,\n",
    "        GlobalMeanPool(),\n",
    "        Linear(64, num_classes)\n",
    "    )\n",
    "end"
   ]
  },
  {
   "cell_type": "code",
   "execution_count": 8,
   "id": "cdef0144",
   "metadata": {},
   "outputs": [],
   "source": [
    "function (self::ResNet20Model)(x::AbstractArray)\n",
    "    z = self.input_conv(x)\n",
    "    z = self.resnet_blocks(z)\n",
    "    z = self.pool(z)\n",
    "    z = dropdims(z, dims=(1, 2))\n",
    "    y = self.linear(z)\n",
    "    return y\n",
    "end\n",
    "     "
   ]
  },
  {
   "cell_type": "code",
   "execution_count": 9,
   "id": "25c15eb5",
   "metadata": {},
   "outputs": [
    {
     "name": "stderr",
     "output_type": "stream",
     "text": [
      "┌ Warning: Slow fallback implementation invoked for conv!  You probably don't want this; check your datatypes.\n",
      "│   yT = Float64\n",
      "│   T1 = Float64\n",
      "│   T2 = Float32\n",
      "└ @ NNlib C:\\Users\\Yash\\.julia\\packages\\NNlib\\0QnJJ\\src\\conv.jl:285\n"
     ]
    },
    {
     "data": {
      "text/plain": [
       "(10, 4)"
      ]
     },
     "execution_count": 9,
     "metadata": {},
     "output_type": "execute_result"
    }
   ],
   "source": [
    "\n",
    "# Testing ResNet20 model\n",
    "# Expected output: (10, 4)\n",
    "m = ResNet20Model(3, 10);\n",
    "inputs = randn(Float32, (32, 32, 3, 4))\n",
    "outputs = m(inputs);\n",
    "size(outputs)\n",
    "     "
   ]
  },
  {
   "cell_type": "markdown",
   "id": "8e43380e",
   "metadata": {},
   "source": [
    "# Data Preprocessing "
   ]
  },
  {
   "cell_type": "code",
   "execution_count": 10,
   "id": "84857fa0",
   "metadata": {},
   "outputs": [
    {
     "name": "stdout",
     "output_type": "stream",
     "text": [
      "32×32×3×45000 Array{Float32, 4}\n",
      "45000-element Vector{Int64}\n",
      "32×32×3×5000 Array{Float32, 4}\n",
      "5000-element Vector{Int64}\n",
      "32×32×3×10000 Array{Float32, 4}\n",
      "10000-element Vector{Int64}\n"
     ]
    }
   ],
   "source": [
    "# This loads the CIFAR-10 Dataset for training, validation, and evaluation\n",
    "xtrn,ytrn = CIFAR10.traindata(Float32, 1:45000)\n",
    "xval,yval =  CIFAR10.traindata(Float32, 45001:50000)\n",
    "xtst,ytst = CIFAR10.testdata(Float32)\n",
    "println.(summary.((xtrn,ytrn,xval, yval, xtst,ytst)));"
   ]
  },
  {
   "cell_type": "code",
   "execution_count": 11,
   "id": "45acc000",
   "metadata": {},
   "outputs": [],
   "source": [
    "# Normalize all the data\n",
    "\n",
    "means = reshape([0.485, 0.465, 0.406], (1, 1, 3, 1))\n",
    "stdevs = reshape([0.229, 0.224, 0.225], (1, 1, 3, 1))\n",
    "normalize(x) = (x .- means) ./ stdevs\n",
    "\n",
    "train_x = normalize(xtrn);\n",
    "val_x = normalize(xval);\n",
    "test_x = normalize(xtst);"
   ]
  },
  {
   "cell_type": "code",
   "execution_count": 12,
   "id": "9e93cda3",
   "metadata": {},
   "outputs": [
    {
     "data": {
      "text/plain": [
       "splitobs (generic function with 11 methods)"
      ]
     },
     "execution_count": 12,
     "metadata": {},
     "output_type": "execute_result"
    }
   ],
   "source": [
    "\n",
    "# Train-test split\n",
    "# Copied from https://github.com/JuliaML/MLUtils.jl/blob/v0.2.11/src/splitobs.jl#L65\n",
    "# obsview doesn't work with this data, so use getobs instead\n",
    "\n",
    "import MLDataPattern.splitobs;\n",
    "\n",
    "function splitobs(data; at, shuffle::Bool=false)\n",
    "    if shuffle\n",
    "        data = shuffleobs(data)\n",
    "    end\n",
    "    n = numobs(data)\n",
    "    return map(idx -> MLDataPattern.getobs(data, idx), splitobs(n, at))\n",
    "end"
   ]
  },
  {
   "cell_type": "code",
   "execution_count": 13,
   "id": "9c649cac",
   "metadata": {},
   "outputs": [],
   "source": [
    "\n",
    "# Notebook testing: Use less data\n",
    "train_x, train_y = MLDatasets.getobs((train_x, ytrn), 1:500);\n",
    "\n",
    "val_x, val_y = MLDatasets.getobs((val_x, yval), 1:50);\n",
    "\n",
    "test_x, test_y = MLDatasets.getobs((test_x, ytst), 1:50);"
   ]
  },
  {
   "cell_type": "code",
   "execution_count": 14,
   "id": "75266187",
   "metadata": {},
   "outputs": [
    {
     "data": {
      "text/plain": [
       "(40, 40, 3, 500)"
      ]
     },
     "execution_count": 14,
     "metadata": {},
     "output_type": "execute_result"
    }
   ],
   "source": [
    "\n",
    "# Pad the training data for further augmentation\n",
    "train_x_padded = padarray(train_x, Fill(0, (4, 4, 0, 0)));  \n",
    "size(train_x_padded)  # Should be (40, 40, 3, 50000)"
   ]
  },
  {
   "cell_type": "code",
   "execution_count": 15,
   "id": "fc788d3e",
   "metadata": {},
   "outputs": [
    {
     "data": {
      "text/plain": [
       "6-step Augmentor.ImmutablePipeline:\n",
       " 1.) Permute dimension order to (3, 1, 2)\n",
       " 2.) Combine color channels into colorant RGB\n",
       " 3.) Either: (50%) Flip the X axis. (50%) No operation.\n",
       " 4.) Crop random window with size (32, 32)\n",
       " 5.) Split colorant into its color channels\n",
       " 6.) Permute dimension order to (2, 3, 1)"
      ]
     },
     "execution_count": 15,
     "metadata": {},
     "output_type": "execute_result"
    }
   ],
   "source": [
    "pl = PermuteDims((3, 1, 2)) |> CombineChannels(RGB) |> Either(FlipX(), NoOp()) |> RCropSize(32, 32) |> SplitChannels() |> PermuteDims((2, 3, 1))"
   ]
  },
  {
   "cell_type": "code",
   "execution_count": 16,
   "id": "815faf28",
   "metadata": {},
   "outputs": [
    {
     "data": {
      "text/plain": [
       "outbatch (generic function with 1 method)"
      ]
     },
     "execution_count": 16,
     "metadata": {},
     "output_type": "execute_result"
    }
   ],
   "source": [
    "# Create an output array for augmented images\n",
    "outbatch(X) = Array{Float32}(undef, (32, 32, 3, nobs(X)))"
   ]
  },
  {
   "cell_type": "code",
   "execution_count": 17,
   "id": "2e86e8f7",
   "metadata": {},
   "outputs": [
    {
     "data": {
      "text/plain": [
       "augmentbatch (generic function with 1 method)"
      ]
     },
     "execution_count": 17,
     "metadata": {},
     "output_type": "execute_result"
    }
   ],
   "source": [
    "# Function that takes a batch (images and targets) and augments the images\n",
    "augmentbatch((X, y)) = (augmentbatch!(outbatch(X), X, pl), y)"
   ]
  },
  {
   "cell_type": "code",
   "execution_count": 18,
   "id": "e4d362ce",
   "metadata": {},
   "outputs": [
    {
     "name": "stderr",
     "output_type": "stream",
     "text": [
      "┌ Warning: The specified values for size and/or count will result in 4 unused data points\n",
      "└ @ MLDataPattern C:\\Users\\Yash\\.julia\\packages\\MLDataPattern\\KlSmO\\src\\dataview.jl:205\n"
     ]
    }
   ],
   "source": [
    "\n",
    "# Shuffled and batched dataset of augmented images\n",
    "train_batch_size = 16\n",
    "\n",
    "train_batches = mappedarray(augmentbatch, batchview(shuffleobs((train_x_padded, train_y)), size=train_batch_size));\n",
    "     "
   ]
  },
  {
   "cell_type": "code",
   "execution_count": 19,
   "id": "e2386c3c",
   "metadata": {},
   "outputs": [],
   "source": [
    "# Test and Validation data\n",
    "test_batch_size = 32\n",
    "\n",
    "val_loader = DataLoader((val_x, val_y), shuffle=true, batchsize=test_batch_size);\n",
    "test_loader = DataLoader((test_x, test_y), shuffle=true, batchsize=test_batch_size);"
   ]
  },
  {
   "cell_type": "code",
   "execution_count": 33,
   "id": "3998a220",
   "metadata": {},
   "outputs": [],
   "source": [
    "\n",
    "# # Create model with 3 input channels and 10 classes\n",
    " model = ResNet20Model(3, 10);"
   ]
  },
  {
   "cell_type": "code",
   "execution_count": 34,
   "id": "3731cc35",
   "metadata": {},
   "outputs": [],
   "source": [
    "\n",
    "\n",
    "# loss(xtst, ytst) = nll(model(xtst), ytst)\n",
    "# evalcb = () -> (loss(xtst, ytst)) #function that will be called to get the loss \n",
    "# const to = TimerOutput() # creating a TimerOutput, keeps track of everything\n",
    "\n",
    "\n",
    "# @timeit to \"Train Total\" begin\n",
    "#     for epoch in 1:10\n",
    "#         train_epoch = epoch > 1 ? \"train_epoch\" : \"train_ji\"\n",
    "#         @timeit to train_epoch begin\n",
    "#             progress!(adam(model, train_batches; lr = 1e-3))\n",
    "#         end\n",
    "        \n",
    "#         evaluation = epoch > 1 ? \"evaluation\" : \"eval_jit\"\n",
    "#         @timeit to evaluation begin\n",
    "#             accuracy(model, test_loader)\n",
    "#         end \n",
    "        \n",
    "#     end \n",
    "# end \n",
    "\n"
   ]
  },
  {
   "cell_type": "code",
   "execution_count": null,
   "id": "c33ae82c",
   "metadata": {},
   "outputs": [],
   "source": []
  },
  {
   "cell_type": "code",
   "execution_count": null,
   "id": "1edf6901",
   "metadata": {},
   "outputs": [],
   "source": []
  },
  {
   "cell_type": "code",
   "execution_count": null,
   "id": "c04eb217",
   "metadata": {},
   "outputs": [],
   "source": []
  },
  {
   "cell_type": "code",
   "execution_count": null,
   "id": "c945bf07",
   "metadata": {},
   "outputs": [],
   "source": []
  },
  {
   "cell_type": "code",
   "execution_count": null,
   "id": "19b1cfc9",
   "metadata": {},
   "outputs": [],
   "source": []
  },
  {
   "cell_type": "code",
   "execution_count": null,
   "id": "0396b9b1",
   "metadata": {},
   "outputs": [],
   "source": []
  },
  {
   "cell_type": "markdown",
   "id": "05599606",
   "metadata": {},
   "source": [
    "# Training setup"
   ]
  },
  {
   "cell_type": "code",
   "execution_count": 35,
   "id": "fd7aadd5",
   "metadata": {},
   "outputs": [],
   "source": [
    "#Sparse Cross Entropy function"
   ]
  },
  {
   "cell_type": "code",
   "execution_count": 36,
   "id": "9f6c4d38",
   "metadata": {},
   "outputs": [
    {
     "data": {
      "text/plain": [
       "sparse_logit_cross_entropy (generic function with 1 method)"
      ]
     },
     "execution_count": 36,
     "metadata": {},
     "output_type": "execute_result"
    }
   ],
   "source": [
    "\n",
    "\"\"\"\n",
    "    sparse_logit_cross_entropy(logits, labels)\n",
    "\n",
    "Efficient computation of cross entropy loss with model logits and integer indices as labels.\n",
    "Integer indices are from [0,  N-1], where N is the number of classes\n",
    "Similar to TensorFlow SparseCategoricalCrossEntropy\n",
    "\n",
    "# Arguments\n",
    "- `logits::AbstractArray`: 2D model logits tensor of shape (classes, batch size)\n",
    "- `labels::AbstractArray`: 1D integer label indices of shape (batch size,)\n",
    "\n",
    "# Returns\n",
    "- `loss::Float32`: Cross entropy loss\n",
    "\"\"\"\n",
    "# function sparse_logit_cross_entropy(logits, labels)\n",
    "#     log_probs = logsoftmax(logits);\n",
    "#     # Select indices of labels for loss\n",
    "#     log_probs = map((x, i) -> x[i + 1], eachslice(log_probs; dims=2), labels);\n",
    "#     loss = -mean(log_probs);\n",
    "#     return loss\n",
    "# end\n",
    "\n",
    "function sparse_logit_cross_entropy(logits, labels)\n",
    "    log_probs = logsoftmax(logits);\n",
    "    inds = CartesianIndex.(labels .+ 1, axes(log_probs, 2));\n",
    "    # Select indices of labels for loss\n",
    "    log_probs = log_probs[inds];\n",
    "    loss = -mean(log_probs);\n",
    "    return loss\n",
    "end\n"
   ]
  },
  {
   "cell_type": "code",
   "execution_count": 37,
   "id": "6fa4497b",
   "metadata": {},
   "outputs": [],
   "source": [
    "# Setup AdamW optimizer\n",
    "β = (0.9, 0.999);\n",
    "decay = 1e-4;\n",
    "state = Optimisers.setup(Optimisers.Adam(1e-3, β, decay), model);"
   ]
  },
  {
   "cell_type": "code",
   "execution_count": 38,
   "id": "b852506d",
   "metadata": {},
   "outputs": [],
   "source": [
    "\n",
    "(x, y) = first(train_batches);"
   ]
  },
  {
   "cell_type": "code",
   "execution_count": 39,
   "id": "e71cc12e",
   "metadata": {},
   "outputs": [],
   "source": [
    "# loss, g = grad(loss_function, model, x, y);"
   ]
  },
  {
   "cell_type": "code",
   "execution_count": 40,
   "id": "1a9a8a89",
   "metadata": {},
   "outputs": [
    {
     "data": {
      "text/plain": [
       "loss_function (generic function with 1 method)"
      ]
     },
     "execution_count": 40,
     "metadata": {},
     "output_type": "execute_result"
    }
   ],
   "source": [
    "mutable struct ResNet5\n",
    "    input_conv::Conv2D\n",
    "    resnet_block::ResNetLayer\n",
    "    pool::GlobalMeanPool\n",
    "    linear::Linear\n",
    "end\n",
    "\n",
    "@functor ResNet5\n",
    "\n",
    "function ResNet5(in_channels::Int, num_classes::Int)\n",
    "    return ResNet5(\n",
    "        Conv2D((3, 3), in_channels, 16, bias=false),\n",
    "        ResNetLayer(16, 16),\n",
    "        GlobalMeanPool(),\n",
    "        Linear(16, num_classes)\n",
    "    )\n",
    "end\n",
    "\n",
    "function (self::ResNet5)(x::AbstractArray)\n",
    "    z = self.input_conv(x)\n",
    "    z = self.resnet_block(z)\n",
    "    z = self.pool(z)\n",
    "    z = dropdims(z, dims=(1, 2))\n",
    "    y = self.linear(z)\n",
    "    return y\n",
    "end\n",
    "\n",
    "\n",
    "function loss_function(model::ResNet5, x::AbstractArray, y::AbstractArray)\n",
    "    ŷ = model(x)\n",
    "    loss = sparse_logit_cross_entropy(ŷ, y)\n",
    "    return loss\n",
    "end"
   ]
  },
  {
   "cell_type": "code",
   "execution_count": 41,
   "id": "028a6d25",
   "metadata": {},
   "outputs": [],
   "source": [
    "\n",
    "# Yota is unable to compute gradients through the ResNet for some reason, maybe due to residual connections?\n",
    "# loss, g = grad(loss_function, model, x, y)\n",
    "model = ResNet5(3, 10);\n",
    "\n",
    "loss, g = Zygote.gradient(loss_function, model, x, y);"
   ]
  },
  {
   "cell_type": "code",
   "execution_count": 42,
   "id": "696231c0",
   "metadata": {},
   "outputs": [
    {
     "data": {
      "text/plain": [
       "32×32×3×16 Array{Float32, 4}:\n",
       "[:, :, 1, 1] =\n",
       "  2.87384f-5   5.15218f-6  -7.95893f-6  …   2.03477f-5  -2.35546f-5\n",
       "  1.31753f-5  -5.36217f-6  -2.37871f-5      1.75244f-5  -9.57452f-6\n",
       "  5.49028f-6  -1.71476f-5  -3.2099f-5       9.48742f-6  -1.40432f-5\n",
       "  7.2699f-6   -5.92972f-6  -2.18901f-5      2.19976f-5  -1.03878f-5\n",
       " -2.49811f-7  -1.22833f-6  -1.28048f-5      2.23008f-5  -8.82221f-6\n",
       " -2.13457f-6   2.44618f-6  -1.34374f-5  …   2.04867f-5  -8.85707f-6\n",
       " -1.58989f-6   1.10097f-6  -3.85356f-5      1.71607f-5  -8.91197f-6\n",
       "  2.43009f-6   2.74427f-6  -2.31398f-5      1.43616f-5  -8.99907f-6\n",
       "  8.6382f-6    4.24066f-6  -1.89015f-5      2.12419f-5  -9.01441f-6\n",
       "  1.01316f-5   2.10697f-6  -2.02417f-5      2.03862f-5  -8.99482f-6\n",
       "  9.46375f-6  -6.25004f-6  -1.73722f-5  …   2.14269f-5  -8.98492f-6\n",
       "  9.65401f-6  -3.91408f-6  -2.25808f-5      2.14387f-5  -8.96013f-6\n",
       "  9.63481f-6  -4.90097f-6  -2.71419f-5      2.27392f-5  -8.99733f-6\n",
       "  ⋮                                     ⋱   ⋮           \n",
       "  6.6796f-6   -7.3569f-6   -2.57043f-5  …   2.38568f-5  -8.91103f-6\n",
       "  7.58086f-7  -2.9958f-6   -1.29167f-5      2.07219f-5  -8.85528f-6\n",
       "  2.3564f-6    4.17472f-6   1.37998f-7      2.16737f-5  -8.90104f-6\n",
       "  8.35725f-6   7.49693f-6  -1.33849f-5      2.03694f-5  -8.93113f-6\n",
       "  1.10655f-5   1.39176f-6  -3.57415f-5      2.42324f-5  -8.66875f-6\n",
       "  1.06251f-5  -2.52541f-6  -3.04435f-5  …   2.01572f-5  -8.3407f-6\n",
       "  8.71558f-6  -4.15225f-6  -2.62513f-5      2.06746f-5  -8.21051f-6\n",
       "  4.74822f-6   1.08056f-5  -2.1629f-5       2.31422f-5  -7.38363f-6\n",
       "  4.34095f-6  -6.39721f-6  -3.72078f-6      2.3523f-5   -1.0264f-5\n",
       "  1.64836f-5   1.37776f-5  -1.70328f-5      2.25005f-5  -1.09304f-5\n",
       " -2.97065f-6   3.41663f-7  -1.48043f-5  …   1.87838f-5  -1.2569f-5\n",
       " -4.29779f-5  -3.22912f-6  -2.24622f-5     -2.00159f-5  -1.13841f-5\n",
       "\n",
       "[:, :, 2, 1] =\n",
       "  3.51288f-6  -1.22697f-5  -2.48598f-5  …  -5.24601f-5  -2.63561f-5\n",
       "  5.0802f-6   -8.81436f-6  -9.8856f-6      -7.7401f-5   -4.79854f-5\n",
       "  6.16604f-6  -1.53578f-5  -1.70939f-5     -6.56983f-5  -4.47286f-5\n",
       "  1.24349f-5  -1.22695f-5  -2.24474f-5     -6.35044f-5  -4.26525f-5\n",
       "  1.34362f-5  -1.62494f-5  -1.91734f-5     -6.25156f-5  -4.13404f-5\n",
       "  1.10909f-5  -2.10735f-5  -1.57398f-5  …  -6.32187f-5  -4.12555f-5\n",
       "  9.65864f-6  -1.58431f-5  -2.85245f-5     -6.47562f-5  -4.12256f-5\n",
       "  8.55365f-6  -1.49781f-5   1.02663f-5     -6.98997f-5  -4.12231f-5\n",
       "  7.57427f-6  -1.58006f-5   5.02288f-5     -6.04549f-5  -4.13147f-5\n",
       "  9.93018f-6  -7.01827f-6   1.28258f-5     -5.44541f-5  -4.14396f-5\n",
       "  1.12572f-5  -1.46116f-5  -2.1672f-5   …  -5.62349f-5  -4.13453f-5\n",
       "  1.18546f-5  -1.30768f-5  -1.94482f-5     -5.62452f-5  -4.12333f-5\n",
       "  1.18409f-5  -1.25132f-5  -2.20645f-5     -5.53337f-5  -4.11621f-5\n",
       "  ⋮                                     ⋱   ⋮           \n",
       "  1.18743f-5  -1.3683f-5   -2.22972f-5  …  -5.65869f-5  -4.12856f-5\n",
       "  1.42515f-5  -1.64138f-5  -1.96379f-5     -5.67975f-5  -4.13787f-5\n",
       "  1.24159f-5  -1.52812f-5  -1.22782f-5     -6.03015f-5  -4.13753f-5\n",
       "  9.13442f-6  -9.09309f-6  -1.12662f-5     -6.61189f-5  -4.21891f-5\n",
       "  1.05468f-5  -7.99576f-6  -1.33269f-5     -5.49894f-5  -4.08029f-5\n",
       "  1.1644f-5   -1.0743f-5   -1.19364f-5  …  -5.90684f-5  -4.122f-5\n",
       "  1.14246f-5  -1.58993f-5  -2.733f-5       -6.15047f-5  -4.00522f-5\n",
       "  2.33722f-5  -1.66764f-5  -8.95946f-6     -5.53262f-5  -4.31432f-5\n",
       " -1.36753f-5  -3.431f-5    -1.81776f-5     -5.894f-5    -4.33847f-5\n",
       " -5.28935f-6  -4.45395f-5  -4.33759f-5     -6.29569f-5  -3.67273f-5\n",
       " -5.14466f-5  -5.65307f-5  -5.83267f-5  …  -7.28656f-5  -3.01449f-5\n",
       " -3.77745f-5  -3.05045f-5  -4.26683f-5     -6.23611f-5  -2.93418f-5\n",
       "\n",
       "[:, :, 3, 1] =\n",
       "  1.30337f-5  1.97476f-5  -1.37888f-6  …  2.5648f-5   -4.64034f-6\n",
       "  3.68331f-7  3.68014f-5   1.60665f-5     1.87886f-5   1.83326f-5\n",
       "  1.01084f-5  3.88496f-5   3.575f-5       2.20447f-5   1.84873f-5\n",
       "  1.87285f-6  3.03808f-5   3.2317f-5      2.7348f-5    1.9302f-5\n",
       "  3.31373f-6  3.43455f-5   3.81177f-5     3.29928f-5   1.7696f-5\n",
       "  4.18613f-6  4.38729f-5   2.48672f-5  …  2.99008f-5   1.75935f-5\n",
       "  2.50239f-6  3.87682f-5   4.05324f-5     2.82491f-5   1.7558f-5\n",
       "  3.0775f-6   4.32761f-5   3.71651f-5     3.06394f-5   1.76267f-5\n",
       "  3.0736f-6   3.7843f-5   -3.7053f-5      2.99056f-5   1.76673f-5\n",
       "  2.25529f-6  3.46948f-5  -1.37121f-5     3.12987f-5   1.76435f-5\n",
       "  4.21507f-6  4.15411f-5   2.95277f-5  …  3.20953f-5   1.75889f-5\n",
       "  3.72306f-6  3.7588f-5    1.91054f-5     3.17634f-5   1.75182f-5\n",
       "  3.94906f-6  4.03008f-5   2.22407f-5     3.2732f-5    1.74733f-5\n",
       "  ⋮                                    ⋱  ⋮           \n",
       "  3.294f-6    3.00897f-5   3.7794f-5   …  2.85874f-5   1.75208f-5\n",
       "  2.5483f-6   3.25366f-5   2.8732f-5      3.14754f-5   1.76076f-5\n",
       "  3.52557f-6  3.8136f-5    2.43104f-5     3.40014f-5   1.76464f-5\n",
       "  2.90404f-6  3.00002f-5   1.83853f-5     3.81449f-5   1.71642f-5\n",
       "  2.10267f-6  2.82629f-5   3.10803f-5     3.24481f-5   1.66842f-5\n",
       "  3.57918f-6  3.26719f-5   2.92418f-5  …  3.31228f-5   1.64505f-5\n",
       "  7.08678f-6  2.56342f-5   4.57358f-5     3.47681f-5   1.91743f-5\n",
       " -3.32079f-6  2.68047f-5   2.83111f-5     3.74222f-5   1.95459f-5\n",
       "  7.50175f-6  4.48023f-5   3.10073f-5     3.69629f-5   2.05496f-5\n",
       "  3.77103f-5  3.62848f-5   3.53838f-5     3.04651f-5   1.50938f-5\n",
       "  2.26291f-6  6.13585f-5   5.42865f-5  …  3.72573f-5   2.30365f-5\n",
       "  9.99016f-6  1.11194f-5   1.05421f-5     1.7655f-5    6.95817f-6\n",
       "\n",
       "[:, :, 1, 2] =\n",
       " -1.09797f-5  -2.13722f-5  -1.27747f-5  …  -1.69448f-5  -7.88239f-6\n",
       "  1.12475f-5  -2.0106f-5   -3.77094f-5     -3.23303f-5  -2.27554f-5\n",
       " -5.15608f-6  -2.29666f-5  -1.57832f-5     -1.66505f-5  -2.19483f-5\n",
       " -4.40688f-6  -9.89303f-6  -2.67959f-5     -6.70534f-6  -1.72258f-5\n",
       "  1.08458f-6  -2.6123f-5   -5.26342f-5     -6.83994f-6  -1.43384f-5\n",
       " -3.56635f-6  -1.78059f-5  -2.80402f-5  …  -6.95699f-6  -1.45106f-5\n",
       " -3.02137f-6  -1.73025f-5  -1.40618f-5     -2.04053f-5  -6.60865f-6\n",
       " -4.13502f-7  -1.72447f-5  -1.44892f-5     -2.04278f-5  -6.64876f-6\n",
       " -6.49256f-6  -9.48326f-6  -1.42205f-5     -2.04246f-5  -6.61602f-6\n",
       " -1.11668f-5  -3.3754f-6   -8.46039f-6     -2.0354f-5   -6.67575f-6\n",
       "  7.79242f-6  -1.16571f-5  -1.09261f-5  …  -2.0452f-5   -6.61188f-6\n",
       "  1.53111f-5  -1.4928f-5    2.88932f-6     -2.04422f-5  -6.60986f-6\n",
       "  5.2131f-6   -1.3793f-5   -3.3462f-5      -2.0508f-5   -6.62253f-6\n",
       "  ⋮                                     ⋱   ⋮           \n",
       "  1.38997f-5  -1.92094f-5  -3.57026f-5  …  -1.14854f-5  -8.50423f-6\n",
       "  3.52126f-5   5.34156f-6  -4.03604f-5     -2.19193f-5  -9.99198f-6\n",
       "  3.7833f-5   -1.7161f-5   -5.25765f-5     -2.1176f-5   -4.21367f-6\n",
       " -4.3647f-6    5.2507f-6   -5.71789f-6     -5.89364f-6  -1.47315f-5\n",
       "  1.43847f-6  -3.27774f-5   4.64099f-5     -2.04356f-5  -6.57705f-6\n",
       "  9.02621f-6  -6.39047f-5   2.31406f-5  …  -2.04515f-5  -6.59162f-6\n",
       "  1.05266f-5  -7.57128f-5  -4.46544f-5     -2.04393f-5  -6.60923f-6\n",
       "  9.78515f-6  -3.16386f-5  -5.53192f-5     -2.03575f-5  -6.66031f-6\n",
       "  2.875f-5    -1.83572f-5  -4.66145f-5     -1.73273f-5  -6.96841f-6\n",
       "  1.6593f-5   -2.25877f-5  -2.63732f-5     -2.25418f-5  -1.45672f-6\n",
       " -1.93264f-5  -4.5622f-6   -2.44407f-6  …  -5.44911f-6  -5.07896f-6\n",
       " -1.26567f-5  -8.28866f-6  -1.98972f-5     -1.90232f-5  -1.22861f-5\n",
       "\n",
       "[:, :, 2, 2] =\n",
       " -4.52723f-6  -3.49323f-5  -4.12799f-5   …  -1.50356f-5  -2.16989f-7\n",
       " -6.78492f-5  -7.84942f-5  -8.87692f-5      -2.63529f-5  -4.13737f-6\n",
       " -8.41087f-5  -3.1084f-5   -9.76829f-5      -4.07474f-5  -7.83035f-6\n",
       " -7.08706f-5  -2.40582f-5  -0.000109596     -5.32373f-5  -3.9194f-6\n",
       " -7.77566f-5  -6.85934f-7  -0.000118317     -5.26677f-5  -3.95299f-6\n",
       " -8.1118f-5    9.22139f-7  -0.000108936  …  -4.52668f-5   9.43691f-6\n",
       " -8.13958f-5  -1.85499f-7  -0.000107129     -5.46121f-5   1.62983f-5\n",
       " -8.20843f-5  -5.70543f-7  -0.00011982      -5.47232f-5   1.63308f-5\n",
       " -8.19961f-5  -9.28187f-6  -0.000109798     -5.46595f-5   1.6309f-5\n",
       " -7.93751f-5  -2.48049f-5  -0.000109075     -5.44518f-5   1.6343f-5\n",
       " -7.90918f-5  -3.43573f-5  -0.000101994  …  -5.43597f-5   1.63746f-5\n",
       " -6.23688f-5  -2.64341f-5  -9.38569f-5      -5.44339f-5   1.63483f-5\n",
       " -6.52792f-5  -2.48703f-5  -7.8946f-5       -5.44905f-5   1.6355f-5\n",
       "  ⋮                                      ⋱   ⋮           \n",
       " -8.1285f-5   -4.88402f-5  -0.000100694  …  -4.41222f-5   9.497f-6\n",
       " -4.88119f-5  -8.28254f-5  -9.25717f-5      -5.31737f-5   1.68613f-5\n",
       " -5.17702f-5  -4.68936f-5  -7.68762f-5      -5.82533f-5   1.66828f-6\n",
       " -5.55461f-5  -4.18896f-5  -7.47917f-5      -4.51579f-5   9.44686f-6\n",
       " -4.83162f-5  -5.65184f-5  -4.35828f-5      -5.4252f-5    1.63604f-5\n",
       " -5.14842f-5  -3.70771f-5  -5.60604f-5   …  -5.44706f-5   1.62527f-5\n",
       " -7.58537f-5  -8.31569f-6  -0.000117182     -5.46463f-5   1.62203f-5\n",
       " -8.04193f-5   1.43932f-5  -0.000156959     -5.45568f-5   1.63059f-5\n",
       " -5.56057f-5  -8.65628f-6  -0.000125903     -5.44588f-5   1.16301f-5\n",
       " -7.1956f-5   -1.97293f-5  -0.000133141     -5.4016f-5    1.89256f-5\n",
       " -7.28343f-5  -3.14315f-5  -0.000127052  …  -5.81531f-5   7.89226f-6\n",
       " -6.13478f-5  -5.94695f-7  -7.32276f-5      -2.62953f-5   2.57695f-5\n",
       "\n",
       "[:, :, 3, 2] =\n",
       " -2.19261f-5   2.7254f-5   -4.52801f-6  …  -5.49369f-6   1.45297f-5\n",
       " -4.46353f-5   2.62317f-5   8.04015f-6     -2.53547f-5   4.73811f-6\n",
       " -3.79392f-5  -1.06354f-5   5.85113f-5     -1.7056f-5    6.20228f-6\n",
       "  1.1313f-5    1.57169f-5   5.71432f-5     -3.7475f-5    5.49092f-6\n",
       "  2.04558f-6   3.71181f-5   4.01594f-5     -3.35148f-5  -6.25117f-6\n",
       "  4.73865f-6   1.68689f-5   4.19958f-5  …  -2.51303f-5  -4.91489f-6\n",
       "  3.20972f-6   1.13822f-5   3.06967f-5     -2.25985f-5  -1.27144f-5\n",
       "  4.89944f-6   9.41842f-6   3.82225f-5     -2.26813f-5  -1.27046f-5\n",
       "  1.26125f-5   2.34069f-5   2.76001f-5     -2.27173f-5  -1.27674f-5\n",
       "  2.32491f-5   1.94585f-5   2.85936f-5     -2.26634f-5  -1.27467f-5\n",
       "  4.74152f-6   2.08929f-5   3.76962f-5  …  -2.26154f-5  -1.27296f-5\n",
       " -2.01045f-6   1.11967f-5   3.11925f-5     -2.26469f-5  -1.2722f-5\n",
       " -1.39923f-6   2.3897f-5    3.35059f-5     -2.27345f-5  -1.27035f-5\n",
       "  ⋮                                     ⋱   ⋮           \n",
       "  7.09541f-6  -3.04937f-5   4.89153f-5  …  -1.33056f-5  -9.03981f-6\n",
       " -1.36651f-5   2.70014f-5   3.32767f-5     -3.2459f-5   -2.12493f-7\n",
       "  3.17517f-5   6.80056f-6   2.52505f-6     -2.99075f-5  -1.37626f-5\n",
       "  8.04813f-6   9.21358f-6  -1.15224f-5     -2.61928f-5  -4.83346f-6\n",
       " -5.77461f-5   4.40058f-5   2.18061f-5     -2.26172f-5  -1.26375f-5\n",
       " -3.28887f-5   1.54883f-5   2.57241f-5  …  -2.26395f-5  -1.25606f-5\n",
       "  1.8196f-5    7.08923f-6  -3.4964f-6      -2.27131f-5  -1.26321f-5\n",
       "  2.73781f-5   3.86673f-7   2.03445f-5     -2.27442f-5  -1.27123f-5\n",
       "  1.39553f-5  -5.43552f-6   4.37894f-5     -2.18561f-5  -1.45538f-5\n",
       "  1.25204f-5   4.71521f-6   4.39248f-5     -1.00257f-5  -1.665f-5\n",
       "  2.14967f-5   1.08339f-5  -6.27319f-7  …   6.15765f-6  -2.11569f-5\n",
       "  5.82686f-5  -3.92828f-6   3.74167f-5      9.41486f-7  -1.17081f-5\n",
       "\n",
       "[:, :, 1, 3] =\n",
       " -1.32921f-5  -2.54748f-5  -2.4276f-5   …  -2.82705f-5  -1.69928f-5\n",
       " -2.25105f-5  -3.48271f-5  -2.74502f-5     -1.38684f-5  -2.77036f-5\n",
       " -2.05614f-5  -1.17774f-5  -4.85968f-6      1.2789f-5   -1.05062f-5\n",
       " -3.98836f-5  -2.81254f-5  -6.40034f-5     -4.08217f-5  -2.0309f-5\n",
       " -4.38632f-5  -2.61992f-5  -4.8767f-5      -1.90552f-6  -7.2014f-6\n",
       " -2.09627f-5  -4.17273f-5  -5.62594f-5  …  -1.09989f-5  -1.79831f-5\n",
       " -1.28669f-5  -1.27832f-5  -3.18246f-5     -4.09247f-5  -1.90839f-5\n",
       " -3.97809f-5  -4.64297f-5  -6.28011f-5     -7.87657f-6  -1.12435f-5\n",
       " -4.04715f-5  -4.66917f-5  -4.45681f-5     -4.18667f-5   3.13917f-6\n",
       " -2.64794f-5  -7.84953f-5  -7.23706f-5     -2.23594f-5  -7.51302f-6\n",
       " -3.37457f-5  -1.42143f-5  -4.43477f-5  …  -7.00164f-7  -2.95561f-5\n",
       " -2.87837f-5  -2.55903f-5  -2.86363f-5     -2.50456f-5  -3.61103f-5\n",
       " -7.72938f-6  -5.0325f-6   -6.46772f-5     -6.57527f-5  -1.66607f-5\n",
       "  ⋮                                     ⋱   ⋮           \n",
       " -3.11348f-5  -4.19208f-5  -6.37247f-5  …  -2.89499f-5  -4.03736f-6\n",
       " -3.92671f-5  -3.46014f-5  -3.81206f-5     -2.31593f-5  -1.69803f-5\n",
       " -3.53422f-5  -2.82261f-5  -4.3099f-5      -2.38775f-5  -1.47377f-5\n",
       " -4.09482f-5  -3.56281f-5  -2.9176f-5      -1.49256f-5  -2.23803f-5\n",
       " -8.15614f-6  -1.66638f-5  -4.15551f-5     -9.67728f-6  -1.75268f-5\n",
       " -2.87176f-5  -1.85177f-5  -1.01355f-5  …  -2.92795f-5  -3.84081f-6\n",
       " -3.27056f-5  -4.02847f-5  -5.10919f-5     -2.17138f-5  -1.25814f-5\n",
       " -2.75769f-5  -2.67168f-5  -2.62755f-5     -2.40851f-5  -1.13193f-5\n",
       " -1.80984f-5  -3.46694f-5  -3.13359f-5     -3.40728f-5  -1.15171f-5\n",
       " -4.0983f-5   -1.22354f-5  -2.21499f-5     -3.92156f-5   2.48212f-6\n",
       " -2.17541f-5  -1.4721f-5   -3.61195f-5  …  -1.8059f-5   -2.34319f-5\n",
       " -1.73993f-5  -8.16249f-6  -2.49898f-5     -6.6299f-8   -3.32326f-6\n",
       "\n",
       "[:, :, 2, 3] =\n",
       "  1.37565f-5  5.39358f-5    4.58624f-5  …   4.44795f-5    2.50945f-5\n",
       " -1.05192f-5  6.36829f-5    4.8567f-5       6.02761f-5    1.23682f-5\n",
       "  8.05044f-6  4.69759f-5    2.89093f-5      1.65648f-5    1.09588f-5\n",
       "  2.33734f-6  0.000106804   3.09279f-5     -3.14127f-5    1.23341f-5\n",
       "  9.22226f-7  0.000113907   2.53979f-5      4.82065f-6    7.19267f-6\n",
       " -5.75003f-6  0.000115487   6.12588f-5  …  -9.67223f-6   -3.66514f-6\n",
       " -7.21526f-6  0.000118417   4.04848f-5     -1.31087f-5    4.85808f-6\n",
       " -1.83487f-5  0.000144694   3.57431f-5      2.71545f-6    1.97464f-6\n",
       " -2.31197f-6  0.000116426   4.23696f-5     -1.99311f-6    1.24911f-5\n",
       "  1.33507f-5  0.000142583   5.01268f-5      8.75845f-6    4.12369f-5\n",
       "  2.56636f-5  0.000180252   5.40545f-5  …   0.000105484   2.48439f-5\n",
       " -3.61895f-6  0.000149931   4.13484f-5      4.68084f-5    4.66717f-5\n",
       "  2.01801f-5  8.81076f-5   -2.2904f-5      -1.71351f-5   -4.21337f-6\n",
       "  ⋮                                     ⋱   ⋮            \n",
       " -1.24302f-5  0.00013385    9.00135f-5  …  -1.33804f-5    5.75934f-6\n",
       "  1.25677f-5  0.000127111   8.09964f-5     -1.75825f-5    9.55642f-6\n",
       " -1.91218f-6  9.21105f-5    9.24472f-5     -2.37863f-5    9.99772f-6\n",
       "  1.86928f-5  0.000107805   9.78562f-5     -9.6838f-6    -4.90789f-6\n",
       "  1.90321f-6  9.47662f-5    6.81009f-5     -1.21807f-5   -6.32489f-7\n",
       "  4.47338f-6  8.07572f-5    3.97976f-5  …  -1.41697f-5    1.19191f-5\n",
       "  1.87808f-5  5.76884f-5    5.41935f-5     -8.75647f-6    8.57532f-6\n",
       "  3.17319f-5  4.42051f-5    2.78475f-5     -1.52921f-5    9.61939f-6\n",
       "  9.52952f-6  5.40576f-5    5.0719f-5      -1.71491f-5    9.88385f-6\n",
       "  5.17164f-7  5.02872f-5    3.96059f-5     -1.22204f-5    1.37712f-5\n",
       "  1.50076f-5  8.3402f-5     5.2399f-5   …   6.42688f-6   -1.64415f-5\n",
       "  3.14011f-6  4.67719f-5    4.23395f-5      2.95754f-5    3.52819f-6\n",
       "\n",
       "[:, :, 3, 3] =\n",
       " -2.13358f-5  -3.7937f-5    -2.88963f-5  …  -5.82107f-5  -3.07175f-5\n",
       " -8.75597f-6  -8.63936f-6   -1.4399f-6      -4.39748f-5  -3.46493f-5\n",
       " -3.99843f-5  -7.18937f-5   -5.48815f-5      2.70835f-5  -2.11729f-5\n",
       " -3.38074f-5  -8.02526f-5   -3.76416f-5     -1.26173f-5  -3.77554f-5\n",
       " -5.74915f-6  -5.5656f-5    -3.4937f-5      -2.98646f-5  -3.76138f-5\n",
       " -8.11329f-6  -2.84418f-5   -3.05806f-5  …  -2.07718f-5  -4.41476f-5\n",
       " -2.09927f-5  -5.92586f-5   -3.75812f-5     -1.33266f-5  -3.69712f-5\n",
       " -2.36342f-5  -6.4137f-5    -2.07103f-6     -1.34164f-5  -4.23239f-5\n",
       " -1.78956f-5  -6.06292f-5   -2.3291f-5      -4.24331f-6  -3.4804f-5\n",
       " -2.15475f-5  -2.42674f-5   -6.6006f-5      -2.98182f-5  -6.30099f-5\n",
       " -8.82353f-6  -4.50255f-5   -3.5869f-5   …  -6.11666f-5  -3.6939f-5\n",
       " -2.73957f-5  -5.63472f-5   -1.24705f-5     -2.32421f-5  -3.37618f-5\n",
       " -1.91092f-5  -0.000121495  -4.93165f-5     -2.39933f-5  -3.47519f-5\n",
       "  ⋮                                      ⋱   ⋮           \n",
       " -1.63307f-5  -5.76098f-5   -1.52878f-5  …  -2.98358f-5  -3.83354f-5\n",
       " -3.66333f-6  -5.44591f-5   -6.64642f-5     -2.32273f-5  -4.34126f-5\n",
       " -1.08237f-5  -3.67816f-5   -7.95501f-5     -3.41968f-5  -3.89323f-5\n",
       "  4.25022f-6  -4.04467f-5   -2.91673f-5     -6.07295f-6  -3.00576f-5\n",
       " -2.61168f-5  -2.23294f-5   -5.08112f-5     -1.30184f-5  -4.02096f-5\n",
       " -2.06026f-5  -3.47827f-5   -5.70607f-5  …  -1.61879f-5  -4.02096f-5\n",
       " -1.69183f-5  -3.22452f-5   -2.34737f-5     -1.40456f-5  -4.36295f-5\n",
       " -1.28868f-5  -2.36515f-5   -4.06212f-5     -1.34111f-5  -4.07483f-5\n",
       " -3.36046f-5  -1.2702f-5    -6.03335f-6     -1.00821f-5  -3.58138f-5\n",
       " -1.11375f-5  -5.46132f-5   -6.48593f-6     -1.6174f-5   -3.2f-5\n",
       "  1.48887f-5  -2.30397f-5   -1.40682f-5  …  -8.4154f-6   -3.42971f-5\n",
       "  2.61805f-5  -9.19203f-7   -5.72442f-7     -3.74935f-6  -2.72021f-6\n",
       "\n",
       ";;;; … \n",
       "\n",
       "[:, :, 1, 14] =\n",
       " 1.33663f-5   4.85302f-6   3.58623f-6  …   1.37095f-5   1.52744f-6\n",
       " 2.40446f-5  -2.13888f-5  -7.09837f-7     -2.65502f-5  -3.84853f-5\n",
       " 2.15673f-5  -3.83408f-5  -6.04328f-6     -2.47308f-5  -6.90114f-5\n",
       " 1.92326f-5  -3.71648f-5  -2.57633f-5      8.74128f-6  -5.50297f-5\n",
       " 1.71903f-5  -3.32595f-5  -3.98588f-5      1.39541f-5  -5.28194f-5\n",
       " 1.4936f-5   -3.24147f-5  -4.14944f-5  …   1.85891f-5  -4.86048f-5\n",
       " 1.73485f-5  -2.66423f-5  -2.27061f-5      1.55611f-5  -4.97301f-5\n",
       " 1.35476f-5  -3.83446f-5  -1.91897f-5      1.55515f-5  -4.66568f-5\n",
       " 1.39347f-5  -3.14124f-5  -2.70663f-5      1.66001f-5  -4.76427f-5\n",
       " 2.03841f-5  -2.95635f-5  -4.12947f-5      1.51247f-5  -4.52537f-5\n",
       " 1.9246f-5   -4.71404f-5  -3.9704f-5   …   1.44092f-5  -4.75653f-5\n",
       " 1.02947f-5  -2.77938f-5  -1.65234f-5      9.53047f-6  -4.31208f-5\n",
       " 1.7194f-5   -2.49142f-5  -2.85847f-5      2.09133f-5  -5.40761f-5\n",
       " ⋮                                     ⋱   ⋮           \n",
       " 1.87105f-5  -5.13546f-5  -1.63782f-5  …   1.17234f-5  -4.45439f-5\n",
       " 1.84893f-5  -4.52386f-5  -3.94779f-5     -2.03202f-5  -5.12953f-5\n",
       " 1.86344f-5  -4.50125f-5  -4.02963f-5      6.36818f-6  -4.96217f-5\n",
       " 1.55367f-5  -3.01873f-5  -4.11503f-5      1.33834f-5  -5.56446f-5\n",
       " 1.6725f-5   -3.16873f-5  -3.58039f-5      2.98642f-5  -5.41134f-5\n",
       " 1.91699f-5  -4.34588f-5  -5.96472f-6  …   3.36201f-5  -6.05377f-5\n",
       " 1.02027f-5  -3.68617f-5  -1.26946f-6      1.37002f-5  -5.93067f-5\n",
       " 2.02941f-5  -3.33365f-5  -2.79833f-5     -1.27102f-7  -4.2245f-5\n",
       " 1.90906f-5  -4.93408f-5  -1.02181f-5      4.24493f-6  -6.76327f-5\n",
       " 1.35392f-5  -3.17202f-5  -1.05651f-5      1.37745f-5  -6.95663f-5\n",
       " 3.22179f-5  -3.63395f-5  -3.44376f-5  …  -1.8031f-5   -3.67907f-5\n",
       " 3.1825f-5   -2.07306f-5  -1.293f-5       -1.55749f-5  -5.47155f-5\n",
       "\n",
       "[:, :, 2, 14] =\n",
       " -1.16588f-5  -1.2407f-5    3.49407f-6  …  -2.00775f-5   2.20019f-5\n",
       " -1.22088f-5  -8.70201f-6   7.22299f-6     -2.42942f-5   3.22809f-5\n",
       " -4.46188f-6   1.12563f-6   1.55854f-6      1.82184f-6   2.75427f-5\n",
       " -6.50865f-6   6.71314f-6  -4.40675f-6     -1.15001f-5   1.37051f-5\n",
       "  1.46834f-6   1.8095f-6   -1.09453f-5     -1.93772f-5   1.18843f-5\n",
       "  9.96785f-6  -6.14118f-6  -1.91112f-5  …  -2.1082f-5    2.99534f-6\n",
       "  7.32546f-6  -1.10439f-5  -1.05676f-5     -1.90141f-5   6.74762f-6\n",
       "  4.39465f-7  -8.66755f-7  -3.26735f-5     -1.68382f-5   5.62134f-6\n",
       "  1.84562f-6   8.40483f-6  -3.41861f-5     -1.86092f-5   4.87877f-6\n",
       "  3.29915f-6  -6.79852f-7  -3.56272f-5     -1.23352f-5   7.23447f-6\n",
       " -7.65528f-7  -3.32969f-6  -2.83803f-5  …  -1.67057f-5   1.49106f-6\n",
       "  3.31928f-6  -5.36953f-6  -2.76984f-5     -1.32463f-5   1.17819f-5\n",
       "  8.95364f-6  -1.72866f-6  -3.75768f-5      1.09688f-5  -4.38009f-6\n",
       "  ⋮                                     ⋱   ⋮           \n",
       " -3.17671f-6   5.2434f-6   -2.69256f-5  …  -4.84416f-5   8.25841f-6\n",
       " -3.05886f-6   1.01041f-6  -2.00724f-5     -2.82864f-5  -3.48747f-6\n",
       " -3.11412f-6  -2.6824f-6   -1.84471f-5     -2.03048f-5  -8.71729f-6\n",
       "  2.70974f-6  -4.42211f-6  -1.84807f-5     -1.75151f-5  -2.35158f-5\n",
       "  5.19128f-6  -2.57658f-6  -2.41242f-5      2.26607f-5   2.58383f-6\n",
       " -4.43079f-7   9.24148f-6  -2.55504f-5  …  -4.00863f-5  -2.20372f-7\n",
       "  3.4482f-6    9.72595f-6  -3.16414f-5     -3.03052f-5  -2.44575f-5\n",
       "  3.71146f-6   3.85173f-6  -2.39893f-5     -2.33657f-5   1.92735f-5\n",
       " -4.2958f-7    6.57322f-6  -9.47067f-6     -3.18343f-5   1.15899f-5\n",
       "  3.97834f-7  -3.9832f-6   -2.29879f-5     -2.98401f-5   1.83165f-5\n",
       " -2.48082f-6   2.33363f-6  -1.80932f-5  …  -3.67383f-5   3.11761f-5\n",
       "  1.40496f-5  -1.21956f-5  -1.12533f-5     -3.16762f-5  -1.81151f-5\n",
       "\n",
       "[:, :, 3, 14] =\n",
       " -7.93633f-6  -1.74683f-5  -3.30643f-5  …  -2.41837f-6  -2.35818f-5\n",
       " -2.14967f-5  -3.45701f-5  -4.38043f-5     -3.09205f-6  -2.01295f-5\n",
       " -2.20267f-5  -3.53623f-5  -3.24018f-5      6.1502f-6   -1.65125f-5\n",
       " -2.08004f-5  -4.26441f-5  -2.3583f-5      -2.71736f-5  -1.68349f-5\n",
       " -1.79565f-5  -4.85526f-5  -4.17504f-5     -2.07986f-5  -1.3357f-5\n",
       " -2.09896f-5  -2.60134f-5  -5.04995f-5  …  -1.76324f-5  -7.67686f-6\n",
       " -3.54343f-5  -3.14013f-5  -2.514f-5       -2.07742f-5  -1.19488f-5\n",
       " -2.83928f-5  -4.10369f-5  -2.33926f-5     -2.41132f-5  -1.1116f-5\n",
       " -1.46165f-5  -4.19793f-5  -2.49181f-5     -2.58115f-5  -1.18515f-5\n",
       " -2.30708f-5  -4.50573f-5  -3.26967f-5     -2.11465f-5  -1.01586f-5\n",
       " -3.29882f-5  -3.43335f-5  -1.62386f-5  …  -2.59596f-5  -7.33063f-6\n",
       " -1.49393f-5  -4.06295f-5  -2.20788f-5     -2.70018f-5  -1.27446f-5\n",
       " -2.14708f-5  -2.84157f-5  -4.1274f-5      -2.99866f-5  -5.0091f-6\n",
       "  ⋮                                     ⋱   ⋮           \n",
       " -2.12108f-5  -5.19599f-5  -3.05368f-5  …  -2.42368f-5  -1.09666f-5\n",
       " -2.10179f-5  -4.74168f-5  -4.27474f-5     -1.5578f-5   -1.5984f-5\n",
       " -2.09912f-5  -3.35144f-5  -3.88128f-5     -2.7594f-5    3.39654f-6\n",
       " -1.95054f-5  -3.31035f-5  -3.50551f-5     -4.12634f-5  -2.56047f-5\n",
       " -2.33043f-5  -3.33993f-5  -3.51916f-5     -1.40093f-5  -1.22362f-5\n",
       " -3.31995f-5  -3.87969f-5  -2.05606f-5  …  -2.27915f-5  -1.53536f-5\n",
       " -1.52208f-5  -5.35259f-5  -2.78927f-5     -2.51014f-5  -2.51453f-5\n",
       " -2.30069f-5  -4.30843f-5  -5.04652f-5     -2.78615f-5   1.22018f-6\n",
       " -3.28321f-5  -3.75078f-5  -2.48635f-5     -2.51772f-5  -1.9633f-5\n",
       " -7.88154f-6  -4.40925f-5  -3.61323f-5     -2.70516f-5  -1.97826f-5\n",
       " -1.74243f-5  -3.12033f-5  -4.37996f-5  …  -2.22341f-5  -3.2528f-5\n",
       " -3.9618f-5   -5.10782f-5  -3.54032f-5     -7.39695f-6  -1.27495f-7\n",
       "\n",
       "[:, :, 1, 15] =\n",
       " -1.42322f-5  -8.28306f-7  -1.66416f-5  …  -2.11629f-5  -8.51041f-6\n",
       "  1.78201f-5  -2.03631f-5  -2.93015f-5     -3.91225f-5  -2.38064f-5\n",
       " -4.01629f-6   7.20289f-6  -5.25714f-6     -1.72928f-5  -3.32815f-5\n",
       " -2.82395f-5  -4.71707f-6  -3.74868f-5     -3.02409f-5  -1.64734f-5\n",
       " -1.81109f-5   5.98791f-6  -5.90359f-5     -1.7286f-5   -2.49253f-5\n",
       "  8.58902f-6  -1.84229f-5  -5.12326f-5  …  -3.34777f-5   1.37166f-5\n",
       "  4.36534f-5  -1.47507f-5  -3.43016f-5     -2.38659f-5   1.95873f-5\n",
       "  3.05164f-5  -1.30216f-5  -2.95457f-5     -2.2512f-5   -1.54837f-5\n",
       "  3.12878f-5  -2.15927f-5  -3.26094f-5     -1.72527f-5  -6.8008f-6\n",
       "  3.13024f-5  -2.1157f-5   -3.26002f-5     -1.25f-5     -7.81954f-6\n",
       "  3.44746f-5  -2.64019f-5  -2.90338f-5  …  -8.88944f-6  -1.10185f-5\n",
       "  3.56305f-5  -2.51382f-5  -3.36172f-5     -1.70083f-5  -5.94835f-6\n",
       "  3.22221f-5  -1.83961f-5  -3.63357f-5     -1.24371f-5  -7.30951f-6\n",
       "  ⋮                                     ⋱   ⋮           \n",
       "  3.40669f-5  -2.65137f-5  -2.84164f-5  …  -1.8529f-5   -8.00771f-6\n",
       "  3.23159f-5  -1.99016f-5  -3.71337f-5     -1.29374f-5  -2.77934f-6\n",
       "  3.06859f-5  -1.97791f-5  -3.23031f-5     -1.18352f-5  -5.00627f-6\n",
       "  2.92809f-5  -2.24281f-5  -2.87513f-5     -1.18677f-5  -1.03392f-5\n",
       "  3.13974f-5  -2.08298f-5  -3.25597f-5     -1.30022f-5  -1.88982f-5\n",
       "  3.4333f-5   -2.63916f-5  -2.87311f-5  …  -1.94221f-5  -9.26061f-6\n",
       "  3.27389f-5  -2.00057f-5  -3.68491f-5     -1.92571f-5  -5.71103f-6\n",
       "  3.07853f-5  -1.95269f-5  -3.19953f-5     -1.89164f-5  -6.1808f-6\n",
       "  3.26149f-5  -2.96727f-5  -2.83632f-6     -1.86268f-5  -3.14514f-6\n",
       "  4.09495f-5  -8.29647f-6  -2.99314f-5     -1.44101f-5  -7.22131f-6\n",
       "  3.36188f-5  -5.28598f-6   2.68256f-6  …  -1.77605f-5  -1.72127f-5\n",
       "  1.5718f-5   -1.06357f-5  -1.58782f-5     -5.37788f-6  -4.31066f-5\n",
       "\n",
       "[:, :, 2, 15] =\n",
       " -2.71481f-5  -6.23731f-5   -6.94312f-5   …  -3.79918f-5   -7.59295f-6\n",
       " -5.76539f-5  -6.44929f-5   -6.63022f-5      -4.24491f-5   -3.27987f-6\n",
       " -3.08224f-5  -4.92059f-5   -5.37293f-5      -5.99305f-5   -9.06002f-6\n",
       " -6.15207f-5  -5.25847f-5   -5.51519f-5      -5.93541f-5   -2.0077f-5\n",
       " -8.6014f-5   -6.91141f-5   -0.000100434     -9.90005f-5   -5.61515f-5\n",
       " -5.77686f-5  -0.000104908  -4.87899f-5   …  -8.39651f-5   -5.26676f-5\n",
       " -6.25512f-5  -0.00010837   -2.85305f-5      -8.89585f-5   -4.53344f-6\n",
       " -5.81532f-5  -0.00010201   -2.09666f-5      -8.76519f-5   -1.36613f-5\n",
       " -6.27479f-5  -0.000103551  -1.84921f-5      -9.89555f-5   -2.4265f-5\n",
       " -6.32125f-5  -0.000103278  -1.85082f-5      -9.37496f-5   -2.54385f-5\n",
       " -6.8004f-5   -0.000106113  -1.69805f-5   …  -9.61866f-5   -2.37284f-5\n",
       " -6.86537f-5  -9.7697f-5    -2.13105f-5      -0.00010507   -1.76843f-5\n",
       " -6.46231f-5  -8.94775f-5   -3.06477f-5      -9.72222f-5   -1.85753f-5\n",
       "  ⋮                                       ⋱   ⋮            \n",
       " -6.71139f-5  -0.000105918  -1.67125f-5   …  -9.68319f-5   -2.71956f-5\n",
       " -6.31445f-5  -9.47925f-5   -2.28639f-5      -9.50865f-5   -2.68261f-5\n",
       " -6.359f-5    -9.87085f-5   -2.61428f-5      -0.000101427  -1.90983f-5\n",
       " -6.16764f-5  -0.000107163  -1.4755f-5       -9.67539f-5   -2.50946f-5\n",
       " -5.63963f-5  -0.000103415  -2.06108f-5      -8.91569f-5   -3.287f-5\n",
       " -6.76495f-5  -0.000106304  -1.62743f-5   …  -9.48742f-5   -3.3864f-5\n",
       " -6.35575f-5  -9.48656f-5   -2.22142f-5      -0.000101478  -2.79286f-5\n",
       " -6.35552f-5  -9.81299f-5   -2.57596f-5      -0.000101187  -2.81493f-5\n",
       " -5.26933f-5  -0.000102399  -1.71688f-5      -9.89127f-5   -2.84281f-5\n",
       " -5.17102f-5  -7.33952f-5   -3.16825f-5      -0.000103105  -1.59417f-5\n",
       " -3.87775f-5  -5.88389f-5   -4.60914f-5   …  -8.24853f-5   -6.29939f-6\n",
       " -1.01194f-5  -5.58116f-5    1.2544f-8       -2.73959f-5    7.38215f-7\n",
       "\n",
       "[:, :, 3, 15] =\n",
       " -1.05581f-5   4.04572f-6   4.48011f-6  …   2.63798f-6   1.36589f-6\n",
       " -1.10731f-5  -1.23928f-6   1.43986f-6     -3.17876f-5  -4.85235f-6\n",
       " -3.0389f-5   -1.88746f-5  -1.09316f-6     -2.05259f-5  -6.97609f-6\n",
       " -2.31538f-5  -1.87011f-5   4.27785f-5      5.31586f-6  -1.19822f-7\n",
       "  1.77212f-5  -3.64338f-5   4.40577f-6      2.44596f-5   2.9193f-5\n",
       " -5.06462f-6  -3.26252f-5  -4.55707f-6  …  -3.38217f-6   1.32613f-5\n",
       " -2.9407f-5    4.73535f-5   1.84007f-5      1.7393f-5   -7.39461f-6\n",
       " -3.36971f-6   3.14314f-6   2.49574f-5      2.26891f-5   1.02206f-5\n",
       " -2.95847f-6   1.58656f-5   1.15972f-5      2.19764f-5   8.8516f-6\n",
       " -2.94252f-6   1.59466f-5   1.12964f-5      2.21957f-5   4.75332f-6\n",
       " -4.56594f-6   1.67592f-5   1.0183f-5   …   2.72823f-5   4.26673f-6\n",
       " -3.58368f-7   9.34662f-6   1.08674f-5      2.61219f-5   8.15499f-6\n",
       "  3.7385f-6    1.83577f-5   1.69644f-5      2.75185f-5   6.39195f-6\n",
       "  ⋮                                     ⋱   ⋮           \n",
       " -5.14102f-6   1.59719f-5   9.30539f-6  …   2.49045f-5   5.96053f-6\n",
       "  1.24572f-6   7.70415f-6   1.15018f-5      2.81032f-5   8.23876f-6\n",
       " -7.85542f-8   2.54156f-5   1.60599f-5      3.06293f-5   7.06368f-6\n",
       " -6.55128f-6   1.78671f-5   5.77923f-6      1.16846f-5  -2.76677f-7\n",
       " -3.26391f-6   9.23154f-6   1.38038f-5      1.70896f-5   6.30555f-6\n",
       " -4.88428f-6   1.65113f-5   1.02148f-5  …   2.52434f-5   5.1654f-6\n",
       "  7.36047f-7   8.26562f-6   1.18475f-5      2.72033f-5   4.53531f-6\n",
       " -2.71816f-8   2.55809f-5   1.5987f-5       2.37181f-5   5.42823f-6\n",
       " -5.75722f-6   3.17648f-5  -1.50827f-5      2.2849f-5    6.46165f-6\n",
       "  5.26474f-6   2.6f-5       1.6355f-5       2.14678f-5  -6.35829f-6\n",
       "  7.64364f-6   1.2984f-5    1.15768f-5  …   9.00361f-6  -2.41165f-5\n",
       "  5.46411f-6   2.37213f-5   1.45142f-5      1.40133f-5   8.73353f-6\n",
       "\n",
       "[:, :, 1, 16] =\n",
       " -5.03802f-6  -1.53795f-6   4.60553f-6  …   8.59933f-6   1.34548f-5\n",
       " -1.33139f-5   8.2283f-6    4.72714f-6      1.69092f-5   4.31501f-6\n",
       " -1.87007f-6   1.15159f-5   5.04875f-6      5.16017f-6   8.04131f-6\n",
       "  6.35418f-8   3.08693f-6  -1.29598f-5      8.22963f-6   2.8338f-6\n",
       " -2.16983f-5  -2.4079f-5    7.10067f-6      1.87707f-5   4.5435f-6\n",
       " -1.25426f-5  -1.95699f-6  -3.54366f-7  …   3.89216f-6   4.52989f-6\n",
       " -1.91067f-5   1.63425f-5  -2.13026f-5      9.29225f-6   1.57625f-6\n",
       " -1.27482f-5  -6.22103f-6  -1.65056f-5      1.1202f-5    1.11683f-5\n",
       " -2.21989f-5  -3.97914f-6  -2.48552f-5      3.4693f-6    6.54992f-6\n",
       " -1.66821f-5   3.08557f-6  -2.25274f-5      2.99258f-6   1.19086f-5\n",
       " -1.35066f-5  -3.56337f-5  -3.92915f-5  …  -6.58634f-7   4.13911f-6\n",
       "  2.01907f-7  -4.15685f-6  -2.32959f-5     -3.8229f-6    6.58547f-6\n",
       " -2.55842f-5  -4.38035f-6  -7.13148f-6     -9.832f-7     3.90915f-6\n",
       "  ⋮                                     ⋱   ⋮           \n",
       " -2.38357f-5  -1.98589f-5  -2.21745f-5  …   9.79263f-6  -5.56729f-7\n",
       " -2.90955f-5  -2.92635f-6  -2.00649f-5      6.53204f-7   4.46353f-6\n",
       " -2.28595f-5  -1.98966f-5  -8.38325f-6      1.59205f-5   4.65142f-6\n",
       " -2.96641f-5  -2.09721f-5  -1.28431f-5      4.71605f-6   2.15453f-6\n",
       " -2.20343f-5  -3.17625f-5  -5.10912f-5      6.94432f-6   1.09819f-5\n",
       " -2.3516f-6    1.31662f-6  -1.44183f-5  …  -4.05642f-6  -2.73961f-6\n",
       " -2.16968f-5  -6.0583f-6   -9.5029f-6       1.47617f-5   1.67887f-6\n",
       " -3.17614f-6  -2.08875f-5   2.43521f-5     -9.33056f-6   8.64669f-6\n",
       " -2.03552f-5   9.42903f-6   2.71075f-6      9.54452f-6   2.22076f-5\n",
       "  5.75616f-6   1.0806f-5   -2.36865f-7      4.67347f-6   1.61059f-5\n",
       " -1.40951f-5  -1.02704f-5  -3.18635f-6  …  -8.39052f-7   2.45332f-5\n",
       " -3.1905f-6   -3.46778f-6  -3.62573f-6      1.71537f-5   2.06471f-5\n",
       "\n",
       "[:, :, 2, 16] =\n",
       " -2.15884f-5  -1.14227f-5  -1.62082f-5  …  -2.55764f-5  -3.13291f-5\n",
       " -2.23083f-5   1.90108f-5   1.10183f-5     -5.42675f-7  -1.1911f-5\n",
       " -9.12809f-6   3.98662f-5   2.59647f-6     -3.74951f-5  -8.69153f-6\n",
       " -7.62137f-6   3.32652f-5   1.61093f-5     -2.59258f-5   7.50499f-6\n",
       " -3.47015f-6   2.78749f-7   1.91968f-5     -2.03829f-5   1.30214f-5\n",
       " -4.30571f-6   1.6286f-5    3.87096f-5  …  -1.3211f-5    1.14148f-5\n",
       "  1.43065f-7   3.21748f-5   4.9644f-5      -1.63238f-5   8.8627f-6\n",
       "  4.03356f-6   4.056f-5     3.15086f-5     -1.25394f-5   2.2954f-6\n",
       " -1.13654f-5   7.34695f-5   3.3689f-5      -1.45838f-5   1.1383f-7\n",
       " -2.92628f-5   5.7042f-5   -2.2081f-6       3.45306f-6   1.79821f-6\n",
       " -1.09181f-5   4.72039f-5   1.92767f-5  …   2.18812f-6  -6.04413f-6\n",
       " -1.69237f-5   1.27184f-5   1.6065f-5       5.88449f-6  -1.0836f-5\n",
       " -8.81984f-6   2.0075f-5    4.56131f-5     -8.64202f-6  -1.25129f-5\n",
       "  ⋮                                     ⋱   ⋮           \n",
       "  1.20612f-5   5.55669f-5   6.90552f-5  …  -2.94486f-5  -1.32609f-5\n",
       "  2.02f-5      4.96709f-5   6.90785f-5     -1.91592f-5   4.8409f-6\n",
       "  1.83125f-5   6.40737f-5   6.18068f-5     -2.0052f-5    1.90681f-6\n",
       "  7.91827f-6   6.21826f-5   6.86201f-5     -2.40519f-5   7.56757f-6\n",
       "  4.21825f-7   4.81752f-5   4.54214f-5     -1.54302f-5   5.53415f-6\n",
       "  2.0481f-6    3.59647f-5  -6.68709f-6  …  -8.75948f-6   5.73184f-6\n",
       "  2.2825f-6    4.04816f-5   1.54492f-5      1.44027f-5   5.88194f-6\n",
       " -2.17447f-5   1.23614f-8  -5.07233f-7     -9.76107f-6  -5.2898f-6\n",
       " -4.04921f-6   3.28196f-5   1.09735f-5     -2.13296f-5  -1.0723f-5\n",
       " -6.53629f-7   9.64771f-6   2.88722f-5     -5.34081f-6   1.22531f-5\n",
       " -3.75205f-6   5.36633f-6   2.31161f-5  …  -9.85085f-7   1.42955f-5\n",
       "  5.52764f-6   2.27731f-5   3.81831f-5      1.51786f-5   1.40957f-5\n",
       "\n",
       "[:, :, 3, 16] =\n",
       "  2.09887f-5   2.48268f-5   3.26262f-5  …   2.52067f-5   1.83206f-5\n",
       "  1.60499f-5   3.12218f-5   3.18235f-5      1.53867f-5   2.27519f-5\n",
       "  3.48141f-5   9.79703f-6   2.88586f-6      1.14747f-5   1.88519f-5\n",
       "  8.71227f-7   2.75015f-5   4.37508f-5      1.78847f-5   1.87048f-5\n",
       "  2.18388f-5   4.08884f-5   3.65291f-5      1.0776f-5    2.12948f-5\n",
       "  3.40946f-5   4.08884f-5   1.94329f-5  …   1.0377f-5    2.05071f-5\n",
       "  1.92069f-5   1.97018f-5   3.90101f-5      1.92215f-5   1.76457f-5\n",
       "  2.36644f-5   9.86611f-6   2.17295f-5      2.36401f-5   1.73641f-5\n",
       "  2.31846f-5   2.88264f-5   3.39537f-5      2.51549f-5   1.47432f-5\n",
       "  2.57393f-5  -9.20106f-6   3.30965f-5      4.29673f-5   1.3416f-5\n",
       "  1.70486f-5   1.40648f-5   1.81989f-5  …   3.695f-5     1.24074f-5\n",
       "  2.94645f-5   4.57801f-5   2.73179f-5      3.59657f-5   8.28307f-6\n",
       "  2.56688f-5   1.4644f-5    2.24626f-5      2.24926f-5   8.88082f-6\n",
       "  ⋮                                     ⋱   ⋮           \n",
       "  2.03935f-5   3.42854f-5   5.86772f-6  …   4.35592f-7   1.05793f-5\n",
       "  1.92946f-5   2.94853f-5   3.70969f-5      1.82321f-5   1.76721f-5\n",
       "  1.20686f-5   3.67779f-5   2.70968f-5      6.38749f-6   1.87694f-5\n",
       "  1.40735f-5   3.77764f-6   2.13491f-5      1.19133f-5   1.27518f-5\n",
       "  2.57298f-5   2.21913f-5   1.81671f-5      1.72985f-5   1.27492f-5\n",
       "  1.5189f-5    2.35697f-5   1.81276f-5  …   1.98066f-5   7.02275f-6\n",
       "  2.92245f-6   4.0379f-6    3.79888f-5      2.83694f-5   1.09155f-5\n",
       "  2.72736f-5   8.72931f-6  -5.25945f-6      2.87468f-5   2.20531f-5\n",
       "  2.43792f-5   1.75247f-5   6.85327f-6     -2.04517f-5  -5.39688f-6\n",
       "  7.97139f-6   9.4859f-6   -1.00873f-6      2.4968f-5    1.06572f-5\n",
       "  9.65145f-6   1.21162f-5   1.81417f-8  …   9.58578f-6   6.21811f-6\n",
       " -1.35314f-5  -1.89171f-5  -2.95601f-5     -2.69976f-5  -1.33066f-5"
      ]
     },
     "execution_count": 42,
     "metadata": {},
     "output_type": "execute_result"
    }
   ],
   "source": [
    "g"
   ]
  },
  {
   "cell_type": "markdown",
   "id": "a57b3c8d",
   "metadata": {},
   "source": [
    "# Evaluation Function"
   ]
  },
  {
   "cell_type": "code",
   "execution_count": 43,
   "id": "02f69609",
   "metadata": {},
   "outputs": [
    {
     "data": {
      "text/plain": [
       "evaluate (generic function with 1 method)"
      ]
     },
     "execution_count": 43,
     "metadata": {},
     "output_type": "execute_result"
    }
   ],
   "source": [
    "\n",
    "function evaluate(model, test_loader)\n",
    "    preds = []\n",
    "    targets = []\n",
    "    for (x, y) in test_loader\n",
    "        # Get model predictions\n",
    "        # Note argmax of nd-array gives CartesianIndex\n",
    "        # Need to grab the first element of each CartesianIndex to get the true index\n",
    "        logits = model(x)\n",
    "        ŷ = map(i -> i[1], argmax(logits, dims=1))\n",
    "        append!(preds, ŷ)\n",
    "\n",
    "        # Get true labels\n",
    "        append!(targets, y)\n",
    "    end\n",
    "    accuracy = sum(preds .== targets) / length(targets)\n",
    "    return accuracy\n",
    "end"
   ]
  },
  {
   "cell_type": "markdown",
   "id": "f2072bd8",
   "metadata": {},
   "source": [
    "# Training Loop"
   ]
  },
  {
   "cell_type": "code",
   "execution_count": 44,
   "id": "cc39bcab",
   "metadata": {},
   "outputs": [
    {
     "name": "stderr",
     "output_type": "stream",
     "text": [
      "WARNING: redefinition of constant to. This may fail, cause incorrect answers, or produce other errors.\n"
     ]
    },
    {
     "data": {
      "text/plain": [
       "\u001b[0m\u001b[1m ────────────────────────────────────────────────────────────────────\u001b[22m\n",
       "\u001b[0m\u001b[1m                   \u001b[22m         Time                    Allocations      \n",
       "                   ───────────────────────   ────────────────────────\n",
       " Tot / % measured:     1.35ms /   0.0%           13.7KiB /   0.0%    \n",
       "\n",
       " Section   ncalls     time    %tot     avg     alloc    %tot      avg\n",
       " ────────────────────────────────────────────────────────────────────\n",
       "\u001b[0m\u001b[1m ────────────────────────────────────────────────────────────────────\u001b[22m"
      ]
     },
     "execution_count": 44,
     "metadata": {},
     "output_type": "execute_result"
    }
   ],
   "source": [
    "\n",
    "# Setup timing output\n",
    "const to = TimerOutput()"
   ]
  },
  {
   "cell_type": "code",
   "execution_count": 45,
   "id": "9b5c088c",
   "metadata": {},
   "outputs": [
    {
     "ename": "LoadError",
     "evalue": "No derivative rule found for op %1174 = lastindex(%1172)::Int64 , try defining it using \n\n\tChainRulesCore.rrule(::typeof(lastindex), ::NTuple{4, Int64}) = ...\n",
     "output_type": "error",
     "traceback": [
      "No derivative rule found for op %1174 = lastindex(%1172)::Int64 , try defining it using \n\n\tChainRulesCore.rrule(::typeof(lastindex), ::NTuple{4, Int64}) = ...\n",
      "",
      "Stacktrace:",
      "  [1] error(s::String)",
      "    @ Base .\\error.jl:35",
      "  [2] step_back!(tape::Umlaut.Tape{Yota.GradCtx}, y::Umlaut.Variable)",
      "    @ Yota C:\\Users\\Yash\\.julia\\packages\\Yota\\KJQ6n\\src\\grad.jl:219",
      "  [3] back!(tape::Umlaut.Tape{Yota.GradCtx}; seed::Int64)",
      "    @ Yota C:\\Users\\Yash\\.julia\\packages\\Yota\\KJQ6n\\src\\grad.jl:260",
      "  [4] gradtape!(tape::Umlaut.Tape{Yota.GradCtx}; seed::Int64)",
      "    @ Yota C:\\Users\\Yash\\.julia\\packages\\Yota\\KJQ6n\\src\\grad.jl:273",
      "  [5] gradtape(::Function, ::ResNet5, ::Vararg{Any}; ctx::Yota.GradCtx, seed::Int64)",
      "    @ Yota C:\\Users\\Yash\\.julia\\packages\\Yota\\KJQ6n\\src\\grad.jl:300",
      "  [6] grad(::Function, ::ResNet5, ::Vararg{Any}; seed::Int64)",
      "    @ Yota C:\\Users\\Yash\\.julia\\packages\\Yota\\KJQ6n\\src\\grad.jl:370",
      "  [7] grad(::Function, ::ResNet5, ::Vararg{Any})",
      "    @ Yota C:\\Users\\Yash\\.julia\\packages\\Yota\\KJQ6n\\src\\grad.jl:362",
      "  [8] macro expansion",
      "    @ .\\In[45]:14 [inlined]",
      "  [9] macro expansion",
      "    @ C:\\Users\\Yash\\.julia\\packages\\TimerOutputs\\4yHI4\\src\\TimerOutput.jl:237 [inlined]",
      " [10] macro expansion",
      "    @ .\\In[45]:9 [inlined]",
      " [11] top-level scope",
      "    @ C:\\Users\\Yash\\.julia\\packages\\TimerOutputs\\4yHI4\\src\\TimerOutput.jl:237 [inlined]",
      " [12] top-level scope",
      "    @ .\\In[45]:0",
      " [13] eval",
      "    @ .\\boot.jl:368 [inlined]",
      " [14] include_string(mapexpr::typeof(REPL.softscope), mod::Module, code::String, filename::String)",
      "    @ Base .\\loading.jl:1428"
     ]
    }
   ],
   "source": [
    "last_loss = 0;\n",
    "@timeit to \"total_training_time\" begin\n",
    "    for epoch in 1:10\n",
    "        timing_name = epoch > 1 ? \"average_epoch_training_time\" : \"train_jit\"\n",
    "\n",
    "        # Create lazily evaluated augmented training data\n",
    "        train_batches = mappedarray(augmentbatch, batchview(shuffleobs((train_x_padded, train_y)), size=train_batch_size));\n",
    "\n",
    "        @timeit to timing_name begin\n",
    "            losses = []\n",
    "            for (x, y) in train_batches\n",
    "                # loss_function does forward pass\n",
    "                # Yota.jl grad function computes model parameter gradients in g[2]\n",
    "                loss, g = grad(loss_function, model, x, y)\n",
    "                \n",
    "                # Optimiser updates parameters\n",
    "                Optimisers.update!(state, model, g[2])\n",
    "                push!(losses, loss)\n",
    "            end\n",
    "            last_loss = mean(losses)\n",
    "            @info(\"epoch (mean(losses))\")\n",
    "        end\n",
    "        # timing_name = epoch > 1 ? \"average_inference_time\" : \"eval_jit\"\n",
    "        # @timeit to timing_name begin\n",
    "        #     acc = evaluate(model, test_loader)\n",
    "        #     @info(\"epoch (acc)\")\n",
    "        # end\n",
    "    end\n",
    "end"
   ]
  },
  {
   "cell_type": "code",
   "execution_count": null,
   "id": "1955c486",
   "metadata": {},
   "outputs": [],
   "source": []
  },
  {
   "cell_type": "code",
   "execution_count": null,
   "id": "9ace272d",
   "metadata": {},
   "outputs": [],
   "source": []
  }
 ],
 "metadata": {
  "kernelspec": {
   "display_name": "Julia 1.8.2",
   "language": "julia",
   "name": "julia-1.8"
  },
  "language_info": {
   "file_extension": ".jl",
   "mimetype": "application/julia",
   "name": "julia",
   "version": "1.8.2"
  }
 },
 "nbformat": 4,
 "nbformat_minor": 5
}
