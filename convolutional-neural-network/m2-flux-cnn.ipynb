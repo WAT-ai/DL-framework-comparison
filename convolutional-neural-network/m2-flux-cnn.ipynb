{
 "cells": [
  {
   "cell_type": "code",
   "execution_count": 1,
   "id": "cf850f1c-0afa-4fe7-9bae-e5afb8931698",
   "metadata": {
    "tags": []
   },
   "outputs": [],
   "source": [
    "# Data processing\n",
    "using MLDatasets;\n",
    "using MLUtils: DataLoader;\n",
    "using MLDataPattern;\n",
    "using ImageCore;\n",
    "using Augmentor;\n",
    "using ImageFiltering;\n",
    "using MappedArrays;\n",
    "using Random;\n",
    "using Flux: DataLoader;\n",
    "using Functors;\n",
    "using Optimisers;\n",
    "using Zygote;\n",
    "using Statistics;\n",
    "using Yota;\n",
    "using TimerOutputs;"
   ]
  },
  {
   "cell_type": "code",
   "execution_count": 2,
   "id": "8afd6c4f-ec3a-4bd6-9772-f0f0cf2925f6",
   "metadata": {},
   "outputs": [],
   "source": [
    "using Flux;"
   ]
  },
  {
   "cell_type": "markdown",
   "id": "ffa692d0-cc2b-4967-a4db-471bd1ddaa74",
   "metadata": {},
   "source": [
    "# Data Pre-processing"
   ]
  },
  {
   "cell_type": "markdown",
   "id": "fb690630-c234-4317-ba4e-2a616a90c91b",
   "metadata": {},
   "source": [
    "* Inputs: batches of (32 x 32) RGB images\n",
    "    * Tensor size (32, 32, 3, N) in WHCN dimensions\n",
    "    * Values between [0, 1]\n",
    "* For all data: ImageNet normalization\n",
    "    * Subtract means [0.485, 0.456, 0.406]\n",
    "    * Divide by standard deviations [0.229, 0.224, 0.225]\n",
    "* Augment training data only:\n",
    "    * Permute to CWHN (3, 32, 32, N)\n",
    "    * Convert to RGB image for Augmentor.jl package to process (32, 32, N)\n",
    "    * 4 pixel padding on each side (40, 40, N)\n",
    "    * Random horizontal flip\n",
    "    * (32 x 32) crop from augmented image (32, 32, N)\n",
    "    * Convert to tensors (3, 32, 32, N)\n",
    "    * Permute to WHCN (32, 32, 3, N)\n",
    "* Batch and shuffle data"
   ]
  },
  {
   "cell_type": "code",
   "execution_count": 3,
   "id": "14c708d2-0094-402a-84f6-5e8ad1dd4358",
   "metadata": {
    "tags": []
   },
   "outputs": [
    {
     "data": {
      "text/plain": [
       "dataset CIFAR10:\n",
       "  metadata  =>    Dict{String, Any} with 2 entries\n",
       "  split     =>    :test\n",
       "  features  =>    32×32×3×10000 Array{Float32, 4}\n",
       "  targets   =>    10000-element Vector{Int64}"
      ]
     },
     "execution_count": 3,
     "metadata": {},
     "output_type": "execute_result"
    }
   ],
   "source": [
    "train_data = MLDatasets.CIFAR10(Tx=Float32, split=:train)\n",
    "test_data = MLDatasets.CIFAR10(Tx=Float32, split=:test)"
   ]
  },
  {
   "cell_type": "code",
   "execution_count": 4,
   "id": "a2530170-3449-444d-a64f-dba58b89b33f",
   "metadata": {},
   "outputs": [
    {
     "data": {
      "text/plain": [
       "((32, 32, 3, 50000), (32, 32, 3, 10000))"
      ]
     },
     "execution_count": 4,
     "metadata": {},
     "output_type": "execute_result"
    }
   ],
   "source": [
    "train_x = train_data.features;\n",
    "train_y = train_data.targets;\n",
    "\n",
    "test_x = test_data.features;\n",
    "test_y = test_data.targets;\n",
    "size(train_x), size(test_x)  # Data is in shape WHCB"
   ]
  },
  {
   "cell_type": "code",
   "execution_count": 5,
   "id": "58a22570-3246-49dc-8c23-bc57c9404684",
   "metadata": {},
   "outputs": [
    {
     "data": {
      "text/plain": [
       "splitobs (generic function with 11 methods)"
      ]
     },
     "execution_count": 5,
     "metadata": {},
     "output_type": "execute_result"
    }
   ],
   "source": [
    "# Train-test split\n",
    "# Copied from https://github.com/JuliaML/MLUtils.jl/blob/v0.2.11/src/splitobs.jl#L65\n",
    "# obsview doesn't work with this data, so use getobs instead\n",
    "\n",
    "import MLDataPattern.splitobs;\n",
    "\n",
    "function splitobs(data; at, shuffle::Bool=false)\n",
    "    if shuffle\n",
    "        data = shuffleobs(data)\n",
    "    end\n",
    "    n = numobs(data)\n",
    "    return map(idx -> MLDataPattern.getobs(data, idx), splitobs(n, at))\n",
    "end"
   ]
  },
  {
   "cell_type": "code",
   "execution_count": 6,
   "id": "18be42de-16de-4992-ada7-cc82bf801b1e",
   "metadata": {},
   "outputs": [
    {
     "data": {
      "text/plain": [
       "((32, 32, 3, 45000), (32, 32, 3, 5000))"
      ]
     },
     "execution_count": 6,
     "metadata": {},
     "output_type": "execute_result"
    }
   ],
   "source": [
    "train, val = splitobs((train_x, train_y), at=0.9, shuffle=true);\n",
    "\n",
    "train_x, train_y = train;\n",
    "val_x, val_y = val;\n",
    "\n",
    "size(train_x), size(val_x)"
   ]
  },
  {
   "cell_type": "code",
   "execution_count": 7,
   "id": "0c9c1a37-2a10-47a5-bbb0-aaef92e939ff",
   "metadata": {},
   "outputs": [],
   "source": [
    "# Normalize all the data\n",
    "\n",
    "means = reshape([0.485, 0.465, 0.406], (1, 1, 3, 1))\n",
    "stdevs = reshape([0.229, 0.224, 0.225], (1, 1, 3, 1))\n",
    "normalize(x) = (x .- means) ./ stdevs\n",
    "\n",
    "train_x = normalize(train_x);\n",
    "val_x = normalize(val_x);\n",
    "test_x = normalize(test_x);"
   ]
  },
  {
   "cell_type": "code",
   "execution_count": 8,
   "id": "8d001f8e-25a0-42a9-b7f9-331d22bd555d",
   "metadata": {},
   "outputs": [],
   "source": [
    "# Notebook testing: Use less data\n",
    "train_x, train_y = MLDatasets.getobs((train_x, train_y), 1:500);\n",
    "\n",
    "val_x, val_y = MLDatasets.getobs((val_x, val_y), 1:50);\n",
    "\n",
    "test_x, test_y = MLDatasets.getobs((test_x, test_y), 1:50);"
   ]
  },
  {
   "cell_type": "markdown",
   "id": "f9386cca-9d96-4108-a4b7-19944809dc82",
   "metadata": {},
   "source": [
    "# Data augmentation pipeline with Augmentor.jl"
   ]
  },
  {
   "cell_type": "markdown",
   "id": "6883784e-b7c1-4afb-8de3-12e746fe0fde",
   "metadata": {},
   "source": [
    "By default, batch is the last dimension."
   ]
  },
  {
   "cell_type": "code",
   "execution_count": 9,
   "id": "1f2980d7-184d-48b6-9240-e9611efdb94a",
   "metadata": {},
   "outputs": [
    {
     "data": {
      "text/plain": [
       "(40, 40, 3, 500)"
      ]
     },
     "execution_count": 9,
     "metadata": {},
     "output_type": "execute_result"
    }
   ],
   "source": [
    "# Pad the training data for further augmentation\n",
    "train_x_padded = padarray(train_x, Fill(0, (4, 4, 0, 0)));  \n",
    "size(train_x_padded)  # Should be (40, 40, 3, 50000)"
   ]
  },
  {
   "cell_type": "code",
   "execution_count": 10,
   "id": "a3fc6e65-62a6-4a88-9d6c-ce338108e160",
   "metadata": {},
   "outputs": [
    {
     "data": {
      "text/plain": [
       "6-step Augmentor.ImmutablePipeline:\n",
       " 1.) Permute dimension order to (3, 1, 2)\n",
       " 2.) Combine color channels into colorant RGB\n",
       " 3.) Either: (50%) Flip the X axis. (50%) No operation.\n",
       " 4.) Crop random window with size (32, 32)\n",
       " 5.) Split colorant into its color channels\n",
       " 6.) Permute dimension order to (2, 3, 1)"
      ]
     },
     "execution_count": 10,
     "metadata": {},
     "output_type": "execute_result"
    }
   ],
   "source": [
    "pl = PermuteDims((3, 1, 2)) |> CombineChannels(RGB) |> Either(FlipX(), NoOp()) |> RCropSize(32, 32) |> SplitChannels() |> PermuteDims((2, 3, 1))\n"
   ]
  },
  {
   "cell_type": "code",
   "execution_count": 11,
   "id": "888cb0f7-cba7-4ee5-8383-000905dabe0f",
   "metadata": {},
   "outputs": [
    {
     "data": {
      "text/plain": [
       "outbatch (generic function with 1 method)"
      ]
     },
     "execution_count": 11,
     "metadata": {},
     "output_type": "execute_result"
    }
   ],
   "source": [
    "# Create an output array for augmented images\n",
    "outbatch(X) = Array{Float32}(undef, (32, 32, 3, nobs(X)))"
   ]
  },
  {
   "cell_type": "code",
   "execution_count": 12,
   "id": "648c6a23-4dad-4420-a90c-d9d03aca3758",
   "metadata": {},
   "outputs": [
    {
     "data": {
      "text/plain": [
       "augmentbatch (generic function with 1 method)"
      ]
     },
     "execution_count": 12,
     "metadata": {},
     "output_type": "execute_result"
    }
   ],
   "source": [
    "# Function that takes a batch (images and targets) and augments the images\n",
    "augmentbatch((X, y)) = (augmentbatch!(outbatch(X), X, pl), y)"
   ]
  },
  {
   "cell_type": "code",
   "execution_count": 13,
   "id": "9b19fd6e-e330-4e5b-811f-ebf77d19ff69",
   "metadata": {},
   "outputs": [
    {
     "name": "stderr",
     "output_type": "stream",
     "text": [
      "┌ Warning: The specified values for size and/or count will result in 4 unused data points\n",
      "└ @ MLDataPattern /home/araising/.julia/packages/MLDataPattern/2yPuO/src/dataview.jl:205\n"
     ]
    }
   ],
   "source": [
    "# Shuffled and batched dataset of augmented images\n",
    "train_batch_size = 16\n",
    "\n",
    "train_batches = mappedarray(augmentbatch, batchview(shuffleobs((train_x_padded, train_y)), size=train_batch_size));"
   ]
  },
  {
   "cell_type": "code",
   "execution_count": 14,
   "id": "328e7811-6d67-4e16-8bb5-5c2694bf0b67",
   "metadata": {},
   "outputs": [],
   "source": [
    "# Test and Validation data\n",
    "test_batch_size = 32\n",
    "\n",
    "val_loader = DataLoader((val_x, val_y), shuffle=true, batchsize=test_batch_size);\n",
    "test_loader = DataLoader((test_x, test_y), shuffle=true, batchsize=test_batch_size);"
   ]
  },
  {
   "cell_type": "markdown",
   "id": "824d82f1-0b52-48be-9294-4818dd193165",
   "metadata": {
    "tags": []
   },
   "source": [
    "## 2D Convolution in Flux\n",
    "\n",
    "\n",
    "**Flux.Conv — Type** \n",
    "\n",
    "Conv(filter, in => out, σ = identity;\n",
    "     stride = 1, pad = 0, dilation = 1, groups = 1, [bias, init])\n",
    "\n",
    "\n",
    "Standard convolutional layer. _filter_ is a tuple of integers specifying the size of the convolutional kernel; _in_ and _out_ specify the number of input and output channels.\n",
    "\n",
    "Image data should be stored in WHCN order (width, height, channels, batch). In other words, a 100×100 RGB image would be a 100×100×3×1 array, and a batch of 50 would be a 100×100×3×50 array. This has N = 2 spatial dimensions, and needs a kernel size like (5,5), a 2-tuple of integers.\n",
    "\n",
    "To take convolutions along N feature dimensions, this layer expects as input an array with ndims(x) == N+2, where size(x, N+1) == in is the number of input channels, and size(x, ndims(x)) is (as always) the number of observations in a batch. Then:\n",
    "\n",
    "- filter should be a tuple of N integers.\n",
    "- Keywords stride and dilation should each be either single integer, or a tuple with N integers.\n",
    "- Keyword pad specifies the number of elements added to the borders of the data array. It can be\n",
    "    - a single integer for equal padding all around,\n",
    "    - a tuple of N integers, to apply the same padding at begin/end of each spatial dimension,\n",
    "    - a tuple of 2*N integers, for asymmetric padding, or\n",
    "    - the singleton _SamePad()_, to calculate padding such that size(output,d) == size(x,d) / stride (possibly rounded) for each spatial dimension.\n",
    "- Keyword groups is expected to be an Int. It specifies the number of groups to divide a convolution into.\n",
    "\n",
    "Keywords to control initialization of the layer:\n",
    "\n",
    "- init - Function used to generate initial weights. Defaults to glorot_uniform.\n",
    "- bias - The initial bias vector is all zero by default. Trainable bias can be disabled entirely by setting this to false, or another vector can be provided such as bias = randn(Float32, out).\n",
    "            \n",
    "            \n",
    "**Flux.Conv - Method**\n",
    "_Conv(weight::AbstractArray, [bias, activation; stride, pad, dilation])_\n",
    "\n",
    "Constructs a convolutional layer with the given weight and bias. Accepts the same keywords and has the same defaults as Conv(k::NTuple{N,Integer}, ch::Pair{<:Integer,<:Integer}, σ; ...)."
   ]
  },
  {
   "cell_type": "markdown",
   "id": "57f2f977-ceca-49d4-99cc-1d95fd2d83b3",
   "metadata": {},
   "source": [
    "## ResNet Layer"
   ]
  },
  {
   "cell_type": "code",
   "execution_count": 15,
   "id": "efa38753-53a6-4b50-b94f-eb18582f1fd2",
   "metadata": {
    "tags": []
   },
   "outputs": [],
   "source": [
    "mutable struct ResNetLayer\n",
    "    conv1::Flux.Conv\n",
    "    conv2::Flux.Conv\n",
    "    bn1::Flux.BatchNorm\n",
    "    bn2::Flux.BatchNorm\n",
    "    f::Function\n",
    "    in_channels::Int\n",
    "    channels::Int\n",
    "    stride::Int\n",
    "    # stride2::Int\n",
    "    # pad1::Int\n",
    "    # pad2::Int\n",
    "end\n",
    "\n",
    "@functor ResNetLayer (conv1, conv2, bn1, bn2)"
   ]
  },
  {
   "cell_type": "code",
   "execution_count": 16,
   "id": "b343c374-5db9-4b31-81d4-824004defb93",
   "metadata": {},
   "outputs": [
    {
     "data": {
      "text/plain": [
       "residual_identity (generic function with 1 method)"
      ]
     },
     "execution_count": 16,
     "metadata": {},
     "output_type": "execute_result"
    }
   ],
   "source": [
    "function residual_identity(layer::ResNetLayer, x::AbstractArray{T, 4}) where {T<:Number}\n",
    "    (w, h, c, b) = size(x)\n",
    "    stride = layer.stride\n",
    "    if stride > 1\n",
    "        @assert ((w % stride == 0) & (h % stride == 0)) \"Spatial dimensions are not divisible by `stride`\"\n",
    "    \n",
    "        # Strided downsample\n",
    "        inds = CartesianIndices((1:stride:w, 1:stride:h))\n",
    "        x_id = copy(x[inds, :, :])\n",
    "    else\n",
    "        x_id = x\n",
    "    end\n",
    "\n",
    "    channels = layer.channels\n",
    "    in_channels = layer.in_channels\n",
    "    if in_channels < channels\n",
    "        # Zero padding on extra channels\n",
    "        (w, h, c, b) = size(x_id)\n",
    "        pad = zeros(T, w, h, channels - in_channels, b)\n",
    "        x_id = cat(x_id, pad; dims=3)\n",
    "    elseif in_channels > channels\n",
    "        error(\"in_channels > out_channels not supported\")\n",
    "    end\n",
    "    return x_id\n",
    "end"
   ]
  },
  {
   "cell_type": "code",
   "execution_count": 17,
   "id": "d3d97150-1683-4dd1-90b0-0296041562df",
   "metadata": {},
   "outputs": [
    {
     "data": {
      "text/plain": [
       "ResNetLayer"
      ]
     },
     "execution_count": 17,
     "metadata": {},
     "output_type": "execute_result"
    }
   ],
   "source": [
    "function ResNetLayer(in_channels::Int, channels::Int; stride=1, f=relu)\n",
    "    bn1 = Flux.BatchNorm(in_channels)\n",
    "    conv1 = Flux.Conv((3,3), in_channels=>channels; stride=stride, pad=1, init=Flux.kaiming_uniform, bias=false)\n",
    "    bn2 = Flux.BatchNorm(channels)\n",
    "    conv2 = Flux.Conv((3,3), channels=>channels; stride=1, pad=1, init=Flux.kaiming_uniform, bias=false)\n",
    "\n",
    "    return ResNetLayer(conv1, conv2, bn1, bn2, f, in_channels, channels, stride)\n",
    "end"
   ]
  },
  {
   "cell_type": "code",
   "execution_count": 18,
   "id": "097c8042-c375-430a-947f-0a9bf62f4fc6",
   "metadata": {},
   "outputs": [],
   "source": [
    "function (self::ResNetLayer)(x::AbstractArray)\n",
    "    identity = residual_identity(self, x)\n",
    "    z = self.bn1(x)\n",
    "    z = self.f(z)\n",
    "    z = self.conv1(z)\n",
    "    z = self.bn2(z)\n",
    "    z = self.f(z)\n",
    "    z = self.conv2(z)\n",
    "\n",
    "    y = z + identity\n",
    "    return y\n",
    "end"
   ]
  },
  {
   "cell_type": "code",
   "execution_count": 19,
   "id": "2640d473-1b75-4705-b8a4-269333e2eaad",
   "metadata": {},
   "outputs": [],
   "source": [
    "l = ResNetLayer(3, 10; stride=2);"
   ]
  },
  {
   "cell_type": "code",
   "execution_count": 20,
   "id": "7bf65a7c-2ab3-4d00-9ad4-bad8bec4b6ee",
   "metadata": {},
   "outputs": [
    {
     "data": {
      "text/plain": [
       "(32, 32, 10, 2)"
      ]
     },
     "execution_count": 20,
     "metadata": {},
     "output_type": "execute_result"
    }
   ],
   "source": [
    "x = randn(Float32, (64, 64, 3, 2));\n",
    "y = l(x);\n",
    "size(y)"
   ]
  },
  {
   "cell_type": "markdown",
   "id": "270b31ca-2a3b-4f99-8918-e61935fed1fe",
   "metadata": {},
   "source": [
    "# ResNet20 Model"
   ]
  },
  {
   "cell_type": "code",
   "execution_count": 21,
   "id": "d7900215-2bc6-4004-bce4-64c64b2bbaed",
   "metadata": {},
   "outputs": [],
   "source": [
    "mutable struct ResNet20\n",
    "    input_conv::Flux.Conv\n",
    "    resnet_blocks::Chain\n",
    "    pool::GlobalMeanPool\n",
    "    dense::Flux.Dense\n",
    "end\n",
    "\n",
    "@functor ResNet20\n",
    "\n",
    "function ResNet20(in_channels::Int, num_classes::Int)\n",
    "    resnet_blocks = Chain(\n",
    "        block_1 = ResNetLayer(16, 16),\n",
    "        block_2 = ResNetLayer(16, 16),\n",
    "        block_3 = ResNetLayer(16, 16),\n",
    "        block_4 = ResNetLayer(16, 32; stride=2),\n",
    "        block_5 = ResNetLayer(32, 32),\n",
    "        block_6 = ResNetLayer(32, 32),\n",
    "        block_7 = ResNetLayer(32, 64; stride=2),\n",
    "        block_8 = ResNetLayer(64, 64),\n",
    "        block_9 = ResNetLayer(64, 64)\n",
    "    )\n",
    "    return ResNet20(\n",
    "        Flux.Conv((3,3), in_channels=>16, init=Flux.kaiming_uniform, pad=1, bias=false),\n",
    "        resnet_blocks,\n",
    "        GlobalMeanPool(),\n",
    "        Dense(64 => num_classes)\n",
    "    )\n",
    "end\n",
    "\n",
    "function (self::ResNet20)(x::AbstractArray)\n",
    "    z = self.input_conv(x)\n",
    "    z = self.resnet_blocks(z)\n",
    "    z = self.pool(z)\n",
    "    z = dropdims(z, dims=(1, 2))\n",
    "    y = self.dense(z)\n",
    "    return y\n",
    "end"
   ]
  },
  {
   "cell_type": "code",
   "execution_count": 22,
   "id": "641c4c80-1562-435c-ab80-cd68107d7693",
   "metadata": {},
   "outputs": [
    {
     "data": {
      "text/plain": [
       "(10, 4)"
      ]
     },
     "execution_count": 22,
     "metadata": {},
     "output_type": "execute_result"
    }
   ],
   "source": [
    "# Testing ResNet20 model\n",
    "# Expected output: (10, 4)\n",
    "m = ResNet20(3, 10);\n",
    "inputs = randn(Float32, (32, 32, 3, 4))\n",
    "outputs = m(inputs);\n",
    "size(outputs)"
   ]
  },
  {
   "cell_type": "markdown",
   "id": "901ab326-0dcc-45d4-a748-7ec788b59717",
   "metadata": {},
   "source": [
    "# Training setup"
   ]
  },
  {
   "cell_type": "markdown",
   "id": "0f935051-05ee-493d-83a5-e5079073b065",
   "metadata": {},
   "source": [
    "## Sparse Cross Entropy Function"
   ]
  },
  {
   "cell_type": "code",
   "execution_count": 23,
   "id": "335cf92b-3fd1-420d-94d4-573190cc8dde",
   "metadata": {},
   "outputs": [
    {
     "data": {
      "text/plain": [
       "sparse_logit_cross_entropy (generic function with 1 method)"
      ]
     },
     "execution_count": 23,
     "metadata": {},
     "output_type": "execute_result"
    }
   ],
   "source": [
    "\"\"\"\n",
    "    sparse_logit_cross_entropy(logits, labels)\n",
    "\n",
    "Efficient computation of cross entropy loss with model logits and integer indices as labels.\n",
    "Integer indices are from [0,  N-1], where N is the number of classes\n",
    "Similar to TensorFlow SparseCategoricalCrossEntropy\n",
    "\n",
    "# Arguments\n",
    "- `logits::AbstractArray`: 2D model logits tensor of shape (classes, batch size)\n",
    "- `labels::AbstractArray`: 1D integer label indices of shape (batch size,)\n",
    "\n",
    "# Returns\n",
    "- `loss::Float32`: Cross entropy loss\n",
    "\"\"\"\n",
    "\n",
    "function sparse_logit_cross_entropy(logits, labels)\n",
    "    log_probs = logsoftmax(logits);\n",
    "    inds = CartesianIndex.(labels .+ 1, axes(log_probs, 2));\n",
    "    # Select indices of labels for loss\n",
    "    log_probs = log_probs[inds];\n",
    "    loss = -mean(log_probs);\n",
    "    return loss\n",
    "end"
   ]
  },
  {
   "cell_type": "code",
   "execution_count": 24,
   "id": "be0443ca-e10a-4d41-91a1-e83ce71d2c55",
   "metadata": {},
   "outputs": [],
   "source": [
    "# Create model with 3 input channels and 10 classes\n",
    "model = ResNet20(3, 10);"
   ]
  },
  {
   "cell_type": "code",
   "execution_count": 25,
   "id": "341650b3-519d-4bc1-a68b-1c47b2724a8f",
   "metadata": {},
   "outputs": [],
   "source": [
    "# Setup AdamW optimizer\n",
    "β = (0.9, 0.999);\n",
    "decay = 1e-4;\n",
    "state = Optimisers.setup(Optimisers.Adam(1e-3, β, decay), model);"
   ]
  },
  {
   "cell_type": "code",
   "execution_count": 26,
   "id": "383cdc2f-38c5-4f32-ad4c-a1d6fad123d7",
   "metadata": {},
   "outputs": [
    {
     "data": {
      "text/plain": [
       "loss_function (generic function with 1 method)"
      ]
     },
     "execution_count": 26,
     "metadata": {},
     "output_type": "execute_result"
    }
   ],
   "source": [
    "# Create objective function to optimize\n",
    "function loss_function(model::ResNet20, x::AbstractArray, y::AbstractArray)\n",
    "    ŷ = model(x)\n",
    "    loss = sparse_logit_cross_entropy(ŷ, y)\n",
    "    return loss\n",
    "end"
   ]
  },
  {
   "cell_type": "code",
   "execution_count": 27,
   "id": "7f56d791-ac41-45fb-aaf4-f97b8e68f347",
   "metadata": {},
   "outputs": [],
   "source": [
    "(x, y) = first(train_batches);"
   ]
  },
  {
   "cell_type": "code",
   "execution_count": 28,
   "id": "422579a1-c367-4e37-9c54-2e0524f4e02e",
   "metadata": {},
   "outputs": [
    {
     "data": {
      "text/plain": [
       "loss_function (generic function with 2 methods)"
      ]
     },
     "execution_count": 28,
     "metadata": {},
     "output_type": "execute_result"
    }
   ],
   "source": [
    "mutable struct ResNet5\n",
    "    input_conv::Flux.Conv\n",
    "    resnet_block::ResNetLayer\n",
    "    pool::GlobalMeanPool\n",
    "    dense::Flux.Dense\n",
    "end\n",
    "\n",
    "@functor ResNet5\n",
    "\n",
    "function ResNet5(in_channels::Int, num_classes::Int)\n",
    "    return ResNet5(\n",
    "        Flux.Conv((3,3), in_channels=>16, init=Flux.kaiming_uniform, pad=1, bias=false),\n",
    "        ResNetLayer(16, 16),\n",
    "        GlobalMeanPool(),\n",
    "        Dense(16 => num_classes)\n",
    "    )\n",
    "end\n",
    "\n",
    "function (self::ResNet5)(x::AbstractArray)\n",
    "    z = self.input_conv(x)\n",
    "    z = self.resnet_block(z)\n",
    "    z = self.pool(z)\n",
    "    z = dropdims(z, dims=(1, 2))\n",
    "    y = self.dense(z)\n",
    "    return y\n",
    "end\n",
    "\n",
    "\n",
    "function loss_function(model::ResNet5, x::AbstractArray, y::AbstractArray)\n",
    "    ŷ = model(x)\n",
    "    loss = sparse_logit_cross_entropy(ŷ, y)\n",
    "    return loss\n",
    "end"
   ]
  },
  {
   "cell_type": "code",
   "execution_count": 29,
   "id": "1e639464-5268-4f00-b3a4-6426f5cca1fc",
   "metadata": {},
   "outputs": [],
   "source": [
    "model = ResNet5(3, 10);\n",
    "\n",
    "loss, g = Zygote.gradient(loss_function, model, x, y);"
   ]
  },
  {
   "cell_type": "code",
   "execution_count": 30,
   "id": "f368504b-c5d6-44b5-918f-51ff51c77112",
   "metadata": {},
   "outputs": [
    {
     "data": {
      "text/plain": [
       "32×32×3×16 Array{Float32, 4}:\n",
       "[:, :, 1, 1] =\n",
       "  1.7362f-5   -8.45275f-5   1.64143f-5  …  -9.56953f-5   -7.42138f-5\n",
       " -1.32453f-7  -7.54285f-5  -1.66397f-5     -0.000151026  -8.3889f-5\n",
       "  8.06739f-6  -1.90499f-5  -1.45963f-5     -0.000106016  -9.65289f-6\n",
       " -1.22822f-5  -7.12256f-5  -4.67133f-5     -0.000145646  -3.9911f-5\n",
       " -3.10252f-5  -7.81925f-5  -5.927f-5       -0.000151137  -6.68164f-5\n",
       " -1.25631f-5  -8.11842f-5  -5.6855f-5   …  -0.000117506  -5.66902f-5\n",
       " -1.83619f-5  -5.34015f-5  -2.15533f-5     -2.6127f-5    -4.03683f-5\n",
       " -8.06493f-6  -3.37832f-5  -4.21246f-5     -4.20609f-5   -7.1381f-5\n",
       " -1.78168f-5  -4.56914f-5  -1.03866f-5     -5.23648f-5   -0.000112848\n",
       " -3.2396f-6   -3.73311f-5   1.89601f-5     -2.05763f-5   -0.000129008\n",
       " -1.57936f-5  -7.01726f-5  -5.20718f-7  …  -8.20537f-5   -0.000104548\n",
       " -4.92688f-6  -6.64523f-5  -2.49975f-5     -8.93846f-5   -0.000101201\n",
       " -5.268f-6    -6.71184f-5  -2.32403f-5      3.93376f-6   -0.000128303\n",
       "  ⋮                                     ⋱   ⋮            \n",
       " -3.7375f-6   -7.48715f-5  -3.2019f-5   …  -9.27239f-5   -0.000134002\n",
       " -1.57884f-5  -7.03078f-5  -3.26615f-5     -8.42359f-5   -0.00013008\n",
       "  4.72909f-6  -8.32171f-5  -3.95088f-5      2.43094f-5   -9.03021f-5\n",
       " -4.5643f-6   -6.53704f-5  -8.54325f-6      1.7787f-6    -5.21216f-5\n",
       " -8.67356f-6  -7.45725f-5  -3.52246f-5      2.36993f-5   -0.000126152\n",
       "  1.31115f-5  -6.40259f-5  -2.45309f-5  …  -0.000147473  -0.00010818\n",
       " -1.23773f-5  -5.91935f-5  -1.85958f-5     -0.000136695  -0.000122067\n",
       " -9.93323f-6  -7.19903f-5  -1.39034f-5      2.98436f-6   -0.000107025\n",
       "  3.32628f-6  -6.4494f-5   -2.65345f-5     -7.22061f-5   -3.3595f-5\n",
       " -2.44132f-5  -8.74378f-6  -3.90185f-5     -0.00013701   -0.000102285\n",
       " -1.96496f-5  -2.80458f-5  -4.29987f-5  …  -4.13361f-5   -0.00011313\n",
       " -3.89139f-5  -4.73423f-5  -4.80101f-5     -4.45209f-5   -9.081f-5\n",
       "\n",
       "[:, :, 2, 1] =\n",
       " -7.74268f-6  -6.71907f-5  -6.66567f-5  …  -4.10674f-5    3.97819f-5\n",
       " -4.92766f-5  -7.12305f-6   1.79894f-5     -4.52862f-5    3.67652f-5\n",
       " -4.03689f-5  -4.2992f-5    1.20439f-5     -4.99485f-5    2.86158f-5\n",
       " -4.25415f-5  -4.82589f-5   3.1816f-5      -5.38318f-5    5.72895f-5\n",
       " -6.43285f-5  -3.8333f-5    8.15469f-5     -2.50895f-5   -1.28243f-5\n",
       " -5.30398f-5  -4.78273f-5   5.37478f-5  …  -0.000112952   1.41653f-7\n",
       " -5.14364f-5  -6.87527f-5   2.59757f-5     -0.000115898   2.544f-5\n",
       " -5.67447f-5  -7.4484f-5   -7.47792f-6     -0.000110376  -7.104f-6\n",
       " -4.90916f-5  -9.09397f-5  -2.03981f-5     -0.000141899  -2.60957f-5\n",
       " -3.52313f-5  -6.97109f-5  -5.97208f-5     -7.60377f-5   -6.22264f-5\n",
       " -2.97786f-5  -4.6198f-5   -3.8391f-5   …  -6.04329f-5   -9.75603f-5\n",
       " -3.17175f-5  -7.114f-5    -6.80649f-5     -9.15965f-5   -5.83333f-5\n",
       " -3.25337f-5  -6.59632f-5  -5.54593f-5     -3.74574f-5   -0.000103194\n",
       "  ⋮                                     ⋱   ⋮            \n",
       " -3.25085f-5  -7.29192f-5  -4.86325f-5  …  -0.00013231   -0.000102869\n",
       " -3.22507f-5  -7.52668f-5  -3.7997f-5      -7.27021f-5   -0.000106293\n",
       " -2.72341f-5  -6.13576f-5  -6.4366f-5      -5.43701f-5   -7.06899f-5\n",
       " -3.46017f-5  -8.43694f-5  -2.92119f-5     -6.45527f-5   -6.21462f-5\n",
       " -4.18057f-5  -5.41977f-5  -5.11924f-5     -9.1343f-5    -2.71574f-5\n",
       " -3.2563f-5   -9.41203f-5  -6.16366f-5  …  -0.000135449  -3.34304f-5\n",
       " -3.66268f-5  -6.14032f-5  -6.00952f-5     -0.000137163  -4.36521f-5\n",
       " -3.37735f-5  -7.57922f-5  -3.97033f-5     -4.98403f-5   -7.02708f-5\n",
       " -3.26183f-5  -6.97453f-5  -5.91307f-5      3.19823f-5   -3.27555f-5\n",
       " -5.76295f-5  -7.5884f-5   -2.14553f-5      1.28501f-5    1.87007f-5\n",
       " -6.21455f-5  -1.56619f-5   3.33324f-5  …  -7.61155f-5   -4.99178f-5\n",
       "  7.94475f-6   1.53179f-5   1.0789f-5      -5.6358f-5    -6.11571f-5\n",
       "\n",
       "[:, :, 3, 1] =\n",
       " 5.82087f-5   0.000131165  9.26107f-5   …  0.000130177   6.0442f-5\n",
       " 0.000102831  0.000129902  0.000162584     9.34435f-5    5.59107f-5\n",
       " 7.48586f-5   0.00013889   0.000157242     2.90603f-5    6.13037f-5\n",
       " 7.50007f-5   0.000177978  0.00010239      0.000104047   3.83483f-5\n",
       " 9.32782f-5   0.000206551  8.08888f-5      4.21706f-5    9.8259f-5\n",
       " 8.43752f-5   0.000189633  5.72347f-5   …  3.34098f-5    7.28907f-5\n",
       " 8.14666f-5   0.000165575  6.20264f-5      6.4397f-5     6.07499f-5\n",
       " 6.8279f-5    0.000176762  5.20872f-5      0.000117085  -3.26332f-7\n",
       " 8.76816f-5   0.00018835   7.85096f-5      0.000152532  -2.7285f-5\n",
       " 6.84068f-5   0.000198967  8.14693f-5      0.000116321   2.24171f-5\n",
       " 7.45834f-5   0.000166026  4.77916f-5   …  0.000143688  -2.9985f-5\n",
       " 6.58628f-5   0.000150751  8.99911f-5      6.05103f-5   -2.12831f-5\n",
       " 6.57164f-5   0.000156977  6.60685f-5      0.000116069   1.06759f-5\n",
       " ⋮                                      ⋱  ⋮            \n",
       " 6.41423f-5   0.00016828   7.38825f-5   …  0.000113239  -2.22121f-5\n",
       " 6.78641f-5   0.000154608  6.2383f-5       4.98689f-5    2.49821f-6\n",
       " 6.81564f-5   0.000181126  8.42396f-5      0.000124668   0.000116674\n",
       " 7.17512f-5   0.000147113  4.48185f-5      0.000127224   6.11676f-5\n",
       " 7.82342f-5   0.000183502  0.000102461     0.000122992   3.76311f-5\n",
       " 6.87485f-5   0.000164743  8.14703f-5   …  0.000157722   1.77024f-5\n",
       " 6.95989f-5   0.000162884  6.63085f-5      0.000104626   1.8054f-5\n",
       " 7.03456f-5   0.000163529  7.16507f-5      5.47432f-5   -1.76174f-5\n",
       " 5.41809f-5   0.000161566  8.70589f-5      0.000133164   8.31141f-5\n",
       " 5.30336f-5   0.000171987  5.22388f-5      0.000187593   6.52371f-5\n",
       " 7.24379f-5   0.000179817  3.9465f-5    …  0.000202587   0.000156035\n",
       " 5.48626f-5   0.000113677  1.89652f-5      0.000114707   1.7315f-5\n",
       "\n",
       "[:, :, 1, 2] =\n",
       "  1.93827f-5  -5.15947f-5   -5.80305f-5  …  -4.85566f-5   -6.24892f-5\n",
       "  1.71254f-5  -0.000125724  -3.25875f-5     -1.34678f-5   -9.34543f-5\n",
       "  2.9151f-5   -5.43088f-5   -5.58619f-5     -3.59086f-5   -1.6954f-5\n",
       "  3.06046f-5  -2.44713f-5   -6.37644f-5     -0.0001415    -2.33143f-5\n",
       "  3.41754f-5  -4.75307f-5   -4.74525f-5     -5.61048f-5   -8.39159f-5\n",
       "  3.38404f-5  -4.67371f-5   -5.69308f-5  …  -6.0654f-5    -7.37871f-5\n",
       "  3.37663f-5  -5.05768f-5   -4.29477f-5     -2.2561f-5    -5.95332f-5\n",
       "  3.40568f-5  -4.98808f-5   -4.23715f-5     -1.20082f-5   -6.15447f-5\n",
       "  3.39648f-5  -4.98017f-5   -4.22846f-5     -6.88998f-5   -7.39548f-5\n",
       "  3.39672f-5  -5.00227f-5   -4.18904f-5     -4.90068f-5   -6.53027f-5\n",
       "  3.39953f-5  -5.00492f-5   -4.20213f-5  …  -7.70225f-5   -6.41289f-5\n",
       "  3.39921f-5  -5.00389f-5   -4.21568f-5     -4.59061f-5   -5.639f-5\n",
       "  3.40533f-5  -5.00629f-5   -4.20652f-5      2.40423f-5   -3.03827f-5\n",
       "  ⋮                                      ⋱   ⋮            \n",
       "  3.4028f-5   -5.03468f-5   -4.19223f-5  …   4.96506f-6   -8.26187f-5\n",
       "  3.39888f-5  -5.04332f-5   -4.20258f-5     -1.52868f-6   -8.01151f-5\n",
       "  3.37603f-5  -5.03038f-5   -4.14712f-5      6.68741f-6   -7.54197f-5\n",
       "  3.39029f-5  -5.0451f-5    -4.37104f-5      1.05884f-5   -6.94048f-5\n",
       "  3.43351f-5  -3.79303f-5   -3.90835f-5      3.64693f-7   -6.01743f-5\n",
       "  2.60558f-5   3.36481f-6   -1.01369f-5  …  -1.7277f-5    -8.18125f-5\n",
       " -7.94937f-7  -8.77316f-5   -3.36792f-6     -0.000104882  -6.47225f-5\n",
       " -1.17949f-7  -0.000136133  -6.47748f-5     -5.88665f-5   -9.90345f-5\n",
       "  1.70245f-5  -5.25809f-5   -6.68712f-5     -7.83352f-5   -5.09509f-5\n",
       "  4.07421f-5   1.81384f-5    8.49158f-6     -0.000105899  -4.68917f-5\n",
       "  5.04256f-5   1.37019f-5    3.15624f-6  …  -1.77577f-5   -9.38155f-5\n",
       "  7.02885f-5   5.63703f-5    7.06401f-5      6.96407f-5   -3.44832f-6\n",
       "\n",
       "[:, :, 2, 2] =\n",
       "  6.90544f-6   -4.75315f-5    3.77018f-5   …  -3.52277f-6    3.23633f-5\n",
       " -3.70074f-5   -4.80875f-5   -2.55561f-5      -4.97585f-5   -2.16021f-5\n",
       " -3.26629f-5   -4.43952f-5   -0.000127839     -7.60302f-5   -4.78402f-5\n",
       " -6.20737f-5   -3.21199f-5   -9.57575f-5      -3.95357f-5   -1.27284f-5\n",
       " -4.09646f-5   -6.729f-5     -4.90267f-5      -9.61766f-5   -3.5009f-5\n",
       " -4.13733f-5   -5.4723f-5    -6.30586f-5   …  -7.56363f-5   -7.03151f-5\n",
       " -4.07752f-5   -7.44998f-5   -2.99143f-5      -6.87559f-5   -4.48761f-5\n",
       " -4.07529f-5   -7.3795f-5    -3.03218f-5      -8.44117f-5   -4.7559f-5\n",
       " -4.07331f-5   -7.40703f-5   -3.02672f-5      -8.93261f-5   -8.0694f-5\n",
       " -4.08377f-5   -7.41786f-5   -3.00867f-5      -9.51799f-5   -8.67893f-5\n",
       " -4.07647f-5   -7.42176f-5   -2.97911f-5   …  -7.33452f-5   -3.0899f-5\n",
       " -4.06918f-5   -7.41843f-5   -2.96144f-5      -5.11515f-5   -1.35187f-5\n",
       " -4.0674f-5    -7.42419f-5   -2.95799f-5      -6.81776f-5    1.6358f-5\n",
       "  ⋮                                        ⋱   ⋮            \n",
       " -4.07398f-5   -7.4737f-5    -2.8834f-5    …  -8.88544f-5   -7.36312f-5\n",
       " -4.07936f-5   -7.4658f-5    -2.92193f-5      -9.10516f-5   -7.37464f-5\n",
       " -4.08897f-5   -7.44116f-5   -2.89672f-5      -9.62229f-5   -7.04723f-5\n",
       " -4.10251f-5   -7.46998f-5   -3.04097f-5      -9.38459f-5   -6.98376f-5\n",
       " -4.43103f-5   -5.93359f-5    2.10777f-6      -0.000100589  -6.41148f-5\n",
       " -5.46047f-5   -2.61976f-5    1.51112f-5   …  -0.000102291  -5.46228f-5\n",
       " -5.95136f-5   -5.97623f-5   -1.07398f-5      -6.9017f-5    -4.34573f-5\n",
       " -5.51424f-5   -0.000116733  -5.64038f-6      -0.000108447  -6.94766f-5\n",
       " -0.000102808  -5.95292f-5   -9.59885f-5      -7.24105f-5   -3.9881f-5\n",
       " -7.02176f-5   -4.5098f-5    -5.54949f-5      -7.27626f-5   -7.59597f-5\n",
       " -1.95868f-5   -2.49121f-5   -4.19403f-5   …  -3.92628f-5   -2.0564f-5\n",
       "  8.07342f-6    5.38987f-5    2.09411f-5      -4.65041f-5   -2.37624f-5\n",
       "\n",
       "[:, :, 3, 2] =\n",
       " 2.73865f-5  0.000151745  1.06893f-5   …  -1.60114f-5   -7.98573f-5\n",
       " 7.76297f-5  0.000310572  7.41758f-5       3.13764f-5   -0.00010596\n",
       " 6.44575f-5  0.000282482  0.000186302     -1.14546f-5   -4.33252f-5\n",
       " 7.4305f-5   0.000317008  0.000215197      0.000130686  -8.01988f-5\n",
       " 6.35211f-5  0.000307443  0.000221151      0.00016079   -1.76408f-5\n",
       " 6.39584f-5  0.000299044  0.000203505  …   0.000116336  -2.14815f-5\n",
       " 6.39051f-5  0.000311179  0.000199358      0.000102201  -5.27313f-5\n",
       " 6.36827f-5  0.000310359  0.000197949      9.19954f-5    1.23588f-5\n",
       " 6.37383f-5  0.000310357  0.000198509      0.000120045   1.4879f-5\n",
       " 6.37357f-5  0.00031059   0.00019874       0.000112369  -2.48889f-5\n",
       " 6.36753f-5  0.000310563  0.000198516  …   0.000123678  -5.55435f-5\n",
       " 6.36849f-5  0.000310476  0.000198505      0.000162565  -2.71624f-5\n",
       " 6.36359f-5  0.000310579  0.000198233      4.66758f-5   -4.83497f-5\n",
       " ⋮                                     ⋱   ⋮            \n",
       " 6.36856f-5  0.000310848  0.000198243  …   0.000104912   2.54109f-6\n",
       " 6.36899f-5  0.00031091   0.000197996      0.000107108   3.03935f-6\n",
       " 6.38469f-5  0.000310918  0.000198074      0.000105286  -2.27665f-7\n",
       " 6.39771f-5  0.000310919  0.000201357      9.77211f-5   -1.24674f-6\n",
       " 6.54119f-5  0.00031949   0.000170364      0.000102703   1.5279f-6\n",
       " 6.37577f-5  0.000308047  0.000172112  …   0.000137893  -5.73459f-6\n",
       " 6.06516f-5  0.000338331  0.000187389      0.00011131   -3.60032f-5\n",
       " 5.39592f-5  0.000328066  0.000204723      9.27049f-5    1.0591f-5\n",
       " 9.47048f-5  0.000285823  0.000281217      0.000158191  -7.94595f-7\n",
       " 6.79777f-5  0.000270328  0.000272708      9.08524f-5   -5.62868f-5\n",
       " 5.93014f-5  0.000207716  0.000201933  …   8.74124f-5    5.66261f-5\n",
       " 3.68582f-5  0.000189293  0.000160308      0.000177112   0.000133139\n",
       "\n",
       "[:, :, 1, 3] =\n",
       " -2.16105f-5  -8.35043f-5  -7.9076f-5    …  -7.50263f-5   -7.7238f-5\n",
       " -3.60382f-5  -6.76369f-5  -8.2799f-5       -0.000110245  -4.76298f-5\n",
       " -7.53462f-5  -7.67411f-5   7.81532f-6      -8.01189f-5   -4.20999f-5\n",
       " -3.68045f-5  -3.0289f-5    3.55479f-6      -6.07568f-5   -4.89295f-5\n",
       "  4.15392f-5   2.48893f-5  -3.36414f-5      -6.43553f-5   -4.84125f-5\n",
       " -1.96472f-5  -2.3667f-6    9.48778f-6   …  -6.4839f-5    -4.81681f-5\n",
       "  1.67397f-5  -3.62215f-5  -7.22582f-5      -6.50221f-5   -4.79901f-5\n",
       "  3.24304f-6  -9.08764f-5  -8.09402f-5      -6.48421f-5   -4.76702f-5\n",
       "  6.91253f-6  -3.94287f-5   1.5309f-6       -6.46683f-5   -4.76774f-5\n",
       "  3.66995f-6  -3.25227f-5   1.45656f-5      -6.44996f-5   -4.75979f-5\n",
       "  3.76263f-5  -3.16369f-5  -8.9659f-6    …  -6.44233f-5   -4.75656f-5\n",
       "  7.23833f-5  -1.9663f-5    2.65112f-5      -6.44401f-5   -4.75815f-5\n",
       "  6.91421f-5  -1.51567f-5   6.61733f-6      -6.43192f-5   -4.75487f-5\n",
       "  ⋮                                      ⋱   ⋮            \n",
       "  5.21631f-5  -2.4412f-5   -4.44278f-5   …  -5.5688f-5    -4.78093f-5\n",
       "  4.22956f-5  -5.18615f-5  -4.45975f-5      -5.82293f-5   -4.77734f-5\n",
       "  5.11633f-5  -2.23315f-5  -4.13488f-5      -7.11198f-5   -4.90462f-5\n",
       "  2.20516f-5  -2.23474f-5  -6.3585f-5       -7.23331f-5   -5.25382f-5\n",
       "  3.81797f-5  -8.0906f-5   -0.000111363     -6.0927f-5    -4.82865f-5\n",
       "  2.52593f-5  -7.75487f-5  -0.000114476  …  -5.51706f-5   -5.50745f-5\n",
       "  3.39888f-5  -9.16346f-5   1.2107f-5       -7.04947f-5   -5.92379f-5\n",
       "  1.51313f-5  -7.53335f-5  -2.67173f-5      -0.00010866   -8.21985f-5\n",
       " -2.55615f-5  -9.65669f-5  -1.13797f-5      -9.62284f-5   -5.87834f-5\n",
       " -2.61384f-5  -7.48829f-5  -1.15272f-5      -5.46912f-5   -7.21323f-5\n",
       "  2.25034f-5   1.46328f-6  -1.55519f-5   …  -3.69122f-5   -2.9118f-5\n",
       " -4.47675f-5  -6.00186f-5  -7.19464f-5      -7.34513f-5   -9.36611f-5\n",
       "\n",
       "[:, :, 2, 3] =\n",
       " -1.20829f-5  -3.44187f-5  -6.48166f-5   …  -5.55683f-5    5.15908f-5\n",
       " -1.51494f-5   3.12347f-5  -1.88437f-5       1.69504f-7    3.18367f-5\n",
       " -2.75328f-5  -2.54553f-5  -1.24702f-5       2.99268f-5    4.02467f-6\n",
       " -1.86673f-6  -8.93276f-5  -7.18252f-6       2.23245f-5    6.46236f-6\n",
       "  1.02887f-5  -7.22118f-5   5.15281f-5       3.53337f-5    7.98854f-6\n",
       " -1.20871f-5  -4.5546f-5   -4.20673f-5   …   3.48797f-5    8.16732f-6\n",
       " -2.84118f-5  -3.79056f-5  -5.01528f-5       3.49546f-5    8.44525f-6\n",
       " -1.24088f-5  -2.88119f-5  -7.35906f-5       3.54385f-5    8.54695f-6\n",
       "  6.27211f-6  -9.13757f-5  -6.10443f-5       3.57039f-5    8.55637f-6\n",
       " -1.71217f-5  -5.48458f-5   3.13971f-5       3.60406f-5    8.50611f-6\n",
       " -5.34297f-5  -1.27111f-5  -7.1954f-5    …   3.59346f-5    8.50787f-6\n",
       " -5.64978f-5  -2.19088f-5  -0.00013176       3.60124f-5    8.51757f-6\n",
       " -4.30186f-5  -3.14454f-6  -0.00013917       3.61444f-5    8.55093f-6\n",
       "  ⋮                                      ⋱   ⋮            \n",
       " -3.99227f-5  -2.29616f-5  -0.000190479  …   3.96499f-5    9.46505f-6\n",
       "  1.83587f-6  -2.94499f-5  -8.16188f-5       4.29325f-5    8.5292f-6\n",
       "  1.36002f-5  -1.06246f-6  -5.04429f-5       4.58292f-5    8.04929f-6\n",
       "  2.62221f-5   3.87599f-5  -8.71339f-5       4.26723f-5    1.09489f-5\n",
       " -1.42928f-6   7.58189f-6  -0.000114575      4.74388f-5    1.92588f-5\n",
       " -1.61591f-5  -2.8374f-5   -5.23662f-5   …   5.89826f-5    1.35491f-5\n",
       " -7.38329f-6  -1.22022f-5  -6.56446f-5       5.98817f-5    1.43424f-5\n",
       " -2.44211f-5   2.98701f-5  -8.56064f-5       3.18937f-5    3.22685f-5\n",
       " -2.58853f-5   1.08558f-5  -8.70812f-5       2.43338f-5    1.81639f-5\n",
       "  1.34114f-5   4.40468f-5   6.33152f-5       6.51587f-5    3.74657f-5\n",
       "  1.50903f-6   7.92831f-6   5.54551f-5   …   0.000111319   2.00983f-5\n",
       "  3.49323f-5   6.11154f-5  -7.33975f-6       6.39575f-5   -1.45801f-5\n",
       "\n",
       "[:, :, 3, 3] =\n",
       " 0.000114856  0.000129356  9.84425f-5   …  0.000114586  6.99987f-5\n",
       " 0.000156963  0.000123269  0.0001475       0.000155225  2.5068f-5\n",
       " 0.000178512  0.00017201   0.000156219     0.000180882  2.79215f-5\n",
       " 9.159f-5     0.000196181  0.000137817     0.000167142  3.66885f-5\n",
       " 4.32415f-5   0.000220064  9.16639f-5      0.000160744  3.72927f-5\n",
       " 0.000148133  0.000211726  0.000156132  …  0.000161435  3.7583f-5\n",
       " 0.000105262  0.000214413  0.000123043     0.000161698  3.76027f-5\n",
       " 0.000164281  0.000189817  0.00014359      0.000162149  3.77744f-5\n",
       " 0.000132893  0.000203042  0.000153951     0.000162424  3.77109f-5\n",
       " 0.000120615  0.00020989   2.12268f-5      0.000162535  3.7766f-5\n",
       " 0.00015903   0.000196047  0.000101136  …  0.000162472  3.77775f-5\n",
       " 0.000171528  0.000174384  0.000103045     0.000162328  3.77172f-5\n",
       " 0.000206319  0.000178037  0.000150326     0.000162582  3.77807f-5\n",
       " ⋮                                      ⋱  ⋮            \n",
       " 0.000168988  0.00011505   0.000210331  …  0.000169788  3.82576f-5\n",
       " 0.000178     0.00014706   0.000172251     0.000166719  3.65529f-5\n",
       " 0.000146535  9.67606f-5   2.74498f-5      0.000168271  3.56354f-5\n",
       " 0.000126095  0.000124191  9.8459f-5       0.000179073  3.98457f-5\n",
       " 0.000138754  0.000133086  0.000120862     0.000177465  5.76078f-5\n",
       " 0.000155326  0.000158921  0.000172378  …  0.00016448   2.66316f-5\n",
       " 0.000158727  0.000184439  0.000119737     0.000112746  4.02413f-5\n",
       " 0.000169953  0.000167882  0.000180759     0.000163501  5.53447f-5\n",
       " 0.000163269  0.000166867  0.000148888     0.000122439  5.59512f-5\n",
       " 0.000125954  0.000196801  0.000151784     0.000137396  1.63312f-5\n",
       " 0.000120269  0.000145948  9.4141f-5    …  5.39039f-5   1.86561f-5\n",
       " 6.04644f-5   4.91805f-5   7.7549f-5       3.74717f-5   1.38229f-6\n",
       "\n",
       ";;;; … \n",
       "\n",
       "[:, :, 1, 14] =\n",
       " 6.70708f-5  -4.35431f-5   3.32674f-5   …   8.00169f-5    1.61977f-5\n",
       " 6.64542f-5  -1.41047f-5   3.57298f-5      -6.59677f-5   -6.95411f-5\n",
       " 9.00274f-5   2.01356f-5   0.000100545     -6.61008f-5   -7.42784f-5\n",
       " 6.35204f-5   6.22027f-6   0.000119301     -1.58301f-5   -5.38171f-5\n",
       " 6.96026f-5   4.18945f-6   6.94332f-5      -1.61105f-5   -3.55592f-5\n",
       " 7.87523f-5   1.15502f-5   7.05416f-5   …  -2.36447f-5   -4.02226f-5\n",
       " 8.19573f-5   1.65716f-5   6.65357f-5      -2.06277f-5   -4.84426f-5\n",
       " 7.62226f-5   6.6775f-6    6.81168f-5       6.73837f-6   -3.42733f-5\n",
       " 7.7712f-5   -3.23526f-6   6.52062f-5       2.01762f-5    7.79069f-6\n",
       " 7.6517f-5    2.69041f-6   9.15499f-5      -3.61625f-5   -1.42288f-6\n",
       " 7.62477f-5   1.39885f-5   9.62602f-5   …   5.95071f-8   -3.8777f-5\n",
       " 7.69104f-5   7.74876f-6   8.76305f-5       0.000189313   3.14906f-6\n",
       " 7.65316f-5   1.69582f-5   8.10704f-5       7.52016f-5   -9.04005f-5\n",
       " ⋮                                      ⋱   ⋮            \n",
       " 7.83386f-5   5.45591f-6   7.54939f-5   …  -7.20914f-5   -7.30475f-5\n",
       " 7.75696f-5   1.44493f-5   9.01507f-5      -3.93053f-5   -4.76841f-5\n",
       " 7.63531f-5   1.13787f-5   8.12286f-5      -4.38737f-5   -2.70955f-5\n",
       " 7.66549f-5   1.2934f-5    8.20443f-5      -7.72037f-5   -5.89378f-5\n",
       " 7.57973f-5   1.86082f-5   7.54298f-5      -3.50618f-5   -4.90297f-5\n",
       " 7.08781f-5   3.13184f-5   5.00358f-5   …  -1.59153f-5   -5.01539f-5\n",
       " 6.64758f-5   1.24835f-5   4.58559f-5      -1.2557f-5    -1.9189f-5\n",
       " 7.08666f-5  -7.46809f-6   6.1431f-5       -3.23467f-5   -3.87939f-5\n",
       " 9.77444f-5  -2.13324f-6   4.54589f-5      -2.60054f-5   -6.10918f-5\n",
       " 7.76855f-5   2.61209f-5   1.23152f-5       3.35221f-6   -3.72541f-5\n",
       " 5.10992f-5   5.29142f-5   7.70989f-5   …   9.31937f-7   -5.26491f-5\n",
       " 6.10297f-5   7.7843f-5   -7.08274f-6       2.87812f-6   -1.19121f-5\n",
       "\n",
       "[:, :, 2, 14] =\n",
       "  2.55789f-5  -7.25238f-5    1.96626f-5  …   1.80136f-5  -1.7169f-5\n",
       " -1.4005f-5   -0.00010901   -2.84568f-5      2.61097f-6  -5.21879f-5\n",
       " -4.49869f-5  -0.000150959  -5.64428f-5      1.07534f-5   1.38789f-5\n",
       " -2.412f-5    -0.000143084  -4.14222f-5      1.79985f-5  -2.08734f-5\n",
       " -1.39675f-5  -0.000142808  -4.70393f-5      3.31443f-5  -1.83478f-5\n",
       " -1.1929f-5   -0.000129892  -4.18791f-5  …   4.2403f-5    2.02293f-5\n",
       " -1.14427f-5  -0.000124958  -2.94813f-5      1.41808f-5   1.27464f-5\n",
       " -1.6836f-5   -0.000125893  -4.47067f-5      7.69052f-5   2.91456f-5\n",
       " -3.70922f-6  -0.000156278  -3.47042f-5      9.31527f-5   5.06084f-5\n",
       " -1.3467f-5   -0.000149953  -3.66733f-5      0.00014476   5.78656f-5\n",
       " -1.62178f-5  -0.000146489  -2.10706f-5  …   6.93437f-5  -8.19695f-6\n",
       " -1.5805f-5   -0.00014484   -3.13996f-5      6.29337f-5   9.20438f-6\n",
       " -1.56194f-5  -0.000133334  -1.97942f-5      7.13084f-5  -3.32711f-6\n",
       "  ⋮                                      ⋱   ⋮           \n",
       " -6.28895f-6  -0.000147198  -1.32574f-5  …   2.4857f-5    4.38779f-5\n",
       " -1.47849f-5  -0.000135296  -1.65774f-5      7.17875f-6   1.36138f-5\n",
       " -1.59382f-5  -0.000130641  -1.9606f-5       3.56201f-6   2.07422f-5\n",
       " -1.41104f-5  -0.000129262  -2.23847f-5     -1.42841f-5   4.26517f-5\n",
       " -1.34523f-5  -0.000124965  -2.74897f-5      3.82724f-5   1.26586f-5\n",
       " -1.78448f-5  -0.000124673  -1.26002f-5  …   1.75465f-5   3.83163f-7\n",
       " -2.17559f-5  -0.000123757  -2.72437f-5      3.69619f-5  -1.3489f-6\n",
       " -6.37573f-6  -0.000132305   2.96434f-6     -3.20073f-5   1.02919f-5\n",
       " -4.65554f-6  -0.000150562  -1.2502f-5       5.02001f-5  -6.57245f-6\n",
       " -5.10079f-5  -8.5131f-5    -5.12425f-5      2.09625f-5   1.61198f-5\n",
       " -6.4386f-5   -7.48918f-5   -8.21372f-6  …  -1.27099f-5   4.46349f-6\n",
       " -2.46737f-5  -2.77048f-5   -6.5563f-5      -1.51367f-5   1.86674f-5\n",
       "\n",
       "[:, :, 3, 14] =\n",
       " -2.64771f-5  1.46032f-5   6.61181f-6   …   2.1497f-5    -6.94027f-6\n",
       "  5.56026f-5  0.000173386  0.000148315      7.55543f-6   -2.06395f-6\n",
       "  4.19429f-5  0.000197214  0.000145907      1.65132f-5   -3.22805f-5\n",
       "  3.33838f-5  0.000134694  0.000115297      2.24048f-5   -2.60586f-5\n",
       "  2.26982f-5  0.000105468  0.000125309     -1.07872f-5   -2.349f-5\n",
       "  3.34371f-5  0.000118402  0.000111034  …   1.02099f-5    1.16125f-5\n",
       "  3.53356f-5  0.000107768  0.000124005      3.26469f-6    1.53369f-5\n",
       "  3.33275f-5  0.000114783  0.000139337      7.00377f-6   -4.29485f-6\n",
       "  2.23597f-5  0.000111409  0.000141101     -1.76748f-5   -1.71018f-5\n",
       "  2.51024f-5  0.000126302  0.000127429     -3.15435f-5   -1.75256f-5\n",
       "  2.77199f-5  0.000123359  0.000133988  …  -5.64766f-5   -2.15325f-5\n",
       "  3.01796f-5  0.00012235   0.000112286      2.54935f-5    4.90906f-5\n",
       "  2.93961f-5  0.000119061  0.000102301      0.000109645   3.69487f-5\n",
       "  ⋮                                     ⋱   ⋮            \n",
       "  2.05992f-5  0.000119022  0.000101723  …   3.63709f-5   -4.55013f-6\n",
       "  3.04329f-5  0.000120791  0.000106088      6.49607f-6   -2.13726f-6\n",
       "  2.9054f-5   0.000115708  0.000106309      8.31373f-6   -3.34191f-6\n",
       "  2.83988f-5  0.000112195  0.000102361      1.83565f-5   -1.70737f-5\n",
       "  3.33847f-5  0.000112698  9.86093f-5       2.92587f-5   -7.53752f-6\n",
       "  3.79329f-5  0.000105419  0.000120149  …   1.7202f-5    -7.87997f-6\n",
       "  4.21819f-5  9.84165f-5   0.000109695      8.55055f-6   -4.31053f-6\n",
       "  4.17526f-5  0.000119811  8.88735f-5       2.59971f-5   -1.48745f-5\n",
       "  4.11883f-5  0.000110717  0.000126283      2.13639f-5   -3.67603f-5\n",
       "  4.73292f-5  0.000128686  7.04317f-5      -2.18774f-6   -4.89802f-5\n",
       "  9.17995f-5  7.57842f-5   5.58157f-5   …   4.40616f-5   -3.16424f-6\n",
       "  3.28386f-5  7.65806f-5   8.57805f-5       2.52817f-5    2.13476f-5\n",
       "\n",
       "[:, :, 1, 15] =\n",
       "  4.10028f-5  -2.69024f-5  -4.66038f-5  …  -5.16205f-5  -7.28818f-5\n",
       " -1.22019f-5  -4.07496f-5  -1.58285f-5     -8.01354f-6  -9.13823f-5\n",
       "  6.03135f-6   4.96238f-6   3.52544f-5      4.33749f-5  -4.02522f-5\n",
       "  1.5787f-5   -6.42206f-5   2.5769f-6       4.91416f-6  -3.61949f-5\n",
       " -1.73055f-5   2.61469f-5   5.45299f-5     -2.04309f-5  -2.07787f-5\n",
       "  1.46175f-5  -1.62242f-5   4.02522f-5  …  -2.84268f-5  -5.61994f-6\n",
       " -1.89416f-5   7.73078f-5   7.15093f-5     -5.04987f-5  -2.09098f-5\n",
       " -2.47999f-6  -9.35392f-5   1.92245f-5     -6.9086f-5   -1.95384f-5\n",
       "  2.851f-6    -8.66319f-5  -9.20303f-5     -5.09715f-5  -1.87852f-5\n",
       "  3.77287f-5  -1.72717f-5  -4.6777f-5      -3.00817f-5  -1.50623f-5\n",
       "  1.61244f-5   1.6965f-5    4.51271f-5  …  -1.472f-5    -2.23939f-5\n",
       "  2.10862f-5  -1.64394f-5   4.58465f-5     -2.46033f-5  -2.17869f-5\n",
       "  4.55451f-6  -3.48045f-5   2.24183f-5     -5.03214f-5  -2.03082f-5\n",
       "  ⋮                                     ⋱   ⋮           \n",
       "  2.93324f-5  -1.8233f-5    3.24327f-5  …  -2.65805f-5  -2.22023f-5\n",
       " -3.90775f-6  -1.75968f-5   3.144f-6        5.41935f-7  -3.09341f-5\n",
       " -1.76571f-5  -2.37877f-5   1.68456f-5     -1.08798f-6  -1.78292f-5\n",
       "  6.0119f-6   -9.21352f-6   3.12148f-5     -2.22175f-5  -2.33304f-5\n",
       "  3.77012f-6  -2.17722f-6   2.98691f-5     -4.82824f-6  -3.74149f-5\n",
       "  1.89695f-5  -4.92001f-6  -2.29885f-5  …   3.86394f-5  -4.41595f-5\n",
       "  1.02307f-5  -3.25572f-5   1.70608f-5      1.73021f-5  -3.27407f-5\n",
       " -1.45889f-5  -9.11792f-6   5.58109f-5     -2.27552f-5  -2.78984f-5\n",
       "  2.10482f-5  -2.69839f-5   3.24222f-6     -1.57943f-5  -3.45357f-5\n",
       "  3.42022f-5   2.44903f-5   1.54482f-5      4.54689f-6  -3.54966f-6\n",
       "  2.41481f-5   5.77745f-5   3.65909f-5  …   2.72423f-5   2.23831f-5\n",
       "  4.50525f-5   3.55812f-5   2.70409f-5      4.29863f-5  -3.74335f-6\n",
       "\n",
       "[:, :, 2, 15] =\n",
       " -4.45002f-6  -9.85176f-7  -1.5482f-5   …  -7.38723f-6  -2.19463f-6\n",
       " -2.46445f-5  -5.83361f-5  -5.08225f-5     -8.47914f-6  -2.15647f-6\n",
       " -4.466f-5    -6.36562f-5  -1.28626f-5     -3.97239f-5  -3.35098f-5\n",
       "  1.60607f-5  -4.47543f-5  -1.61127f-5     -2.74987f-5  -4.53263f-5\n",
       "  1.26616f-5  -1.01376f-5   6.46557f-5      3.09162f-5  -3.05916f-5\n",
       " -1.51587f-5   6.46445f-5   5.26136f-5  …   3.13157f-5  -3.46449f-5\n",
       " -1.63962f-5   6.88188f-6   3.15964f-5      4.67755f-5  -4.89233f-5\n",
       " -2.97808f-5  -4.66599f-5   5.40253f-5      2.93854f-5  -2.8454f-5\n",
       " -2.98187f-6  -3.8252f-5   -9.19849f-5      4.58173f-5  -3.22461f-5\n",
       " -4.02265f-5  -3.8616f-5    9.4324f-6       5.00501f-5  -2.34925f-5\n",
       " -2.82602f-5   7.83226f-7  -1.08834f-5  …   3.92818f-6  -3.73459f-5\n",
       " -4.31367f-5  -2.18947f-5   3.52636f-5     -8.66988f-7  -2.41203f-5\n",
       " -4.00613f-5  -5.10084f-5  -2.0352f-5       3.76059f-6  -4.252f-5\n",
       "  ⋮                                     ⋱   ⋮           \n",
       " -1.73276f-5  -2.53624f-5  -9.98077f-6  …   5.34301f-5  -3.80035f-5\n",
       " -2.52995f-5  -5.64416f-5  -1.99841f-5      4.34563f-5  -3.44164f-5\n",
       " -4.44191f-5  -2.07359f-5  -1.38924f-5      7.2192f-6   -4.91103f-5\n",
       " -2.89451f-5  -1.71804f-5   1.61144f-5     -2.62057f-5  -3.36461f-5\n",
       " -2.17657f-5  -1.66886f-5   2.46344f-5     -3.14844f-5  -3.18508f-5\n",
       " -8.30708f-6  -2.05804f-5  -3.77465f-6  …   1.28775f-5  -5.28933f-5\n",
       "  1.01593f-5  -1.50049f-5  -2.16811f-5      2.984f-5    -4.61216f-5\n",
       " -3.85653f-5  -1.20717f-5   3.29533f-5     -2.40632f-6  -3.73933f-5\n",
       " -2.82845f-6   2.11294f-6   2.09605f-5      3.35743f-5  -2.65686f-5\n",
       "  7.11516f-6   1.87458f-5  -2.02861f-5      2.65295f-5  -2.91006f-5\n",
       "  7.75653f-7   1.21157f-5  -2.22847f-5  …   3.22124f-5  -3.39219f-5\n",
       "  2.20615f-5   6.02439f-5   0.00011526      5.80309f-5   6.19338f-5\n",
       "\n",
       "[:, :, 3, 15] =\n",
       " -2.36781f-5  4.79951f-5    3.57622f-5   …  -2.04858f-6   -2.20805f-5\n",
       "  1.73522f-5  0.000119463   8.22022f-5       9.78277f-5    8.16296f-6\n",
       "  2.43163f-5  0.000119405   0.000146881      8.69201f-5    6.83724f-5\n",
       " -1.60515f-5  0.000177014   0.000149675      9.35102f-5    4.42018f-5\n",
       "  9.7064f-6   0.000115596  -2.31782f-5       9.00723f-5    3.58901f-5\n",
       "  5.65761f-5  0.000132295   4.72625f-5   …   7.8761f-5     4.35416f-5\n",
       "  4.85976f-5  5.19405f-5   -1.20325f-5       7.46897f-5    3.20501f-5\n",
       "  1.44351f-5  0.00013485    1.15504f-5       5.32755f-5    3.93976f-5\n",
       "  3.35288f-5  0.000110016   7.9369f-5        6.19274f-5    3.76008f-5\n",
       "  1.20576f-5  8.57609f-5    7.65575f-5       7.0039f-5     3.54817f-5\n",
       "  2.50044f-5  0.000102989   9.64722f-5   …   7.00736f-5    2.62352f-5\n",
       "  1.97379f-5  0.000123294   6.99113f-5       7.4476f-5     4.5993f-5\n",
       "  1.43533f-5  0.00012459    1.69451f-5       7.24682f-5    5.04143f-5\n",
       "  ⋮                                      ⋱   ⋮            \n",
       "  3.37899f-5  9.83981f-5    4.87788f-5   …   8.92954f-5    2.48134f-5\n",
       "  1.3594f-5   5.23387f-5    7.67201f-5       5.4746f-5     3.66147f-5\n",
       "  1.49267f-5  6.85085f-5    9.35655f-5       5.56366f-5    5.1454f-5\n",
       "  5.20332f-6  0.000102404   0.000119971      6.77665f-5    2.31267f-5\n",
       "  4.39928f-5  0.000107514   8.94695f-5       0.000115006   2.97595f-5\n",
       "  1.63847f-5  6.28417f-5    0.000127863  …   0.000105801   3.7257f-5\n",
       "  1.43877f-5  0.000113803   0.000115647      8.22286f-5    5.4852f-5\n",
       "  2.70072f-5  0.000101429   0.000112462      7.92897f-5    4.23084f-5\n",
       "  3.61566f-6  0.000114356   0.000107653      9.67621f-5    2.22914f-5\n",
       " -6.92162f-6  3.96854f-5    8.37858f-5       6.34713f-5    6.23956f-5\n",
       "  4.70368f-6  4.754f-5      8.84166f-5   …   4.44709f-5    5.72779f-6\n",
       "  3.02977f-5  8.45886f-5    8.09126f-5       5.40938f-5    5.79063f-5\n",
       "\n",
       "[:, :, 1, 16] =\n",
       " 6.01403f-5   5.4206f-5    8.65207f-5  …   8.50909f-5   3.69608f-5\n",
       " 8.37488f-5   7.12359f-5   9.60784f-5      1.4897f-5   -2.67102f-5\n",
       " 5.2239f-5    6.26997f-5   3.32446f-5     -4.07252f-5  -1.46275f-5\n",
       " 6.19792f-5   9.65612f-5   7.98688f-5     -2.48623f-5   2.51997f-5\n",
       " 0.000112097  7.93516f-5   2.18129f-6      4.45582f-5   8.90055f-5\n",
       " 7.22495f-5   9.98832f-5   7.44314f-5  …   8.33464f-6   8.20371f-5\n",
       " 7.82589f-5   6.55466f-5   4.36954f-5      1.44448f-5   8.03299f-5\n",
       " 6.01494f-5   8.16989f-5   2.68222f-5     -3.06956f-5   7.18817f-5\n",
       " 8.08572f-5   8.84565f-5   6.03886f-5     -1.91466f-5   8.81229f-5\n",
       " 7.66295f-5   0.000100219  7.83373f-5      2.34554f-5   8.88388f-5\n",
       " 6.76982f-5   7.48964f-5   7.48163f-5  …   1.5666f-5    9.07856f-5\n",
       " 6.92407f-5   6.43852f-5   6.43941f-5     -3.32836f-5   9.81512f-5\n",
       " 7.14219f-5   6.7874f-5    6.37393f-5     -4.03195f-5   7.83635f-5\n",
       " ⋮                                     ⋱   ⋮           \n",
       " 7.64916f-5   7.13945f-5   8.64674f-5  …   6.31373f-6   5.24787f-5\n",
       " 7.54828f-5   8.80476f-5   8.36569f-5      1.02098f-5   5.1359f-5\n",
       " 5.20037f-5   7.4374f-5    6.56704f-5      9.57375f-6   5.74979f-5\n",
       " 5.8794f-5    4.73743f-5   6.43985f-5      1.56779f-5   3.45598f-5\n",
       " 7.12483f-5   6.31327f-5   5.94819f-5      5.87964f-5   5.61455f-6\n",
       " 7.45342f-5   6.74047f-5   6.07955f-5  …   3.20473f-5  -4.57145f-6\n",
       " 7.63991f-5   5.7203f-5    6.88126f-5      2.44082f-5  -9.17596f-6\n",
       " 8.16543f-5   7.12786f-5   6.51722f-5      2.68683f-5  -1.24994f-6\n",
       " 7.71741f-5   8.73723f-5   7.51848f-5     -1.21765f-5  -2.70579f-5\n",
       " 7.34008f-5   6.4944f-5    5.3472f-5       1.0481f-5   -2.82722f-5\n",
       " 9.84684f-5   8.55549f-5   5.49043f-5  …   2.08289f-5   2.0169f-6\n",
       " 4.50039f-5   7.8665f-5    1.72091f-5     -2.00433f-5  -7.79162f-6\n",
       "\n",
       "[:, :, 2, 16] =\n",
       "  6.24778f-6  -1.57775f-5  -8.50136f-6   …  -4.90708f-6   -4.45121f-5\n",
       "  3.40317f-5   3.87698f-5   4.1814f-5       -2.33932f-5   -2.90903f-6\n",
       " -2.06793f-5  -1.44748f-5   6.72726f-6      -2.27617f-5    9.07968f-6\n",
       " -1.20907f-5  -5.84542f-5   1.43327f-5       4.54254f-5    3.56616f-5\n",
       " -3.06852f-5  -6.00524f-5   5.19186f-6       8.45517f-5   -7.59645f-6\n",
       " -6.86135f-5  -2.27301f-5  -4.5304f-5    …   4.46616f-5    1.79248f-5\n",
       " -2.23633f-5  -3.43489f-5  -5.74854f-5       0.000171415   3.87697f-5\n",
       " -4.88989f-5  -1.54379f-5  -6.5558f-5        0.000116144   3.90961f-5\n",
       " -2.48757f-5  -2.70315f-5  -4.65195f-5       7.26508f-5    1.78313f-5\n",
       " -2.30732f-5  -3.00681f-5  -4.98138f-5       4.7883f-5     3.75809f-5\n",
       " -2.54354f-5  -2.49737f-5  -4.04428f-5   …   9.07939f-5    4.2552f-5\n",
       " -2.36138f-5  -3.43834f-5  -4.06927f-5       4.09832f-5    6.89033f-5\n",
       " -2.37817f-5  -2.99825f-5  -5.41956f-5       3.60748f-5    3.71922f-5\n",
       "  ⋮                                      ⋱   ⋮            \n",
       " -1.589f-5    -1.92021f-5  -3.35511f-5   …   6.81137f-5    1.20143f-5\n",
       " -1.3769f-5   -3.07265f-5  -4.44163f-5       2.62358f-5    2.75145f-5\n",
       " -2.51401f-5  -2.29331f-5  -5.66609f-5       3.9297f-5     3.43645f-5\n",
       " -2.15902f-5  -3.66717f-5  -4.86507f-5       4.42152f-5    3.7341f-5\n",
       " -1.12128f-5  -3.95041f-5  -4.30264f-5       2.86606f-5    2.59971f-5\n",
       " -1.75265f-5  -5.02295f-5  -4.30032f-5   …   2.11748f-5    1.7213f-5\n",
       " -2.91228f-5  -3.89568f-5  -4.13232f-5       9.87905f-6    3.33109f-5\n",
       " -3.02107f-5  -3.96304f-5  -5.10355f-5       8.89716f-6    2.78087f-5\n",
       " -2.98807f-5  -2.9208f-5   -5.40637f-5      -2.24814f-6    2.43057f-5\n",
       " -3.12941f-5  -4.71896f-5  -0.000104729      3.18021f-5   -6.83029f-6\n",
       " -2.47811f-5  -3.69174f-5  -7.44355f-5   …   6.44568f-6    3.2352f-6\n",
       " -5.30507f-5   2.32859f-5  -3.8939f-5        9.56324f-6    1.978f-5\n",
       "\n",
       "[:, :, 3, 16] =\n",
       " -3.73369f-5   -9.96694f-5   -0.000114845  …  -0.000139027  -9.7165f-5\n",
       "  3.77599f-5   -4.56908f-5   -7.69661f-5      -6.41347f-5   -1.48528f-6\n",
       "  8.60608f-5   -1.81004f-6   -5.40731f-5       2.90006f-5   -6.23951f-5\n",
       "  0.000123535   4.88353f-5   -8.79653f-6      -3.24104f-5   -3.99369f-5\n",
       "  0.000127528   0.00010482    5.67931f-5      -0.000139323  -2.01438f-5\n",
       "  0.00011553    0.000104775   7.54762f-6   …  -0.000105743  -5.88535f-5\n",
       "  7.93328f-5    7.69583f-5   -4.62132f-7      -0.000104542  -2.75026f-5\n",
       "  7.53077f-5    4.80737f-5    4.90569f-6      -7.59298f-5   -3.00498f-5\n",
       "  6.53098f-5    5.69206f-5    2.59192f-5      -0.000107438  -2.42522f-5\n",
       "  6.57716f-5    4.79929f-5    2.84254f-5      -6.97472f-5   -1.07939f-5\n",
       "  6.53133f-5    6.26773f-5    3.40889f-5   …  -3.6668f-5     1.75043f-6\n",
       "  7.06088f-5    6.81612f-5    3.64833f-5      -3.26735f-5   -2.85605f-5\n",
       "  7.19502f-5    5.92541f-5    3.30745f-5      -6.19025f-5   -6.71812f-5\n",
       "  ⋮                                        ⋱   ⋮            \n",
       "  5.40109f-5    2.24444f-5    3.95827f-5   …  -6.28608f-5   -1.46534f-5\n",
       "  5.7967f-5     3.04487f-5    2.76323f-5      -6.67642f-5    1.85242f-6\n",
       "  6.93811f-5    5.29186f-5    3.23775f-5      -4.26977f-5   -2.25546f-5\n",
       "  7.67282f-5    5.37856f-5    1.1325f-5       -3.97629f-5   -2.12568f-5\n",
       "  7.51231f-5    4.14943f-5    1.23297f-5      -1.08391f-5   -1.88127f-5\n",
       "  6.3307f-5     5.75398f-5    3.65725f-5   …   5.57887f-6   -3.76543f-5\n",
       "  5.17765f-5    7.53383f-5    3.77915f-5      -1.32175f-5   -3.53261f-5\n",
       "  4.83663f-5    6.14294f-5    2.35336f-5      -1.6379f-5    -5.95045f-5\n",
       "  4.33636f-5    4.94501f-5    2.29152f-5      -3.17114f-5   -9.05067f-5\n",
       "  1.63847f-5    3.61108f-5   -3.98779f-6      -8.56016f-5   -7.17757f-5\n",
       "  1.30641f-5    4.6624f-5     4.7657f-5    …  -2.86526f-5   -1.75863f-5\n",
       "  4.73719f-5    5.76017f-5    5.92167f-5       1.34476f-5    9.88546f-6"
      ]
     },
     "execution_count": 30,
     "metadata": {},
     "output_type": "execute_result"
    }
   ],
   "source": [
    "g"
   ]
  },
  {
   "cell_type": "code",
   "execution_count": 31,
   "id": "d7f6dd68-b4be-4d76-a8b7-51c44adc0056",
   "metadata": {},
   "outputs": [
    {
     "name": "stderr",
     "output_type": "stream",
     "text": [
      "WARNING: both Losses and NNlib export \"ctc_loss\"; uses of it in module Flux must be qualified\n"
     ]
    },
    {
     "data": {
      "text/plain": [
       "(2.6952226f0, (ChainRulesCore.ZeroTangent(), Tangent{ResNet5}(input_conv = Tangent{Conv\u001b[90m{2, 4, typeof(identity), Array{Float32, 4}, Bool}\u001b[39m}(weight = [0.0033848141 0.00492214 0.0155685; 0.0019094192 0.0043721674 0.014206535; 0.0050633624 0.006268614 0.015757428;;; -0.011066678 -0.009763804 0.00187172; -0.013735583 -0.011424305 -0.00047328882; -0.010526525 -0.009302213 0.0015942054;;; -0.001088581 0.0016271224 0.011891334; -0.0050204634 -0.0012168038 0.008474737; -0.0023286804 0.00045990234 0.009934018;;;; -0.004183669 -0.007880375 -0.008217068; -0.006327441 -0.009227365 -0.0077464064; -0.0045296703 -0.00671673 -0.004411768;;; -0.02649877 -0.029833863 -0.02973304; -0.029033566 -0.03159094 -0.02957295; -0.026717253 -0.028665334 -0.025971035;;; -0.036283102 -0.040567905 -0.038424168; -0.038532212 -0.0420971 -0.03835934; -0.03484244 -0.037923675 -0.033869643;;;; -0.2046649 -0.20975651 -0.20377469; -0.22296588 -0.22449858 -0.2156485; -0.22561207 -0.22498934 -0.21568228;;; -0.13329147 -0.1358981 -0.13215306; -0.15076321 -0.14994445 -0.14385104; -0.15585412 -0.15278533 -0.14701942;;; -0.053264212 -0.055561755 -0.05349134; -0.06764335 -0.06694146 -0.06296265; -0.07525317 -0.07291517 -0.069416314;;;; … ;;;; -0.040357303 -0.035924103 -0.027794175; -0.041265205 -0.03702489 -0.027486186; -0.040705208 -0.03585031 -0.02518665;;; -0.023762964 -0.019384563 -0.014119356; -0.024076972 -0.019588415 -0.013120316; -0.023725862 -0.018199157 -0.010593646;;; -0.0100479005 -0.004294268 0.0031760752; -0.010310886 -0.0042992802 0.0038862918; -0.012944627 -0.0057075117 0.003553377;;;; 0.11591564 0.1227264 0.11814464; 0.116985984 0.12636867 0.12352211; 0.11394747 0.12446425 0.122785516;;; 0.08253478 0.0881697 0.083537586; 0.08370545 0.09173962 0.088889584; 0.08245994 0.09169584 0.09011367;;; 0.09292003 0.09855082 0.09498869; 0.09308377 0.10100339 0.0992362; 0.09173018 0.10069087 0.099969156;;;; 0.07818184 0.078798436 0.07856737; 0.0850953 0.08604065 0.08586306; 0.08553029 0.08651257 0.086038895;;; 0.079021916 0.079828866 0.080875255; 0.08515472 0.086085215 0.08722524; 0.08549555 0.08647851 0.08726735;;; 0.121528134 0.12265748 0.12285107; 0.12760031 0.1289236 0.12922771; 0.12529753 0.12664264 0.1267459],), resnet_block = Tangent{ResNetLayer}(bn1 = Tangent{BatchNorm\u001b[90m{typeof(identity), Vector{Float32}, Float32, Vector{Float32}}\u001b[39m}(μ = Float32[-0.030919254, -0.034583885, -0.0776756, -0.058739275, 0.099620305, -0.013058981, -0.11450086, -0.110142425, -0.04025222, 0.027265508, -0.022345714, -0.010312604, -0.018321171, 0.02939117, 0.028491225, -0.037788153], σ² = Float32[-0.0035497101, -0.011387349, -0.02672208, -0.052916106, 0.05442247, 0.0006923338, -0.14695081, -0.089233324, -0.040254556, 0.015759343, 0.00489536, -0.023077542, -0.011380918, 0.022103798, 0.0018210514, -0.04437377], ϵ = -0.35015184f0, γ = Float32[0.007099496, 0.022774912, 0.053444766, 0.105833255, -0.108846106, -0.001384679, 0.29390454, 0.17846838, 0.080509916, -0.031518992, -0.0097908005, 0.046155587, 0.022762077, -0.04420807, -0.0036421379, 0.08874837], β = Float32[0.03091937, 0.03458405, 0.07767603, 0.05873951, -0.09962087, 0.013059052, 0.114501506, 0.11014306, 0.040252384, -0.027265668, 0.02234584, 0.01031264, 0.018321201, -0.029391324, -0.028491363, 0.03778836]), conv1 = Tangent{Conv\u001b[90m{2, 4, typeof(identity), Array{Float32, 4}, Bool}\u001b[39m}(weight = [0.0046838466 0.002801217 0.0018315978; 0.004651184 0.0026979756 0.0020557083; 0.0040201372 0.0022319956 0.0016796011;;; 0.010930727 0.009194695 0.009255759; 0.011588749 0.01028126 0.010582875; 0.010988572 0.010157659 0.010546451;;; 0.0086465655 0.006386968 0.0049606813; 0.009069885 0.006673743 0.005266067; 0.009350765 0.0073557827 0.0064539965;;; … ;;; 0.012514562 0.010342297 0.008877264; 0.015554117 0.01319355 0.011302152; 0.018422494 0.01651921 0.014432213;;; -0.0014059446 -0.0014470862 -0.0010587436; -0.0021049683 -0.0024179833 -0.0024382272; -0.0011446476 -0.0018832461 -0.0021575163;;; 0.026776413 0.025929475 0.025458891; 0.025640873 0.025645837 0.025281077; 0.022694312 0.023431089 0.023696944;;;; 0.0056308135 0.009246243 0.009903451; 0.0054072062 0.008568981 0.008690083; 0.0053634387 0.008141559 0.008201359;;; 0.006909068 0.0066439076 0.0048556244; 0.006992176 0.006076033 0.0042020865; 0.0066522304 0.005184182 0.003321068;;; 0.026142059 0.027846742 0.028184805; 0.025178535 0.027883327 0.028183503; 0.02619753 0.027726129 0.027880853;;; … ;;; 0.027661556 0.02870717 0.028115211; 0.025936881 0.027292008 0.027812455; 0.02238024 0.0240585 0.02600367;;; 0.007524046 0.007990581 0.0085697435; 0.0074520255 0.008401162 0.009138634; 0.00785651 0.00941658 0.01021235;;; 0.006021527 0.0036133395 0.0036891303; 0.006207976 0.0026848514 0.002538126; 0.007827138 0.0026174232 0.0011471167;;;; -0.006989902 -0.009122102 -0.010582807; -0.006187575 -0.008342362 -0.010081955; -0.005915706 -0.007869821 -0.009570975;;; -0.010728154 -0.011026054 -0.010539123; -0.011409973 -0.011540115 -0.011391912; -0.009858778 -0.009958438 -0.009711829;;; -0.0039663794 -0.0021961574 -0.002720371; -0.0037846356 -0.0013885481 -0.0012893484; -0.004486011 -0.0017914163 -0.00097501226;;; … ;;; -0.019242618 -0.01706981 -0.015818331; -0.018270923 -0.015992695 -0.015163272; -0.017660892 -0.014870261 -0.014262693;;; 0.0046303356 0.004207199 0.003699087; 0.004358428 0.0037810972 0.0030917828; 0.004797358 0.0044430057 0.003719639;;; 0.0061467495 0.008902055 0.012561332; 0.004668828 0.007392577 0.0110145025; 0.004017284 0.006666625 0.009748509;;;; … ;;;; 0.015953792 0.022892479 0.023636457; 0.016628139 0.023945414 0.024701957; 0.0145538105 0.021865042 0.02307864;;; 0.009307217 0.011029151 0.012269976; 0.009790641 0.011743554 0.012558941; 0.010302648 0.011577097 0.012426381;;; 0.08322415 0.08578276 0.09127578; 0.07682183 0.079668894 0.08754683; 0.068921566 0.071447805 0.079108655;;; … ;;; 0.05956273 0.06745472 0.07277151; 0.050912578 0.06111537 0.06878913; 0.041432858 0.05226451 0.061697327;;; 0.029350284 0.031821016 0.030833501; 0.026669076 0.029589849 0.02888206; 0.021590972 0.025215873 0.025502967;;; 0.0075630043 0.014580569 0.023183087; 0.010000954 0.0150003545 0.021715805; 0.019275645 0.021807699 0.025221033;;;; -0.005055228 -0.004028436 -0.00355291; -0.0043685166 -0.002587266 -0.0024487663; -0.004242938 -0.00268156 -0.0021318563;;; -0.008181215 -0.007646714 -0.007150511; -0.008022334 -0.0069686025 -0.006213355; -0.00902531 -0.008077578 -0.007284918;;; 0.028358964 0.026315453 0.02543954; 0.02825962 0.026629213 0.02549171; 0.026779775 0.0256378 0.024313519;;; … ;;; 0.012658477 0.012360847 0.0106585035; 0.017601294 0.016632734 0.013873154; 0.013346673 0.01288445 0.010252994;;; 0.011396389 0.01196432 0.011538958; 0.014065858 0.0142013505 0.013542716; 0.011536628 0.011879227 0.011451802;;; 0.018489057 0.01928442 0.018998325; 0.010579165 0.013016352 0.014892617; 0.003925947 0.007528927 0.011687417;;;; 0.0027966546 0.009185906 -1.131848f-7; 0.0018692274 0.008724291 0.00037529442; 0.002045402 0.0089393845 0.0011517953;;; 0.009356524 0.010594173 0.010707822; 0.009949789 0.011422077 0.011500828; 0.010392891 0.012453484 0.012716627;;; 0.02240309 0.018511454 0.018065674; 0.022703078 0.018204618 0.017635712; 0.02363546 0.020463858 0.019299045;;; … ;;; 0.02351342 0.02759687 0.021887181; 0.026506476 0.029956603 0.024034241; 0.029933251 0.03362223 0.026975479;;; 0.00783776 0.011948833 0.0074725444; 0.0081126075 0.0122971665 0.008742777; 0.009707227 0.012573858 0.0094941165;;; 0.083392136 0.088410705 0.084516816; 0.09068467 0.09413106 0.088911965; 0.083401054 0.085769 0.081396535],), bn2 = Tangent{BatchNorm\u001b[90m{typeof(identity), Vector{Float32}, Float32, Vector{Float32}}\u001b[39m}(μ = Float32[-0.018935071, -0.06744428, 0.027592983, -0.06590441, 0.012801295, -0.017783212, 0.008509784, -0.091846995, 0.05032646, 0.019845378, -0.106493525, 0.08065426, -0.03903943, -0.15102836, -0.0165413, -0.049728263], σ² = Float32[-0.0023894385, -0.018316489, 0.0372683, -0.05483147, 0.0030996366, -0.027073693, 0.001187878, -0.08285409, 0.035348, 0.0039048085, -0.06377388, 0.01767173, -0.030404368, -0.14061713, -0.011098751, -0.017273076], ϵ = -0.35015202f0, γ = Float32[0.0047789314, 0.036633335, -0.07453737, 0.10966409, -0.006199269, 0.054147895, -0.0023757785, 0.16570988, -0.07069666, -0.0078097037, 0.12754901, -0.03534378, 0.06080963, 0.28123695, 0.022197742, 0.03454647], β = Float32[0.018935159, 0.067444675, -0.027593104, 0.06590463, -0.012801153, 0.017783243, -0.008509837, 0.09184772, -0.05032668, -0.019845486, 0.10649406, -0.080654256, 0.039039504, 0.15102908, 0.016541284, 0.04972863]), conv2 = Tangent{Conv\u001b[90m{2, 4, typeof(identity), Array{Float32, 4}, Bool}\u001b[39m}(weight = [-0.027806517 -0.027745482 -0.027531363; -0.029203655 -0.029199831 -0.028982284; -0.02893884 -0.02893539 -0.028711708;;; -0.016355952 -0.019034076 -0.019016499; -0.015967526 -0.018641796 -0.018622542; -0.013101461 -0.015622631 -0.015610264;;; -0.061837614 -0.066853896 -0.06595105; -0.06274266 -0.06778455 -0.06685208; -0.062165108 -0.06711713 -0.066198036;;; … ;;; -0.12763286 -0.13105024 -0.12890288; -0.12781845 -0.13124965 -0.12908247; -0.12409068 -0.12744293 -0.12534718;;; -0.00092541217 -0.0008682641 -0.00038038415; -0.00059536163 -0.0005419223 -5.1537805f-5; 0.00063741143 0.00069324503 0.0011483558;;; 0.004355111 0.0011958879 0.0012408317; 0.004406925 0.0011678651 0.001211191; 0.00505103 0.0018336338 0.001880104;;;; 0.009330788 0.009408456 0.009766498; 0.010187929 0.010310856 0.010664512; 0.010554651 0.010679241 0.011009033;;; -0.0014936584 -0.0002931049 0.0005092012; -0.0013850522 -0.00018525403 0.00061717874; -0.0019229754 -0.0007865566 -1.1964294f-5;;; 0.051562894 0.05420421 0.054439135; 0.052677087 0.055376373 0.05559621; 0.052947342 0.05561594 0.05583025;;; … ;;; 0.069827355 0.07159031 0.07198139; 0.07057004 0.072343715 0.07272806; 0.06987182 0.07161496 0.07198784;;; -0.016199602 -0.016208438 -0.015816921; -0.016352693 -0.016358119 -0.015961573; -0.016979467 -0.016988173 -0.016589789;;; -0.0109152775 -0.009416478 -0.008945132; -0.010412995 -0.008842807 -0.0083534485; -0.010390283 -0.008830224 -0.008351971;;;; 0.0469333 0.047105547 0.04659013; 0.050552137 0.050817817 0.05023689; 0.050474618 0.05074047 0.05021007;;; 0.07597454 0.08016274 0.079806685; 0.07672142 0.0809442 0.08057094; 0.07198364 0.07603384 0.075747445;;; 0.14629607 0.15125021 0.14972454; 0.1509719 0.15606627 0.15449566; 0.15051837 0.155553 0.15398583;;; … ;;; 0.21335237 0.21704002 0.21369776; 0.21549566 0.21921238 0.21581936; 0.21160182 0.21526015 0.21189737;;; 0.029077029 0.030152742 0.02966621; 0.031454984 0.032537453 0.03202602; 0.027979545 0.028990302 0.028513888;;; 0.030958187 0.033844247 0.03353305; 0.032187764 0.035196997 0.03487851; 0.03156091 0.034553867 0.034268063;;;; … ;;;; 0.007972 0.007818003 0.0074356697; 0.008944448 0.008796088 0.008395044; 0.00989626 0.009747918 0.0093900515;;; 0.0334728 0.034991715 0.035099436; 0.034078285 0.035628084 0.035741616; 0.0321651 0.03365872 0.03384733;;; 0.027849555 0.028977118 0.028510343; 0.029931698 0.031118708 0.030649066; 0.030287385 0.03145435 0.030978037;;; … ;;; 0.053859692 0.05509388 0.0534377; 0.055005774 0.05624547 0.054567445; 0.05436088 0.05558026 0.05388757;;; -0.0040414445 -0.0031738053 -0.0036552264; -0.00377094 -0.0029034666 -0.0033942196; -0.005515987 -0.0046960507 -0.005173462;;; 0.011132671 0.011613291 0.011206008; 0.011521462 0.011988647 0.011568733; 0.012051879 0.012515058 0.012118143;;;; -0.03163078 -0.031939406 -0.0316762; -0.034137905 -0.034560923 -0.03428089; -0.034460105 -0.034882966 -0.034590438;;; -0.041960385 -0.04550161 -0.04514058; -0.042108607 -0.045638017 -0.045264438; -0.03872875 -0.04207196 -0.041691985;;; -0.13596681 -0.14318657 -0.1423422; -0.13984035 -0.14715861 -0.14626624; -0.13955197 -0.146769 -0.14589177;;; … ;;; -0.1928355 -0.19714437 -0.19501008; -0.1942437 -0.19857621 -0.19641511; -0.1908453 -0.19510852 -0.19301535;;; -0.0010963042 -0.0006849849 6.254937f-6; -0.0010296102 -0.00062461325 6.6876004f-5; -0.00018793634 0.00021716792 0.000868122;;; -0.0146849705 -0.01901591 -0.018817725; -0.016254926 -0.020763217 -0.02056075; -0.01584842 -0.020329911 -0.020119917;;;; 0.018182656 0.018666463 0.018433852; 0.018558014 0.018996464 0.018735621; 0.01706486 0.017503545 0.017307635;;; 0.027831743 0.0266368 0.025938254; 0.028282778 0.027117716 0.026420718; 0.027474843 0.026415277 0.025821397;;; 0.0121069215 0.007736965 0.006012095; 0.0125843845 0.008230875 0.006505795; 0.012715273 0.0084487405 0.0067441934;;; … ;;; 0.009190398 0.0069156736 0.0038882927; 0.009443385 0.00716786 0.004115408; 0.0100149335 0.0077949963 0.004823172;;; 0.036112823 0.0371432 0.037020843; 0.038143113 0.0391728 0.039011963; 0.036666658 0.037650503 0.037499636;;; 0.03203855 0.029013224 0.02867165; 0.032177 0.029078217 0.028737852; 0.03044397 0.02736443 0.027067149],)), dense = Tangent{Dense\u001b[90m{typeof(identity), Matrix{Float32}, Vector{Float32}}\u001b[39m}(weight = Float32[0.04195155 -0.027584653 … -0.014246786 -0.061022937; 0.23865007 -0.05403358 … -0.119644016 -0.35682043; … ; 0.11011796 0.19865063 … -0.0058198953 0.0024101601; -0.024547847 0.1378072 … 0.06289482 0.2556789], bias = Float32[-0.039682597, -0.1497728, -0.11143276, -0.054698613, 0.060947143, -0.0052155983, 0.21430506, 0.034508985, -0.022945002, 0.07398612])), [6.237913f-6 3.5967347f-5 … 6.969699f-5 -1.4677025f-6; -1.5422273f-5 9.129803f-5 … 0.00010509421 5.7726185f-5; … ; -1.5422273f-5 5.8544356f-5 … 8.069367f-5 7.1933304f-5; -1.916683f-5 4.3918797f-5 … 3.564843f-5 2.9802557f-5;;; 2.8232555f-5 8.290466f-6 … 1.8278686f-5 -1.3035464f-5; 4.2469677f-5 2.1097083f-5 … 0.0001107867 2.8239041f-5; … ; 4.2469677f-5 -9.811288f-6 … 7.5421885f-5 4.1230356f-5; 1.3498007f-5 -4.1157535f-5 … -1.7390645f-5 -5.406642f-5;;; -5.6914192f-5 3.5444475f-5 … 6.423763f-5 2.3967408f-5; -0.00013381644 -7.971813f-5 … -4.8696755f-5 -2.2566528f-5; … ; -0.00013381644 -6.636727f-5 … -3.8728453f-5 -6.1634106f-5; -0.000117940275 -8.5317035f-5 … -7.632408f-5 -6.584196f-5;;;; 5.8290916f-5 5.127142f-5 … -9.3075805f-6 -1.6277996f-5; 9.165497f-5 5.6990088f-5 … 1.5355865f-5 -2.0343152f-5; … ; 9.165497f-5 5.6990088f-5 … 5.6990088f-5 1.1728207f-6; 9.885018f-5 7.853711f-5 … 7.853711f-5 2.7564292f-5;;; -3.4745837f-5 -4.6590165f-5 … -8.3024315f-5 -2.9306339f-5; -0.00012328937 -0.00017290123 … -0.00019621113 -9.9905665f-5; … ; -0.00012328937 -0.00017290123 … -0.00017290123 -0.000116081064; -0.00012294883 -0.00013862233 … -0.00013862233 -7.874206f-5;;; 2.576932f-5 -6.6673374f-6 … 2.5804527f-5 2.0757947f-5; 6.322516f-5 6.923036f-5 … 1.0809226f-5 5.7303696f-5; … ; 6.322516f-5 6.923036f-5 … 6.923036f-5 5.513784f-5; 7.303374f-5 9.045349f-5 … 9.045349f-5 5.6507488f-5;;;; 1.922117f-5 0.00010415737 … 4.9868464f-5 -1.3572899f-5; 3.9846862f-5 0.00011910912 … 7.421228f-5 1.552809f-5; … ; 4.183645f-5 0.00011451202 … 7.421228f-5 1.552809f-5; -6.396297f-6 5.4365573f-5 … 5.6572695f-5 2.6010515f-5;;; 4.4950415f-5 3.4209126f-5 … -1.0242213f-5 -1.1288015f-5; 5.8497903f-5 8.503792f-5 … -9.6953945f-6 -4.6285393f-5; … ; 4.5842295f-5 4.6720506f-5 … -9.6953945f-6 -4.6285393f-5; 1.0817459f-5 -1.6233444f-5 … -6.113347f-5 -9.133034f-5;;; -6.89083f-5 4.677769f-5 … 5.839903f-5 2.779176f-5; -0.00013328917 -9.919482f-5 … -4.7801375f-5 -4.9652816f-5; … ; -0.000100763384 -8.842572f-5 … -4.7801375f-5 -4.9652816f-5; -7.931441f-5 -6.426846f-5 … -8.068295f-5 -6.9709225f-5;;;; … ;;;; -2.1165555f-5 -2.871395f-5 … -9.4707975f-6 1.6730603f-5; -3.343476f-5 -3.5620924f-5 … -6.2852732f-6 5.5823148f-5; … ; -3.343476f-5 -2.5773877f-5 … -7.443363f-6 2.4596986f-5; -1.6320164f-5 -3.083948f-5 … -1.4619601f-5 7.2370012f-6;;; 5.112743f-6 -1.2123845f-5 … -4.0695137f-5 -1.7422375f-5; 2.2878603f-5 1.8930292f-5 … -4.911177f-6 1.1831246f-5; … ; 2.2878603f-5 1.3386961f-5 … 2.9648616f-5 1.1032445f-5; 2.8026607f-5 3.7138627f-5 … 8.507545f-6 4.9471414f-6;;; -1.1837312f-5 6.6105054f-6 … -1.970947f-5 -1.7989343f-5; -9.216674f-6 3.4954862f-6 … -9.341621f-6 -1.5767208f-5; … ; -9.216674f-6 -1.2523649f-5 … -1.453908f-5 6.8089066f-6; -1.7260072f-5 -2.7870981f-5 … -2.7763634f-5 -8.497333f-6;;;; 7.056938f-5 9.4413364f-5 … 4.023362f-5 1.6459526f-5; 0.00011446144 0.000116966155 … 3.9457344f-5 -4.6510104f-7; … ; 0.00013823505 0.000121825025 … 4.444198f-5 -4.6510104f-7; 0.00014504766 0.00011274523 … 7.353618f-5 2.7854203f-5;;; -2.7237656f-5 -2.6908088f-5 … -4.286847f-5 -2.2217795f-5; -0.00014390118 -0.00016690581 … -0.0001708196 -0.00010457024; … ; -0.0001472652 -0.00017754253 … -0.0001420806 -0.00010457024; -0.00016347264 -0.00021522437 … -0.00014008583 -7.529f-5;;; 1.5997262f-5 -5.2940504f-6 … 3.67933f-6 -3.12562f-6; 1.790417f-5 -1.8440787f-6 … 7.258116f-5 4.7629954f-5; … ; 2.9212732f-5 -2.4540643f-5 … 6.7774f-5 4.7629954f-5; 2.8883964f-5 3.0353527f-5 … 7.885691f-5 5.033739f-5;;;; -2.7620532f-5 -3.3469492f-5 … -3.3469492f-5 4.1494604f-7; -3.943256f-5 -4.3210963f-5 … -4.3210963f-5 8.038801f-6; … ; -3.011735f-5 -2.2928672f-5 … -1.691275f-5 9.3664585f-6; -2.3605025f-5 -3.7439302f-5 … -3.583605f-5 5.7783836f-7;;; 3.205757f-6 -2.5900945f-6 … -2.5900945f-6 -1.2376795f-6; 2.4985286f-5 3.4562952f-5 … 3.4562952f-5 2.6460668f-5; … ; 3.015558f-6 1.616412f-5 … 6.280892f-5 5.578011f-5; 2.9651663f-5 2.8257578f-5 … 1.9861029f-5 3.212433f-5;;; -1.751685f-5 -1.2894643f-5 … -1.2894643f-5 -6.724469f-6; -1.2694884f-5 -9.370296f-6 … -9.370296f-6 -4.8197326f-6; … ; 2.5847808f-6 -3.8804457f-5 … 1.9671705f-5 2.4889001f-5; -2.7294747f-5 -4.318227f-5 … 5.307076f-6 2.3082073f-5], ChainRulesCore.ZeroTangent()))"
      ]
     },
     "execution_count": 31,
     "metadata": {},
     "output_type": "execute_result"
    }
   ],
   "source": [
    "model = ResNet5(3, 10);\n",
    "\n",
    "loss, g = grad(loss_function, model, x, y)"
   ]
  },
  {
   "cell_type": "code",
   "execution_count": 32,
   "id": "5bcabd55-b462-44f4-891a-03fbce3744e4",
   "metadata": {},
   "outputs": [
    {
     "data": {
      "text/plain": [
       "(ChainRulesCore.ZeroTangent(), Tangent{ResNet5}(input_conv = Tangent{Conv\u001b[90m{2, 4, typeof(identity), Array{Float32, 4}, Bool}\u001b[39m}(weight = [0.0033848141 0.00492214 0.0155685; 0.0019094192 0.0043721674 0.014206535; 0.0050633624 0.006268614 0.015757428;;; -0.011066678 -0.009763804 0.00187172; -0.013735583 -0.011424305 -0.00047328882; -0.010526525 -0.009302213 0.0015942054;;; -0.001088581 0.0016271224 0.011891334; -0.0050204634 -0.0012168038 0.008474737; -0.0023286804 0.00045990234 0.009934018;;;; -0.004183669 -0.007880375 -0.008217068; -0.006327441 -0.009227365 -0.0077464064; -0.0045296703 -0.00671673 -0.004411768;;; -0.02649877 -0.029833863 -0.02973304; -0.029033566 -0.03159094 -0.02957295; -0.026717253 -0.028665334 -0.025971035;;; -0.036283102 -0.040567905 -0.038424168; -0.038532212 -0.0420971 -0.03835934; -0.03484244 -0.037923675 -0.033869643;;;; -0.2046649 -0.20975651 -0.20377469; -0.22296588 -0.22449858 -0.2156485; -0.22561207 -0.22498934 -0.21568228;;; -0.13329147 -0.1358981 -0.13215306; -0.15076321 -0.14994445 -0.14385104; -0.15585412 -0.15278533 -0.14701942;;; -0.053264212 -0.055561755 -0.05349134; -0.06764335 -0.06694146 -0.06296265; -0.07525317 -0.07291517 -0.069416314;;;; … ;;;; -0.040357303 -0.035924103 -0.027794175; -0.041265205 -0.03702489 -0.027486186; -0.040705208 -0.03585031 -0.02518665;;; -0.023762964 -0.019384563 -0.014119356; -0.024076972 -0.019588415 -0.013120316; -0.023725862 -0.018199157 -0.010593646;;; -0.0100479005 -0.004294268 0.0031760752; -0.010310886 -0.0042992802 0.0038862918; -0.012944627 -0.0057075117 0.003553377;;;; 0.11591564 0.1227264 0.11814464; 0.116985984 0.12636867 0.12352211; 0.11394747 0.12446425 0.122785516;;; 0.08253478 0.0881697 0.083537586; 0.08370545 0.09173962 0.088889584; 0.08245994 0.09169584 0.09011367;;; 0.09292003 0.09855082 0.09498869; 0.09308377 0.10100339 0.0992362; 0.09173018 0.10069087 0.099969156;;;; 0.07818184 0.078798436 0.07856737; 0.0850953 0.08604065 0.08586306; 0.08553029 0.08651257 0.086038895;;; 0.079021916 0.079828866 0.080875255; 0.08515472 0.086085215 0.08722524; 0.08549555 0.08647851 0.08726735;;; 0.121528134 0.12265748 0.12285107; 0.12760031 0.1289236 0.12922771; 0.12529753 0.12664264 0.1267459],), resnet_block = Tangent{ResNetLayer}(bn1 = Tangent{BatchNorm\u001b[90m{typeof(identity), Vector{Float32}, Float32, Vector{Float32}}\u001b[39m}(μ = Float32[-0.030919254, -0.034583885, -0.0776756, -0.058739275, 0.099620305, -0.013058981, -0.11450086, -0.110142425, -0.04025222, 0.027265508, -0.022345714, -0.010312604, -0.018321171, 0.02939117, 0.028491225, -0.037788153], σ² = Float32[-0.0035497101, -0.011387349, -0.02672208, -0.052916106, 0.05442247, 0.0006923338, -0.14695081, -0.089233324, -0.040254556, 0.015759343, 0.00489536, -0.023077542, -0.011380918, 0.022103798, 0.0018210514, -0.04437377], ϵ = -0.35015184f0, γ = Float32[0.007099496, 0.022774912, 0.053444766, 0.105833255, -0.108846106, -0.001384679, 0.29390454, 0.17846838, 0.080509916, -0.031518992, -0.0097908005, 0.046155587, 0.022762077, -0.04420807, -0.0036421379, 0.08874837], β = Float32[0.03091937, 0.03458405, 0.07767603, 0.05873951, -0.09962087, 0.013059052, 0.114501506, 0.11014306, 0.040252384, -0.027265668, 0.02234584, 0.01031264, 0.018321201, -0.029391324, -0.028491363, 0.03778836]), conv1 = Tangent{Conv\u001b[90m{2, 4, typeof(identity), Array{Float32, 4}, Bool}\u001b[39m}(weight = [0.0046838466 0.002801217 0.0018315978; 0.004651184 0.0026979756 0.0020557083; 0.0040201372 0.0022319956 0.0016796011;;; 0.010930727 0.009194695 0.009255759; 0.011588749 0.01028126 0.010582875; 0.010988572 0.010157659 0.010546451;;; 0.0086465655 0.006386968 0.0049606813; 0.009069885 0.006673743 0.005266067; 0.009350765 0.0073557827 0.0064539965;;; … ;;; 0.012514562 0.010342297 0.008877264; 0.015554117 0.01319355 0.011302152; 0.018422494 0.01651921 0.014432213;;; -0.0014059446 -0.0014470862 -0.0010587436; -0.0021049683 -0.0024179833 -0.0024382272; -0.0011446476 -0.0018832461 -0.0021575163;;; 0.026776413 0.025929475 0.025458891; 0.025640873 0.025645837 0.025281077; 0.022694312 0.023431089 0.023696944;;;; 0.0056308135 0.009246243 0.009903451; 0.0054072062 0.008568981 0.008690083; 0.0053634387 0.008141559 0.008201359;;; 0.006909068 0.0066439076 0.0048556244; 0.006992176 0.006076033 0.0042020865; 0.0066522304 0.005184182 0.003321068;;; 0.026142059 0.027846742 0.028184805; 0.025178535 0.027883327 0.028183503; 0.02619753 0.027726129 0.027880853;;; … ;;; 0.027661556 0.02870717 0.028115211; 0.025936881 0.027292008 0.027812455; 0.02238024 0.0240585 0.02600367;;; 0.007524046 0.007990581 0.0085697435; 0.0074520255 0.008401162 0.009138634; 0.00785651 0.00941658 0.01021235;;; 0.006021527 0.0036133395 0.0036891303; 0.006207976 0.0026848514 0.002538126; 0.007827138 0.0026174232 0.0011471167;;;; -0.006989902 -0.009122102 -0.010582807; -0.006187575 -0.008342362 -0.010081955; -0.005915706 -0.007869821 -0.009570975;;; -0.010728154 -0.011026054 -0.010539123; -0.011409973 -0.011540115 -0.011391912; -0.009858778 -0.009958438 -0.009711829;;; -0.0039663794 -0.0021961574 -0.002720371; -0.0037846356 -0.0013885481 -0.0012893484; -0.004486011 -0.0017914163 -0.00097501226;;; … ;;; -0.019242618 -0.01706981 -0.015818331; -0.018270923 -0.015992695 -0.015163272; -0.017660892 -0.014870261 -0.014262693;;; 0.0046303356 0.004207199 0.003699087; 0.004358428 0.0037810972 0.0030917828; 0.004797358 0.0044430057 0.003719639;;; 0.0061467495 0.008902055 0.012561332; 0.004668828 0.007392577 0.0110145025; 0.004017284 0.006666625 0.009748509;;;; … ;;;; 0.015953792 0.022892479 0.023636457; 0.016628139 0.023945414 0.024701957; 0.0145538105 0.021865042 0.02307864;;; 0.009307217 0.011029151 0.012269976; 0.009790641 0.011743554 0.012558941; 0.010302648 0.011577097 0.012426381;;; 0.08322415 0.08578276 0.09127578; 0.07682183 0.079668894 0.08754683; 0.068921566 0.071447805 0.079108655;;; … ;;; 0.05956273 0.06745472 0.07277151; 0.050912578 0.06111537 0.06878913; 0.041432858 0.05226451 0.061697327;;; 0.029350284 0.031821016 0.030833501; 0.026669076 0.029589849 0.02888206; 0.021590972 0.025215873 0.025502967;;; 0.0075630043 0.014580569 0.023183087; 0.010000954 0.0150003545 0.021715805; 0.019275645 0.021807699 0.025221033;;;; -0.005055228 -0.004028436 -0.00355291; -0.0043685166 -0.002587266 -0.0024487663; -0.004242938 -0.00268156 -0.0021318563;;; -0.008181215 -0.007646714 -0.007150511; -0.008022334 -0.0069686025 -0.006213355; -0.00902531 -0.008077578 -0.007284918;;; 0.028358964 0.026315453 0.02543954; 0.02825962 0.026629213 0.02549171; 0.026779775 0.0256378 0.024313519;;; … ;;; 0.012658477 0.012360847 0.0106585035; 0.017601294 0.016632734 0.013873154; 0.013346673 0.01288445 0.010252994;;; 0.011396389 0.01196432 0.011538958; 0.014065858 0.0142013505 0.013542716; 0.011536628 0.011879227 0.011451802;;; 0.018489057 0.01928442 0.018998325; 0.010579165 0.013016352 0.014892617; 0.003925947 0.007528927 0.011687417;;;; 0.0027966546 0.009185906 -1.131848f-7; 0.0018692274 0.008724291 0.00037529442; 0.002045402 0.0089393845 0.0011517953;;; 0.009356524 0.010594173 0.010707822; 0.009949789 0.011422077 0.011500828; 0.010392891 0.012453484 0.012716627;;; 0.02240309 0.018511454 0.018065674; 0.022703078 0.018204618 0.017635712; 0.02363546 0.020463858 0.019299045;;; … ;;; 0.02351342 0.02759687 0.021887181; 0.026506476 0.029956603 0.024034241; 0.029933251 0.03362223 0.026975479;;; 0.00783776 0.011948833 0.0074725444; 0.0081126075 0.0122971665 0.008742777; 0.009707227 0.012573858 0.0094941165;;; 0.083392136 0.088410705 0.084516816; 0.09068467 0.09413106 0.088911965; 0.083401054 0.085769 0.081396535],), bn2 = Tangent{BatchNorm\u001b[90m{typeof(identity), Vector{Float32}, Float32, Vector{Float32}}\u001b[39m}(μ = Float32[-0.018935071, -0.06744428, 0.027592983, -0.06590441, 0.012801295, -0.017783212, 0.008509784, -0.091846995, 0.05032646, 0.019845378, -0.106493525, 0.08065426, -0.03903943, -0.15102836, -0.0165413, -0.049728263], σ² = Float32[-0.0023894385, -0.018316489, 0.0372683, -0.05483147, 0.0030996366, -0.027073693, 0.001187878, -0.08285409, 0.035348, 0.0039048085, -0.06377388, 0.01767173, -0.030404368, -0.14061713, -0.011098751, -0.017273076], ϵ = -0.35015202f0, γ = Float32[0.0047789314, 0.036633335, -0.07453737, 0.10966409, -0.006199269, 0.054147895, -0.0023757785, 0.16570988, -0.07069666, -0.0078097037, 0.12754901, -0.03534378, 0.06080963, 0.28123695, 0.022197742, 0.03454647], β = Float32[0.018935159, 0.067444675, -0.027593104, 0.06590463, -0.012801153, 0.017783243, -0.008509837, 0.09184772, -0.05032668, -0.019845486, 0.10649406, -0.080654256, 0.039039504, 0.15102908, 0.016541284, 0.04972863]), conv2 = Tangent{Conv\u001b[90m{2, 4, typeof(identity), Array{Float32, 4}, Bool}\u001b[39m}(weight = [-0.027806517 -0.027745482 -0.027531363; -0.029203655 -0.029199831 -0.028982284; -0.02893884 -0.02893539 -0.028711708;;; -0.016355952 -0.019034076 -0.019016499; -0.015967526 -0.018641796 -0.018622542; -0.013101461 -0.015622631 -0.015610264;;; -0.061837614 -0.066853896 -0.06595105; -0.06274266 -0.06778455 -0.06685208; -0.062165108 -0.06711713 -0.066198036;;; … ;;; -0.12763286 -0.13105024 -0.12890288; -0.12781845 -0.13124965 -0.12908247; -0.12409068 -0.12744293 -0.12534718;;; -0.00092541217 -0.0008682641 -0.00038038415; -0.00059536163 -0.0005419223 -5.1537805f-5; 0.00063741143 0.00069324503 0.0011483558;;; 0.004355111 0.0011958879 0.0012408317; 0.004406925 0.0011678651 0.001211191; 0.00505103 0.0018336338 0.001880104;;;; 0.009330788 0.009408456 0.009766498; 0.010187929 0.010310856 0.010664512; 0.010554651 0.010679241 0.011009033;;; -0.0014936584 -0.0002931049 0.0005092012; -0.0013850522 -0.00018525403 0.00061717874; -0.0019229754 -0.0007865566 -1.1964294f-5;;; 0.051562894 0.05420421 0.054439135; 0.052677087 0.055376373 0.05559621; 0.052947342 0.05561594 0.05583025;;; … ;;; 0.069827355 0.07159031 0.07198139; 0.07057004 0.072343715 0.07272806; 0.06987182 0.07161496 0.07198784;;; -0.016199602 -0.016208438 -0.015816921; -0.016352693 -0.016358119 -0.015961573; -0.016979467 -0.016988173 -0.016589789;;; -0.0109152775 -0.009416478 -0.008945132; -0.010412995 -0.008842807 -0.0083534485; -0.010390283 -0.008830224 -0.008351971;;;; 0.0469333 0.047105547 0.04659013; 0.050552137 0.050817817 0.05023689; 0.050474618 0.05074047 0.05021007;;; 0.07597454 0.08016274 0.079806685; 0.07672142 0.0809442 0.08057094; 0.07198364 0.07603384 0.075747445;;; 0.14629607 0.15125021 0.14972454; 0.1509719 0.15606627 0.15449566; 0.15051837 0.155553 0.15398583;;; … ;;; 0.21335237 0.21704002 0.21369776; 0.21549566 0.21921238 0.21581936; 0.21160182 0.21526015 0.21189737;;; 0.029077029 0.030152742 0.02966621; 0.031454984 0.032537453 0.03202602; 0.027979545 0.028990302 0.028513888;;; 0.030958187 0.033844247 0.03353305; 0.032187764 0.035196997 0.03487851; 0.03156091 0.034553867 0.034268063;;;; … ;;;; 0.007972 0.007818003 0.0074356697; 0.008944448 0.008796088 0.008395044; 0.00989626 0.009747918 0.0093900515;;; 0.0334728 0.034991715 0.035099436; 0.034078285 0.035628084 0.035741616; 0.0321651 0.03365872 0.03384733;;; 0.027849555 0.028977118 0.028510343; 0.029931698 0.031118708 0.030649066; 0.030287385 0.03145435 0.030978037;;; … ;;; 0.053859692 0.05509388 0.0534377; 0.055005774 0.05624547 0.054567445; 0.05436088 0.05558026 0.05388757;;; -0.0040414445 -0.0031738053 -0.0036552264; -0.00377094 -0.0029034666 -0.0033942196; -0.005515987 -0.0046960507 -0.005173462;;; 0.011132671 0.011613291 0.011206008; 0.011521462 0.011988647 0.011568733; 0.012051879 0.012515058 0.012118143;;;; -0.03163078 -0.031939406 -0.0316762; -0.034137905 -0.034560923 -0.03428089; -0.034460105 -0.034882966 -0.034590438;;; -0.041960385 -0.04550161 -0.04514058; -0.042108607 -0.045638017 -0.045264438; -0.03872875 -0.04207196 -0.041691985;;; -0.13596681 -0.14318657 -0.1423422; -0.13984035 -0.14715861 -0.14626624; -0.13955197 -0.146769 -0.14589177;;; … ;;; -0.1928355 -0.19714437 -0.19501008; -0.1942437 -0.19857621 -0.19641511; -0.1908453 -0.19510852 -0.19301535;;; -0.0010963042 -0.0006849849 6.254937f-6; -0.0010296102 -0.00062461325 6.6876004f-5; -0.00018793634 0.00021716792 0.000868122;;; -0.0146849705 -0.01901591 -0.018817725; -0.016254926 -0.020763217 -0.02056075; -0.01584842 -0.020329911 -0.020119917;;;; 0.018182656 0.018666463 0.018433852; 0.018558014 0.018996464 0.018735621; 0.01706486 0.017503545 0.017307635;;; 0.027831743 0.0266368 0.025938254; 0.028282778 0.027117716 0.026420718; 0.027474843 0.026415277 0.025821397;;; 0.0121069215 0.007736965 0.006012095; 0.0125843845 0.008230875 0.006505795; 0.012715273 0.0084487405 0.0067441934;;; … ;;; 0.009190398 0.0069156736 0.0038882927; 0.009443385 0.00716786 0.004115408; 0.0100149335 0.0077949963 0.004823172;;; 0.036112823 0.0371432 0.037020843; 0.038143113 0.0391728 0.039011963; 0.036666658 0.037650503 0.037499636;;; 0.03203855 0.029013224 0.02867165; 0.032177 0.029078217 0.028737852; 0.03044397 0.02736443 0.027067149],)), dense = Tangent{Dense\u001b[90m{typeof(identity), Matrix{Float32}, Vector{Float32}}\u001b[39m}(weight = Float32[0.04195155 -0.027584653 … -0.014246786 -0.061022937; 0.23865007 -0.05403358 … -0.119644016 -0.35682043; … ; 0.11011796 0.19865063 … -0.0058198953 0.0024101601; -0.024547847 0.1378072 … 0.06289482 0.2556789], bias = Float32[-0.039682597, -0.1497728, -0.11143276, -0.054698613, 0.060947143, -0.0052155983, 0.21430506, 0.034508985, -0.022945002, 0.07398612])), [6.237913f-6 3.5967347f-5 … 6.969699f-5 -1.4677025f-6; -1.5422273f-5 9.129803f-5 … 0.00010509421 5.7726185f-5; … ; -1.5422273f-5 5.8544356f-5 … 8.069367f-5 7.1933304f-5; -1.916683f-5 4.3918797f-5 … 3.564843f-5 2.9802557f-5;;; 2.8232555f-5 8.290466f-6 … 1.8278686f-5 -1.3035464f-5; 4.2469677f-5 2.1097083f-5 … 0.0001107867 2.8239041f-5; … ; 4.2469677f-5 -9.811288f-6 … 7.5421885f-5 4.1230356f-5; 1.3498007f-5 -4.1157535f-5 … -1.7390645f-5 -5.406642f-5;;; -5.6914192f-5 3.5444475f-5 … 6.423763f-5 2.3967408f-5; -0.00013381644 -7.971813f-5 … -4.8696755f-5 -2.2566528f-5; … ; -0.00013381644 -6.636727f-5 … -3.8728453f-5 -6.1634106f-5; -0.000117940275 -8.5317035f-5 … -7.632408f-5 -6.584196f-5;;;; 5.8290916f-5 5.127142f-5 … -9.3075805f-6 -1.6277996f-5; 9.165497f-5 5.6990088f-5 … 1.5355865f-5 -2.0343152f-5; … ; 9.165497f-5 5.6990088f-5 … 5.6990088f-5 1.1728207f-6; 9.885018f-5 7.853711f-5 … 7.853711f-5 2.7564292f-5;;; -3.4745837f-5 -4.6590165f-5 … -8.3024315f-5 -2.9306339f-5; -0.00012328937 -0.00017290123 … -0.00019621113 -9.9905665f-5; … ; -0.00012328937 -0.00017290123 … -0.00017290123 -0.000116081064; -0.00012294883 -0.00013862233 … -0.00013862233 -7.874206f-5;;; 2.576932f-5 -6.6673374f-6 … 2.5804527f-5 2.0757947f-5; 6.322516f-5 6.923036f-5 … 1.0809226f-5 5.7303696f-5; … ; 6.322516f-5 6.923036f-5 … 6.923036f-5 5.513784f-5; 7.303374f-5 9.045349f-5 … 9.045349f-5 5.6507488f-5;;;; 1.922117f-5 0.00010415737 … 4.9868464f-5 -1.3572899f-5; 3.9846862f-5 0.00011910912 … 7.421228f-5 1.552809f-5; … ; 4.183645f-5 0.00011451202 … 7.421228f-5 1.552809f-5; -6.396297f-6 5.4365573f-5 … 5.6572695f-5 2.6010515f-5;;; 4.4950415f-5 3.4209126f-5 … -1.0242213f-5 -1.1288015f-5; 5.8497903f-5 8.503792f-5 … -9.6953945f-6 -4.6285393f-5; … ; 4.5842295f-5 4.6720506f-5 … -9.6953945f-6 -4.6285393f-5; 1.0817459f-5 -1.6233444f-5 … -6.113347f-5 -9.133034f-5;;; -6.89083f-5 4.677769f-5 … 5.839903f-5 2.779176f-5; -0.00013328917 -9.919482f-5 … -4.7801375f-5 -4.9652816f-5; … ; -0.000100763384 -8.842572f-5 … -4.7801375f-5 -4.9652816f-5; -7.931441f-5 -6.426846f-5 … -8.068295f-5 -6.9709225f-5;;;; … ;;;; -2.1165555f-5 -2.871395f-5 … -9.4707975f-6 1.6730603f-5; -3.343476f-5 -3.5620924f-5 … -6.2852732f-6 5.5823148f-5; … ; -3.343476f-5 -2.5773877f-5 … -7.443363f-6 2.4596986f-5; -1.6320164f-5 -3.083948f-5 … -1.4619601f-5 7.2370012f-6;;; 5.112743f-6 -1.2123845f-5 … -4.0695137f-5 -1.7422375f-5; 2.2878603f-5 1.8930292f-5 … -4.911177f-6 1.1831246f-5; … ; 2.2878603f-5 1.3386961f-5 … 2.9648616f-5 1.1032445f-5; 2.8026607f-5 3.7138627f-5 … 8.507545f-6 4.9471414f-6;;; -1.1837312f-5 6.6105054f-6 … -1.970947f-5 -1.7989343f-5; -9.216674f-6 3.4954862f-6 … -9.341621f-6 -1.5767208f-5; … ; -9.216674f-6 -1.2523649f-5 … -1.453908f-5 6.8089066f-6; -1.7260072f-5 -2.7870981f-5 … -2.7763634f-5 -8.497333f-6;;;; 7.056938f-5 9.4413364f-5 … 4.023362f-5 1.6459526f-5; 0.00011446144 0.000116966155 … 3.9457344f-5 -4.6510104f-7; … ; 0.00013823505 0.000121825025 … 4.444198f-5 -4.6510104f-7; 0.00014504766 0.00011274523 … 7.353618f-5 2.7854203f-5;;; -2.7237656f-5 -2.6908088f-5 … -4.286847f-5 -2.2217795f-5; -0.00014390118 -0.00016690581 … -0.0001708196 -0.00010457024; … ; -0.0001472652 -0.00017754253 … -0.0001420806 -0.00010457024; -0.00016347264 -0.00021522437 … -0.00014008583 -7.529f-5;;; 1.5997262f-5 -5.2940504f-6 … 3.67933f-6 -3.12562f-6; 1.790417f-5 -1.8440787f-6 … 7.258116f-5 4.7629954f-5; … ; 2.9212732f-5 -2.4540643f-5 … 6.7774f-5 4.7629954f-5; 2.8883964f-5 3.0353527f-5 … 7.885691f-5 5.033739f-5;;;; -2.7620532f-5 -3.3469492f-5 … -3.3469492f-5 4.1494604f-7; -3.943256f-5 -4.3210963f-5 … -4.3210963f-5 8.038801f-6; … ; -3.011735f-5 -2.2928672f-5 … -1.691275f-5 9.3664585f-6; -2.3605025f-5 -3.7439302f-5 … -3.583605f-5 5.7783836f-7;;; 3.205757f-6 -2.5900945f-6 … -2.5900945f-6 -1.2376795f-6; 2.4985286f-5 3.4562952f-5 … 3.4562952f-5 2.6460668f-5; … ; 3.015558f-6 1.616412f-5 … 6.280892f-5 5.578011f-5; 2.9651663f-5 2.8257578f-5 … 1.9861029f-5 3.212433f-5;;; -1.751685f-5 -1.2894643f-5 … -1.2894643f-5 -6.724469f-6; -1.2694884f-5 -9.370296f-6 … -9.370296f-6 -4.8197326f-6; … ; 2.5847808f-6 -3.8804457f-5 … 1.9671705f-5 2.4889001f-5; -2.7294747f-5 -4.318227f-5 … 5.307076f-6 2.3082073f-5], ChainRulesCore.ZeroTangent())"
      ]
     },
     "execution_count": 32,
     "metadata": {},
     "output_type": "execute_result"
    }
   ],
   "source": [
    "g"
   ]
  },
  {
   "cell_type": "markdown",
   "id": "04fdcd41-bb0a-48be-8a83-8a2b6080eb76",
   "metadata": {},
   "source": [
    "# Evaluation Function"
   ]
  },
  {
   "cell_type": "code",
   "execution_count": 33,
   "id": "6a71d6f3-00b1-43e7-9094-b85e6ffa4700",
   "metadata": {},
   "outputs": [
    {
     "data": {
      "text/plain": [
       "evaluate (generic function with 1 method)"
      ]
     },
     "execution_count": 33,
     "metadata": {},
     "output_type": "execute_result"
    }
   ],
   "source": [
    "function evaluate(model, test_loader)\n",
    "    preds = []\n",
    "    targets = []\n",
    "    for (x, y) in test_loader\n",
    "        # Get model predictions\n",
    "        # Note argmax of nd-array gives CartesianIndex\n",
    "        # Need to grab the first element of each CartesianIndex to get the true index\n",
    "        logits = model(x)\n",
    "        ŷ = map(i -> i[1], argmax(logits, dims=1))\n",
    "        append!(preds, ŷ)\n",
    "\n",
    "        # Get true labels\n",
    "        append!(targets, y)\n",
    "    end\n",
    "    accuracy = sum(preds .== targets) / length(targets)\n",
    "    return accuracy\n",
    "end"
   ]
  },
  {
   "cell_type": "markdown",
   "id": "33c9b604-fb10-426d-b6bf-06e76b169686",
   "metadata": {},
   "source": [
    "# Training Loop"
   ]
  },
  {
   "cell_type": "code",
   "execution_count": 34,
   "id": "ae02a82c-b6b4-4819-b991-ce248ae1d8de",
   "metadata": {},
   "outputs": [
    {
     "data": {
      "text/plain": [
       "\u001b[0m\u001b[1m ────────────────────────────────────────────────────────────────────\u001b[22m\n",
       "\u001b[0m\u001b[1m                   \u001b[22m         Time                    Allocations      \n",
       "                   ───────────────────────   ────────────────────────\n",
       " Tot / % measured:      1.11s /   0.0%           56.9MiB /   0.0%    \n",
       "\n",
       " Section   ncalls     time    %tot     avg     alloc    %tot      avg\n",
       " ────────────────────────────────────────────────────────────────────\n",
       "\u001b[0m\u001b[1m ────────────────────────────────────────────────────────────────────\u001b[22m"
      ]
     },
     "execution_count": 34,
     "metadata": {},
     "output_type": "execute_result"
    }
   ],
   "source": [
    "# Setup timing output\n",
    "const to = TimerOutput()"
   ]
  }
 ],
 "metadata": {
  "kernelspec": {
   "display_name": "Julia 1.7.3",
   "language": "julia",
   "name": "uw-julia-1-7-3"
  },
  "language_info": {
   "file_extension": ".jl",
   "mimetype": "application/julia",
   "name": "julia",
   "version": "1.7.3"
  }
 },
 "nbformat": 4,
 "nbformat_minor": 5
}
