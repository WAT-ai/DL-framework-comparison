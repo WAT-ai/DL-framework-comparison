{
  "cells": [
    {
      "cell_type": "code",
      "execution_count": 1,
      "metadata": {
        "colab": {
          "base_uri": "https://localhost:8080/",
          "height": 136,
          "referenced_widgets": [
            "85714dae5b924a85bf0c81c83f81d2a8",
            "e7b9a91a11064e24b0fc9c4bd173ad42",
            "d9f8b48116d64b7486f15800e0be7e7b",
            "0c5b050ecde9430c8ca931c09217b867",
            "13a3d82c1e894ccda34a7578976c5180",
            "31a70d4efd3c4b92aa0def3638143189",
            "0b5f540cee884a539d538cecf7d7f07f",
            "fbd849bfcb9843edb3b8367c9e512c22",
            "a3ae2d0e454843baab56485d32b81fb6",
            "2282f238148443f2bf984e6ab4499376",
            "05a0e7d9fb89461e8300401d49f74d47"
          ]
        },
        "id": "fXQ0HM08eeIP",
        "outputId": "7a2bb11f-6d3e-443a-8e82-a4c827c604f5"
      },
      "outputs": [],
      "source": [
        "import torch\n",
        "import torchvision\n",
        "import torch.nn as nn\n",
        "import numpy as np\n",
        "import torch.nn.functional as F\n",
        "from torch.utils.data import DataLoader\n",
        "import torchvision.transforms as transforms\n",
        "from torch.utils.data import random_split\n",
        "import matplotlib.pyplot as plt\n",
        "from sklearn.metrics import accuracy_score\n",
        "import time"
      ]
    },
    {
      "cell_type": "code",
      "execution_count": 2,
      "metadata": {},
      "outputs": [
        {
          "data": {
            "text/plain": [
              "<torch._C.Generator at 0x7fbf6cc866d0>"
            ]
          },
          "execution_count": 2,
          "metadata": {},
          "output_type": "execute_result"
        }
      ],
      "source": [
        "torch.random.manual_seed(0)"
      ]
    },
    {
      "cell_type": "code",
      "execution_count": 3,
      "metadata": {},
      "outputs": [
        {
          "name": "stdout",
          "output_type": "stream",
          "text": [
            "cuda\n"
          ]
        }
      ],
      "source": [
        "\n",
        "project_name='cifar10-resnetV2-20'\n",
        "\n",
        "# Device configuration\n",
        "device = torch.device('cuda' if torch.cuda.is_available() else 'cpu')\n",
        "print(device)\n",
        "# Hyper-parameters\n",
        "num_epochs = 80\n",
        "learning_rate = 0.001\n"
      ]
    },
    {
      "cell_type": "markdown",
      "metadata": {},
      "source": [
        "# Data"
      ]
    },
    {
      "cell_type": "code",
      "execution_count": 4,
      "metadata": {},
      "outputs": [],
      "source": [
        "def get_datasets(batch_size=32):\n",
        "    # Transforms\n",
        "    augment_pipeline = transforms.Compose([\n",
        "        transforms.ToTensor(),\n",
        "        transforms.Normalize(mean=[0.485, 0.456, 0.406], std=[0.229, 0.224, 0.225]),\n",
        "        transforms.Pad((4, 4)),\n",
        "        transforms.RandomHorizontalFlip(),\n",
        "        transforms.RandomCrop((32, 32))\n",
        "    ])\n",
        "\n",
        "    evaluate_pipeline = transforms.Compose([\n",
        "        transforms.ToTensor(),\n",
        "        transforms.Normalize(mean=[0.485, 0.456, 0.406], std=[0.229, 0.224, 0.225]),\n",
        "    ])\n",
        "\n",
        "    train_size = 45_000\n",
        "    val_size = 5_000\n",
        "\n",
        "    train_data = torchvision.datasets.CIFAR10(\n",
        "        root=\"./data\",\n",
        "        train=True,\n",
        "        transform=augment_pipeline,\n",
        "        download=True\n",
        "    )\n",
        "    test_ds = torchvision.datasets.CIFAR10(\n",
        "        root=\"./data\",\n",
        "        train=False,\n",
        "        transform=evaluate_pipeline,\n",
        "        download=True\n",
        "    )\n",
        "    \n",
        "    train_ds, val_ds = torch.utils.data.random_split(train_data, [train_size, val_size])\n",
        "    val_ds.transform = evaluate_pipeline\n",
        "    \n",
        "    train_loader = DataLoader(train_ds, batch_size=batch_size, shuffle=True)\n",
        "    val_loader = DataLoader(val_ds, batch_size=batch_size)\n",
        "    test_loader = DataLoader(test_ds, batch_size=batch_size)\n",
        "\n",
        "    return train_loader, val_loader, test_loader"
      ]
    },
    {
      "cell_type": "markdown",
      "metadata": {},
      "source": [
        "# Model"
      ]
    },
    {
      "cell_type": "code",
      "execution_count": 5,
      "metadata": {
        "id": "oOG-lfdDrzck"
      },
      "outputs": [],
      "source": [
        "class ResidualBlock(nn.Module):\n",
        "    def __init__(self, in_channels, channels, stride=1):\n",
        "        super(ResidualBlock, self).__init__()\n",
        "        conv_kwargs = {\n",
        "            \"kernel_size\": (3, 3),\n",
        "            \"padding\": 1,  # To ensure 3x3 conv does not reduce image size. padding=1 also works\n",
        "            \"bias\": False\n",
        "        }\n",
        "        self.stride = stride\n",
        "        self.in_channels = in_channels\n",
        "        self.channels = channels\n",
        "        self.bn1 = nn.BatchNorm2d(in_channels)\n",
        "        self.relu = nn.ReLU()\n",
        "        # This conv is in_channels -> channels and applies stride\n",
        "        self.conv1 = nn.Conv2d(in_channels=in_channels, out_channels=channels, stride=stride, **conv_kwargs)\n",
        "        self.bn2 = nn.BatchNorm2d(channels)\n",
        "        # This conv is channels -> channels\n",
        "        self.conv2 = nn.Conv2d(in_channels=channels, out_channels=channels, **conv_kwargs)\n",
        "    \n",
        "    def strided_identity(self, x):\n",
        "        # Downsample with 'nearest' method (this is striding if dims are divisible by stride)\n",
        "        # Equivalently x = x[:, :, ::stride, ::stride].contiguous()\n",
        "        if self.stride != 1:\n",
        "            x = nn.functional.interpolate(x, mode='nearest', scale_factor=(1/self.stride))\n",
        "        # Create padding tensor for extra channels\n",
        "        if self.channels != self.in_channels:\n",
        "            (b, c, h, w) = x.shape\n",
        "            num_pad_channels = self.channels - self.in_channels\n",
        "            pad = torch.zeros((b, num_pad_channels, h, w), device=x.device)\n",
        "            # Append padding to the downsampled identity\n",
        "            x = torch.cat((x, pad), dim=1)\n",
        "        return x\n",
        "\n",
        "    def forward(self, x):\n",
        "        identity = self.strided_identity(x)\n",
        "        z = self.bn1(x)\n",
        "        z = self.relu(z)\n",
        "        z = self.conv1(z)\n",
        "        z = self.bn2(z)\n",
        "        z = self.relu(z)\n",
        "        z = self.conv2(z)\n",
        "        out = identity + z\n",
        "        return out\n",
        "      "
      ]
    },
    {
      "cell_type": "code",
      "execution_count": 6,
      "metadata": {
        "id": "tkPlw69bQPBE"
      },
      "outputs": [],
      "source": [
        "class ResNetV2(nn.Module):\n",
        "  def __init__(self):\n",
        "    super(ResNetV2, self).__init__()\n",
        "\n",
        "    self.input_layer = nn.Conv2d(3, 16, (3,3), padding=1)\n",
        "\n",
        "    self.layer_1 = ResidualBlock(16,16)\n",
        "    self.layer_2 = ResidualBlock(16,16)\n",
        "    self.layer_3 = ResidualBlock(16,16)\n",
        "\n",
        "    self.layer_4 = ResidualBlock(16,32, stride=2)\n",
        "    self.layer_5 = ResidualBlock(32,32)\n",
        "    self.layer_6 = ResidualBlock(32,32)\n",
        "\n",
        "    self.layer_7 = ResidualBlock(32,64, stride=2)\n",
        "    self.layer_8 = ResidualBlock(64,64)\n",
        "    self.layer_9 = ResidualBlock(64,64)\n",
        "\n",
        "    self.pool = nn.AdaptiveAvgPool2d((1,1))\n",
        "    self.output_layer = nn.Linear(64,10)\n",
        "\n",
        "\n",
        "  def forward(self, x):\n",
        "    out = self.input_layer(x)\n",
        "    out = self.layer_1(out)\n",
        "    out = self.layer_2(out)\n",
        "    out = self.layer_3(out)\n",
        "    out = self.layer_4(out)\n",
        "    out = self.layer_5(out)\n",
        "    out = self.layer_6(out)\n",
        "    out = self.layer_7(out)\n",
        "    out = self.layer_8(out)\n",
        "    out = self.layer_9(out)\n",
        "    out = self.pool(out)\n",
        "    out = out.flatten(1)\n",
        "    out = out.view(out.size(0), -1)\n",
        "    out = self.output_layer(out)\n",
        "    return out\n",
        "\n",
        "model = ResNetV2().to(device)\n"
      ]
    },
    {
      "cell_type": "code",
      "execution_count": 7,
      "metadata": {},
      "outputs": [
        {
          "data": {
            "text/plain": [
              "torch.Size([4, 10])"
            ]
          },
          "execution_count": 7,
          "metadata": {},
          "output_type": "execute_result"
        }
      ],
      "source": [
        "inputs = torch.randn((4, 3, 32, 32)).to(device)\n",
        "outputs = model(inputs)\n",
        "outputs.shape"
      ]
    },
    {
      "cell_type": "markdown",
      "metadata": {},
      "source": [
        "# Training"
      ]
    },
    {
      "cell_type": "code",
      "execution_count": 8,
      "metadata": {},
      "outputs": [],
      "source": [
        "def train_epoch(model, criterion, optimizer, train_loader, epoch):\n",
        "    metrics = {}\n",
        "    running_loss = 0\n",
        "    running_acc = 0\n",
        "    \n",
        "    start_epoch = time.time()\n",
        "    model.train()\n",
        "    for inputs, labels in train_loader:\n",
        "        optimizer.zero_grad()\n",
        "\n",
        "        inputs = inputs.to(device)\n",
        "        labels = labels.to(device)\n",
        "\n",
        "        logits = model(inputs)\n",
        "        loss = criterion(logits, labels)\n",
        "\n",
        "        loss.backward()\n",
        "        optimizer.step()\n",
        "\n",
        "        running_loss += loss.item()\n",
        "        preds = logits.detach().cpu().numpy().argmax(axis=-1)\n",
        "        running_acc += accuracy_score(labels.cpu(), preds)\n",
        "    \n",
        "    end_epoch = time.time()\n",
        "    epoch_time = end_epoch - start_epoch\n",
        "    epoch_loss = running_loss / len(train_loader)\n",
        "    epoch_acc = running_acc / len(train_loader)\n",
        "\n",
        "    metrics[\"epoch_train_time\"] = end_epoch - start_epoch\n",
        "    metrics[\"loss\"] = epoch_loss\n",
        "    metrics[\"accuracy\"] = epoch_acc\n",
        "    \n",
        "    print(f\"Epoch {epoch + 1}: train loss = {epoch_loss:.4f}, train accuracy = {epoch_acc * 100:.2f}%, epoch time = {epoch_time:.2f} s\")\n",
        "    return metrics"
      ]
    },
    {
      "cell_type": "code",
      "execution_count": 9,
      "metadata": {},
      "outputs": [],
      "source": [
        "def eval_epoch(model, criterion, val_loader, epoch):\n",
        "    metrics = {}\n",
        "    running_loss = 0\n",
        "    all_preds = []\n",
        "    all_labels = []\n",
        "    \n",
        "    start_epoch = time.time()\n",
        "    model.eval()\n",
        "    for inputs, labels in val_loader:\n",
        "        with torch.no_grad():\n",
        "            inputs = inputs.to(device)\n",
        "            labels = labels.to(device)\n",
        "\n",
        "            logits = model(inputs)\n",
        "            loss = criterion(logits, labels)\n",
        "\n",
        "            running_loss += loss.item()\n",
        "            preds = logits.detach().cpu().numpy().argmax(axis=-1)\n",
        "\n",
        "            all_preds.extend(preds.tolist())\n",
        "            all_labels.extend(labels.tolist())\n",
        "    end_epoch = time.time()\n",
        "    epoch_time = end_epoch - start_epoch\n",
        "    epoch_loss = running_loss / len(val_loader)\n",
        "    epoch_acc = accuracy_score(all_labels, all_preds)\n",
        "\n",
        "    metrics[\"average_batch_inference_time\"] = epoch_time / len(val_loader)\n",
        "    metrics[\"loss\"] = epoch_loss\n",
        "    metrics[\"accuracy\"] = epoch_acc\n",
        "    \n",
        "    print(f\"Epoch {epoch + 1}: val loss = {epoch_loss:.4f}, val accuracy = {epoch_acc * 100:.2f}%, val time = {epoch_time:.2f} s\")\n",
        "    return metrics"
      ]
    },
    {
      "cell_type": "code",
      "execution_count": 10,
      "metadata": {},
      "outputs": [
        {
          "name": "stdout",
          "output_type": "stream",
          "text": [
            "Files already downloaded and verified\n",
            "Files already downloaded and verified\n"
          ]
        }
      ],
      "source": [
        "model = ResNetV2().to(device)\n",
        "loss_fn = nn.CrossEntropyLoss()\n",
        "optimizer = torch.optim.Adam(model.parameters(), lr=1e-3, weight_decay=1e-4)\n",
        "train_loader, val_loader, test_loader = get_datasets(batch_size=128)"
      ]
    },
    {
      "cell_type": "code",
      "execution_count": 11,
      "metadata": {},
      "outputs": [
        {
          "name": "stdout",
          "output_type": "stream",
          "text": [
            "Epoch 1: train loss = 1.4881, train accuracy = 44.99%, epoch time = 33.06 s\n",
            "Epoch 1: val loss = 1.3275, val accuracy = 52.08%, val time = 2.65 s\n",
            "Epoch 2: train loss = 1.0873, train accuracy = 60.91%, epoch time = 32.37 s\n",
            "Epoch 2: val loss = 0.9774, val accuracy = 65.02%, val time = 2.63 s\n",
            "Epoch 3: train loss = 0.9290, train accuracy = 66.98%, epoch time = 33.03 s\n",
            "Epoch 3: val loss = 1.0778, val accuracy = 63.18%, val time = 2.77 s\n",
            "Epoch 4: train loss = 0.8139, train accuracy = 71.29%, epoch time = 33.06 s\n",
            "Epoch 4: val loss = 1.0614, val accuracy = 65.14%, val time = 2.60 s\n",
            "Epoch 5: train loss = 0.7253, train accuracy = 74.68%, epoch time = 32.55 s\n",
            "Epoch 5: val loss = 0.8284, val accuracy = 72.24%, val time = 2.66 s\n",
            "Epoch 6: train loss = 0.6674, train accuracy = 76.87%, epoch time = 33.31 s\n",
            "Epoch 6: val loss = 0.8216, val accuracy = 71.10%, val time = 2.72 s\n",
            "Epoch 7: train loss = 0.6278, train accuracy = 78.35%, epoch time = 32.20 s\n",
            "Epoch 7: val loss = 0.7176, val accuracy = 75.10%, val time = 2.57 s\n",
            "Epoch 8: train loss = 0.5806, train accuracy = 79.89%, epoch time = 33.17 s\n",
            "Epoch 8: val loss = 0.6786, val accuracy = 76.08%, val time = 2.73 s\n",
            "Epoch 9: train loss = 0.5577, train accuracy = 80.84%, epoch time = 32.05 s\n",
            "Epoch 9: val loss = 0.7427, val accuracy = 75.54%, val time = 2.59 s\n",
            "Epoch 10: train loss = 0.5250, train accuracy = 81.82%, epoch time = 32.83 s\n",
            "Epoch 10: val loss = 0.7194, val accuracy = 75.88%, val time = 2.79 s\n",
            "Epoch 1: val loss = 0.7059, val accuracy = 77.08%, val time = 3.37 s\n"
          ]
        }
      ],
      "source": [
        "start_train = time.time()\n",
        "train_epoch_times = []\n",
        "eval_batch_times = []\n",
        "\n",
        "for epoch in range(10):\n",
        "    train_metrics = train_epoch(model, loss_fn, optimizer, train_loader, epoch)\n",
        "    val_metrics = eval_epoch(model, loss_fn, val_loader, epoch)\n",
        "\n",
        "    train_epoch_times.append(train_metrics[\"epoch_train_time\"])\n",
        "    eval_batch_times.append(val_metrics[\"average_batch_inference_time\"])\n",
        "end_train = time.time()\n",
        "\n",
        "test_metrics = eval_epoch(model, loss_fn, test_loader, 0)"
      ]
    },
    {
      "cell_type": "code",
      "execution_count": 12,
      "metadata": {},
      "outputs": [],
      "source": [
        "metrics = {\n",
        "    \"model_name\": \"ResNetV2-20\",\n",
        "    \"framework_name\": \"PyTorch\",\n",
        "    \"dataset\": \"CIFAR-10\",\n",
        "    \"task\": \"classification\",\n",
        "    \"total_training_time\": end_train - start_train,\n",
        "    \"average_epoch_training_time\": np.mean(train_epoch_times),\n",
        "    \"average_batch_inference_time\": np.mean(eval_batch_times),\n",
        "    \"final_training_loss\": train_metrics[\"loss\"],\n",
        "    \"final_evaluation_accuracy\": val_metrics[\"accuracy\"],\n",
        "    \"final_test_accuracy\": test_metrics[\"accuracy\"]\n",
        "}"
      ]
    },
    {
      "cell_type": "code",
      "execution_count": 13,
      "metadata": {},
      "outputs": [
        {
          "name": "stdout",
          "output_type": "stream",
          "text": [
            "{'model_name': 'ResNetV2-20', 'framework_name': 'PyTorch', 'dataset': 'CIFAR-10', 'task': 'classification', 'total_training_time': 354.35734724998474, 'average_epoch_training_time': 32.761177444458006, 'average_batch_inference_time': 0.06674680054187775, 'final_training_loss': 0.524996715428477, 'final_evaluation_accuracy': 0.7588, 'final_test_accuracy': 0.7708}\n"
          ]
        }
      ],
      "source": [
        "print(metrics)"
      ]
    },
    {
      "cell_type": "code",
      "execution_count": 15,
      "metadata": {},
      "outputs": [],
      "source": [
        "import json\n",
        "date_str = time.strftime(\"%Y-%m-%d-%H%M%S\")\n",
        "with open(f\"./output/m2-pytorch-mlp-{date_str}.json\", \"w\") as outfile:\n",
        "    json.dump(metrics, outfile)"
      ]
    }
  ],
  "metadata": {
    "colab": {
      "provenance": [],
      "toc_visible": true
    },
    "kernelspec": {
      "display_name": "Python 3",
      "language": "python",
      "name": "python3"
    },
    "language_info": {
      "codemirror_mode": {
        "name": "ipython",
        "version": 3
      },
      "file_extension": ".py",
      "mimetype": "text/x-python",
      "name": "python",
      "nbconvert_exporter": "python",
      "pygments_lexer": "ipython3",
      "version": "3.8.10"
    },
    "vscode": {
      "interpreter": {
        "hash": "916dbcbb3f70747c44a77c7bcd40155683ae19c65e1c03b4aa3499c5328201f1"
      }
    },
    "widgets": {
      "application/vnd.jupyter.widget-state+json": {
        "05a0e7d9fb89461e8300401d49f74d47": {
          "model_module": "@jupyter-widgets/controls",
          "model_module_version": "1.5.0",
          "model_name": "DescriptionStyleModel",
          "state": {
            "_model_module": "@jupyter-widgets/controls",
            "_model_module_version": "1.5.0",
            "_model_name": "DescriptionStyleModel",
            "_view_count": null,
            "_view_module": "@jupyter-widgets/base",
            "_view_module_version": "1.2.0",
            "_view_name": "StyleView",
            "description_width": ""
          }
        },
        "0b5f540cee884a539d538cecf7d7f07f": {
          "model_module": "@jupyter-widgets/controls",
          "model_module_version": "1.5.0",
          "model_name": "DescriptionStyleModel",
          "state": {
            "_model_module": "@jupyter-widgets/controls",
            "_model_module_version": "1.5.0",
            "_model_name": "DescriptionStyleModel",
            "_view_count": null,
            "_view_module": "@jupyter-widgets/base",
            "_view_module_version": "1.2.0",
            "_view_name": "StyleView",
            "description_width": ""
          }
        },
        "0c5b050ecde9430c8ca931c09217b867": {
          "model_module": "@jupyter-widgets/controls",
          "model_module_version": "1.5.0",
          "model_name": "HTMLModel",
          "state": {
            "_dom_classes": [],
            "_model_module": "@jupyter-widgets/controls",
            "_model_module_version": "1.5.0",
            "_model_name": "HTMLModel",
            "_view_count": null,
            "_view_module": "@jupyter-widgets/controls",
            "_view_module_version": "1.5.0",
            "_view_name": "HTMLView",
            "description": "",
            "description_tooltip": null,
            "layout": "IPY_MODEL_2282f238148443f2bf984e6ab4499376",
            "placeholder": "​",
            "style": "IPY_MODEL_05a0e7d9fb89461e8300401d49f74d47",
            "value": " 170498071/170498071 [00:02&lt;00:00, 62138279.16it/s]"
          }
        },
        "13a3d82c1e894ccda34a7578976c5180": {
          "model_module": "@jupyter-widgets/base",
          "model_module_version": "1.2.0",
          "model_name": "LayoutModel",
          "state": {
            "_model_module": "@jupyter-widgets/base",
            "_model_module_version": "1.2.0",
            "_model_name": "LayoutModel",
            "_view_count": null,
            "_view_module": "@jupyter-widgets/base",
            "_view_module_version": "1.2.0",
            "_view_name": "LayoutView",
            "align_content": null,
            "align_items": null,
            "align_self": null,
            "border": null,
            "bottom": null,
            "display": null,
            "flex": null,
            "flex_flow": null,
            "grid_area": null,
            "grid_auto_columns": null,
            "grid_auto_flow": null,
            "grid_auto_rows": null,
            "grid_column": null,
            "grid_gap": null,
            "grid_row": null,
            "grid_template_areas": null,
            "grid_template_columns": null,
            "grid_template_rows": null,
            "height": null,
            "justify_content": null,
            "justify_items": null,
            "left": null,
            "margin": null,
            "max_height": null,
            "max_width": null,
            "min_height": null,
            "min_width": null,
            "object_fit": null,
            "object_position": null,
            "order": null,
            "overflow": null,
            "overflow_x": null,
            "overflow_y": null,
            "padding": null,
            "right": null,
            "top": null,
            "visibility": null,
            "width": null
          }
        },
        "2282f238148443f2bf984e6ab4499376": {
          "model_module": "@jupyter-widgets/base",
          "model_module_version": "1.2.0",
          "model_name": "LayoutModel",
          "state": {
            "_model_module": "@jupyter-widgets/base",
            "_model_module_version": "1.2.0",
            "_model_name": "LayoutModel",
            "_view_count": null,
            "_view_module": "@jupyter-widgets/base",
            "_view_module_version": "1.2.0",
            "_view_name": "LayoutView",
            "align_content": null,
            "align_items": null,
            "align_self": null,
            "border": null,
            "bottom": null,
            "display": null,
            "flex": null,
            "flex_flow": null,
            "grid_area": null,
            "grid_auto_columns": null,
            "grid_auto_flow": null,
            "grid_auto_rows": null,
            "grid_column": null,
            "grid_gap": null,
            "grid_row": null,
            "grid_template_areas": null,
            "grid_template_columns": null,
            "grid_template_rows": null,
            "height": null,
            "justify_content": null,
            "justify_items": null,
            "left": null,
            "margin": null,
            "max_height": null,
            "max_width": null,
            "min_height": null,
            "min_width": null,
            "object_fit": null,
            "object_position": null,
            "order": null,
            "overflow": null,
            "overflow_x": null,
            "overflow_y": null,
            "padding": null,
            "right": null,
            "top": null,
            "visibility": null,
            "width": null
          }
        },
        "31a70d4efd3c4b92aa0def3638143189": {
          "model_module": "@jupyter-widgets/base",
          "model_module_version": "1.2.0",
          "model_name": "LayoutModel",
          "state": {
            "_model_module": "@jupyter-widgets/base",
            "_model_module_version": "1.2.0",
            "_model_name": "LayoutModel",
            "_view_count": null,
            "_view_module": "@jupyter-widgets/base",
            "_view_module_version": "1.2.0",
            "_view_name": "LayoutView",
            "align_content": null,
            "align_items": null,
            "align_self": null,
            "border": null,
            "bottom": null,
            "display": null,
            "flex": null,
            "flex_flow": null,
            "grid_area": null,
            "grid_auto_columns": null,
            "grid_auto_flow": null,
            "grid_auto_rows": null,
            "grid_column": null,
            "grid_gap": null,
            "grid_row": null,
            "grid_template_areas": null,
            "grid_template_columns": null,
            "grid_template_rows": null,
            "height": null,
            "justify_content": null,
            "justify_items": null,
            "left": null,
            "margin": null,
            "max_height": null,
            "max_width": null,
            "min_height": null,
            "min_width": null,
            "object_fit": null,
            "object_position": null,
            "order": null,
            "overflow": null,
            "overflow_x": null,
            "overflow_y": null,
            "padding": null,
            "right": null,
            "top": null,
            "visibility": null,
            "width": null
          }
        },
        "85714dae5b924a85bf0c81c83f81d2a8": {
          "model_module": "@jupyter-widgets/controls",
          "model_module_version": "1.5.0",
          "model_name": "HBoxModel",
          "state": {
            "_dom_classes": [],
            "_model_module": "@jupyter-widgets/controls",
            "_model_module_version": "1.5.0",
            "_model_name": "HBoxModel",
            "_view_count": null,
            "_view_module": "@jupyter-widgets/controls",
            "_view_module_version": "1.5.0",
            "_view_name": "HBoxView",
            "box_style": "",
            "children": [
              "IPY_MODEL_e7b9a91a11064e24b0fc9c4bd173ad42",
              "IPY_MODEL_d9f8b48116d64b7486f15800e0be7e7b",
              "IPY_MODEL_0c5b050ecde9430c8ca931c09217b867"
            ],
            "layout": "IPY_MODEL_13a3d82c1e894ccda34a7578976c5180"
          }
        },
        "a3ae2d0e454843baab56485d32b81fb6": {
          "model_module": "@jupyter-widgets/controls",
          "model_module_version": "1.5.0",
          "model_name": "ProgressStyleModel",
          "state": {
            "_model_module": "@jupyter-widgets/controls",
            "_model_module_version": "1.5.0",
            "_model_name": "ProgressStyleModel",
            "_view_count": null,
            "_view_module": "@jupyter-widgets/base",
            "_view_module_version": "1.2.0",
            "_view_name": "StyleView",
            "bar_color": null,
            "description_width": ""
          }
        },
        "d9f8b48116d64b7486f15800e0be7e7b": {
          "model_module": "@jupyter-widgets/controls",
          "model_module_version": "1.5.0",
          "model_name": "FloatProgressModel",
          "state": {
            "_dom_classes": [],
            "_model_module": "@jupyter-widgets/controls",
            "_model_module_version": "1.5.0",
            "_model_name": "FloatProgressModel",
            "_view_count": null,
            "_view_module": "@jupyter-widgets/controls",
            "_view_module_version": "1.5.0",
            "_view_name": "ProgressView",
            "bar_style": "success",
            "description": "",
            "description_tooltip": null,
            "layout": "IPY_MODEL_fbd849bfcb9843edb3b8367c9e512c22",
            "max": 170498071,
            "min": 0,
            "orientation": "horizontal",
            "style": "IPY_MODEL_a3ae2d0e454843baab56485d32b81fb6",
            "value": 170498071
          }
        },
        "e7b9a91a11064e24b0fc9c4bd173ad42": {
          "model_module": "@jupyter-widgets/controls",
          "model_module_version": "1.5.0",
          "model_name": "HTMLModel",
          "state": {
            "_dom_classes": [],
            "_model_module": "@jupyter-widgets/controls",
            "_model_module_version": "1.5.0",
            "_model_name": "HTMLModel",
            "_view_count": null,
            "_view_module": "@jupyter-widgets/controls",
            "_view_module_version": "1.5.0",
            "_view_name": "HTMLView",
            "description": "",
            "description_tooltip": null,
            "layout": "IPY_MODEL_31a70d4efd3c4b92aa0def3638143189",
            "placeholder": "​",
            "style": "IPY_MODEL_0b5f540cee884a539d538cecf7d7f07f",
            "value": "100%"
          }
        },
        "fbd849bfcb9843edb3b8367c9e512c22": {
          "model_module": "@jupyter-widgets/base",
          "model_module_version": "1.2.0",
          "model_name": "LayoutModel",
          "state": {
            "_model_module": "@jupyter-widgets/base",
            "_model_module_version": "1.2.0",
            "_model_name": "LayoutModel",
            "_view_count": null,
            "_view_module": "@jupyter-widgets/base",
            "_view_module_version": "1.2.0",
            "_view_name": "LayoutView",
            "align_content": null,
            "align_items": null,
            "align_self": null,
            "border": null,
            "bottom": null,
            "display": null,
            "flex": null,
            "flex_flow": null,
            "grid_area": null,
            "grid_auto_columns": null,
            "grid_auto_flow": null,
            "grid_auto_rows": null,
            "grid_column": null,
            "grid_gap": null,
            "grid_row": null,
            "grid_template_areas": null,
            "grid_template_columns": null,
            "grid_template_rows": null,
            "height": null,
            "justify_content": null,
            "justify_items": null,
            "left": null,
            "margin": null,
            "max_height": null,
            "max_width": null,
            "min_height": null,
            "min_width": null,
            "object_fit": null,
            "object_position": null,
            "order": null,
            "overflow": null,
            "overflow_x": null,
            "overflow_y": null,
            "padding": null,
            "right": null,
            "top": null,
            "visibility": null,
            "width": null
          }
        }
      }
    }
  },
  "nbformat": 4,
  "nbformat_minor": 0
}
