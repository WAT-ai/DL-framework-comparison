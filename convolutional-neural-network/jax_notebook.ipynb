{
 "cells": [
  {
   "cell_type": "code",
   "execution_count": 8,
   "id": "d744182d-f706-484b-bd7b-4027b39ae146",
   "metadata": {},
   "outputs": [
    {
     "data": {
      "text/plain": [
       "'\\nLinks: \\n\\nJax:\\nhttps://github.com/google/jax/tree/main/jax/example_libraries\\nhttps://teddykoker.com/2022/04/learning-to-learn-jax/\\nhttps://jax.readthedocs.io/en/latest/notebooks/neural_network_with_tfds_data.html\\nhttps://jax.readthedocs.io/en/latest/notebooks/convolutions.html\\nhttps://coderzcolumn.com/tutorials/artificial-intelligence/jax-guide-to-create-convolutional-neural-networks\\n\\nOptax:\\nhttps://github.com/deepmind/optax\\nhttps://optax.readthedocs.io/en/latest/optax-101.html\\n\\nFlax:\\nhttps://github.com/google/flax\\nhttps://flax.readthedocs.io/en/latest/getting_started.html\\nhttps://coderzcolumn.com/tutorials/artificial-intelligence/flax-cnn\\n\\n'"
      ]
     },
     "execution_count": 8,
     "metadata": {},
     "output_type": "execute_result"
    }
   ],
   "source": [
    "\"\"\"\n",
    "Links: \n",
    "\n",
    "Jax:\n",
    "https://github.com/google/jax/tree/main/jax/example_libraries\n",
    "https://teddykoker.com/2022/04/learning-to-learn-jax/\n",
    "https://jax.readthedocs.io/en/latest/notebooks/neural_network_with_tfds_data.html\n",
    "https://jax.readthedocs.io/en/latest/notebooks/convolutions.html\n",
    "https://coderzcolumn.com/tutorials/artificial-intelligence/jax-guide-to-create-convolutional-neural-networks\n",
    "\n",
    "Optax:\n",
    "https://github.com/deepmind/optax\n",
    "https://optax.readthedocs.io/en/latest/optax-101.html\n",
    "\n",
    "Flax:\n",
    "https://github.com/google/flax\n",
    "https://flax.readthedocs.io/en/latest/getting_started.html\n",
    "https://coderzcolumn.com/tutorials/artificial-intelligence/flax-cnn\n",
    "\n",
    "\"\"\""
   ]
  },
  {
   "cell_type": "code",
   "execution_count": 45,
   "id": "99d91236-2920-4ae9-a436-048c03ccf3dc",
   "metadata": {},
   "outputs": [
    {
     "data": {
      "text/plain": [
       "((60000, 28, 28, 1), (10000, 28, 28, 1), (60000,), (10000,))"
      ]
     },
     "execution_count": 45,
     "metadata": {},
     "output_type": "execute_result"
    }
   ],
   "source": [
    "\"\"\"\n",
    "Jax CNN Example using MNIST\n",
    "\"\"\"\n",
    "\n",
    "from jax.example_libraries import stax, optimizers\n",
    "from jax import numpy as jnp\n",
    "from tensorflow import keras\n",
    "from sklearn.model_selection import train_test_split\n",
    "\n",
    "\n",
    "(X_train, Y_train), (X_test, Y_test) = keras.datasets.fashion_mnist.load_data()\n",
    "\n",
    "X_train, X_test, Y_train, Y_test = jnp.array(X_train, dtype=jnp.float32),\\\n",
    "                                   jnp.array(X_test, dtype=jnp.float32),\\\n",
    "                                   jnp.array(Y_train, dtype=jnp.float32),\\\n",
    "                                   jnp.array(Y_test, dtype=jnp.float32)\n",
    "\n",
    "X_train, X_test = X_train.reshape(-1,28,28,1), X_test.reshape(-1,28,28,1)\n",
    "\n",
    "X_train, X_test = X_train/255.0, X_test/255.0\n",
    "\n",
    "classes =  jnp.unique(Y_train)\n",
    "\n",
    "X_train.shape, X_test.shape, Y_train.shape, Y_test.shape"
   ]
  },
  {
   "cell_type": "code",
   "execution_count": 41,
   "id": "1c48d26b-b962-4555-bf16-828fed0b89f3",
   "metadata": {},
   "outputs": [],
   "source": [
    "conv_init, conv_apply = stax.serial(\n",
    "    stax.Conv(32,(3,3), padding=\"SAME\"),\n",
    "    stax.Relu,\n",
    "    stax.Conv(16, (3,3), padding=\"SAME\"),\n",
    "    stax.Relu,\n",
    "\n",
    "    stax.Flatten,\n",
    "    stax.Dense(len(classes)),\n",
    "    stax.Softmax\n",
    ")\n",
    "\n",
    "seed = jax.random.PRNGKey(123)\n",
    "learning_rate = jnp.array(1/1e4)\n",
    "epochs = 10\n",
    "batch_size=128\n",
    "\n",
    "weights = conv_init(rng, (batch_size,28,28,1))\n",
    "params = weights[1]\n",
    "\n",
    "opt_init, opt_update, opt_get_weights = optimizers.sgd(learning_rate)\n",
    "opt_state = opt_init(params)"
   ]
  },
  {
   "cell_type": "code",
   "execution_count": 42,
   "id": "1040b6f7-c5ba-4952-92e6-f662deacdec1",
   "metadata": {},
   "outputs": [
    {
     "name": "stdout",
     "output_type": "stream",
     "text": [
      "[[0.1010583  0.08450612 0.08876862 0.10357413 0.09424469 0.06837884\n",
      "  0.13585266 0.10559722 0.10213768 0.11588172]\n",
      " [0.10652138 0.08236858 0.11018915 0.11165013 0.08258919 0.0772452\n",
      "  0.14238864 0.09115906 0.0884075  0.10748117]\n",
      " [0.09566505 0.09545238 0.10094573 0.10249694 0.09882495 0.08883354\n",
      "  0.11344208 0.09690958 0.10275006 0.10467971]\n",
      " [0.10200436 0.08598677 0.10633809 0.10407417 0.09481844 0.0829622\n",
      "  0.12135128 0.093064   0.09924015 0.11016052]\n",
      " [0.09390712 0.08359886 0.10012674 0.11463808 0.09753537 0.07206484\n",
      "  0.12989205 0.08960547 0.10824842 0.11038305]]\n"
     ]
    }
   ],
   "source": [
    "# make prediction\n",
    "preds = conv_apply(params, X_train[:5])\n",
    "print(preds)"
   ]
  },
  {
   "cell_type": "code",
   "execution_count": 43,
   "id": "6cb85a06-d474-44f7-9f35-39d7fbfa8618",
   "metadata": {},
   "outputs": [],
   "source": [
    "from jax import value_and_grad\n",
    "\n",
    "def CrossEntropyLoss(weights, input_data, actual):\n",
    "    preds = conv_apply(weights, input_data)\n",
    "    one_hot_actual = jax.nn.one_hot(actual, num_classes=len(classes))\n",
    "    log_preds = jnp.log(preds)\n",
    "    return - jnp.sum(one_hot_actual * log_preds)\n",
    "\n",
    "def TrainModelInBatches(X, Y, epochs, opt_state, batch_size=32):\n",
    "    for i in range(1, epochs+1):\n",
    "        batches = jnp.arange((X.shape[0]//batch_size)+1) ### Batch Indices\n",
    "\n",
    "        losses = [] ## Record loss of each batch\n",
    "        for batch in batches:\n",
    "            if batch != batches[-1]:\n",
    "                start, end = int(batch*batch_size), int(batch*batch_size+batch_size)\n",
    "            else:\n",
    "                start, end = int(batch*batch_size), None\n",
    "\n",
    "            X_batch, Y_batch = X[start:end], Y[start:end] ## Single batch of data\n",
    "\n",
    "            loss, gradients = value_and_grad(CrossEntropyLoss)(opt_get_weights(opt_state), X_batch,Y_batch)\n",
    "\n",
    "            ## Update Weights\n",
    "            opt_state = opt_update(i, gradients, opt_state)\n",
    "\n",
    "            losses.append(loss) ## Record Loss\n",
    "\n",
    "        print(\"CrossEntropyLoss : {:.3f}\".format(jnp.array(losses).mean()))\n",
    "\n",
    "    return opt_state"
   ]
  },
  {
   "cell_type": "code",
   "execution_count": 44,
   "id": "2f7d0105-0ae6-41ee-b540-4059bf461264",
   "metadata": {},
   "outputs": [
    {
     "name": "stdout",
     "output_type": "stream",
     "text": [
      "CrossEntropyLoss : 105.415\n",
      "CrossEntropyLoss : 70.646\n",
      "CrossEntropyLoss : 63.197\n",
      "CrossEntropyLoss : 58.752\n",
      "CrossEntropyLoss : 55.373\n",
      "CrossEntropyLoss : 52.601\n",
      "CrossEntropyLoss : 50.305\n",
      "CrossEntropyLoss : 48.366\n",
      "CrossEntropyLoss : 46.709\n",
      "CrossEntropyLoss : 45.297\n"
     ]
    }
   ],
   "source": [
    "final_opt_state = TrainModelInBatches(X_train, Y_train, epochs, opt_state, batch_size=batch_size)"
   ]
  },
  {
   "cell_type": "code",
   "execution_count": null,
   "id": "777ee9f2-e987-4992-aa57-ecf7fbe85a2c",
   "metadata": {},
   "outputs": [],
   "source": []
  }
 ],
 "metadata": {
  "kernelspec": {
   "display_name": "jax-flax-cpu",
   "language": "python",
   "name": "jax-flax-cpu"
  },
  "language_info": {
   "codemirror_mode": {
    "name": "ipython",
    "version": 3
   },
   "file_extension": ".py",
   "mimetype": "text/x-python",
   "name": "python",
   "nbconvert_exporter": "python",
   "pygments_lexer": "ipython3",
   "version": "3.8.13"
  }
 },
 "nbformat": 4,
 "nbformat_minor": 5
}
