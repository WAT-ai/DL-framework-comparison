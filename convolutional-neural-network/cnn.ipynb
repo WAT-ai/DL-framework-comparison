{
 "cells": [
  {
   "cell_type": "code",
   "execution_count": 10,
   "id": "125097c8-5d91-427e-9391-82f170a76df0",
   "metadata": {},
   "outputs": [
    {
     "name": "stdout",
     "output_type": "stream",
     "text": [
      "Jax CNN Notebook...\n"
     ]
    }
   ],
   "source": [
    "\"\"\"\n",
    "Flax CNN\n",
    "\"\"\"\n",
    "\n",
    "import jax\n",
    "import jax.numpy as jnp                # JAX NumPy\n",
    "\n",
    "from flax import linen as nn           # The Linen API\n",
    "from flax.training import train_state  # Useful dataclass to keep train state\n",
    "\n",
    "import numpy as np                     # Ordinary NumPy\n",
    "import optax                           # Optimizers\n",
    "\n",
    "# Load dataset\n",
    "import keras\n",
    "import tensorflow as tf\n",
    "from sklearn.model_selection import train_test_split\n",
    "\n",
    "# Suppress warning and info messages from jax\n",
    "import os  \n",
    "os.environ['TF_CPP_MIN_LOG_LEVEL'] = '2'\n",
    "\n",
    "print(\"Jax CNN Notebook...\")"
   ]
  },
  {
   "cell_type": "code",
   "execution_count": 11,
   "id": "5052a202-d297-4717-b1ed-c42d493432de",
   "metadata": {},
   "outputs": [],
   "source": [
    "def load_data():\n",
    "    (x_train, y_train), (x_test, y_test) = keras.datasets.cifar10.load_data()\n",
    "    # print(f\"x_train: {x_train.shape}\")\n",
    "    # print(f\"y_train: {y_train.shape}\")\n",
    "    # print(f\"x_test: {x_test.shape}\")\n",
    "    # print(f\"y_test: {y_test.shape}\")\n",
    "    \n",
    "    # Normalize data to range [0, 1]\n",
    "    x_train = x_train / 255\n",
    "    y_train = y_train / 255\n",
    "    x_test = x_test / 255\n",
    "    y_test = y_test / 255\n",
    "    \n",
    "    # Create validation set\n",
    "    x_train, x_val, y_train, y_val = train_test_split(x_train, y_train, test_size=5000, random_state=4)\n",
    "    # print(f\"x_train: {x_train.shape}\")\n",
    "    # print(f\"y_train: {y_train.shape}\")\n",
    "    # print(f\"x_val: {x_val.shape}\")\n",
    "    # print(f\"y_val: {y_val.shape}\")\n",
    "\n",
    "    # https://www.tensorflow.org/api_docs/python/tf/image/ResizeMethod\n",
    "    x_train_padded = tf.image.resize_with_pad(\n",
    "        x_train,\n",
    "        40,\n",
    "        40,\n",
    "        method=tf.image.ResizeMethod.GAUSSIAN,\n",
    "        antialias=False\n",
    "    )\n",
    "    print(f\"x_train_padded: {x_train_padded.shape}\")\n",
    "    \n",
    "    # cropped images\n",
    "    x_train_cropped = tf.image.crop_to_bounding_box(\n",
    "        x_train_padded, 0, 0, 32, 32\n",
    "    )\n",
    "    print(f\"x_train_cropped: {x_train_cropped.shape}\")\n",
    "    \n",
    "    # re-assign\n",
    "    x_train = x_train_cropped\n",
    "    \n",
    "    return x_train, y_train, x_val, y_val, x_test, y_test"
   ]
  },
  {
   "cell_type": "code",
   "execution_count": 12,
   "id": "7970c503-423d-4e14-86f3-e91bd515efbd",
   "metadata": {},
   "outputs": [
    {
     "name": "stdout",
     "output_type": "stream",
     "text": [
      "x_train_padded: (45000, 40, 40, 3)\n",
      "x_train_cropped: (45000, 32, 32, 3)\n",
      "x_train: (45000, 32, 32, 3)\n",
      "y_train: (45000, 1)\n",
      "x_val: (5000, 32, 32, 3)\n",
      "y_val: (5000, 1)\n",
      "x_test: (10000, 32, 32, 3)\n",
      "y_test: (10000, 1)\n"
     ]
    }
   ],
   "source": [
    "x_train, y_train, x_val, y_val, x_test, y_test = load_data()\n",
    "print(f\"x_train: {x_train.shape}\")\n",
    "print(f\"y_train: {y_train.shape}\")\n",
    "print(f\"x_val: {x_val.shape}\")\n",
    "print(f\"y_val: {y_val.shape}\")\n",
    "print(f\"x_test: {x_test.shape}\")\n",
    "print(f\"y_test: {y_test.shape}\")"
   ]
  },
  {
   "cell_type": "code",
   "execution_count": null,
   "id": "f49fbbaf-073c-424d-848d-a1300966b1fc",
   "metadata": {},
   "outputs": [],
   "source": [
    "class CNN(nn.Module):\n",
    "    \n",
    "    def setup(self):\n",
    "        self.input = linen.Conv(features=32, kernel_size=(3,3), padding=\"SAME\", name=\"input\")\n",
    "        \n",
    "        self.b1_conv1 = linen.Conv(features=16, kernel_size=(3,3), padding=\"SAME\", name=\"block1_conv1\")\n",
    "        self.b1_conv2 = linen.Conv(features=16, kernel_size=(3,3), padding=\"SAME\", name=\"block1_conv2\")\n",
    "\n",
    "    def __call__(self, inputs):\n",
    "        \n",
    "        # input\n",
    "        x = nn.relu(self.input(inputs))\n",
    "        \n",
    "        # block 1\n",
    "        x = nn.relu(self.b1_conv1(x))\n",
    "        x = nn.relu(self.b1_conv2(x))\n",
    "        \n",
    "        # block 2\n",
    "        \n",
    "\n",
    "        # flatten\n",
    "        x = x.reshape((x.shape[0], -1))\n",
    "        x = self.linear1(x)\n",
    "\n",
    "        return  linen.softmax(x)"
   ]
  }
 ],
 "metadata": {
  "kernelspec": {
   "display_name": "jax-flax-cpu",
   "language": "python",
   "name": "jax-flax-cpu"
  },
  "language_info": {
   "codemirror_mode": {
    "name": "ipython",
    "version": 3
   },
   "file_extension": ".py",
   "mimetype": "text/x-python",
   "name": "python",
   "nbconvert_exporter": "python",
   "pygments_lexer": "ipython3",
   "version": "3.8.13"
  }
 },
 "nbformat": 4,
 "nbformat_minor": 5
}
