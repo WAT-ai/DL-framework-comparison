{
 "cells": [
  {
   "cell_type": "code",
   "execution_count": 2,
   "id": "125097c8-5d91-427e-9391-82f170a76df0",
   "metadata": {},
   "outputs": [
    {
     "name": "stderr",
     "output_type": "stream",
     "text": [
      "2023-01-23 16:37:20.613628: W tensorflow/stream_executor/platform/default/dso_loader.cc:64] Could not load dynamic library 'libcudart.so.11.0'; dlerror: libcudart.so.11.0: cannot open shared object file: No such file or directory\n",
      "2023-01-23 16:37:20.675209: E tensorflow/stream_executor/cuda/cuda_blas.cc:2981] Unable to register cuBLAS factory: Attempting to register factory for plugin cuBLAS when one has already been registered\n",
      "2023-01-23 16:37:21.614953: W tensorflow/stream_executor/platform/default/dso_loader.cc:64] Could not load dynamic library 'libnvinfer.so.7'; dlerror: libnvinfer.so.7: cannot open shared object file: No such file or directory\n",
      "2023-01-23 16:37:21.615044: W tensorflow/stream_executor/platform/default/dso_loader.cc:64] Could not load dynamic library 'libnvinfer_plugin.so.7'; dlerror: libnvinfer_plugin.so.7: cannot open shared object file: No such file or directory\n",
      "2023-01-23 16:37:21.615052: W tensorflow/compiler/tf2tensorrt/utils/py_utils.cc:38] TF-TRT Warning: Cannot dlopen some TensorRT libraries. If you would like to use Nvidia GPU with TensorRT, please make sure the missing libraries mentioned above are installed properly.\n"
     ]
    },
    {
     "name": "stdout",
     "output_type": "stream",
     "text": [
      "Jax CNN Notebook...\n"
     ]
    }
   ],
   "source": [
    "\"\"\"\n",
    "Flax CNN\n",
    "\"\"\"\n",
    "\n",
    "import jax\n",
    "import jax.numpy as jnp                # JAX NumPy\n",
    "\n",
    "from flax import linen as nn           # The Linen API\n",
    "from flax.training import train_state  # Useful dataclass to keep train state\n",
    "\n",
    "import numpy as np                     # Ordinary NumPy\n",
    "import optax                           # Optimizers\n",
    "\n",
    "# Load dataset\n",
    "import keras\n",
    "import tensorflow as tf\n",
    "from sklearn.model_selection import train_test_split\n",
    "\n",
    "# Suppress warning and info messages from jax\n",
    "import os  \n",
    "os.environ['TF_CPP_MIN_LOG_LEVEL'] = '2'\n",
    "\n",
    "print(\"Jax CNN Notebook...\")"
   ]
  },
  {
   "cell_type": "code",
   "execution_count": 7,
   "id": "5052a202-d297-4717-b1ed-c42d493432de",
   "metadata": {},
   "outputs": [],
   "source": [
    "def load_data():\n",
    "    (x_train, y_train), (x_test, y_test) = tf.keras.datasets.cifar10.load_data()\n",
    "    # print(f\"x_train: {x_train.shape}\")\n",
    "    # print(f\"y_train: {y_train.shape}\")\n",
    "    # print(f\"x_test: {x_test.shape}\")\n",
    "    # print(f\"y_test: {y_test.shape}\")\n",
    "    \n",
    "    # Normalize data to range [0, 1]\n",
    "    x_train = x_train / 255\n",
    "    y_train = y_train / 255\n",
    "    x_test = x_test / 255\n",
    "    y_test = y_test / 255\n",
    "    \n",
    "    # Create validation set\n",
    "    x_train, x_val, y_train, y_val = train_test_split(x_train, y_train, test_size=5000, random_state=4)\n",
    "    # print(f\"x_train: {x_train.shape}\")\n",
    "    # print(f\"y_train: {y_train.shape}\")\n",
    "    # print(f\"x_val: {x_val.shape}\")\n",
    "    # print(f\"y_val: {y_val.shape}\")\n",
    "\n",
    "    # https://www.tensorflow.org/api_docs/python/tf/image/ResizeMethod\n",
    "    # Have padding be zeros\n",
    "    x_train_padded = tf.image.resize_with_pad(\n",
    "        x_train,\n",
    "        40,\n",
    "        40,\n",
    "        method=tf.image.ResizeMethod.GAUSSIAN,\n",
    "        antialias=False\n",
    "    )\n",
    "    print(f\"x_train_padded: {x_train_padded.shape}\")\n",
    "    \n",
    "    # cropped images\n",
    "    x_train_cropped = tf.image.crop_to_bounding_box(\n",
    "        x_train_padded, 0, 0, 32, 32\n",
    "    )\n",
    "    print(f\"x_train_cropped: {x_train_cropped.shape}\")\n",
    "    \n",
    "    # re-assign\n",
    "    x_train = x_train_cropped\n",
    "    \n",
    "    return x_train, y_train, x_val, y_val, x_test, y_test"
   ]
  },
  {
   "cell_type": "code",
   "execution_count": 8,
   "id": "7970c503-423d-4e14-86f3-e91bd515efbd",
   "metadata": {},
   "outputs": [
    {
     "name": "stderr",
     "output_type": "stream",
     "text": [
      "2023-01-23 16:37:59.994321: W tensorflow/stream_executor/platform/default/dso_loader.cc:64] Could not load dynamic library 'libcudart.so.11.0'; dlerror: libcudart.so.11.0: cannot open shared object file: No such file or directory\n",
      "2023-01-23 16:37:59.994390: W tensorflow/stream_executor/platform/default/dso_loader.cc:64] Could not load dynamic library 'libcublas.so.11'; dlerror: libcublas.so.11: cannot open shared object file: No such file or directory\n",
      "2023-01-23 16:37:59.994432: W tensorflow/stream_executor/platform/default/dso_loader.cc:64] Could not load dynamic library 'libcublasLt.so.11'; dlerror: libcublasLt.so.11: cannot open shared object file: No such file or directory\n",
      "2023-01-23 16:37:59.994479: W tensorflow/stream_executor/platform/default/dso_loader.cc:64] Could not load dynamic library 'libcufft.so.10'; dlerror: libcufft.so.10: cannot open shared object file: No such file or directory\n",
      "2023-01-23 16:37:59.994523: W tensorflow/stream_executor/platform/default/dso_loader.cc:64] Could not load dynamic library 'libcurand.so.10'; dlerror: libcurand.so.10: cannot open shared object file: No such file or directory\n",
      "2023-01-23 16:37:59.994565: W tensorflow/stream_executor/platform/default/dso_loader.cc:64] Could not load dynamic library 'libcusolver.so.11'; dlerror: libcusolver.so.11: cannot open shared object file: No such file or directory\n",
      "2023-01-23 16:37:59.994606: W tensorflow/stream_executor/platform/default/dso_loader.cc:64] Could not load dynamic library 'libcusparse.so.11'; dlerror: libcusparse.so.11: cannot open shared object file: No such file or directory\n",
      "2023-01-23 16:37:59.994647: W tensorflow/stream_executor/platform/default/dso_loader.cc:64] Could not load dynamic library 'libcudnn.so.8'; dlerror: libcudnn.so.8: cannot open shared object file: No such file or directory\n",
      "2023-01-23 16:37:59.994655: W tensorflow/core/common_runtime/gpu/gpu_device.cc:1934] Cannot dlopen some GPU libraries. Please make sure the missing libraries mentioned above are installed properly if you would like to use GPU. Follow the guide at https://www.tensorflow.org/install/gpu for how to download and setup the required libraries for your platform.\n",
      "Skipping registering GPU devices...\n",
      "2023-01-23 16:38:00.784575: W tensorflow/core/framework/cpu_allocator_impl.cc:82] Allocation of 1105920000 exceeds 10% of free system memory.\n",
      "2023-01-23 16:38:01.245967: W tensorflow/core/framework/cpu_allocator_impl.cc:82] Allocation of 864000000 exceeds 10% of free system memory.\n",
      "2023-01-23 16:38:01.246339: W tensorflow/core/framework/cpu_allocator_impl.cc:82] Allocation of 691200000 exceeds 10% of free system memory.\n"
     ]
    },
    {
     "name": "stdout",
     "output_type": "stream",
     "text": [
      "x_train_padded: (45000, 40, 40, 3)\n",
      "x_train_cropped: (45000, 32, 32, 3)\n",
      "x_train: (45000, 32, 32, 3)\n",
      "y_train: (45000, 1)\n",
      "x_val: (5000, 32, 32, 3)\n",
      "y_val: (5000, 1)\n",
      "x_test: (10000, 32, 32, 3)\n",
      "y_test: (10000, 1)\n"
     ]
    },
    {
     "name": "stderr",
     "output_type": "stream",
     "text": [
      "2023-01-23 16:38:03.034500: W tensorflow/core/framework/cpu_allocator_impl.cc:82] Allocation of 552960000 exceeds 10% of free system memory.\n"
     ]
    }
   ],
   "source": [
    "x_train, y_train, x_val, y_val, x_test, y_test = load_data()\n",
    "print(f\"x_train: {x_train.shape}\")\n",
    "print(f\"y_train: {y_train.shape}\")\n",
    "print(f\"x_val: {x_val.shape}\")\n",
    "print(f\"y_val: {y_val.shape}\")\n",
    "print(f\"x_test: {x_test.shape}\")\n",
    "print(f\"y_test: {y_test.shape}\")"
   ]
  },
  {
   "cell_type": "code",
   "execution_count": 9,
   "id": "f49fbbaf-073c-424d-848d-a1300966b1fc",
   "metadata": {},
   "outputs": [],
   "source": [
    "class CNN(nn.Module):\n",
    "    @nn.compact\n",
    "    def __call__(self, x):\n",
    "        \n",
    "        # Input layer\n",
    "        x = nn.Conv(features=16, kernel_size=(3, 3), padding=1)(x)  # (4, 32, 32, 3) -> (4, 32, 32, 16)\n",
    "        x = nn.relu(x)\n",
    "        \n",
    "        # Block 1\n",
    "        x = nn.Conv(features=16, kernel_size=(3, 3), padding=1)(x)  # (4, 32, 32, 16) -> (4, 32, 32, 16)\n",
    "        x = nn.relu(x)\n",
    "        x = nn.Conv(features=16, kernel_size=(3, 3), padding=1)(x)  # (4, 32, 32, 16) -> (4, 32, 32, 16)\n",
    "        x = nn.relu(x)\n",
    "        \n",
    "        # Block 2\n",
    "        x = nn.Conv(features=16, kernel_size=(3, 3), padding=1)(x)  # (4, 32, 32, 16) -> (4, 32, 32, 16)\n",
    "        x = nn.relu(x)\n",
    "        x = nn.Conv(features=16, kernel_size=(3, 3), padding=1)(x)  # (4, 32, 32, 16) -> (4, 32, 32, 16)\n",
    "        x = nn.relu(x)\n",
    "        \n",
    "        # Block 3\n",
    "        x = nn.Conv(features=16, kernel_size=(3, 3), padding=1)(x)  # (4, 32, 32, 16) -> (4, 32, 32, 16)\n",
    "        x = nn.relu(x)\n",
    "        x = nn.Conv(features=16, kernel_size=(3, 3), padding=1)(x)  # (4, 32, 32, 16) -> (4, 32, 32, 16)\n",
    "        x = nn.relu(x)\n",
    "        \n",
    "        # Block 4\n",
    "        x = nn.Conv(features=32, kernel_size=(3, 3), padding=1, strides=2)(x)  # (4, 32, 32, 16) -> (4, 16, 16, 32)\n",
    "        x = nn.relu(x)\n",
    "        x = nn.Conv(features=32, kernel_size=(3, 3), padding=1)(x)  # (4, 16, 16, 32) -> (4, 16, 16, 32)\n",
    "        x = nn.relu(x)\n",
    "        \n",
    "        # Block 5\n",
    "        x = nn.Conv(features=32, kernel_size=(3, 3), padding=1)(x)  # (4, 16, 16, 32) -> (4, 16, 16, 32)\n",
    "        x = nn.relu(x)\n",
    "        x = nn.Conv(features=32, kernel_size=(3, 3), padding=1)(x)  # (4, 16, 16, 32) -> (4, 16, 16, 32)\n",
    "        x = nn.relu(x)\n",
    "        \n",
    "        # Block 6\n",
    "        x = nn.Conv(features=32, kernel_size=(3, 3), padding=1)(x)  # (4, 16, 16, 32) -> (4, 16, 16, 32)\n",
    "        x = nn.relu(x)\n",
    "        x = nn.Conv(features=32, kernel_size=(3, 3), padding=1)(x)  # (4, 16, 16, 32) -> (4, 16, 16, 32)\n",
    "        x = nn.relu(x)\n",
    "        \n",
    "        # Block 7\n",
    "        x = nn.Conv(features=64, kernel_size=(3, 3), padding=1, strides=2)(x)  # (4, 16, 16, 32) -> (4, 8, 8, 64)\n",
    "        x = nn.relu(x)\n",
    "        x = nn.Conv(features=64, kernel_size=(3, 3), padding=1)(x)  # (4, 8, 8, 64) -> (4, 8, 8, 64)\n",
    "        x = nn.relu(x)\n",
    "        \n",
    "        # Block 8\n",
    "        x = nn.Conv(features=64, kernel_size=(3, 3), padding=1)(x)  # (4, 8, 8, 64) -> (4, 8, 8, 64)\n",
    "        x = nn.relu(x)\n",
    "        x = nn.Conv(features=64, kernel_size=(3, 3), padding=1)(x)  # (4, 8, 8, 64) -> (4, 8, 8, 64)\n",
    "        x = nn.relu(x)\n",
    "        \n",
    "        # Block 9\n",
    "        x = nn.Conv(features=64, kernel_size=(3, 3), padding=1)(x)  # (4, 8, 8, 64) -> (4, 8, 8, 64)\n",
    "        x = nn.relu(x)\n",
    "        x = nn.Conv(features=64, kernel_size=(3, 3), padding=1)(x)  # (4, 8, 8, 64) -> (4, 8, 8, 64)\n",
    "        x = nn.relu(x)\n",
    "        \n",
    "        # Pooling \n",
    "        x = nn.avg_pool(x, window_shape=(8, 8)) # (4, 8, 8, 64) -> (4, 1, 1, 64)\n",
    "        x = x.flatten()  # flatten (4, 1, 1, 64) -> (4, 64)\n",
    "        \n",
    "        # Output \n",
    "        x = nn.Dense(features=10)(x)\n",
    "        x = nn.log_softmax(x)\n",
    "        return x"
   ]
  },
  {
   "cell_type": "code",
   "execution_count": 10,
   "id": "ff3401b0-8e7c-4034-8fd2-463c23370b6d",
   "metadata": {},
   "outputs": [],
   "source": [
    "resnetv2 = CNN()"
   ]
  },
  {
   "cell_type": "code",
   "execution_count": 23,
   "id": "6ad862cd-2f1c-49ac-a0b0-c95d300c06fa",
   "metadata": {},
   "outputs": [
    {
     "data": {
      "text/plain": [
       "(10,)"
      ]
     },
     "execution_count": 23,
     "metadata": {},
     "output_type": "execute_result"
    }
   ],
   "source": [
    "# Test final output shape\n",
    "\n",
    "# Generate random data \n",
    "key = jax.random.PRNGKey(0)\n",
    "batch = jax.random.normal(key, (32, 32, 3))  # height, width, channel (NHWC)\n",
    "\n",
    "# Test model\n",
    "variables = resnetv2.init(key, batch)\n",
    "output = resnetv2.apply(variables, batch)\n",
    "output.shape"
   ]
  },
  {
   "cell_type": "code",
   "execution_count": null,
   "id": "f8a94c3a-dc2b-4862-ac59-907c7a175aab",
   "metadata": {},
   "outputs": [],
   "source": []
  }
 ],
 "metadata": {
  "kernelspec": {
   "display_name": "jax-flax-cpu",
   "language": "python",
   "name": "jax-flax-cpu"
  },
  "language_info": {
   "codemirror_mode": {
    "name": "ipython",
    "version": 3
   },
   "file_extension": ".py",
   "mimetype": "text/x-python",
   "name": "python",
   "nbconvert_exporter": "python",
   "pygments_lexer": "ipython3",
   "version": "3.8.13"
  }
 },
 "nbformat": 4,
 "nbformat_minor": 5
}
