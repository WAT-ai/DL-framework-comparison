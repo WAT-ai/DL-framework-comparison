{
 "cells": [
  {
   "cell_type": "markdown",
   "id": "0e969ff0",
   "metadata": {},
   "source": [
    "# Imports"
   ]
  },
  {
   "cell_type": "code",
   "execution_count": 34,
   "id": "061ec219",
   "metadata": {},
   "outputs": [],
   "source": [
    "using MLDatasets: MNIST\n",
    "using Knet, IterTools, MLDatasets\n",
    "using Base.Iterators: take, drop, cycle, Stateful\n",
    "using Printf\n",
    "using Knet:minibatch\n",
    "using Knet:minimize\n",
    "using Knet\n",
    "using Knet: Param\n",
    "using Knet: Knet, dir, accuracy, progress, sgd, gc, Data, nll, relu\n",
    "using Flatten\n",
    "using Flux.Data;\n",
    "using Flux, Statistics\n",
    "import Flatten: flattenable"
   ]
  },
  {
   "cell_type": "markdown",
   "id": "4be16139",
   "metadata": {},
   "source": [
    "# Processing Data"
   ]
  },
  {
   "cell_type": "code",
   "execution_count": 35,
   "id": "cb077122",
   "metadata": {},
   "outputs": [
    {
     "name": "stdout",
     "output_type": "stream",
     "text": [
      "28×28×60000 Array{Float32, 3}\n",
      "60000-element Vector{Int64}\n",
      "28×28×10000 Array{Float32, 3}\n",
      "10000-element Vector{Int64}\n"
     ]
    }
   ],
   "source": [
    "# This loads the MNIST handwritten digit recognition dataset. This code is based off the Knet Tutorial Notebook. \n",
    "xtrn,ytrn = MNIST.traindata(Float32)\n",
    "xtst,ytst = MNIST.testdata(Float32)\n",
    "println.(summary.((xtrn,ytrn,xtst,ytst)));"
   ]
  },
  {
   "cell_type": "code",
   "execution_count": 36,
   "id": "1c9abdfc",
   "metadata": {},
   "outputs": [
    {
     "name": "stdout",
     "output_type": "stream",
     "text": [
      "(\"784×60000 Matrix{Float32}\", \"784×10000 Matrix{Float32}\")\n"
     ]
    }
   ],
   "source": [
    "xtrn = reshape(xtrn, 784, 60000 ) \n",
    "xtst = reshape(xtst, 784, 10000 )\n",
    "println(summary.((xtrn, xtst))) # can see the data that is flattened "
   ]
  },
  {
   "cell_type": "code",
   "execution_count": 37,
   "id": "5b120fe0",
   "metadata": {},
   "outputs": [],
   "source": [
    "#Preprocessing targets: one hot vectors\n",
    "# ytrn = onehotbatch(ytrn, 0:9)\n",
    "# ytst = onehotbatch(ytst, 0:9)"
   ]
  },
  {
   "cell_type": "markdown",
   "id": "ca5b6908",
   "metadata": {},
   "source": [
    "# Batch Processing"
   ]
  },
  {
   "cell_type": "code",
   "execution_count": 38,
   "id": "3d8bc019",
   "metadata": {},
   "outputs": [],
   "source": [
    "train_loader = DataLoader((xtrn, ytrn), batchsize=128);"
   ]
  },
  {
   "cell_type": "code",
   "execution_count": null,
   "id": "08be497f",
   "metadata": {},
   "outputs": [],
   "source": []
  },
  {
   "cell_type": "code",
   "execution_count": 39,
   "id": "1d6b4034",
   "metadata": {},
   "outputs": [
    {
     "data": {
      "text/plain": [
       "DataLoader{Tuple{Matrix{Float32}, Vector{Int64}}, Random._GLOBAL_RNG, Val{nothing}}((Float32[0.0 0.0 … 0.0 0.0; 0.0 0.0 … 0.0 0.0; … ; 0.0 0.0 … 0.0 0.0; 0.0 0.0 … 0.0 0.0], [5, 0, 4, 1, 9, 2, 1, 3, 1, 4  …  9, 2, 9, 5, 1, 8, 3, 5, 6, 8]), 128, false, true, false, false, Val{nothing}(), Random._GLOBAL_RNG())"
      ]
     },
     "execution_count": 39,
     "metadata": {},
     "output_type": "execute_result"
    }
   ],
   "source": [
    "train_loader"
   ]
  },
  {
   "cell_type": "code",
   "execution_count": 40,
   "id": "cc30960a",
   "metadata": {},
   "outputs": [
    {
     "name": "stdout",
     "output_type": "stream",
     "text": [
      "784×128 Matrix{Float32}\n",
      "128-element Vector{Int64}\n"
     ]
    }
   ],
   "source": [
    "(x,y) = first(train_loader) #gives the first minibatch from training dataset\n",
    "println.(summary.((x,y)));"
   ]
  },
  {
   "cell_type": "code",
   "execution_count": 41,
   "id": "224f849d",
   "metadata": {},
   "outputs": [
    {
     "data": {
      "text/plain": [
       "DataLoader{Tuple{Matrix{Float32}, Vector{Int64}}, Random._GLOBAL_RNG, Val{nothing}}((Float32[0.0 0.0 … 0.0 0.0; 0.0 0.0 … 0.0 0.0; … ; 0.0 0.0 … 0.0 0.0; 0.0 0.0 … 0.0 0.0], [5, 0, 4, 1, 9, 2, 1, 3, 1, 4  …  9, 2, 9, 5, 1, 8, 3, 5, 6, 8]), 128, false, true, false, false, Val{nothing}(), Random._GLOBAL_RNG())"
      ]
     },
     "execution_count": 41,
     "metadata": {},
     "output_type": "execute_result"
    }
   ],
   "source": [
    "train_loader"
   ]
  },
  {
   "cell_type": "markdown",
   "id": "4748aa9a",
   "metadata": {},
   "source": [
    "# Define Dense Layer"
   ]
  },
  {
   "cell_type": "code",
   "execution_count": null,
   "id": "5f0043d2",
   "metadata": {},
   "outputs": [],
   "source": []
  },
  {
   "cell_type": "code",
   "execution_count": 42,
   "id": "830e10d0",
   "metadata": {},
   "outputs": [],
   "source": [
    "struct Dense1; w; b; f; end\n",
    "Dense1(i,o; f=relu) = Dense1(param(o,i), param0(o), f)\n",
    "(d::Dense1)(x) = d.f.(d.w * mat(x) .+ d.b)"
   ]
  },
  {
   "cell_type": "markdown",
   "id": "7f50ff27",
   "metadata": {
    "scrolled": true
   },
   "source": [
    "# Define Chain Layer\n"
   ]
  },
  {
   "cell_type": "code",
   "execution_count": 43,
   "id": "6507022b",
   "metadata": {},
   "outputs": [],
   "source": [
    "# Define a chain of layers and a loss function:\n",
    "struct Chain; layers; end\n",
    "(c::Chain)(x) = (for l in c.layers; x = l(x); end; x)\n",
    "(c::Chain)(x,y) = nll(c(x),y)"
   ]
  },
  {
   "cell_type": "markdown",
   "id": "588d08f8",
   "metadata": {},
   "source": [
    "# Define the Model"
   ]
  },
  {
   "cell_type": "code",
   "execution_count": 44,
   "id": "78ca61e1",
   "metadata": {},
   "outputs": [
    {
     "data": {
      "text/plain": [
       "Chain((Dense1(P(Matrix{Float32}(100,784)), P(Vector{Float32}(100)), Knet.Ops20.relu), Dense1(P(Matrix{Float32}(10,100)), P(Vector{Float32}(10)), Knet.Ops20.relu)))"
      ]
     },
     "execution_count": 44,
     "metadata": {},
     "output_type": "execute_result"
    }
   ],
   "source": [
    "model = Chain((Dense1(784, 100), Dense1(100, 10)))"
   ]
  },
  {
   "cell_type": "markdown",
   "id": "12fa672b",
   "metadata": {},
   "source": [
    "# Training"
   ]
  },
  {
   "cell_type": "code",
   "execution_count": 45,
   "id": "01ea3152",
   "metadata": {
    "scrolled": true
   },
   "outputs": [
    {
     "data": {
      "text/plain": [
       "10×128 Matrix{Float32}:\n",
       " 0.214272  0.269956   0.0         …  0.0        0.0        0.0\n",
       " 0.0       0.0        0.0            0.0        0.0        0.0688322\n",
       " 0.447498  0.223454   0.391645       0.0        0.0        0.0\n",
       " 0.0       0.0        0.209459       0.0        0.0        0.0\n",
       " 0.11944   0.0        0.0            0.124931   0.0        0.0\n",
       " 0.480624  0.0618137  0.0567281   …  0.337361   0.321017   0.279554\n",
       " 0.567259  0.579033   0.0            0.0177205  0.0287222  0.0821771\n",
       " 0.519518  0.900291   0.177696       0.304197   0.39036    0.436304\n",
       " 0.0       0.0        0.00714952     0.0        0.0        0.0\n",
       " 0.0       0.0        0.0            0.0        0.0        0.0"
      ]
     },
     "execution_count": 45,
     "metadata": {},
     "output_type": "execute_result"
    }
   ],
   "source": [
    "model(x) #checking if training is working"
   ]
  },
  {
   "cell_type": "code",
   "execution_count": 47,
   "id": "0cb35eba",
   "metadata": {},
   "outputs": [
    {
     "name": "stderr",
     "output_type": "stream",
     "text": [
      "┣████████████████████┫ [100.00%, 469/469, 00:04/00:04, 122.72i/s] \n",
      "┣                    ┫ [0.21%, 1/469, 00:00/00:03, 162.35i/s] "
     ]
    },
    {
     "name": "stdout",
     "output_type": "stream",
     "text": [
      "epoch is 1, loss is 0.223415, accuracy is 0.935518  4.726154 seconds (327.16 k allocations: 1.256 GiB, 15.36% gc time, 2.45% compilation time)\n"
     ]
    },
    {
     "name": "stderr",
     "output_type": "stream",
     "text": [
      "┣████████████████████┫ [100.00%, 469/469, 00:03/00:03, 185.82i/s] \n",
      "┣                    ┫ [0.21%, 1/469, 00:00/00:02, 205.09i/s] "
     ]
    },
    {
     "name": "stdout",
     "output_type": "stream",
     "text": [
      "epoch is 2, loss is 0.161276, accuracy is 0.956081  3.293366 seconds (311.97 k allocations: 1.254 GiB, 4.57% gc time)\n"
     ]
    },
    {
     "name": "stderr",
     "output_type": "stream",
     "text": [
      "┣████████████████████┫ [100.00%, 469/469, 00:03/00:03, 161.56i/s] \n",
      "┣                    ┫ [0.21%, 1/469, 00:00/00:03, 169.43i/s] "
     ]
    },
    {
     "name": "stdout",
     "output_type": "stream",
     "text": [
      "epoch is 3, loss is 0.129508, accuracy is 0.967232  3.659111 seconds (312.32 k allocations: 1.254 GiB, 4.26% gc time)\n"
     ]
    },
    {
     "name": "stderr",
     "output_type": "stream",
     "text": [
      "┣████████████████████┫ [100.00%, 469/469, 00:03/00:03, 151.47i/s] \n",
      "┣                    ┫ [0.21%, 1/469, 00:00/00:03, 162.74i/s] "
     ]
    },
    {
     "name": "stdout",
     "output_type": "stream",
     "text": [
      "epoch is 4, loss is 0.111773, accuracy is 0.973371  3.976988 seconds (312.50 k allocations: 1.254 GiB, 4.70% gc time)\n"
     ]
    },
    {
     "name": "stderr",
     "output_type": "stream",
     "text": [
      "┣████████████████████┫ [100.00%, 469/469, 00:03/00:03, 163.64i/s] \n",
      "┣                    ┫ [0.21%, 1/469, 00:00/00:02, 247.97i/s] "
     ]
    },
    {
     "name": "stdout",
     "output_type": "stream",
     "text": [
      "epoch is 5, loss is 0.100974, accuracy is 0.978142  3.635032 seconds (312.30 k allocations: 1.254 GiB, 5.48% gc time)\n"
     ]
    },
    {
     "name": "stderr",
     "output_type": "stream",
     "text": [
      "┣████████████████████┫ [100.00%, 469/469, 00:03/00:03, 156.73i/s] \n",
      "┣                    ┫ [0.21%, 1/469, 00:00/00:03, 172.15i/s] "
     ]
    },
    {
     "name": "stdout",
     "output_type": "stream",
     "text": [
      "epoch is 6, loss is 0.093855, accuracy is 0.981822  3.744225 seconds (312.30 k allocations: 1.254 GiB, 4.23% gc time)\n"
     ]
    },
    {
     "name": "stderr",
     "output_type": "stream",
     "text": [
      "┣████████████████████┫ [100.00%, 469/469, 00:03/00:03, 162.35i/s] \n",
      "┣                    ┫ [0.21%, 1/469, 00:00/00:03, 164.20i/s] "
     ]
    },
    {
     "name": "stdout",
     "output_type": "stream",
     "text": [
      "epoch is 7, loss is 0.089960, accuracy is 0.984115  3.644892 seconds (312.31 k allocations: 1.254 GiB, 3.83% gc time)\n"
     ]
    },
    {
     "name": "stderr",
     "output_type": "stream",
     "text": [
      "┣████████████████████┫ [100.00%, 469/469, 00:03/00:03, 170.55i/s] \n",
      "┣                    ┫ [0.21%, 1/469, 00:00/00:02, 196.92i/s] "
     ]
    },
    {
     "name": "stdout",
     "output_type": "stream",
     "text": [
      "epoch is 8, loss is 0.087794, accuracy is 0.986242  3.537420 seconds (312.31 k allocations: 1.254 GiB, 5.22% gc time)\n"
     ]
    },
    {
     "name": "stderr",
     "output_type": "stream",
     "text": [
      "┣████████████████████┫ [100.00%, 469/469, 00:04/00:04, 109.85i/s] \n",
      "┣                    ┫ [0.21%, 1/469, 00:00/00:03, 179.85i/s] "
     ]
    },
    {
     "name": "stdout",
     "output_type": "stream",
     "text": [
      "epoch is 9, loss is 0.085906, accuracy is 0.987814  5.220644 seconds (312.67 k allocations: 1.254 GiB, 4.46% gc time)\n"
     ]
    },
    {
     "name": "stderr",
     "output_type": "stream",
     "text": [
      "┣████████████████████┫ [100.00%, 469/469, 00:03/00:03, 157.98i/s] \n"
     ]
    },
    {
     "name": "stdout",
     "output_type": "stream",
     "text": [
      "epoch is 10, loss is 0.086418, accuracy is 0.989034  3.682666 seconds (312.32 k allocations: 1.254 GiB, 3.70% gc time)\n",
      "Overall Loss: 0.086418\n",
      "Overall Accuracy: 0.989034155001202\n"
     ]
    }
   ],
   "source": [
    "loss(xtst, ytst) = nll(model(xtst), ytst)\n",
    "evalcb = () -> (loss(xtst, ytst)) #function that will be called to get the loss \n",
    "\n",
    "    for epoch in 1:10\n",
    "        @time begin\n",
    "        progress!(adam(model, train_loader; lr = 1e-3))\n",
    "        @printf(\"epoch is %d, loss is %f, accuracy is %f\", epoch, (evalcb()), accuracy(model, train_loader))\n",
    "        end \n",
    "    end \n",
    "\n",
    "\n",
    "println(\"Overall Loss: \", evalcb()) \n",
    "println(\"Overall Accuracy: \", accuracy(model, train_loader))\n"
   ]
  },
  {
   "cell_type": "code",
   "execution_count": null,
   "id": "7af4c1eb",
   "metadata": {},
   "outputs": [],
   "source": []
  },
  {
   "cell_type": "code",
   "execution_count": null,
   "id": "a28d3616",
   "metadata": {},
   "outputs": [],
   "source": []
  },
  {
   "cell_type": "code",
   "execution_count": null,
   "id": "1cd9c1b7",
   "metadata": {
    "scrolled": true
   },
   "outputs": [],
   "source": [
    "\n"
   ]
  },
  {
   "cell_type": "code",
   "execution_count": null,
   "id": "d030c34c",
   "metadata": {},
   "outputs": [],
   "source": [
    "\n"
   ]
  },
  {
   "cell_type": "code",
   "execution_count": null,
   "id": "adc056c1",
   "metadata": {},
   "outputs": [],
   "source": []
  },
  {
   "cell_type": "code",
   "execution_count": null,
   "id": "1673271f",
   "metadata": {},
   "outputs": [],
   "source": [
    "\n"
   ]
  },
  {
   "cell_type": "code",
   "execution_count": null,
   "id": "686f14b8",
   "metadata": {},
   "outputs": [],
   "source": []
  },
  {
   "cell_type": "code",
   "execution_count": null,
   "id": "a56aaea6",
   "metadata": {},
   "outputs": [],
   "source": [
    "\n"
   ]
  },
  {
   "cell_type": "code",
   "execution_count": null,
   "id": "17a0901a",
   "metadata": {},
   "outputs": [],
   "source": []
  },
  {
   "cell_type": "code",
   "execution_count": null,
   "id": "83327f51",
   "metadata": {},
   "outputs": [],
   "source": [
    "\n"
   ]
  },
  {
   "cell_type": "code",
   "execution_count": null,
   "id": "68debc4d",
   "metadata": {},
   "outputs": [],
   "source": []
  }
 ],
 "metadata": {
  "kernelspec": {
   "display_name": "Julia 1.8.2",
   "language": "julia",
   "name": "julia-1.8"
  },
  "language_info": {
   "file_extension": ".jl",
   "mimetype": "application/julia",
   "name": "julia",
   "version": "1.8.2"
  }
 },
 "nbformat": 4,
 "nbformat_minor": 5
}
