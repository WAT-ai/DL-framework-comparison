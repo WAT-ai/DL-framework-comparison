{
 "cells": [
  {
   "cell_type": "markdown",
   "id": "0e969ff0",
   "metadata": {},
   "source": [
    "# Imports"
   ]
  },
  {
   "cell_type": "code",
   "execution_count": 78,
   "id": "061ec219",
   "metadata": {},
   "outputs": [],
   "source": [
    "using MLDatasets: MNIST\n",
    "using Knet, IterTools, MLDatasets\n",
    "using Dictionaries\n",
    "using TimerOutputs\n",
    "using TimerOutputs\n",
    "using JSON\n",
    "using Printf\n",
    "using Knet:minibatch\n",
    "using Knet:minimize\n",
    "using Knet\n",
    "using Knet: Param\n",
    "using Knet: Knet, dir, accuracy, progress, sgd, gc, Data, nll, relu\n",
    "using Flatten\n",
    "using Flux.Data;\n",
    "using Flux, Statistics"
   ]
  },
  {
   "cell_type": "markdown",
   "id": "4be16139",
   "metadata": {},
   "source": [
    "# Processing Data"
   ]
  },
  {
   "cell_type": "code",
   "execution_count": 79,
   "id": "cb077122",
   "metadata": {},
   "outputs": [
    {
     "name": "stdout",
     "output_type": "stream",
     "text": [
      "28×28×60000 Array{Float32, 3}\n",
      "60000-element Vector{Int64}\n",
      "28×28×10000 Array{Float32, 3}\n",
      "10000-element Vector{Int64}\n"
     ]
    }
   ],
   "source": [
    "# This loads the MNIST handwritten digit recognition dataset. This code is based off the Knet Tutorial Notebook. \n",
    "xtrn,ytrn = MNIST.traindata(Float32)\n",
    "xtst,ytst = MNIST.testdata(Float32)\n",
    "println.(summary.((xtrn,ytrn,xtst,ytst)));"
   ]
  },
  {
   "cell_type": "code",
   "execution_count": 80,
   "id": "1c9abdfc",
   "metadata": {},
   "outputs": [
    {
     "name": "stdout",
     "output_type": "stream",
     "text": [
      "(\"784×60000 Matrix{Float32}\", \"784×10000 Matrix{Float32}\")\n"
     ]
    }
   ],
   "source": [
    "xtrn = reshape(xtrn, 784, 60000 ) \n",
    "xtst = reshape(xtst, 784, 10000 )\n",
    "println(summary.((xtrn, xtst))) # can see the data that is flattened "
   ]
  },
  {
   "cell_type": "code",
   "execution_count": 81,
   "id": "5b120fe0",
   "metadata": {},
   "outputs": [],
   "source": [
    "#Preprocessing targets: one hot vectors\n",
    "# ytrn = onehotbatch(ytrn, 0:9)\n",
    "# ytst = onehotbatch(ytst, 0:9)"
   ]
  },
  {
   "cell_type": "markdown",
   "id": "ca5b6908",
   "metadata": {},
   "source": [
    "# Batch Processing"
   ]
  },
  {
   "cell_type": "code",
   "execution_count": 82,
   "id": "3d8bc019",
   "metadata": {},
   "outputs": [
    {
     "data": {
      "text/plain": [
       "DataLoader{Tuple{Matrix{Float32}, Vector{Int64}}, Random._GLOBAL_RNG, Val{nothing}}((Float32[0.0 0.0 … 0.0 0.0; 0.0 0.0 … 0.0 0.0; … ; 0.0 0.0 … 0.0 0.0; 0.0 0.0 … 0.0 0.0], [7, 2, 1, 0, 4, 1, 4, 9, 5, 9  …  7, 8, 9, 0, 1, 2, 3, 4, 5, 6]), 128, false, true, false, false, Val{nothing}(), Random._GLOBAL_RNG())"
      ]
     },
     "execution_count": 82,
     "metadata": {},
     "output_type": "execute_result"
    }
   ],
   "source": [
    "train_loader = DataLoader((xtrn, ytrn), batchsize=128);\n",
    "test_loader = DataLoader((xtst, ytst), batchsize = 128)"
   ]
  },
  {
   "cell_type": "code",
   "execution_count": 83,
   "id": "08be497f",
   "metadata": {},
   "outputs": [
    {
     "data": {
      "text/plain": [
       "79"
      ]
     },
     "execution_count": 83,
     "metadata": {},
     "output_type": "execute_result"
    }
   ],
   "source": [
    "length(test_loader)"
   ]
  },
  {
   "cell_type": "code",
   "execution_count": null,
   "id": "1d6b4034",
   "metadata": {},
   "outputs": [],
   "source": []
  },
  {
   "cell_type": "code",
   "execution_count": 84,
   "id": "cc30960a",
   "metadata": {},
   "outputs": [
    {
     "name": "stdout",
     "output_type": "stream",
     "text": [
      "784×128 Matrix{Float32}\n",
      "128-element Vector{Int64}\n"
     ]
    }
   ],
   "source": [
    "(x,y) = first(train_loader) #gives the first minibatch from training dataset\n",
    "println.(summary.((x,y)));"
   ]
  },
  {
   "cell_type": "code",
   "execution_count": null,
   "id": "224f849d",
   "metadata": {},
   "outputs": [],
   "source": []
  },
  {
   "cell_type": "markdown",
   "id": "4748aa9a",
   "metadata": {},
   "source": [
    "# Define Dense Layer"
   ]
  },
  {
   "cell_type": "code",
   "execution_count": null,
   "id": "5f0043d2",
   "metadata": {},
   "outputs": [],
   "source": []
  },
  {
   "cell_type": "code",
   "execution_count": 85,
   "id": "830e10d0",
   "metadata": {},
   "outputs": [],
   "source": [
    "struct Dense1; w; b; f; end\n",
    "Dense1(i,o; f=relu) = Dense1(param(o,i), param0(o), f)\n",
    "(d::Dense1)(x) = d.f.(d.w * mat(x) .+ d.b)"
   ]
  },
  {
   "cell_type": "markdown",
   "id": "7f50ff27",
   "metadata": {
    "scrolled": true
   },
   "source": [
    "# Define Chain Layer\n"
   ]
  },
  {
   "cell_type": "code",
   "execution_count": 86,
   "id": "6507022b",
   "metadata": {},
   "outputs": [],
   "source": [
    "# Define a chain of layers and a loss function:\n",
    "struct Chain; layers; end\n",
    "(c::Chain)(x) = (for l in c.layers; x = l(x); end; x)\n",
    "(c::Chain)(x,y) = nll(c(x),y)"
   ]
  },
  {
   "cell_type": "markdown",
   "id": "588d08f8",
   "metadata": {},
   "source": [
    "# Define the Model"
   ]
  },
  {
   "cell_type": "code",
   "execution_count": 87,
   "id": "78ca61e1",
   "metadata": {},
   "outputs": [
    {
     "data": {
      "text/plain": [
       "Chain((Dense1(P(Matrix{Float32}(100,784)), P(Vector{Float32}(100)), Knet.Ops20.relu), Dense1(P(Matrix{Float32}(10,100)), P(Vector{Float32}(10)), Knet.Ops20.relu), identity))"
      ]
     },
     "execution_count": 87,
     "metadata": {},
     "output_type": "execute_result"
    }
   ],
   "source": [
    "model = Chain((Dense1(784, 100), Dense1(100, 10), identity))"
   ]
  },
  {
   "cell_type": "markdown",
   "id": "12fa672b",
   "metadata": {},
   "source": [
    "# Training and Evaluating"
   ]
  },
  {
   "cell_type": "code",
   "execution_count": 88,
   "id": "01ea3152",
   "metadata": {
    "scrolled": true
   },
   "outputs": [
    {
     "data": {
      "text/plain": [
       "10×128 Matrix{Float32}:\n",
       " 0.146128  0.251807   0.0944941  0.0        …  0.0       0.0       0.166544\n",
       " 0.908352  0.975714   0.392101   1.07251       1.10933   0.714653  1.1014\n",
       " 0.0       0.0        0.0        0.0           0.0       0.37319   0.394873\n",
       " 0.0       0.0403631  0.227371   0.218725      0.187911  0.0       0.0\n",
       " 0.0       0.0        0.0943293  0.0           0.0       0.0       0.0\n",
       " 0.0       0.0        0.0        0.415859   …  0.0       0.0       0.0\n",
       " 0.0       0.0        0.0        0.0           0.0       0.459048  0.0691352\n",
       " 0.189706  0.802615   0.69828    0.0941242     0.455495  0.444184  0.604847\n",
       " 0.834217  0.47262    0.0        0.273323      0.575527  0.126404  0.402153\n",
       " 0.0       0.0        0.0        0.0           0.0       0.0       0.0"
      ]
     },
     "execution_count": 88,
     "metadata": {},
     "output_type": "execute_result"
    }
   ],
   "source": [
    "model(x) #checking if training is working"
   ]
  },
  {
   "cell_type": "code",
   "execution_count": 89,
   "id": "0cb35eba",
   "metadata": {},
   "outputs": [
    {
     "name": "stderr",
     "output_type": "stream",
     "text": [
      "WARNING: redefinition of constant to. This may fail, cause incorrect answers, or produce other errors.\n",
      "┣████████████████████┫ [100.00%, 469/469, 00:01/00:01, 350.61i/s] \n",
      "┣████████████████████┫ [100.00%, 469/469, 00:01/00:01, 381.14i/s] \n",
      "┣████████████████████┫ [100.00%, 469/469, 00:01/00:01, 383.71i/s] \n",
      "┣████████████████████┫ [100.00%, 469/469, 00:01/00:01, 393.42i/s] \n",
      "┣████████████████████┫ [100.00%, 469/469, 00:01/00:01, 362.42i/s] \n",
      "┣████████████████████┫ [100.00%, 469/469, 00:01/00:01, 352.92i/s] \n",
      "┣████████████████████┫ [100.00%, 469/469, 00:01/00:01, 322.49i/s] \n",
      "┣████████████████████┫ [100.00%, 469/469, 00:01/00:01, 355.11i/s] \n",
      "┣████████████████████┫ [100.00%, 469/469, 00:01/00:01, 357.56i/s] \n",
      "┣████████████████████┫ [100.00%, 469/469, 00:01/00:01, 375.06i/s] \n"
     ]
    }
   ],
   "source": [
    "\n",
    "loss(xtst, ytst) = nll(model(xtst), ytst)\n",
    "evalcb = () -> (loss(xtst, ytst)) #function that will be called to get the loss \n",
    "const to = TimerOutput() # creating a TimerOutput, keeps track of everything\n",
    "\n",
    "\n",
    "@timeit to \"Train Total\" begin\n",
    "    for epoch in 1:10\n",
    "        train_epoch = epoch > 1 ? \"train_epoch\" : \"train_ji\"\n",
    "        @timeit to train_epoch begin\n",
    "            progress!(adam(model, train_loader; lr = 1e-3))\n",
    "        end\n",
    "        \n",
    "        evaluation = epoch > 1 ? \"evaluation\" : \"eval_jit\"\n",
    "        @timeit to evaluation begin\n",
    "            accuracy(model, test_loader)\n",
    "        end \n",
    "        \n",
    "    end \n",
    "end \n",
    "\n"
   ]
  },
  {
   "cell_type": "code",
   "execution_count": 90,
   "id": "7af4c1eb",
   "metadata": {},
   "outputs": [
    {
     "name": "stdout",
     "output_type": "stream",
     "text": [
      "Overall Loss: 0.09791139\n",
      "Overall Accuracy: 0.9695121951219512\n"
     ]
    }
   ],
   "source": [
    "\n",
    "final_train_loss = evalcb()\n",
    "final_eval_accuracy = accuracy(model, test_loader)\n",
    "\n",
    "# see the overall loss\n",
    "println(\"Overall Loss: \", final_train_loss) \n",
    "println(\"Overall Accuracy: \", final_eval_accuracy ) #see the overall accuracy\n"
   ]
  },
  {
   "cell_type": "markdown",
   "id": "5eb13576",
   "metadata": {},
   "source": [
    "# Getting Metrics"
   ]
  },
  {
   "cell_type": "code",
   "execution_count": 96,
   "id": "a28d3616",
   "metadata": {},
   "outputs": [
    {
     "name": "stdout",
     "output_type": "stream",
     "text": [
      "\u001b[0m\u001b[1m ─────────────────────────────────────────────────────────\u001b[22m\n",
      "\u001b[0m\u001b[1m                         \u001b[22m      Time          Allocations  \n",
      "                         ───────────────   ───────────────\n",
      "     Total measured:          22.9s            10.6GiB    \n",
      "\n",
      " Section         ncalls     time    %tot     alloc    %tot\n",
      " ─────────────────────────────────────────────────────────\n",
      " Train Total          1    13.5s  100.0%   10.5GiB  100.0%\n",
      "   train_epoch        9    11.6s   85.8%   9.15GiB   86.7%\n",
      "   train_ji           1    1.35s   10.0%   1.02GiB    9.7%\n",
      "   evaluation         9    505ms    3.7%    352MiB    3.3%\n",
      "   eval_jit           1   60.6ms    0.4%   39.1MiB    0.4%\n",
      "\u001b[0m\u001b[1m ─────────────────────────────────────────────────────────\u001b[22m"
     ]
    }
   ],
   "source": [
    "\n",
    "\n",
    "show(to, allocations = true, compact = true) #see the time it took for training and evaluating the model"
   ]
  },
  {
   "cell_type": "code",
   "execution_count": null,
   "id": "1cd9c1b7",
   "metadata": {
    "scrolled": true
   },
   "outputs": [],
   "source": []
  },
  {
   "cell_type": "code",
   "execution_count": 97,
   "id": "d030c34c",
   "metadata": {},
   "outputs": [
    {
     "data": {
      "text/plain": [
       "1.2902278333333332"
      ]
     },
     "execution_count": 97,
     "metadata": {},
     "output_type": "execute_result"
    }
   ],
   "source": [
    "#average epoch training time converted to seconds from nanoseconds\n",
    "average_train_epoch_time = (TimerOutputs.time(to[\"Train Total\"][\"train_epoch\"]))/(1e+9 *9)\n",
    "total_train_time = TimerOutputs.time(to[\"Train Total\"])/(1e+9)\n",
    "average_batch_inference_time = TimerOutputs.time(to[\"Train Total\"][\"evaluation\"])/(length(test_loader)*1e+6*9)\n",
    "\n",
    "average_train_epoch_time\n"
   ]
  },
  {
   "cell_type": "code",
   "execution_count": 98,
   "id": "adc056c1",
   "metadata": {},
   "outputs": [
    {
     "data": {
      "text/plain": [
       "Dict{String, Any} with 9 entries:\n",
       "  \"task\"                         => \"classifcation\"\n",
       "  \"framework_name\"               => \"Knet\"\n",
       "  \"final_evaluation_accuracy\"    => 0.969512\n",
       "  \"average_epoch_training_time\"  => 1.29023\n",
       "  \"total_training_time\"          => 13.5294\n",
       "  \"final_training_loss\"          => 0.0979114\n",
       "  \"model_name\"                   => \"MLP\"\n",
       "  \"dataset\"                      => \"MNIST Digits\"\n",
       "  \"average_batch_inference_time\" => 0.709791"
      ]
     },
     "execution_count": 98,
     "metadata": {},
     "output_type": "execute_result"
    }
   ],
   "source": [
    "\n",
    "#getting dictionary to format the metrics\n",
    "metrics = Dict(\"model_name\" => \"MLP\",\n",
    " \"framework_name\"=>\"Knet\",\n",
    "  \"dataset\" => \"MNIST Digits\", \n",
    "    \"task\" => \"classifcation\",\n",
    "    \"average_epoch_training_time\" => average_train_epoch_time,\n",
    "    \"total_training_time\" => total_train_time,\n",
    "    \"average_batch_inference_time\" => average_batch_inference_time,\n",
    "    \"final_training_loss\" => final_train_loss,\n",
    "    \"final_evaluation_accuracy\" => final_eval_accuracy\n",
    ")"
   ]
  },
  {
   "cell_type": "code",
   "execution_count": 99,
   "id": "1673271f",
   "metadata": {},
   "outputs": [
    {
     "data": {
      "text/plain": [
       "Dict{String, Any} with 9 entries:\n",
       "  \"task\"                         => \"classifcation\"\n",
       "  \"framework_name\"               => \"Knet\"\n",
       "  \"final_evaluation_accuracy\"    => 0.969512\n",
       "  \"average_epoch_training_time\"  => 1.29023\n",
       "  \"total_training_time\"          => 13.5294\n",
       "  \"final_training_loss\"          => 0.0979114\n",
       "  \"model_name\"                   => \"MLP\"\n",
       "  \"dataset\"                      => \"MNIST Digits\"\n",
       "  \"average_batch_inference_time\" => 0.709791"
      ]
     },
     "execution_count": 99,
     "metadata": {},
     "output_type": "execute_result"
    }
   ],
   "source": [
    "\n",
    "stringdata = JSON.json(metrics)\n",
    "\n",
    "#will allow the metrics to be entered into a file \n",
    "\n",
    "open(\"M1-Knet-mlp.json\", \"w\") do f\n",
    "    write(f, stringdata)\n",
    "    end \n",
    "\n",
    "dict2 = Dict()\n",
    "open(\"M1-Knet-mlp.json\", \"r\") do f\n",
    "    global dict2\n",
    "    dict2 = JSON.parse(f)\n",
    "end"
   ]
  },
  {
   "cell_type": "code",
   "execution_count": 100,
   "id": "686f14b8",
   "metadata": {},
   "outputs": [
    {
     "data": {
      "text/plain": [
       "\"C:\\\\Users\\\\Yash\""
      ]
     },
     "execution_count": 100,
     "metadata": {},
     "output_type": "execute_result"
    }
   ],
   "source": [
    "pwd() #checking directory "
   ]
  },
  {
   "cell_type": "code",
   "execution_count": null,
   "id": "a56aaea6",
   "metadata": {},
   "outputs": [],
   "source": [
    "\n"
   ]
  },
  {
   "cell_type": "code",
   "execution_count": null,
   "id": "17a0901a",
   "metadata": {},
   "outputs": [],
   "source": []
  },
  {
   "cell_type": "code",
   "execution_count": null,
   "id": "83327f51",
   "metadata": {},
   "outputs": [],
   "source": [
    "\n"
   ]
  },
  {
   "cell_type": "code",
   "execution_count": null,
   "id": "68debc4d",
   "metadata": {},
   "outputs": [],
   "source": []
  },
  {
   "cell_type": "code",
   "execution_count": null,
   "id": "83728e05",
   "metadata": {},
   "outputs": [],
   "source": []
  }
 ],
 "metadata": {
  "kernelspec": {
   "display_name": "Julia 1.8.2",
   "language": "julia",
   "name": "julia-1.8"
  },
  "language_info": {
   "file_extension": ".jl",
   "mimetype": "application/julia",
   "name": "julia",
   "version": "1.8.2"
  }
 },
 "nbformat": 4,
 "nbformat_minor": 5
}
