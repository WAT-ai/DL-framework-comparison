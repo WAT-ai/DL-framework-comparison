{
 "cells": [
  {
   "cell_type": "code",
   "execution_count": 1,
   "id": "9550e10a-ea40-4cd4-b94e-aa64ebdd5946",
   "metadata": {},
   "outputs": [],
   "source": [
    "import jax.numpy as jnp\n",
    "from jax import grad, jit, vmap\n",
    "from jax import random\n",
    "\n",
    "# Suppress warning and info messages from jax\n",
    "import os  \n",
    "os.environ['TF_CPP_MIN_LOG_LEVEL'] = '2'"
   ]
  },
  {
   "cell_type": "code",
   "execution_count": 15,
   "id": "547cf6e9-068c-4922-b6a5-7b930863bca0",
   "metadata": {},
   "outputs": [
    {
     "name": "stdout",
     "output_type": "stream",
     "text": [
      "[[-0.3721109   0.26423115 -0.18252768]\n",
      " [-0.7368197   0.44973662 -0.1521442 ]\n",
      " [-0.67135346 -0.5908641   0.73168886]] \n",
      "\n",
      "[[ 0.690805   -0.48744103 -1.155789  ]\n",
      " [ 0.12108463  1.2010182  -0.5078766 ]\n",
      " [ 0.91568655  1.70968    -0.36749417]]\n"
     ]
    }
   ],
   "source": [
    "# Random number generation\n",
    "\n",
    "# Seed\n",
    "key_x = random.PRNGKey(0)\n",
    "key_y = random.PRNGKey(1)\n",
    "\n",
    "# Create 2 n x n matrix of random numbers\n",
    "n = 3\n",
    "X = random.normal(key_x, (n, n), dtype=jnp.float32)\n",
    "Y = random.normal(key_y, (n, n), dtype=jnp.float32)\n",
    "\n",
    "print(X, \"\\n\")\n",
    "print(Y)"
   ]
  },
  {
   "cell_type": "code",
   "execution_count": 3,
   "id": "bdc07de9-1327-416e-adda-5416a73f3075",
   "metadata": {},
   "outputs": [
    {
     "name": "stdout",
     "output_type": "stream",
     "text": [
      "233 ms ± 3.35 ms per loop (mean ± std. dev. of 7 runs, 1 loop each)\n"
     ]
    }
   ],
   "source": [
    "n = 3000\n",
    "X = random.normal(key_x, (n, n), dtype=jnp.float32)\n",
    "Y = random.normal(key_y, (n, n), dtype=jnp.float32)\n",
    "\n",
    "# Time the execution of multiplying 2 matrices\n",
    "# Jax by default is using asynchronous execution, block_until_ready() force synchronous\n",
    "%timeit jnp.dot(X, Y).block_until_ready()"
   ]
  },
  {
   "cell_type": "code",
   "execution_count": 4,
   "id": "5aaa8e79-1ad2-4d95-a402-8682e8618d20",
   "metadata": {},
   "outputs": [
    {
     "name": "stdout",
     "output_type": "stream",
     "text": [
      "2.09 ms ± 36.4 µs per loop (mean ± std. dev. of 7 runs, 100 loops each)\n",
      "350 µs ± 58.2 µs per loop (mean ± std. dev. of 7 runs, 1,000 loops each)\n"
     ]
    }
   ],
   "source": [
    "# Using jit() to speed up functions\n",
    "key = random.PRNGKey(42)\n",
    "\n",
    "def selu(x, alpha=1.67, lmbda=1.05):\n",
    "  return lmbda * jnp.where(x > 0, x, alpha * jnp.exp(x) - alpha)\n",
    "\n",
    "# By default Jax tries to run on a GPU or TPU\n",
    "# If not availible it falls back to the CPU\n",
    "# jit() uses XLA (Accelerated Linear Algebra) for increased preformance\n",
    "x = random.normal(key, (1000000,))\n",
    "%timeit selu(x).block_until_ready()\n",
    "\n",
    "# just-in-time (JIT) compilation decorator, sequences of operations can be optimized together and run at once\n",
    "# Not all JAX code can be JIT compiled, as it requires array shapes to be static & known at compile time\n",
    "selu_jit = jit(selu)\n",
    "%timeit selu_jit(x).block_until_ready()"
   ]
  },
  {
   "cell_type": "code",
   "execution_count": 5,
   "id": "59bc71e1-3183-4312-960a-bc73a72c6324",
   "metadata": {},
   "outputs": [
    {
     "name": "stdout",
     "output_type": "stream",
     "text": [
      "[0. 1. 2.]\n",
      "\n",
      "Gradient:\n",
      " [0.25       0.19661197 0.10499357]\n"
     ]
    }
   ],
   "source": [
    "# Taking derivatives (gradients)\n",
    "\n",
    "# Define function\n",
    "def logistic_func(x):\n",
    "  return jnp.sum(1.0 / (1.0 + jnp.exp(-x)))\n",
    "\n",
    "# Generate inputs\n",
    "x_small = jnp.arange(3.)\n",
    "print(x_small)\n",
    "\n",
    "# Create gradient of the function\n",
    "derivative_fn = grad(logistic_func)\n",
    "\n",
    "# Calculate gradient\n",
    "print(\"\\nGradient:\\n\",derivative_fn(x_small))"
   ]
  },
  {
   "cell_type": "code",
   "execution_count": 6,
   "id": "769c0209-0cf6-4ae2-b7e3-f77d78fb034d",
   "metadata": {},
   "outputs": [
    {
     "name": "stdout",
     "output_type": "stream",
     "text": [
      "\n",
      "Auto-vectorized with vmap:\n",
      "22.7 µs ± 30.9 ns per loop (mean ± std. dev. of 7 runs, 10,000 loops each)\n"
     ]
    }
   ],
   "source": [
    "# vectorization - converting a matrix into a vector \n",
    "\n",
    "mat = random.normal(key, (150, 100))\n",
    "batched_x = random.normal(key, (10, 100))\n",
    "\n",
    "def apply_matrix(v):\n",
    "  return jnp.dot(mat, v)\n",
    "\n",
    "@jit\n",
    "def vmap_batched_apply_matrix(v_batched):\n",
    "  return vmap(apply_matrix)(v_batched)\n",
    "\n",
    "print('\\nAuto-vectorized with vmap:')\n",
    "%timeit vmap_batched_apply_matrix(batched_x).block_until_ready()"
   ]
  },
  {
   "cell_type": "code",
   "execution_count": 7,
   "id": "79021409-1513-45cc-9c13-b06b51cadd90",
   "metadata": {},
   "outputs": [
    {
     "name": "stdout",
     "output_type": "stream",
     "text": [
      "[0 1 2 3 4 5 6 7 8 9]\n",
      "[10  1  2  3  4  5  6  7  8  9]\n"
     ]
    }
   ],
   "source": [
    "# Arrays\n",
    "import numpy as np\n",
    "\n",
    "# NumPy: mutable arrays\n",
    "x = np.arange(10)\n",
    "# can do x[0] = 1\n",
    "\n",
    "# JAX: immutable arrays\n",
    "x = jnp.arange(10)\n",
    "# cannot do x[0] = 1\n",
    "\n",
    "# instead can create a updated copy \n",
    "y = x.at[0].set(10)\n",
    "\n",
    "print(x)\n",
    "print(y)"
   ]
  },
  {
   "cell_type": "code",
   "execution_count": 19,
   "id": "12c90366-1b72-4d31-963f-b7c7ac43c77e",
   "metadata": {},
   "outputs": [],
   "source": [
    "# MLP Model\n",
    "\n",
    "# A helper function to randomly initialize weights and biases\n",
    "# for a dense neural network layer\n",
    "def random_layer_params(m, n, key, scale=1e-2):\n",
    "    w_key, b_key = random.split(key)\n",
    "    return scale * random.normal(w_key, (n, m)), scale * random.normal(b_key, (n,))\n",
    "\n",
    "# Initialize all layers for a fully-connected neural network with sizes \"sizes\"\n",
    "def init_network_params(sizes, key):\n",
    "    keys = random.split(key, len(sizes))\n",
    "    return [random_layer_params(m, n, k) for m, n, k in zip(sizes[:-1], sizes[1:], keys)]\n",
    "\n",
    "# Hyperparameters\n",
    "# layer_sizes = [784, 512, 512, 10]\n",
    "layer_sizes = [784, 512, 512, 10]\n",
    "step_size = 0.01\n",
    "num_epochs = 10\n",
    "batch_size = 128\n",
    "n_targets = 10\n",
    "params = init_network_params(layer_sizes, random.PRNGKey(0))"
   ]
  },
  {
   "cell_type": "code",
   "execution_count": 28,
   "id": "9f1fe96e-d4ca-470e-b5d4-68ff96bf96a0",
   "metadata": {},
   "outputs": [
    {
     "name": "stdout",
     "output_type": "stream",
     "text": [
      "Image Shape: (784,)\n",
      "(10,)\n"
     ]
    }
   ],
   "source": [
    "# Define relu and prediction function\n",
    "\n",
    "from jax.scipy.special import logsumexp\n",
    "\n",
    "def relu(x):\n",
    "  return jnp.maximum(0, x)\n",
    "\n",
    "def predict(params, image):\n",
    "  # per-example predictions\n",
    "  activations = image\n",
    "  for w, b in params[:-1]:\n",
    "    outputs = jnp.dot(w, activations) + b\n",
    "    activations = relu(outputs)\n",
    "  \n",
    "  final_w, final_b = params[-1]\n",
    "  logits = jnp.dot(final_w, activations) + final_b\n",
    "  return logits - logsumexp(logits)\n",
    "\n",
    "# Running on a single example image\n",
    "random_flattened_image = random.normal(random.PRNGKey(1), (28 * 28,))\n",
    "print(f\"Image Shape: {random_flattened_image.shape}\")\n",
    "\n",
    "preds = predict(params, random_flattened_image)\n",
    "print(preds.shape)"
   ]
  },
  {
   "cell_type": "code",
   "execution_count": 21,
   "id": "cfafde3e-8cf3-447e-83f0-6a145427e590",
   "metadata": {},
   "outputs": [
    {
     "name": "stdout",
     "output_type": "stream",
     "text": [
      "(10, 10)\n"
     ]
    }
   ],
   "source": [
    "# Define batch of images - 10 images of 28x28\n",
    "random_flattened_images = random.normal(random.PRNGKey(1), (10, 28 * 28))\n",
    "\n",
    "# Make a batched version of the `predict` function\n",
    "batched_predict = vmap(predict, in_axes=(None, 0))\n",
    "\n",
    "# `batched_predict` has the same call signature as `predict`\n",
    "batched_preds = batched_predict(params, random_flattened_images)\n",
    "print(batched_preds.shape)"
   ]
  },
  {
   "cell_type": "code",
   "execution_count": 22,
   "id": "c9d4b3fe-2c29-4437-ae9a-99c7636848ce",
   "metadata": {},
   "outputs": [],
   "source": [
    "# Define utility functions\n",
    "\n",
    "# Create one hot encoding of the output\n",
    "def one_hot(x, k, dtype=jnp.float32):\n",
    "  \"\"\"Create a one-hot encoding of x of size k.\"\"\"\n",
    "  return jnp.array(x[:, None] == jnp.arange(k), dtype)\n",
    "\n",
    "# Test accuracy \n",
    "def accuracy(params, images, targets):\n",
    "  target_class = jnp.argmax(targets, axis=1)\n",
    "  predicted_class = jnp.argmax(batched_predict(params, images), axis=1)\n",
    "  return jnp.mean(predicted_class == target_class)\n",
    "\n",
    "# Find loss\n",
    "def loss(params, images, targets):\n",
    "  preds = batched_predict(params, images)\n",
    "  return -jnp.mean(preds * targets)\n",
    "\n",
    "# Backpropagration\n",
    "@jit\n",
    "def update(params, x, y):\n",
    "  grads = grad(loss)(params, x, y)\n",
    "  return [(w - step_size * dw, b - step_size * db)\n",
    "          for (w, b), (dw, db) in zip(params, grads)]"
   ]
  },
  {
   "cell_type": "code",
   "execution_count": 23,
   "id": "eec7af68-3959-488b-ad19-7cfc8f717c34",
   "metadata": {},
   "outputs": [
    {
     "name": "stdout",
     "output_type": "stream",
     "text": [
      "CUDA_VISIBLE_DEVICES = -1\n",
      "TF_CPP_MIN_LOG_LEVEL = 2\n",
      "Num GPUs Available:  0\n",
      "Num CPUs Available:  1\n",
      "\n",
      " [name: \"/device:CPU:0\"\n",
      "device_type: \"CPU\"\n",
      "memory_limit: 268435456\n",
      "locality {\n",
      "}\n",
      "incarnation: 3256589239373377352\n",
      "xla_global_id: -1\n",
      "] \n",
      "\n",
      "Train: (60000, 784) (60000, 10)\n",
      "Test: (10000, 784) (10000, 10)\n"
     ]
    }
   ],
   "source": [
    "# Load and Create Datasets\n",
    "os.environ['CUDA_VISIBLE_DEVICES'] = '-1'\n",
    "\n",
    "import tensorflow as tf\n",
    "import tensorflow_datasets as tfds\n",
    "\n",
    "print(f\"CUDA_VISIBLE_DEVICES = {os.environ['CUDA_VISIBLE_DEVICES']}\")\n",
    "print(f\"TF_CPP_MIN_LOG_LEVEL = {os.environ['TF_CPP_MIN_LOG_LEVEL']}\")\n",
    "\n",
    "# List GPUs availible\n",
    "print(\"Num GPUs Available: \", len(tf.config.list_physical_devices('GPU')))\n",
    "print(\"Num CPUs Available: \", len(tf.config.list_physical_devices('CPU')))\n",
    "\n",
    "from tensorflow.python.client import device_lib\n",
    "print(\"\\n\", device_lib.list_local_devices(), '\\n')\n",
    "\n",
    "data_dir = './datasets'\n",
    "\n",
    "# Fetch full datasets for evaluation\n",
    "# tfds.load returns tf.Tensors (or tf.data.Datasets if batch_size != -1)\n",
    "# You can convert them to NumPy arrays (or iterables of NumPy arrays) with tfds.dataset_as_numpy\n",
    "mnist_data, info = tfds.load(name=\"mnist\", batch_size=-1, data_dir=data_dir, with_info=True)\n",
    "\n",
    "mnist_data = tfds.as_numpy(mnist_data)\n",
    "train_data, test_data = mnist_data['train'], mnist_data['test']\n",
    "num_labels = info.features['label'].num_classes\n",
    "h, w, c = info.features['image'].shape\n",
    "num_pixels = h * w * c\n",
    "\n",
    "# # Full train set\n",
    "train_images, train_labels = train_data['image'], train_data['label']\n",
    "train_images = jnp.reshape(train_images, (len(train_images), num_pixels))\n",
    "train_labels = one_hot(train_labels, num_labels)\n",
    "\n",
    "# # Full test set\n",
    "test_images, test_labels = test_data['image'], test_data['label']\n",
    "test_images = jnp.reshape(test_images, (len(test_images), num_pixels))\n",
    "test_labels = one_hot(test_labels, num_labels)\n",
    "\n",
    "print('Train:', train_images.shape, train_labels.shape)\n",
    "print('Test:', test_images.shape, test_labels.shape)"
   ]
  },
  {
   "cell_type": "code",
   "execution_count": 26,
   "id": "b9c88734-5a25-4ce1-9d1d-5e5e2673a467",
   "metadata": {},
   "outputs": [
    {
     "name": "stdout",
     "output_type": "stream",
     "text": [
      "Epoch 0 in 2.91 sec\n",
      "Training set accuracy 0.9253333210945129\n",
      "Test set accuracy 0.9268999695777893\n",
      "Epoch 1 in 2.60 sec\n",
      "Training set accuracy 0.9428499937057495\n",
      "Test set accuracy 0.9413999915122986\n",
      "Epoch 2 in 2.56 sec\n",
      "Training set accuracy 0.9532666802406311\n",
      "Test set accuracy 0.9513999819755554\n",
      "Epoch 3 in 2.63 sec\n",
      "Training set accuracy 0.9600499868392944\n",
      "Test set accuracy 0.955299973487854\n",
      "Epoch 4 in 2.71 sec\n",
      "Training set accuracy 0.965149998664856\n",
      "Test set accuracy 0.9602999687194824\n",
      "Epoch 5 in 2.66 sec\n",
      "Training set accuracy 0.9691833257675171\n",
      "Test set accuracy 0.9629999995231628\n",
      "Epoch 6 in 2.87 sec\n",
      "Training set accuracy 0.9724833369255066\n",
      "Test set accuracy 0.965499997138977\n",
      "Epoch 7 in 2.59 sec\n",
      "Training set accuracy 0.9754166603088379\n",
      "Test set accuracy 0.9664999842643738\n",
      "Epoch 8 in 2.50 sec\n",
      "Training set accuracy 0.9781000018119812\n",
      "Test set accuracy 0.9680999517440796\n",
      "Epoch 9 in 2.60 sec\n",
      "Training set accuracy 0.9803500175476074\n",
      "Test set accuracy 0.9691999554634094\n"
     ]
    }
   ],
   "source": [
    "import time\n",
    "\n",
    "def get_train_batches():\n",
    "  \n",
    "    # as_supervised=True gives us the (image, label) as a tuple instead of a dict\n",
    "    ds = tfds.load(name='mnist', split='train', as_supervised=True, data_dir=data_dir)\n",
    "    \n",
    "    # You can build up an arbitrary tf.data input pipeline\n",
    "    ds = ds.batch(batch_size).prefetch(1)\n",
    "    \n",
    "    # tfds.dataset_as_numpy converts the tf.data.Dataset into an iterable of NumPy arrays\n",
    "    return tfds.as_numpy(ds)\n",
    "\n",
    "def train(params):\n",
    "    for epoch in range(num_epochs):\n",
    "        \n",
    "        start_time = time.time()\n",
    "        for x, y in get_train_batches():\n",
    "            x = jnp.reshape(x, (len(x), num_pixels))\n",
    "            y = one_hot(y, num_labels)\n",
    "            params = update(params, x, y)\n",
    "        \n",
    "        epoch_time = time.time() - start_time\n",
    "\n",
    "        train_acc = accuracy(params, train_images, train_labels)\n",
    "        test_acc = accuracy(params, test_images, test_labels)\n",
    "        print(\"Epoch {} in {:0.2f} sec\".format(epoch, epoch_time))\n",
    "        print(\"Training set accuracy {}\".format(train_acc))\n",
    "        print(\"Test set accuracy {}\".format(test_acc))\n",
    "\n",
    "# Train Model\n",
    "train(params)"
   ]
  },
  {
   "cell_type": "code",
   "execution_count": 25,
   "id": "a6856ffd-b274-4cc3-9fcc-ec0276219c88",
   "metadata": {},
   "outputs": [
    {
     "name": "stdout",
     "output_type": "stream",
     "text": [
      "Train: (60000, 28, 28) (60000,)\n",
      "Test: (10000, 28, 28) (10000,)\n"
     ]
    }
   ],
   "source": [
    "# Load MNIST Using Keras\n",
    "import keras\n",
    "\n",
    "(x_train, y_train), (x_test, y_test) = keras.datasets.mnist.load_data()\n",
    "\n",
    "print('Train:', x_train.shape, y_train.shape)\n",
    "print('Test:', x_test.shape, y_test.shape)"
   ]
  },
  {
   "cell_type": "code",
   "execution_count": null,
   "id": "7098bb94-7841-4be8-93a1-175e428de0b3",
   "metadata": {},
   "outputs": [],
   "source": []
  }
 ],
 "metadata": {
  "kernelspec": {
   "display_name": "jax-cpu",
   "language": "python",
   "name": "jax-cpu"
  },
  "language_info": {
   "codemirror_mode": {
    "name": "ipython",
    "version": 3
   },
   "file_extension": ".py",
   "mimetype": "text/x-python",
   "name": "python",
   "nbconvert_exporter": "python",
   "pygments_lexer": "ipython3",
   "version": "3.10.6"
  }
 },
 "nbformat": 4,
 "nbformat_minor": 5
}
