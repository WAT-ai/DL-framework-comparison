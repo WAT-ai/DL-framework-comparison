{
 "cells": [
  {
   "cell_type": "code",
   "execution_count": 3,
   "id": "9550e10a-ea40-4cd4-b94e-aa64ebdd5946",
   "metadata": {},
   "outputs": [],
   "source": [
    "import jax.numpy as jnp\n",
    "from jax import grad, jit, vmap\n",
    "from jax import random\n",
    "\n",
    "# Suppress warning and info messages from jax\n",
    "import os  \n",
    "os.environ['TF_CPP_MIN_LOG_LEVEL'] = '2'"
   ]
  },
  {
   "cell_type": "code",
   "execution_count": 8,
   "id": "547cf6e9-068c-4922-b6a5-7b930863bca0",
   "metadata": {},
   "outputs": [
    {
     "name": "stdout",
     "output_type": "stream",
     "text": [
      "[[-0.3721109   0.26423115 -0.18252768]\n",
      " [-0.7368197   0.44973662 -0.1521442 ]\n",
      " [-0.67135346 -0.5908641   0.73168886]] \n",
      "\n",
      "[[ 0.690805   -0.48744103 -1.155789  ]\n",
      " [ 0.12108463  1.2010182  -0.5078766 ]\n",
      " [ 0.91568655  1.70968    -0.36749417]]\n"
     ]
    }
   ],
   "source": [
    "# Random number generation\n",
    "\n",
    "# Seed\n",
    "key_x = random.PRNGKey(0)\n",
    "key_y = random.PRNGKey(1)\n",
    "\n",
    "# Create 2 n x n matrix of random numbers\n",
    "n = 3\n",
    "X = random.normal(key_x, (n, n), dtype=jnp.float32)\n",
    "Y = random.normal(key_y, (n, n), dtype=jnp.float32)\n",
    "\n",
    "print(X, \"\\n\")\n",
    "print(Y)"
   ]
  },
  {
   "cell_type": "code",
   "execution_count": 10,
   "id": "bdc07de9-1327-416e-adda-5416a73f3075",
   "metadata": {},
   "outputs": [
    {
     "name": "stdout",
     "output_type": "stream",
     "text": [
      "104 ms ± 1.81 ms per loop (mean ± std. dev. of 7 runs, 10 loops each)\n"
     ]
    }
   ],
   "source": [
    "n = 3000\n",
    "X = random.normal(key_x, (n, n), dtype=jnp.float32)\n",
    "Y = random.normal(key_y, (n, n), dtype=jnp.float32)\n",
    "\n",
    "# Time the execution of multiplying 2 matrices\n",
    "# Jax by default is using asynchronous execution, block_until_ready() force synchronous\n",
    "%timeit jnp.dot(X, Y).block_until_ready()"
   ]
  },
  {
   "cell_type": "code",
   "execution_count": 19,
   "id": "5aaa8e79-1ad2-4d95-a402-8682e8618d20",
   "metadata": {},
   "outputs": [
    {
     "name": "stdout",
     "output_type": "stream",
     "text": [
      "2.69 ms ± 57.8 µs per loop (mean ± std. dev. of 7 runs, 100 loops each)\n",
      "345 µs ± 27.8 µs per loop (mean ± std. dev. of 7 runs, 1,000 loops each)\n"
     ]
    }
   ],
   "source": [
    "# Using jit() to speed up functions\n",
    "key = random.PRNGKey(42)\n",
    "\n",
    "def selu(x, alpha=1.67, lmbda=1.05):\n",
    "  return lmbda * jnp.where(x > 0, x, alpha * jnp.exp(x) - alpha)\n",
    "\n",
    "# By default Jax tries to run on a GPU or TPU\n",
    "# If not availible it falls back to the CPU\n",
    "# jit() uses XLA (Accelerated Linear Algebra) for increased preformance\n",
    "x = random.normal(key, (1000000,))\n",
    "%timeit selu(x).block_until_ready()\n",
    "\n",
    "# just-in-time (JIT) compilation decorator, sequences of operations can be optimized together and run at once\n",
    "# Not all JAX code can be JIT compiled, as it requires array shapes to be static & known at compile time\n",
    "selu_jit = jit(selu)\n",
    "%timeit selu_jit(x).block_until_ready()"
   ]
  },
  {
   "cell_type": "code",
   "execution_count": 18,
   "id": "59bc71e1-3183-4312-960a-bc73a72c6324",
   "metadata": {},
   "outputs": [
    {
     "name": "stdout",
     "output_type": "stream",
     "text": [
      "[0. 1. 2.]\n",
      "\n",
      "Gradient:\n",
      " [0.25       0.19661197 0.10499357]\n"
     ]
    }
   ],
   "source": [
    "# Taking derivatives (gradients)\n",
    "\n",
    "# Define function\n",
    "def logistic_func(x):\n",
    "  return jnp.sum(1.0 / (1.0 + jnp.exp(-x)))\n",
    "\n",
    "# Generate inputs\n",
    "x_small = jnp.arange(3.)\n",
    "print(x_small)\n",
    "\n",
    "# Create gradient of the function\n",
    "derivative_fn = grad(logistic_func)\n",
    "\n",
    "# Calculate gradient\n",
    "print(\"\\nGradient:\\n\",derivative_fn(x_small))"
   ]
  },
  {
   "cell_type": "code",
   "execution_count": 22,
   "id": "769c0209-0cf6-4ae2-b7e3-f77d78fb034d",
   "metadata": {},
   "outputs": [
    {
     "name": "stdout",
     "output_type": "stream",
     "text": [
      "\n",
      "Auto-vectorized with vmap:\n",
      "23.3 µs ± 633 ns per loop (mean ± std. dev. of 7 runs, 10,000 loops each)\n"
     ]
    }
   ],
   "source": [
    "# vectorization - converting a matrix into a vector \n",
    "\n",
    "mat = random.normal(key, (150, 100))\n",
    "batched_x = random.normal(key, (10, 100))\n",
    "\n",
    "def apply_matrix(v):\n",
    "  return jnp.dot(mat, v)\n",
    "\n",
    "@jit\n",
    "def vmap_batched_apply_matrix(v_batched):\n",
    "  return vmap(apply_matrix)(v_batched)\n",
    "\n",
    "print('\\nAuto-vectorized with vmap:')\n",
    "%timeit vmap_batched_apply_matrix(batched_x).block_until_ready()"
   ]
  },
  {
   "cell_type": "code",
   "execution_count": 24,
   "id": "79021409-1513-45cc-9c13-b06b51cadd90",
   "metadata": {},
   "outputs": [
    {
     "name": "stdout",
     "output_type": "stream",
     "text": [
      "[0 1 2 3 4 5 6 7 8 9]\n",
      "[10  1  2  3  4  5  6  7  8  9]\n"
     ]
    }
   ],
   "source": [
    "# Arrays\n",
    "import numpy as np\n",
    "\n",
    "# NumPy: mutable arrays\n",
    "x = np.arange(10)\n",
    "# can do x[0] = 1\n",
    "\n",
    "# JAX: immutable arrays\n",
    "x = jnp.arange(10)\n",
    "# cannot do x[0] = 1\n",
    "\n",
    "# instead can create a updated copy \n",
    "y = x.at[0].set(10)\n",
    "\n",
    "print(x)\n",
    "print(y)"
   ]
  },
  {
   "cell_type": "code",
   "execution_count": 25,
   "id": "12c90366-1b72-4d31-963f-b7c7ac43c77e",
   "metadata": {},
   "outputs": [],
   "source": [
    "# MLP Model\n",
    "\n",
    "# A helper function to randomly initialize weights and biases\n",
    "# for a dense neural network layer\n",
    "def random_layer_params(m, n, key, scale=1e-2):\n",
    "  w_key, b_key = random.split(key)\n",
    "  return scale * random.normal(w_key, (n, m)), scale * random.normal(b_key, (n,))\n",
    "\n",
    "# Initialize all layers for a fully-connected neural network with sizes \"sizes\"\n",
    "def init_network_params(sizes, key):\n",
    "  keys = random.split(key, len(sizes))\n",
    "  return [random_layer_params(m, n, k) for m, n, k in zip(sizes[:-1], sizes[1:], keys)]\n",
    "\n",
    "# Hyperparameters\n",
    "# layer_sizes = [784, 512, 512, 10]\n",
    "layer_sizes = [784, 512, 512, 10]\n",
    "step_size = 0.01\n",
    "num_epochs = 10\n",
    "batch_size = 128\n",
    "n_targets = 10\n",
    "params = init_network_params(layer_sizes, random.PRNGKey(0))"
   ]
  },
  {
   "cell_type": "code",
   "execution_count": 31,
   "id": "9f1fe96e-d4ca-470e-b5d4-68ff96bf96a0",
   "metadata": {},
   "outputs": [
    {
     "name": "stdout",
     "output_type": "stream",
     "text": [
      "(10,)\n"
     ]
    }
   ],
   "source": [
    "# Define relu and prediction function\n",
    "\n",
    "from jax.scipy.special import logsumexp\n",
    "\n",
    "def relu(x):\n",
    "  return jnp.maximum(0, x)\n",
    "\n",
    "def predict(params, image):\n",
    "  # per-example predictions\n",
    "  activations = image\n",
    "  for w, b in params[:-1]:\n",
    "    outputs = jnp.dot(w, activations) + b\n",
    "    activations = relu(outputs)\n",
    "  \n",
    "  final_w, final_b = params[-1]\n",
    "  logits = jnp.dot(final_w, activations) + final_b\n",
    "  return logits - logsumexp(logits)\n",
    "\n",
    "# Running on a single example image\n",
    "random_flattened_image = random.normal(random.PRNGKey(1), (28 * 28,))\n",
    "preds = predict(params, random_flattened_image)\n",
    "print(preds.shape)"
   ]
  },
  {
   "cell_type": "code",
   "execution_count": 29,
   "id": "cfafde3e-8cf3-447e-83f0-6a145427e590",
   "metadata": {},
   "outputs": [
    {
     "name": "stdout",
     "output_type": "stream",
     "text": [
      "(10, 10)\n"
     ]
    }
   ],
   "source": [
    "# Define batch of images - 10 images of 28x28\n",
    "random_flattened_images = random.normal(random.PRNGKey(1), (10, 28 * 28))\n",
    "\n",
    "# Make a batched version of the `predict` function\n",
    "batched_predict = vmap(predict, in_axes=(None, 0))\n",
    "\n",
    "# `batched_predict` has the same call signature as `predict`\n",
    "batched_preds = batched_predict(params, random_flattened_images)\n",
    "print(batched_preds.shape)"
   ]
  },
  {
   "cell_type": "code",
   "execution_count": 32,
   "id": "c9d4b3fe-2c29-4437-ae9a-99c7636848ce",
   "metadata": {},
   "outputs": [],
   "source": [
    "# Define utility functions\n",
    "\n",
    "# Create one hot encoding of the output\n",
    "def one_hot(x, k, dtype=jnp.float32):\n",
    "  \"\"\"Create a one-hot encoding of x of size k.\"\"\"\n",
    "  return jnp.array(x[:, None] == jnp.arange(k), dtype)\n",
    "\n",
    "# Test accuracy \n",
    "def accuracy(params, images, targets):\n",
    "  target_class = jnp.argmax(targets, axis=1)\n",
    "  predicted_class = jnp.argmax(batched_predict(params, images), axis=1)\n",
    "  return jnp.mean(predicted_class == target_class)\n",
    "\n",
    "# Find loss\n",
    "def loss(params, images, targets):\n",
    "  preds = batched_predict(params, images)\n",
    "  return -jnp.mean(preds * targets)\n",
    "\n",
    "# Backpropagration\n",
    "@jit\n",
    "def update(params, x, y):\n",
    "  grads = grad(loss)(params, x, y)\n",
    "  return [(w - step_size * dw, b - step_size * db)\n",
    "          for (w, b), (dw, db) in zip(params, grads)]"
   ]
  },
  {
   "cell_type": "code",
   "execution_count": 57,
   "id": "eec7af68-3959-488b-ad19-7cfc8f717c34",
   "metadata": {},
   "outputs": [
    {
     "name": "stdout",
     "output_type": "stream",
     "text": [
      "CUDA_VISIBLE_DEVICES = -1\n",
      "TF_CPP_MIN_LOG_LEVEL = 2\n",
      "Num GPUs Available:  0\n",
      "Num CPUs Available:  1\n",
      "\n",
      " [name: \"/device:CPU:0\"\n",
      "device_type: \"CPU\"\n",
      "memory_limit: 268435456\n",
      "locality {\n",
      "}\n",
      "incarnation: 18135519812509523979\n",
      "xla_global_id: -1\n",
      "]\n"
     ]
    },
    {
     "ename": "NotFoundError",
     "evalue": "No CPU devices are available in this process",
     "output_type": "error",
     "traceback": [
      "\u001b[0;31m---------------------------------------------------------------------------\u001b[0m",
      "\u001b[0;31mNotFoundError\u001b[0m                             Traceback (most recent call last)",
      "Cell \u001b[0;32mIn [57], line 17\u001b[0m\n\u001b[1;32m     14\u001b[0m \u001b[38;5;28;01mfrom\u001b[39;00m \u001b[38;5;21;01mtensorflow\u001b[39;00m\u001b[38;5;21;01m.\u001b[39;00m\u001b[38;5;21;01mpython\u001b[39;00m\u001b[38;5;21;01m.\u001b[39;00m\u001b[38;5;21;01mclient\u001b[39;00m \u001b[38;5;28;01mimport\u001b[39;00m device_lib\n\u001b[1;32m     15\u001b[0m \u001b[38;5;28mprint\u001b[39m(\u001b[38;5;124m\"\u001b[39m\u001b[38;5;130;01m\\n\u001b[39;00m\u001b[38;5;124m\"\u001b[39m, device_lib\u001b[38;5;241m.\u001b[39mlist_local_devices())\n\u001b[0;32m---> 17\u001b[0m \u001b[38;5;28;01mwith\u001b[39;00m tf\u001b[38;5;241m.\u001b[39mdevice(\u001b[38;5;124m'\u001b[39m\u001b[38;5;124m/device:CPU:0\u001b[39m\u001b[38;5;124m'\u001b[39m):\n\u001b[1;32m     18\u001b[0m     \u001b[38;5;66;03m# session_conf = tf.ConfigProto(\u001b[39;00m\n\u001b[1;32m     19\u001b[0m     \u001b[38;5;66;03m#       intra_op_parallelism_threads=1,\u001b[39;00m\n\u001b[1;32m     20\u001b[0m     \u001b[38;5;66;03m#       inter_op_parallelism_threads=1)\u001b[39;00m\n\u001b[1;32m     21\u001b[0m     \u001b[38;5;66;03m# sess = tf.Session(config=session_conf)\u001b[39;00m\n\u001b[1;32m     22\u001b[0m \n\u001b[1;32m     23\u001b[0m     \u001b[38;5;66;03m# # Ensure TF does not see GPU and grab all GPU memory.\u001b[39;00m\n\u001b[1;32m     24\u001b[0m     \u001b[38;5;66;03m# tf.config.set_visible_devices([], device_type='GPU')\u001b[39;00m\n\u001b[1;32m     26\u001b[0m     data_dir \u001b[38;5;241m=\u001b[39m \u001b[38;5;124m'\u001b[39m\u001b[38;5;124m./datasets\u001b[39m\u001b[38;5;124m'\u001b[39m\n\u001b[1;32m     28\u001b[0m     \u001b[38;5;66;03m# Fetch full datasets for evaluation\u001b[39;00m\n\u001b[1;32m     29\u001b[0m     \u001b[38;5;66;03m# tfds.load returns tf.Tensors (or tf.data.Datasets if batch_size != -1)\u001b[39;00m\n\u001b[1;32m     30\u001b[0m     \u001b[38;5;66;03m# You can convert them to NumPy arrays (or iterables of NumPy arrays) with tfds.dataset_as_numpy\u001b[39;00m\n",
      "File \u001b[0;32m~/anaconda3/envs/jax-framework/lib/python3.10/site-packages/tensorflow/python/framework/ops.py:5555\u001b[0m, in \u001b[0;36mdevice_v2\u001b[0;34m(device_name)\u001b[0m\n\u001b[1;32m   5553\u001b[0m \u001b[38;5;28;01mif\u001b[39;00m callable(device_name):\n\u001b[1;32m   5554\u001b[0m   \u001b[38;5;28;01mraise\u001b[39;00m \u001b[38;5;167;01mRuntimeError\u001b[39;00m(\u001b[38;5;124m\"\u001b[39m\u001b[38;5;124mtf.device does not support functions.\u001b[39m\u001b[38;5;124m\"\u001b[39m)\n\u001b[0;32m-> 5555\u001b[0m \u001b[38;5;28;01mreturn\u001b[39;00m \u001b[43mdevice\u001b[49m\u001b[43m(\u001b[49m\u001b[43mdevice_name\u001b[49m\u001b[43m)\u001b[49m\n",
      "File \u001b[0;32m~/anaconda3/envs/jax-framework/lib/python3.10/site-packages/tensorflow/python/framework/ops.py:5504\u001b[0m, in \u001b[0;36mdevice\u001b[0;34m(device_name_or_function)\u001b[0m\n\u001b[1;32m   5500\u001b[0m   \u001b[38;5;28;01mif\u001b[39;00m callable(device_name_or_function):\n\u001b[1;32m   5501\u001b[0m     \u001b[38;5;28;01mraise\u001b[39;00m \u001b[38;5;167;01mRuntimeError\u001b[39;00m(\n\u001b[1;32m   5502\u001b[0m         \u001b[38;5;124m\"\u001b[39m\u001b[38;5;124mtf.device does not support functions when eager execution \u001b[39m\u001b[38;5;124m\"\u001b[39m\n\u001b[1;32m   5503\u001b[0m         \u001b[38;5;124m\"\u001b[39m\u001b[38;5;124mis enabled.\u001b[39m\u001b[38;5;124m\"\u001b[39m)\n\u001b[0;32m-> 5504\u001b[0m   \u001b[38;5;28;01mreturn\u001b[39;00m \u001b[43mcontext\u001b[49m\u001b[38;5;241;43m.\u001b[39;49m\u001b[43mdevice\u001b[49m\u001b[43m(\u001b[49m\u001b[43mdevice_name_or_function\u001b[49m\u001b[43m)\u001b[49m\n\u001b[1;32m   5505\u001b[0m \u001b[38;5;28;01melif\u001b[39;00m executing_eagerly_outside_functions():\n\u001b[1;32m   5506\u001b[0m   \u001b[38;5;129m@tf_contextlib\u001b[39m\u001b[38;5;241m.\u001b[39mcontextmanager\n\u001b[1;32m   5507\u001b[0m   \u001b[38;5;28;01mdef\u001b[39;00m \u001b[38;5;21mcombined\u001b[39m(device_name_or_function):\n",
      "File \u001b[0;32m~/anaconda3/envs/jax-framework/lib/python3.10/site-packages/tensorflow/python/eager/context.py:2364\u001b[0m, in \u001b[0;36mdevice\u001b[0;34m(name)\u001b[0m\n\u001b[1;32m   2344\u001b[0m \u001b[38;5;28;01mdef\u001b[39;00m \u001b[38;5;21mdevice\u001b[39m(name):\n\u001b[1;32m   2345\u001b[0m   \u001b[38;5;124;03m\"\"\"Context-manager to force placement of operations and Tensors on a device.\u001b[39;00m\n\u001b[1;32m   2346\u001b[0m \n\u001b[1;32m   2347\u001b[0m \u001b[38;5;124;03m  Example:\u001b[39;00m\n\u001b[0;32m   (...)\u001b[0m\n\u001b[1;32m   2362\u001b[0m \u001b[38;5;124;03m    Context manager for setting the device.\u001b[39;00m\n\u001b[1;32m   2363\u001b[0m \u001b[38;5;124;03m  \"\"\"\u001b[39;00m\n\u001b[0;32m-> 2364\u001b[0m   \u001b[43mensure_initialized\u001b[49m\u001b[43m(\u001b[49m\u001b[43m)\u001b[49m\n\u001b[1;32m   2365\u001b[0m   \u001b[38;5;28;01mreturn\u001b[39;00m context()\u001b[38;5;241m.\u001b[39mdevice(name)\n",
      "File \u001b[0;32m~/anaconda3/envs/jax-framework/lib/python3.10/site-packages/tensorflow/python/eager/context.py:2159\u001b[0m, in \u001b[0;36mensure_initialized\u001b[0;34m()\u001b[0m\n\u001b[1;32m   2157\u001b[0m \u001b[38;5;28;01mdef\u001b[39;00m \u001b[38;5;21mensure_initialized\u001b[39m():\n\u001b[1;32m   2158\u001b[0m   \u001b[38;5;124;03m\"\"\"Initialize the context.\"\"\"\u001b[39;00m\n\u001b[0;32m-> 2159\u001b[0m   \u001b[43mcontext\u001b[49m\u001b[43m(\u001b[49m\u001b[43m)\u001b[49m\u001b[38;5;241;43m.\u001b[39;49m\u001b[43mensure_initialized\u001b[49m\u001b[43m(\u001b[49m\u001b[43m)\u001b[49m\n",
      "File \u001b[0;32m~/anaconda3/envs/jax-framework/lib/python3.10/site-packages/tensorflow/python/eager/context.py:622\u001b[0m, in \u001b[0;36mContext.ensure_initialized\u001b[0;34m(self)\u001b[0m\n\u001b[1;32m    618\u001b[0m   pywrap_tfe\u001b[38;5;241m.\u001b[39mTFE_ContextOptionsSetRunEagerOpAsFunction(\n\u001b[1;32m    619\u001b[0m       opts, \u001b[38;5;28mself\u001b[39m\u001b[38;5;241m.\u001b[39m_run_eager_op_as_function)\n\u001b[1;32m    620\u001b[0m   pywrap_tfe\u001b[38;5;241m.\u001b[39mTFE_ContextOptionsSetJitCompileRewrite(\n\u001b[1;32m    621\u001b[0m       opts, \u001b[38;5;28mself\u001b[39m\u001b[38;5;241m.\u001b[39m_jit_compile_rewrite)\n\u001b[0;32m--> 622\u001b[0m   context_handle \u001b[38;5;241m=\u001b[39m \u001b[43mpywrap_tfe\u001b[49m\u001b[38;5;241;43m.\u001b[39;49m\u001b[43mTFE_NewContext\u001b[49m\u001b[43m(\u001b[49m\u001b[43mopts\u001b[49m\u001b[43m)\u001b[49m\n\u001b[1;32m    623\u001b[0m \u001b[38;5;28;01mfinally\u001b[39;00m:\n\u001b[1;32m    624\u001b[0m   pywrap_tfe\u001b[38;5;241m.\u001b[39mTFE_DeleteContextOptions(opts)\n",
      "\u001b[0;31mNotFoundError\u001b[0m: No CPU devices are available in this process"
     ]
    }
   ],
   "source": [
    "# Load and Create Datasets\n",
    "os.environ['CUDA_VISIBLE_DEVICES'] = '-1'\n",
    "\n",
    "import tensorflow as tf\n",
    "import tensorflow_datasets as tfds\n",
    "\n",
    "print(f\"CUDA_VISIBLE_DEVICES = {os.environ['CUDA_VISIBLE_DEVICES']}\")\n",
    "print(f\"TF_CPP_MIN_LOG_LEVEL = {os.environ['TF_CPP_MIN_LOG_LEVEL']}\")\n",
    "\n",
    "# List GPUs availible\n",
    "print(\"Num GPUs Available: \", len(tf.config.list_physical_devices('GPU')))\n",
    "print(\"Num CPUs Available: \", len(tf.config.list_physical_devices('CPU')))\n",
    "\n",
    "from tensorflow.python.client import device_lib\n",
    "print(\"\\n\", device_lib.list_local_devices())\n",
    "\n",
    "with tf.device('/device:CPU:0'):\n",
    "    # session_conf = tf.ConfigProto(\n",
    "    #       intra_op_parallelism_threads=1,\n",
    "    #       inter_op_parallelism_threads=1)\n",
    "    # sess = tf.Session(config=session_conf)\n",
    "\n",
    "    # # Ensure TF does not see GPU and grab all GPU memory.\n",
    "    # tf.config.set_visible_devices([], device_type='GPU')\n",
    "\n",
    "    data_dir = './datasets'\n",
    "\n",
    "    # Fetch full datasets for evaluation\n",
    "    # tfds.load returns tf.Tensors (or tf.data.Datasets if batch_size != -1)\n",
    "    # You can convert them to NumPy arrays (or iterables of NumPy arrays) with tfds.dataset_as_numpy\n",
    "    mnist_data, info = tfds.load(name=\"mnist\", batch_size=-1, data_dir=data_dir, with_info=True)\n",
    "\n",
    "    # mnist_data = tfds.as_numpy(mnist_data)\n",
    "    # train_data, test_data = mnist_data['train'], mnist_data['test']\n",
    "    # num_labels = info.features['label'].num_classes\n",
    "    # h, w, c = info.features['image'].shape\n",
    "    # num_pixels = h * w * c\n",
    "\n",
    "    # # Full train set\n",
    "    # train_images, train_labels = train_data['image'], train_data['label']\n",
    "    # train_images = jnp.reshape(train_images, (len(train_images), num_pixels))\n",
    "    # train_labels = one_hot(train_labels, num_labels)\n",
    "\n",
    "    # # Full test set\n",
    "    # test_images, test_labels = test_data['image'], test_data['label']\n",
    "    # test_images = jnp.reshape(test_images, (len(test_images), num_pixels))\n",
    "    # test_labels = one_hot(test_labels, num_labels)\n",
    "\n",
    "    # print('Train:', train_images.shape, train_labels.shape)\n",
    "    # print('Test:', test_images.shape, test_labels.shape)"
   ]
  },
  {
   "cell_type": "code",
   "execution_count": null,
   "id": "7098bb94-7841-4be8-93a1-175e428de0b3",
   "metadata": {},
   "outputs": [],
   "source": []
  }
 ],
 "metadata": {
  "kernelspec": {
   "display_name": "jax-framework",
   "language": "python",
   "name": "jax-framework"
  },
  "language_info": {
   "codemirror_mode": {
    "name": "ipython",
    "version": 3
   },
   "file_extension": ".py",
   "mimetype": "text/x-python",
   "name": "python",
   "nbconvert_exporter": "python",
   "pygments_lexer": "ipython3",
   "version": "3.10.6"
  }
 },
 "nbformat": 4,
 "nbformat_minor": 5
}
