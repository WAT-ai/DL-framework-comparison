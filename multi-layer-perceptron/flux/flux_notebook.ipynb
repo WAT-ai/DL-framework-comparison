{
 "cells": [
  {
   "cell_type": "markdown",
   "id": "f6148f6b-4360-46de-8246-1064862c8b4f",
   "metadata": {},
   "source": [
    "# Imports"
   ]
  },
  {
   "cell_type": "code",
   "execution_count": 1,
   "id": "014718bb-2ccc-4a02-80d5-e5260957d7c8",
   "metadata": {},
   "outputs": [
    {
     "name": "stderr",
     "output_type": "stream",
     "text": [
      "\u001b[32m\u001b[1m    Updating\u001b[22m\u001b[39m registry at `~/.julia/registries/General.toml`\n",
      "\u001b[32m\u001b[1m   Resolving\u001b[22m\u001b[39m package versions...\n",
      "\u001b[32m\u001b[1m  No Changes\u001b[22m\u001b[39m to `/mnt/storage/home/araising/.julia/environments/v1.7/Project.toml`\n",
      "\u001b[32m\u001b[1m  No Changes\u001b[22m\u001b[39m to `/mnt/storage/home/araising/.julia/environments/v1.7/Manifest.toml`\n"
     ]
    }
   ],
   "source": [
    "import Pkg; Pkg.add(\"CUDA\")"
   ]
  },
  {
   "cell_type": "code",
   "execution_count": 2,
   "id": "c78f5a24-7ea3-45a1-80c2-4c34496e4fa8",
   "metadata": {
    "tags": []
   },
   "outputs": [],
   "source": [
    "using Flux, Statistics\n",
    "using Flux.Data: DataLoader\n",
    "using Flux: onehotbatch, onecold, logitcrossentropy, throttle, @epochs\n",
    "using Base.Iterators: repeated\n",
    "using Parameters: @with_kw\n",
    "using CUDA\n",
    "using MLDatasets"
   ]
  },
  {
   "cell_type": "markdown",
   "id": "fe2511b1-dd30-4b66-b81f-c95399d9a54c",
   "metadata": {},
   "source": [
    "# Getting the data"
   ]
  },
  {
   "cell_type": "code",
   "execution_count": 3,
   "id": "89b6e765-0de2-494a-ac92-313838ee0d67",
   "metadata": {},
   "outputs": [],
   "source": [
    "using(MLDatasets)"
   ]
  },
  {
   "cell_type": "code",
   "execution_count": 18,
   "id": "aafa252d-3f21-49ad-ac72-de4b1f7c936c",
   "metadata": {
    "tags": []
   },
   "outputs": [
    {
     "data": {
      "text/plain": [
       "([0.0 0.0 … 0.0 0.0; 0.0 0.0 … 0.0 0.0; … ; 0.0 0.0 … 0.0 0.0; 0.0 0.0 … 0.0 0.0;;; 0.0 0.0 … 0.0 0.0; 0.0 0.0 … 0.0 0.0; … ; 0.0 0.0 … 0.0 0.0; 0.0 0.0 … 0.0 0.0;;; 0.0 0.0 … 0.0 0.0; 0.0 0.0 … 0.0 0.0; … ; 0.0 0.0 … 0.0 0.0; 0.0 0.0 … 0.0 0.0;;; … ;;; 0.0 0.0 … 0.0 0.0; 0.0 0.0 … 0.0 0.0; … ; 0.0 0.0 … 0.0 0.0; 0.0 0.0 … 0.0 0.0;;; 0.0 0.0 … 0.0 0.0; 0.0 0.0 … 0.0 0.0; … ; 0.0 0.0 … 0.0 0.0; 0.0 0.0 … 0.0 0.0;;; 0.0 0.0 … 0.0 0.0; 0.0 0.0 … 0.0 0.0; … ; 0.0 0.0 … 0.0 0.0; 0.0 0.0 … 0.0 0.0], [7, 2, 1, 0, 4, 1, 4, 9, 5, 9  …  7, 8, 9, 0, 1, 2, 3, 4, 5, 6])"
      ]
     },
     "execution_count": 18,
     "metadata": {},
     "output_type": "execute_result"
    }
   ],
   "source": [
    "xtrain, ytrain = MLDatasets.MNIST.traindata(Float32)\n",
    "xtest, ytest = MLDatasets.MNIST.testdata(Float32)"
   ]
  },
  {
   "cell_type": "code",
   "execution_count": 5,
   "id": "ec39a9ea-da44-4b2d-a52f-dfc1e82a73d6",
   "metadata": {
    "collapsed": true,
    "jupyter": {
     "outputs_hidden": true
    },
    "tags": []
   },
   "outputs": [
    {
     "data": {
      "text/plain": [
       "(28, 28, 10000)"
      ]
     },
     "execution_count": 5,
     "metadata": {},
     "output_type": "execute_result"
    }
   ],
   "source": [
    "size(xtest)"
   ]
  },
  {
   "cell_type": "code",
   "execution_count": 6,
   "id": "10a11c5b-db60-4012-9ae9-6e36180b67b8",
   "metadata": {
    "collapsed": true,
    "jupyter": {
     "outputs_hidden": true
    },
    "tags": []
   },
   "outputs": [
    {
     "data": {
      "text/plain": [
       "(28, 28, 60000)"
      ]
     },
     "execution_count": 6,
     "metadata": {},
     "output_type": "execute_result"
    }
   ],
   "source": [
    "size(xtrain)"
   ]
  },
  {
   "cell_type": "markdown",
   "id": "ffc74540-ea4d-4ec3-84ac-8d4352588eec",
   "metadata": {},
   "source": [
    "# Preprocessing the Data"
   ]
  },
  {
   "cell_type": "code",
   "execution_count": 19,
   "id": "d17cb429-8572-4026-8824-0a1ffdd9f6a8",
   "metadata": {
    "tags": []
   },
   "outputs": [
    {
     "data": {
      "text/plain": [
       "784×10000 Matrix{Float32}:\n",
       " 0.0  0.0  0.0  0.0  0.0  0.0  0.0  0.0  …  0.0  0.0  0.0  0.0  0.0  0.0  0.0\n",
       " 0.0  0.0  0.0  0.0  0.0  0.0  0.0  0.0     0.0  0.0  0.0  0.0  0.0  0.0  0.0\n",
       " 0.0  0.0  0.0  0.0  0.0  0.0  0.0  0.0     0.0  0.0  0.0  0.0  0.0  0.0  0.0\n",
       " 0.0  0.0  0.0  0.0  0.0  0.0  0.0  0.0     0.0  0.0  0.0  0.0  0.0  0.0  0.0\n",
       " 0.0  0.0  0.0  0.0  0.0  0.0  0.0  0.0     0.0  0.0  0.0  0.0  0.0  0.0  0.0\n",
       " 0.0  0.0  0.0  0.0  0.0  0.0  0.0  0.0  …  0.0  0.0  0.0  0.0  0.0  0.0  0.0\n",
       " 0.0  0.0  0.0  0.0  0.0  0.0  0.0  0.0     0.0  0.0  0.0  0.0  0.0  0.0  0.0\n",
       " 0.0  0.0  0.0  0.0  0.0  0.0  0.0  0.0     0.0  0.0  0.0  0.0  0.0  0.0  0.0\n",
       " 0.0  0.0  0.0  0.0  0.0  0.0  0.0  0.0     0.0  0.0  0.0  0.0  0.0  0.0  0.0\n",
       " 0.0  0.0  0.0  0.0  0.0  0.0  0.0  0.0     0.0  0.0  0.0  0.0  0.0  0.0  0.0\n",
       " 0.0  0.0  0.0  0.0  0.0  0.0  0.0  0.0  …  0.0  0.0  0.0  0.0  0.0  0.0  0.0\n",
       " 0.0  0.0  0.0  0.0  0.0  0.0  0.0  0.0     0.0  0.0  0.0  0.0  0.0  0.0  0.0\n",
       " 0.0  0.0  0.0  0.0  0.0  0.0  0.0  0.0     0.0  0.0  0.0  0.0  0.0  0.0  0.0\n",
       " ⋮                        ⋮              ⋱            ⋮                   \n",
       " 0.0  0.0  0.0  0.0  0.0  0.0  0.0  0.0     0.0  0.0  0.0  0.0  0.0  0.0  0.0\n",
       " 0.0  0.0  0.0  0.0  0.0  0.0  0.0  0.0     0.0  0.0  0.0  0.0  0.0  0.0  0.0\n",
       " 0.0  0.0  0.0  0.0  0.0  0.0  0.0  0.0     0.0  0.0  0.0  0.0  0.0  0.0  0.0\n",
       " 0.0  0.0  0.0  0.0  0.0  0.0  0.0  0.0  …  0.0  0.0  0.0  0.0  0.0  0.0  0.0\n",
       " 0.0  0.0  0.0  0.0  0.0  0.0  0.0  0.0     0.0  0.0  0.0  0.0  0.0  0.0  0.0\n",
       " 0.0  0.0  0.0  0.0  0.0  0.0  0.0  0.0     0.0  0.0  0.0  0.0  0.0  0.0  0.0\n",
       " 0.0  0.0  0.0  0.0  0.0  0.0  0.0  0.0     0.0  0.0  0.0  0.0  0.0  0.0  0.0\n",
       " 0.0  0.0  0.0  0.0  0.0  0.0  0.0  0.0     0.0  0.0  0.0  0.0  0.0  0.0  0.0\n",
       " 0.0  0.0  0.0  0.0  0.0  0.0  0.0  0.0  …  0.0  0.0  0.0  0.0  0.0  0.0  0.0\n",
       " 0.0  0.0  0.0  0.0  0.0  0.0  0.0  0.0     0.0  0.0  0.0  0.0  0.0  0.0  0.0\n",
       " 0.0  0.0  0.0  0.0  0.0  0.0  0.0  0.0     0.0  0.0  0.0  0.0  0.0  0.0  0.0\n",
       " 0.0  0.0  0.0  0.0  0.0  0.0  0.0  0.0     0.0  0.0  0.0  0.0  0.0  0.0  0.0"
      ]
     },
     "execution_count": 19,
     "metadata": {},
     "output_type": "execute_result"
    }
   ],
   "source": [
    "# Reshape Data in order to flatten each image into a linear array\n",
    "xtrain = Flux.flatten(xtrain)\n",
    "xtest = Flux.flatten(xtest)"
   ]
  },
  {
   "cell_type": "code",
   "execution_count": 20,
   "id": "6b4bfe8f-4054-49c3-b330-456723b0f655",
   "metadata": {},
   "outputs": [
    {
     "data": {
      "text/plain": [
       "(784, 60000)"
      ]
     },
     "execution_count": 20,
     "metadata": {},
     "output_type": "execute_result"
    }
   ],
   "source": [
    "size(xtrain)"
   ]
  },
  {
   "cell_type": "code",
   "execution_count": 21,
   "id": "f1b22ff2-a241-4a21-ab6e-95ae74e33d71",
   "metadata": {
    "tags": []
   },
   "outputs": [
    {
     "data": {
      "text/plain": [
       "(Bool[0 1 … 0 0; 0 0 … 0 0; … ; 0 0 … 0 1; 0 0 … 0 0], Bool[0 0 … 0 0; 0 0 … 0 0; … ; 0 0 … 0 0; 0 0 … 0 0])"
      ]
     },
     "execution_count": 21,
     "metadata": {},
     "output_type": "execute_result"
    }
   ],
   "source": [
    "# One-hot-encode the labels\n",
    "ytrain, ytest = onehotbatch(ytrain, 0:9), onehotbatch(ytest, 0:9)"
   ]
  },
  {
   "cell_type": "code",
   "execution_count": 22,
   "id": "1e6a041a-7048-4434-ae41-e2020972995e",
   "metadata": {
    "tags": []
   },
   "outputs": [
    {
     "data": {
      "text/plain": [
       "DataLoader{Tuple{Matrix{Float32}, OneHotArrays.OneHotMatrix{UInt32, 10, Vector{UInt32}}}, Random._GLOBAL_RNG, Val{nothing}}((Float32[0.0 0.0 … 0.0 0.0; 0.0 0.0 … 0.0 0.0; … ; 0.0 0.0 … 0.0 0.0; 0.0 0.0 … 0.0 0.0], Bool[0 1 … 0 0; 0 0 … 0 0; … ; 0 0 … 0 1; 0 0 … 0 0]), 128, false, true, true, false, Val{nothing}(), Random._GLOBAL_RNG())"
      ]
     },
     "execution_count": 22,
     "metadata": {},
     "output_type": "execute_result"
    }
   ],
   "source": [
    "train_data = DataLoader((xtrain, ytrain), batchsize=128, shuffle=true)"
   ]
  },
  {
   "cell_type": "code",
   "execution_count": 23,
   "id": "c8d22d27-c9de-4b5a-9159-a43bffa01daf",
   "metadata": {},
   "outputs": [
    {
     "data": {
      "text/plain": [
       "DataLoader{Tuple{Matrix{Float32}, OneHotArrays.OneHotMatrix{UInt32, 10, Vector{UInt32}}}, Random._GLOBAL_RNG, Val{nothing}}((Float32[0.0 0.0 … 0.0 0.0; 0.0 0.0 … 0.0 0.0; … ; 0.0 0.0 … 0.0 0.0; 0.0 0.0 … 0.0 0.0], Bool[0 0 … 0 0; 0 0 … 0 0; … ; 0 0 … 0 0; 0 0 … 0 0]), 128, false, true, true, false, Val{nothing}(), Random._GLOBAL_RNG())"
      ]
     },
     "execution_count": 23,
     "metadata": {},
     "output_type": "execute_result"
    }
   ],
   "source": [
    "test_data = DataLoader((xtest, ytest), batchsize=128, shuffle=true)"
   ]
  },
  {
   "cell_type": "markdown",
   "id": "1d20d6c3-929b-46fd-834d-3c9af13f8259",
   "metadata": {},
   "source": [
    "# Model"
   ]
  },
  {
   "cell_type": "code",
   "execution_count": 24,
   "id": "104d3d67-6d1e-4397-bbba-da67809d5165",
   "metadata": {},
   "outputs": [
    {
     "data": {
      "text/plain": [
       "Chain(\n",
       "  Dense(784 => 100, relu),              \u001b[90m# 78_500 parameters\u001b[39m\n",
       "  Dense(100 => 10),                     \u001b[90m# 1_010 parameters\u001b[39m\n",
       ") \u001b[90m                  # Total: 4 arrays, \u001b[39m79_510 parameters, 310.836 KiB."
      ]
     },
     "execution_count": 24,
     "metadata": {},
     "output_type": "execute_result"
    }
   ],
   "source": [
    "imgsize=(28,28,1)\n",
    "nclasses=10\n",
    "model = Chain(Dense(prod(imgsize), 100, relu),\n",
    "    Dense(100, nclasses))"
   ]
  },
  {
   "cell_type": "code",
   "execution_count": 25,
   "id": "d928044b-090a-4237-9583-9ec1c2e5a730",
   "metadata": {},
   "outputs": [
    {
     "data": {
      "text/plain": [
       "Adam(0.0001, (0.9, 0.999), 1.0e-8, IdDict{Any, Any}())"
      ]
     },
     "execution_count": 25,
     "metadata": {},
     "output_type": "execute_result"
    }
   ],
   "source": [
    "## Default is already (0.9, 0.999)\n",
    "opt = ADAM(1e-4)"
   ]
  },
  {
   "cell_type": "code",
   "execution_count": 26,
   "id": "2f8dc996-2158-4190-b6f2-63cac9498b9a",
   "metadata": {},
   "outputs": [
    {
     "data": {
      "text/plain": [
       "accuracy (generic function with 1 method)"
      ]
     },
     "execution_count": 26,
     "metadata": {},
     "output_type": "execute_result"
    }
   ],
   "source": [
    "function accuracy(data_loader, model)\n",
    "    acc = 0\n",
    "    for (x,y) in data_loader\n",
    "        acc += sum(onecold(cpu(model(x))) .== onecold(cpu(y)))*1 / size(x,2)\n",
    "    end\n",
    "    acc/length(data_loader)\n",
    "end"
   ]
  },
  {
   "cell_type": "code",
   "execution_count": 28,
   "id": "774a4b63-8fb0-48a1-8f60-9b12239419c1",
   "metadata": {},
   "outputs": [
    {
     "name": "stdout",
     "output_type": "stream",
     "text": [
      "loss(xtest, ytest) = 2.3485696f0\n",
      "accuracy(train_data, model) = 0.11077980632551528\n",
      "accuracy(test_data, model) = 0.1116495253164557\n",
      "loss(xtest, ytest) = 0.5250143f0\n",
      "accuracy(train_data, model) = 0.8709965796019901\n",
      "accuracy(test_data, model) = 0.8805379746835443\n",
      "  1.931195 seconds (418.20 k allocations: 1.199 GiB, 2.02% gc time, 13.77% compilation time)\n",
      "loss(xtest, ytest) = 0.35263696f0\n",
      "accuracy(train_data, model) = 0.9029184434968017\n",
      "accuracy(test_data, model) = 0.9087223101265823\n",
      "  1.258856 seconds (79.71 k allocations: 927.391 MiB, 1.23% gc time)\n",
      "  0.958958 seconds (53.62 k allocations: 644.371 MiB, 1.19% gc time)\n",
      "loss(xtest, ytest) = 0.29911953f0\n",
      "accuracy(train_data, model) = 0.9152063343994313\n",
      "accuracy(test_data, model) = 0.9186115506329114\n",
      "  1.258197 seconds (79.70 k allocations: 927.390 MiB, 1.31% gc time)\n",
      "loss(xtest, ytest) = 0.2695472f0\n",
      "accuracy(train_data, model) = 0.9243958777540867\n",
      "accuracy(test_data, model) = 0.9269185126582279\n",
      "  1.227941 seconds (79.81 k allocations: 927.398 MiB, 0.84% gc time)\n",
      "loss(xtest, ytest) = 0.24857524f0\n",
      "accuracy(train_data, model) = 0.9309868070362474\n",
      "accuracy(test_data, model) = 0.9302808544303798\n",
      "  1.238077 seconds (79.80 k allocations: 927.398 MiB, 1.45% gc time)\n",
      "loss(xtest, ytest) = 0.231608f0\n",
      "accuracy(train_data, model) = 0.9349458066808812\n",
      "accuracy(test_data, model) = 0.9345332278481012\n",
      "  1.266661 seconds (79.81 k allocations: 927.399 MiB, 1.42% gc time)\n",
      "loss(xtest, ytest) = 0.21933442f0\n",
      "accuracy(train_data, model) = 0.9399986673773987\n",
      "accuracy(test_data, model) = 0.9385878164556962\n",
      "  1.275209 seconds (79.81 k allocations: 927.398 MiB, 1.44% gc time)\n",
      "loss(xtest, ytest) = 0.20697051f0\n",
      "accuracy(train_data, model) = 0.9431691986496091\n",
      "accuracy(test_data, model) = 0.9417523734177216\n",
      "  1.293588 seconds (79.81 k allocations: 927.399 MiB, 1.40% gc time)\n",
      "loss(xtest, ytest) = 0.1969311f0\n",
      "accuracy(train_data, model) = 0.9460509950248757\n",
      "accuracy(test_data, model) = 0.9442246835443038\n",
      "  1.266719 seconds (79.81 k allocations: 927.399 MiB, 1.44% gc time)\n"
     ]
    }
   ],
   "source": [
    "function evalcb()\n",
    "    @show(loss(xtest, ytest))\n",
    "    @show(accuracy(train_data, model))\n",
    "    @show(accuracy(test_data, model))\n",
    "end\n",
    "throttled_cb = throttle(evalcb, 1)\n",
    "loss(x,y) = logitcrossentropy(model(x), y)\n",
    "params = Flux.params(model)\n",
    "\n",
    "for epoch in 1:10\n",
    "    @time begin\n",
    "        Flux.train!(loss, params, train_data, opt, cb=throttled_cb) \n",
    "    end\n",
    "end"
   ]
  },
  {
   "cell_type": "code",
   "execution_count": 29,
   "id": "6ea2ca10-974b-4639-aa66-02cc3e2b941d",
   "metadata": {},
   "outputs": [
    {
     "name": "stdout",
     "output_type": "stream",
     "text": [
      "accuracy(train_data, model) = 0.9483164534470505\n",
      "accuracy(test_data, model) = 0.9467958860759493\n"
     ]
    },
    {
     "data": {
      "text/plain": [
       "0.9467958860759493"
      ]
     },
     "execution_count": 29,
     "metadata": {},
     "output_type": "execute_result"
    }
   ],
   "source": [
    "# Final accuracy:\n",
    "@show accuracy(train_data, model)\n",
    "@show accuracy(test_data, model)"
   ]
  }
 ],
 "metadata": {
  "kernelspec": {
   "display_name": "Julia 1.7.3",
   "language": "julia",
   "name": "uw-julia-1-7-3"
  },
  "language_info": {
   "file_extension": ".jl",
   "mimetype": "application/julia",
   "name": "julia",
   "version": "1.7.3"
  }
 },
 "nbformat": 4,
 "nbformat_minor": 5
}
