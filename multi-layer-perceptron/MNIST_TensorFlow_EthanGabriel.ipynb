{
 "cells": [
  {
   "cell_type": "code",
   "execution_count": 1,
   "id": "bf641c4e-893e-4be9-9c3f-9778c1abd1ba",
   "metadata": {},
   "outputs": [],
   "source": [
    "import tensorflow as tf\n",
    "import tensorflow_datasets as tfds\n",
    "from timeit import default_timer\n",
    "import time\n",
    "import json\n",
    "import numpy as np"
   ]
  },
  {
   "cell_type": "code",
   "execution_count": 2,
   "id": "02456673-8331-4436-be6e-9b4769f71910",
   "metadata": {},
   "outputs": [
    {
     "name": "stderr",
     "output_type": "stream",
     "text": [
      "2022-11-27 23:46:14.059706: I tensorflow/core/platform/cpu_feature_guard.cc:193] This TensorFlow binary is optimized with oneAPI Deep Neural Network Library (oneDNN) to use the following CPU instructions in performance-critical operations:  SSE4.1 SSE4.2\n",
      "To enable them in other operations, rebuild TensorFlow with the appropriate compiler flags.\n"
     ]
    }
   ],
   "source": [
    "(ds_train, ds_test), ds_info = tfds.load(\n",
    "    'mnist',\n",
    "    split = ['train', 'test'],\n",
    "    shuffle_files = True,\n",
    "    as_supervised = True,\n",
    "    with_info = True,\n",
    ")"
   ]
  },
  {
   "cell_type": "code",
   "execution_count": 3,
   "id": "cd617244-4270-4683-bc72-768bf2e2ed97",
   "metadata": {},
   "outputs": [],
   "source": [
    "def normalize_img(image, label):\n",
    "  \"\"\"Normalizes images: `uint8` -> `float32`.\"\"\"\n",
    "  return tf.cast(image, tf.float32) / 255., tf.one_hot(label, depth = 10)\n",
    "\n",
    "ds_train = ds_train.map(normalize_img, num_parallel_calls = tf.data.AUTOTUNE)\n",
    "ds_train = ds_train.cache()\n",
    "ds_train = ds_train.shuffle(ds_info.splits['train'].num_examples)\n",
    "ds_train = ds_train.batch(128)\n",
    "ds_train = ds_train.prefetch(tf.data.AUTOTUNE)"
   ]
  },
  {
   "cell_type": "code",
   "execution_count": 4,
   "id": "edc6eb9d-50f3-43cc-b0ff-696bce4bb54f",
   "metadata": {},
   "outputs": [],
   "source": [
    "ds_test = ds_test.map(normalize_img, num_parallel_calls=tf.data.AUTOTUNE)\n",
    "ds_test = ds_test.batch(128)\n",
    "ds_test = ds_test.cache()\n",
    "ds_test = ds_test.prefetch(tf.data.AUTOTUNE)"
   ]
  },
  {
   "cell_type": "code",
   "execution_count": 5,
   "id": "9efb4cad-166c-40bd-a791-3a763dda009a",
   "metadata": {},
   "outputs": [],
   "source": [
    "# Creating the Model...\n",
    "model = tf.keras.models.Sequential([\n",
    "  tf.keras.layers.Flatten(input_shape = (28, 28)),\n",
    "  tf.keras.layers.Dense(128, activation = 'relu'),\n",
    "  tf.keras.layers.Dense(10)\n",
    "])"
   ]
  },
  {
   "cell_type": "code",
   "execution_count": 6,
   "id": "bd3e915b-51a2-4733-b234-11fb493b7939",
   "metadata": {},
   "outputs": [],
   "source": [
    "# Compiling the Model\n",
    "model.compile(\n",
    "    optimizer = tf.keras.optimizers.Adam(1e-3),\n",
    "    loss = tf.keras.losses.CategoricalCrossentropy(from_logits = True),\n",
    "    metrics = [tf.keras.metrics.CategoricalAccuracy()],\n",
    ")"
   ]
  },
  {
   "cell_type": "code",
   "execution_count": 7,
   "id": "9a20934e-2f46-4e63-a9e3-4926ad9d5973",
   "metadata": {},
   "outputs": [],
   "source": [
    "class TimingCallback(tf.keras.callbacks.Callback):\n",
    "    def __init__(self, logs = {}):\n",
    "        self.logs = []\n",
    "        \n",
    "        self.start_list = []\n",
    "        self.end_list = []\n",
    "        self.difference_list = []\n",
    "        \n",
    "        self.start_train_time = 0.0\n",
    "        self.end_train_time = 0.0\n",
    "        \n",
    "        self.start_batch_interference_list = []\n",
    "        self.end_batch_interference_list = []\n",
    "        self.difference_batch_interference_list = []\n",
    "        \n",
    "        self.final_training_loss = 0.0\n",
    "        self.final_evaluation_accuracy = 0.0\n",
    "        \n",
    "    def on_train_begin(self, logs = {}):\n",
    "        self.start_train_time = time.time()\n",
    "    def on_train_end(self, logs = {}):\n",
    "        self.end_train_time = time.time()\n",
    "        \n",
    "    def on_test_batch_begin(self, batch, logs = {}):\n",
    "        self.starttime = time.time()\n",
    "        self.start_batch_interference_list.append(self.starttime)\n",
    "    def on_test_batch_end(self, batch, logs = {}):\n",
    "        self.endtime = time.time()\n",
    "        self.end_batch_interference_list.append(self.endtime)\n",
    "        self.difference_batch_interference_list.append(self.endtime - self.starttime)\n",
    "        \n",
    "    def on_epoch_begin(self, epoch, logs = {}):\n",
    "        self.starttime = time.time()\n",
    "        self.start_list.append(self.starttime)\n",
    "    def on_epoch_end(self, epoch, logs = {}):\n",
    "        self.final_training_loss += logs[\"loss\"]\n",
    "        self.final_evaluation_accuracy += logs[\"categorical_accuracy\"]\n",
    "        self.endtime = time.time()\n",
    "        self.end_list.append(self.endtime)\n",
    "        self.difference_list.append(self.endtime - self.starttime)\n",
    "            \n",
    "cb = TimingCallback()"
   ]
  },
  {
   "cell_type": "code",
   "execution_count": 8,
   "id": "08a26dd5-5b13-483b-a66e-f932674997fc",
   "metadata": {},
   "outputs": [
    {
     "name": "stdout",
     "output_type": "stream",
     "text": [
      "Epoch 1/10\n",
      "469/469 [==============================] - 3s 2ms/step - loss: 0.3554 - categorical_accuracy: 0.9033 - val_loss: 0.1960 - val_categorical_accuracy: 0.9438\n",
      "Epoch 2/10\n",
      "469/469 [==============================] - 1s 2ms/step - loss: 0.1629 - categorical_accuracy: 0.9536 - val_loss: 0.1431 - val_categorical_accuracy: 0.9564\n",
      "Epoch 3/10\n",
      "469/469 [==============================] - 1s 1ms/step - loss: 0.1168 - categorical_accuracy: 0.9668 - val_loss: 0.1076 - val_categorical_accuracy: 0.9671\n",
      "Epoch 4/10\n",
      "469/469 [==============================] - 1s 2ms/step - loss: 0.0909 - categorical_accuracy: 0.9736 - val_loss: 0.0966 - val_categorical_accuracy: 0.9716\n",
      "Epoch 5/10\n",
      "469/469 [==============================] - 1s 1ms/step - loss: 0.0727 - categorical_accuracy: 0.9793 - val_loss: 0.0890 - val_categorical_accuracy: 0.9715\n",
      "Epoch 6/10\n",
      "469/469 [==============================] - 1s 1ms/step - loss: 0.0606 - categorical_accuracy: 0.9826 - val_loss: 0.0794 - val_categorical_accuracy: 0.9758\n",
      "Epoch 7/10\n",
      "469/469 [==============================] - 1s 1ms/step - loss: 0.0508 - categorical_accuracy: 0.9851 - val_loss: 0.0756 - val_categorical_accuracy: 0.9766\n",
      "Epoch 8/10\n",
      "469/469 [==============================] - 1s 1ms/step - loss: 0.0430 - categorical_accuracy: 0.9879 - val_loss: 0.0742 - val_categorical_accuracy: 0.9766\n",
      "Epoch 9/10\n",
      "469/469 [==============================] - 1s 1ms/step - loss: 0.0369 - categorical_accuracy: 0.9897 - val_loss: 0.0786 - val_categorical_accuracy: 0.9747\n",
      "Epoch 10/10\n",
      "469/469 [==============================] - 1s 1ms/step - loss: 0.0311 - categorical_accuracy: 0.9913 - val_loss: 0.0744 - val_categorical_accuracy: 0.9766\n"
     ]
    },
    {
     "data": {
      "text/plain": [
       "<keras.callbacks.History at 0x7fd80018f820>"
      ]
     },
     "execution_count": 8,
     "metadata": {},
     "output_type": "execute_result"
    }
   ],
   "source": [
    "# Fitting the Model...\n",
    "\n",
    "model.fit(\n",
    "    ds_train,\n",
    "    epochs = 10,\n",
    "    validation_data = ds_test,\n",
    "    callbacks = [cb]\n",
    ")"
   ]
  },
  {
   "cell_type": "code",
   "execution_count": 9,
   "id": "2ec38e6b-6f57-4cc1-9697-70f01f4e6560",
   "metadata": {},
   "outputs": [
    {
     "name": "stdout",
     "output_type": "stream",
     "text": [
      "model_name : MLP\n",
      "framework_name : TensorFlow\n",
      "dataset : MNIST Digits\n",
      "task : classification\n",
      "Total Training Time : 9.389873266220093\n",
      "Final Training Loss : 1.0210097339004278\n",
      "Final Evaluation Accuracy : 97.1313339471817\n",
      "Average Epoch Training Time : 0.0013297557830810546\n",
      "Average Batch Inference Time : 1.0042100013056887\n"
     ]
    }
   ],
   "source": [
    "total_training_time = cb.end_train_time - cb.start_train_time\n",
    "average_epoch_training_time = np.mean(cb.difference_list)\n",
    "average_batch_interference_time = np.mean(cb.difference_batch_interference_list) * 1000\n",
    "final_accuracy = np.mean(cb.final_evaluation_accuracy) * 10\n",
    "\n",
    "metrics = {\n",
    "    \"model_name\": \"MLP\",\n",
    "    \"framework_name\": \"TensorFlow\",\n",
    "    \"dataset\": \"MNIST Digits\",\n",
    "    \"task\": \"classification\",\n",
    "    \"Total Training Time\" : total_training_time, # in seconds\n",
    "    \"Final Training Loss\" : cb.final_training_loss, \n",
    "    \"Final Evaluation Accuracy\" : final_accuracy,\n",
    "    \"Average Epoch Training Time\" : average_epoch_training_time, # in seconds\n",
    "    \"Average Batch Inference Time\" : average_batch_interference_time # in milliseconds\n",
    "}\n",
    "\n",
    "for key, value in metrics.items():\n",
    "    print(f'{key} : {value}')\n",
    "\n",
    "with open(\"output.json\", \"w\") as outfile:\n",
    "    json.dump(metrics, outfile)"
   ]
  },
  {
   "cell_type": "code",
   "execution_count": 10,
   "id": "858bba4c-8c93-49b4-ba55-e3fc07d6613f",
   "metadata": {},
   "outputs": [
    {
     "name": "stdout",
     "output_type": "stream",
     "text": [
      "469/469 [==============================] - 0s 825us/step - loss: 0.0262 - categorical_accuracy: 0.9928\n"
     ]
    },
    {
     "data": {
      "text/plain": [
       "[0.026231231167912483, 0.9927833080291748]"
      ]
     },
     "execution_count": 10,
     "metadata": {},
     "output_type": "execute_result"
    }
   ],
   "source": [
    "model.evaluate(\n",
    "    ds_train\n",
    ")"
   ]
  }
 ],
 "metadata": {
  "kernelspec": {
   "display_name": "Python 3 (ipykernel)",
   "language": "python",
   "name": "python3"
  },
  "language_info": {
   "codemirror_mode": {
    "name": "ipython",
    "version": 3
   },
   "file_extension": ".py",
   "mimetype": "text/x-python",
   "name": "python",
   "nbconvert_exporter": "python",
   "pygments_lexer": "ipython3",
   "version": "3.9.13"
  }
 },
 "nbformat": 4,
 "nbformat_minor": 5
}
