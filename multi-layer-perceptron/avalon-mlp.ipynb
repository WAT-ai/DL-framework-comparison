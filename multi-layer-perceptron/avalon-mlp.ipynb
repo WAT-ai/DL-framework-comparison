{
 "cells": [
  {
   "cell_type": "markdown",
   "metadata": {},
   "source": [
    "# Imports"
   ]
  },
  {
   "cell_type": "code",
   "execution_count": 1,
   "metadata": {},
   "outputs": [],
   "source": [
    "using Yota;\n",
    "using MLDatasets;\n",
    "using NNlib;\n",
    "using Statistics;\n",
    "using Distributions;\n",
    "using Functors;\n",
    "using Optimisers;\n",
    "using MLUtils: DataLoader;\n",
    "using OneHotArrays: onehotbatch\n",
    "using Metrics;"
   ]
  },
  {
   "cell_type": "markdown",
   "metadata": {},
   "source": [
    "# Primitives"
   ]
  },
  {
   "cell_type": "markdown",
   "metadata": {},
   "source": [
    "## Linear "
   ]
  },
  {
   "cell_type": "code",
   "execution_count": 2,
   "metadata": {},
   "outputs": [],
   "source": [
    "mutable struct Linear\n",
    "    W::AbstractMatrix{T} where T\n",
    "    b::AbstractVector{T} where T\n",
    "end\n",
    "\n",
    "@functor Linear\n",
    "\n",
    "# Init\n",
    "function Linear(in_features::Int, out_features::Int)\n",
    "    k_sqrt = sqrt(1 / in_features)\n",
    "    d = Uniform(-k_sqrt, k_sqrt)\n",
    "    return Linear(rand(d, out_features, in_features), rand(d, out_features))\n",
    "end\n",
    "Linear(in_out::Pair{Int, Int}) = Linear(in_out[1], in_out[2])\n",
    "\n",
    "function Base.show(io::IO, l::Linear)\n",
    "    o, i = size(l.W)\n",
    "    print(io, \"Linear($i=>$o)\")\n",
    "end\n",
    "\n",
    "# Forward\n",
    "(l::Linear)(x::Union{AbstractVector{T}, AbstractMatrix{T}}) where T = l.W * x .+ l.b"
   ]
  },
  {
   "cell_type": "markdown",
   "metadata": {},
   "source": [
    "## Logit Cross Entropy"
   ]
  },
  {
   "cell_type": "code",
   "execution_count": 3,
   "metadata": {},
   "outputs": [
    {
     "data": {
      "text/plain": [
       "logitcrossentropy (generic function with 1 method)"
      ]
     },
     "execution_count": 3,
     "metadata": {},
     "output_type": "execute_result"
    }
   ],
   "source": [
    "function logitcrossentropy(ŷ, y; dims=1, agg=mean)\n",
    "  # Compute cross entropy loss from logits\n",
    "  # Cross entropy computed from NLL loss on logsoftmax of model outputs\n",
    "    agg(.-sum(y .* logsoftmax(ŷ; dims=dims); dims=dims));\n",
    "  end"
   ]
  },
  {
   "cell_type": "markdown",
   "metadata": {},
   "source": [
    "# Define the model"
   ]
  },
  {
   "cell_type": "code",
   "execution_count": 4,
   "metadata": {},
   "outputs": [],
   "source": [
    "mutable struct Net\n",
    "    fc1::Linear\n",
    "    fc2::Linear\n",
    "end\n",
    "\n",
    "# Need to mark functor for Optimizer to work\n",
    "@functor Net\n",
    "\n",
    "# Init\n",
    "Net() = Net(\n",
    "    Linear(28*28, 100),\n",
    "    Linear(100, 10)\n",
    ")\n",
    "\n",
    "# Forward\n",
    "function (model::Net)(x::AbstractArray)\n",
    "    x = reshape(x, 28*28, :)\n",
    "    x = model.fc1(x)\n",
    "    x = relu(x)\n",
    "    x = model.fc2(x)\n",
    "    return x\n",
    "end"
   ]
  },
  {
   "cell_type": "markdown",
   "metadata": {},
   "source": [
    "# Data"
   ]
  },
  {
   "cell_type": "code",
   "execution_count": 5,
   "metadata": {},
   "outputs": [],
   "source": [
    "train_dataset = MNIST(dir=\"/Users/trevoryu/Code/data/mnist\", split=:train);\n",
    "test_dataset = MNIST(dir=\"/Users/trevoryu/Code/data/mnist\", split=:test);\n",
    "\n",
    "X_train = train_dataset.features;\n",
    "Y_train = train_dataset.targets;\n",
    "\n",
    "X_test = test_dataset.features;\n",
    "Y_test = test_dataset.targets;"
   ]
  },
  {
   "cell_type": "code",
   "execution_count": 6,
   "metadata": {},
   "outputs": [
    {
     "data": {
      "text/plain": [
       "(28, 28, 10000)"
      ]
     },
     "execution_count": 6,
     "metadata": {},
     "output_type": "execute_result"
    }
   ],
   "source": [
    "size(X_test)"
   ]
  },
  {
   "cell_type": "code",
   "execution_count": 7,
   "metadata": {},
   "outputs": [],
   "source": [
    "# Flatten features to be 784 dim\n",
    "X_train = reshape(X_train, 784, :);  # (dim x batch)\n",
    "X_test = reshape(X_test, 784, :);"
   ]
  },
  {
   "cell_type": "code",
   "execution_count": 8,
   "metadata": {},
   "outputs": [],
   "source": [
    "# Convert targets to one-hot vectors\n",
    "Y_train = onehotbatch(Y_train, 0:9);\n",
    "Y_test = onehotbatch(Y_test, 0:9);  # (dim x batch)"
   ]
  },
  {
   "cell_type": "code",
   "execution_count": 9,
   "metadata": {},
   "outputs": [],
   "source": [
    "train_loader = DataLoader((X_train, Y_train), shuffle=true, batchsize=128);\n",
    "test_loader = DataLoader((X_test, Y_test), shuffle=false, batchsize=128);"
   ]
  },
  {
   "cell_type": "markdown",
   "metadata": {},
   "source": [
    "# Training setup"
   ]
  },
  {
   "cell_type": "code",
   "execution_count": 10,
   "metadata": {},
   "outputs": [
    {
     "data": {
      "text/plain": [
       "Net(Linear(784=>100), Linear(100=>10))"
      ]
     },
     "execution_count": 10,
     "metadata": {},
     "output_type": "execute_result"
    }
   ],
   "source": [
    "# Make model\n",
    "mlp = Net()"
   ]
  },
  {
   "cell_type": "code",
   "execution_count": 11,
   "metadata": {},
   "outputs": [],
   "source": [
    "# Setup Adam optimizer\n",
    "# Default Β is (0.9, 0.999)\n",
    "state = Optimisers.setup(Optimisers.Adam(1e-3), mlp);"
   ]
  },
  {
   "cell_type": "code",
   "execution_count": 12,
   "metadata": {},
   "outputs": [
    {
     "data": {
      "text/plain": [
       "loss_function (generic function with 1 method)"
      ]
     },
     "execution_count": 12,
     "metadata": {},
     "output_type": "execute_result"
    }
   ],
   "source": [
    "# Create objective function to optimize\n",
    "function loss_function(model::Net, x::AbstractArray, y::AbstractArray)\n",
    "    ŷ = model(x)\n",
    "    loss = logitcrossentropy(ŷ, y)\n",
    "    return loss\n",
    "end"
   ]
  },
  {
   "cell_type": "markdown",
   "metadata": {},
   "source": [
    "# Training loop"
   ]
  },
  {
   "cell_type": "code",
   "execution_count": 13,
   "metadata": {},
   "outputs": [
    {
     "name": "stdout",
     "output_type": "stream",
     "text": [
      " 25.837786 seconds (157.79 M allocations: 10.050 GiB, 3.78% gc time, 91.53% compilation time: 0% of which was recompilation)\n"
     ]
    },
    {
     "name": "stderr",
     "output_type": "stream",
     "text": [
      "┌ Info: epoch 1 loss = 0.4370590642396691\n",
      "└ @ Main In[13]:13\n"
     ]
    },
    {
     "name": "stdout",
     "output_type": "stream",
     "text": [
      "  0.757983 seconds (163.01 k allocations: 1.951 GiB, 11.52% gc time)\n"
     ]
    },
    {
     "name": "stderr",
     "output_type": "stream",
     "text": [
      "┌ Info: epoch 2 loss = 0.20768273653621058\n",
      "└ @ Main In[13]:13\n"
     ]
    },
    {
     "name": "stdout",
     "output_type": "stream",
     "text": [
      "  0.755957 seconds (163.01 k allocations: 1.951 GiB, 9.69% gc time)\n"
     ]
    },
    {
     "name": "stderr",
     "output_type": "stream",
     "text": [
      "┌ Info: epoch 3 loss = 0.15264513650689454\n",
      "└ @ Main In[13]:13\n"
     ]
    },
    {
     "name": "stdout",
     "output_type": "stream",
     "text": [
      "  0.766106 seconds (163.01 k allocations: 1.951 GiB, 11.41% gc time)\n"
     ]
    },
    {
     "name": "stderr",
     "output_type": "stream",
     "text": [
      "┌ Info: epoch 4 loss = 0.12068533624691201\n",
      "└ @ Main In[13]:13\n"
     ]
    },
    {
     "name": "stdout",
     "output_type": "stream",
     "text": [
      "  0.790535 seconds (163.01 k allocations: 1.951 GiB, 11.73% gc time)\n"
     ]
    },
    {
     "name": "stderr",
     "output_type": "stream",
     "text": [
      "┌ Info: epoch 5 loss = 0.09948631426212774\n",
      "└ @ Main In[13]:13\n"
     ]
    },
    {
     "name": "stdout",
     "output_type": "stream",
     "text": [
      "  0.749042 seconds (163.01 k allocations: 1.951 GiB, 10.17% gc time)\n"
     ]
    },
    {
     "name": "stderr",
     "output_type": "stream",
     "text": [
      "┌ Info: epoch 6 loss = 0.08462848175017493\n",
      "└ @ Main In[13]:13\n"
     ]
    },
    {
     "name": "stdout",
     "output_type": "stream",
     "text": [
      "  0.763076 seconds (163.01 k allocations: 1.951 GiB, 11.58% gc time)\n"
     ]
    },
    {
     "name": "stderr",
     "output_type": "stream",
     "text": [
      "┌ Info: epoch 7 loss = 0.07293157247018839\n",
      "└ @ Main In[13]:13\n"
     ]
    },
    {
     "name": "stdout",
     "output_type": "stream",
     "text": [
      "  0.737009 seconds (163.01 k allocations: 1.951 GiB, 8.39% gc time)\n"
     ]
    },
    {
     "name": "stderr",
     "output_type": "stream",
     "text": [
      "┌ Info: epoch 8 loss = 0.06216332802989073\n",
      "└ @ Main In[13]:13\n"
     ]
    },
    {
     "name": "stdout",
     "output_type": "stream",
     "text": [
      "  0.724461 seconds (163.02 k allocations: 1.951 GiB, 8.17% gc time)\n"
     ]
    },
    {
     "name": "stderr",
     "output_type": "stream",
     "text": [
      "┌ Info: epoch 9 loss = 0.05457949791791655\n",
      "└ @ Main In[13]:13\n"
     ]
    },
    {
     "name": "stdout",
     "output_type": "stream",
     "text": [
      "  0.742743 seconds (163.01 k allocations: 1.951 GiB, 9.23% gc time)\n"
     ]
    },
    {
     "name": "stderr",
     "output_type": "stream",
     "text": [
      "┌ Info: epoch 10 loss = 0.047562408875107556\n",
      "└ @ Main In[13]:13\n"
     ]
    }
   ],
   "source": [
    "for epoch in 1:10\n",
    "    losses = []\n",
    "    @time begin\n",
    "        for (x, y) in train_loader\n",
    "            # loss_function does forward pass\n",
    "            # Yota.jl grad function computes model parameter gradients in g[2]\n",
    "            loss, g = grad(loss_function, mlp, x, y)\n",
    "            \n",
    "            # Optimiser updates parameters\n",
    "            Optimisers.update!(state, mlp, g[2])\n",
    "            push!(losses, loss)\n",
    "        end\n",
    "        @info(\"epoch $epoch loss = $(mean(losses))\")\n",
    "    end\n",
    "end"
   ]
  },
  {
   "cell_type": "markdown",
   "metadata": {},
   "source": [
    "# Evaluation"
   ]
  },
  {
   "cell_type": "code",
   "execution_count": 14,
   "metadata": {},
   "outputs": [
    {
     "data": {
      "text/plain": [
       "evaluate (generic function with 1 method)"
      ]
     },
     "execution_count": 14,
     "metadata": {},
     "output_type": "execute_result"
    }
   ],
   "source": [
    "function evaluate(mlp, test_loader)\n",
    "    preds = []\n",
    "    targets = []\n",
    "    @time begin\n",
    "        for (x, y) in test_loader\n",
    "            # Get model predictions\n",
    "            # Note argmax of nd-array gives CartesianIndex\n",
    "            # Need to grab the first element of each CartesianIndex to get the true index\n",
    "            logits = mlp(x)\n",
    "            ŷ = map(i -> i[1], argmax(logits, dims=1))\n",
    "            append!(preds, ŷ)\n",
    "\n",
    "            # Get true labels\n",
    "            true_label = map(i -> i[1], argmax(y, dims=1))\n",
    "            append!(targets, true_label)\n",
    "        end\n",
    "    end\n",
    "    accuracy = sum(preds .== targets) / length(targets)\n",
    "    return accuracy\n",
    "end"
   ]
  },
  {
   "cell_type": "code",
   "execution_count": 17,
   "metadata": {},
   "outputs": [
    {
     "name": "stdout",
     "output_type": "stream",
     "text": [
      "  0.068577 seconds (3.42 k allocations: 115.477 MiB, 27.36% gc time)\n"
     ]
    },
    {
     "data": {
      "text/plain": [
       "0.9766"
      ]
     },
     "execution_count": 17,
     "metadata": {},
     "output_type": "execute_result"
    }
   ],
   "source": [
    "evaluate(mlp, test_loader)"
   ]
  },
  {
   "cell_type": "code",
   "execution_count": 16,
   "metadata": {},
   "outputs": [],
   "source": [
    "# Avg time per train epoch: 0.753 sec\n",
    "# Total time for train (with compile): 32.6 sec\n",
    "# Avg time per eval step: 0.77 ms"
   ]
  }
 ],
 "metadata": {
  "kernelspec": {
   "display_name": "Julia 1.8.0",
   "language": "julia",
   "name": "julia-1.8"
  },
  "language_info": {
   "file_extension": ".jl",
   "mimetype": "application/julia",
   "name": "julia",
   "version": "1.8.0"
  },
  "orig_nbformat": 4,
  "vscode": {
   "interpreter": {
    "hash": "b0fa6594d8f4cbf19f97940f81e996739fb7646882a419484c72d19e05852a7e"
   }
  }
 },
 "nbformat": 4,
 "nbformat_minor": 2
}
