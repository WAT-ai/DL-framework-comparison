{
  "nbformat": 4,
  "nbformat_minor": 0,
  "metadata": {
    "colab": {
      "provenance": [],
      "toc_visible": true
    },
    "kernelspec": {
      "name": "python3",
      "display_name": "Python 3"
    },
    "language_info": {
      "name": "python"
    }
  },
  "cells": [
    {
      "cell_type": "code",
      "execution_count": 24,
      "metadata": {
        "colab": {
          "base_uri": "https://localhost:8080/"
        },
        "id": "fXQ0HM08eeIP",
        "outputId": "06a14f36-50d4-4d23-b643-87aff2e59766"
      },
      "outputs": [
        {
          "output_type": "stream",
          "name": "stdout",
          "text": [
            "Files already downloaded and verified\n",
            "Files already downloaded and verified\n",
            "['airplane', 'automobile', 'bird', 'cat', 'deer', 'dog', 'frog', 'horse', 'ship', 'truck']\n",
            "50000\n"
          ]
        }
      ],
      "source": [
        "import os\n",
        "import torch\n",
        "import torchvision\n",
        "import tarfile\n",
        "import torch.nn as nn\n",
        "import numpy as np\n",
        "import torch.nn.functional as F\n",
        "from torchvision.datasets.utils import download_url\n",
        "from torchvision.datasets import ImageFolder\n",
        "from torch.utils.data import DataLoader\n",
        "import torchvision.transforms as transforms\n",
        "from torch.utils.data import random_split\n",
        "from torchvision.utils import make_grid\n",
        "import matplotlib.pyplot as plt\n",
        "%matplotlib inline\n",
        "\n",
        "project_name='cifar10-resnetV2-20'\n",
        "\n",
        "# Device configuration\n",
        "device = torch.device('cuda' if torch.cuda.is_available() else 'cpu')\n",
        "\n",
        "# Hyper-parameters\n",
        "num_epochs = 80\n",
        "learning_rate = 0.001\n",
        "\n",
        "#normalization\n",
        "normalize = transforms.Normalize(mean=[0.485, 0.456, 0.406],\n",
        "                                     std=[0.229, 0.224, 0.225])\n",
        "\n",
        "# CIFAR-10 dataset\n",
        "train_dataset = torchvision.datasets.CIFAR10(root='../../data/',\n",
        "                                             train=True, \n",
        "                                             transform=transforms.Compose([normalize]),\n",
        "                                             download=True)\n",
        "\n",
        "test_dataset = torchvision.datasets.CIFAR10(root='../../data/',\n",
        "                                            train=False, \n",
        "                                            transform=transforms.Compose([normalize]),\n",
        "                                            download=True)\n",
        "\n",
        "# Data loader\n",
        "train_loader = torch.utils.data.DataLoader(dataset=train_dataset,\n",
        "                                           batch_size=256, \n",
        "                                           shuffle=True)\n",
        "\n",
        "test_loader = torch.utils.data.DataLoader(dataset=test_dataset,\n",
        "                                          batch_size=256, \n",
        "                                          shuffle=False)\n",
        "\n",
        "print(train_dataset.classes)\n",
        "print(len(train_dataset))\n",
        "\n",
        "# conv = nn.Conv2d(3,1,kernel_size=3, padding=4)\n",
        "\n",
        "\n",
        "\n",
        "\n",
        "\n",
        "\n",
        "\n"
      ]
    },
    {
      "cell_type": "code",
      "source": [
        "class ResidualBlock(nn.Module):\n",
        "   def __init__(self, in_channels, channels, stride=1):\n",
        "     super(ResidualBlock, self).__init__()\n",
        "     conv_kwargs = {\n",
        "           \"kernel_size\": (3, 3),\n",
        "           \"padding\": \"same\",  # To ensure 3x3 conv does not reduce image size. padding=1 also works\n",
        "           \"bias\": False\n",
        "       }\n",
        "     self.stride = stride\n",
        "     self.in_channels = in_channels\n",
        "     self.channels = channels\n",
        "     self.bn1 = nn.BatchNorm2d(channels)\n",
        "     self.relu = nn.ReLU()\n",
        "       # This conv is in_channels -> channels and applies stride\n",
        "     self.conv1 = nn.Conv2d(in_channels=in_channels, out_channels=channels, stride=stride,\n",
        "                           **conv_kwargs)\n",
        "     self.bn2 = nn.BatchNorm2d(channels)\n",
        "       # This conv is channels -> channels\n",
        "     self.conv2 = nn.Conv2d(in_channels=channels, out_channels=channels, **conv_kwargs)\n",
        "  \n",
        "   def strided_identity(self, x):\n",
        "       # Downsample with 'nearest' method (this is striding if dims are divisible by stride)\n",
        "       # Equivalently x = x[:, :, ::stride, ::stride].contiguous()\n",
        "       x = nn.functional.interpolate(x, mode='nearest', scale_factor=(1/self.stride))\n",
        "       # Create padding tensor for extra channels\n",
        "       (b, c, h, w) = x.shape\n",
        "       num_pad_channels = self.channels - self.in_channels\n",
        "       pad = torch.zeros((b, num_pad_channels, h, w))\n",
        "       # Append padding to the downsampled identity\n",
        "       x = torch.cat((x, pad), dim=1)\n",
        "       return x\n",
        "\n",
        "   def forward(self, x):\n",
        "       if self.stride > 1:\n",
        "           identity = self.strided_identity(x)\n",
        "       else:\n",
        "        identity = x\n",
        "       z = self.bn1(x)\n",
        "       z = self.relu(z)\n",
        "       z = self.conv1(z)\n",
        "       z = self.bn2(z)\n",
        "       z = self.relu(z)\n",
        "       z = self.conv2(z)\n",
        "       out = identity + z\n",
        "       return out\n",
        "      "
      ],
      "metadata": {
        "id": "oOG-lfdDrzck"
      },
      "execution_count": 37,
      "outputs": []
    },
    {
      "cell_type": "code",
      "source": [
        "class ResNetV2(nn.Module):\n",
        "  def __init__(self):\n",
        "    super(ResNetV2, self).__init__()\n",
        "\n",
        "    self.input_layer = nn.Conv2d(3, 16, (3,3), padding=1)\n",
        "\n",
        "    self.layer_1 = ResidualBlock(16,16)\n",
        "    self.layer_2 = ResidualBlock(16,16)\n",
        "    self.layer_3 = ResidualBlock(16,16)\n",
        "\n",
        "    self.layer_4 = ResidualBlock(16,32, stride=2)\n",
        "    self.layer_5 = ResidualBlock(32,32)\n",
        "    self.layer_6 = ResidualBlock(32,32)\n",
        "\n",
        "    self.layer_7 = ResidualBlock(32,64, stride=2)\n",
        "    self.layer_8 = ResidualBlock(64,64)\n",
        "    self.layer_9 = ResidualBlock(64,64)\n",
        "\n",
        "    self.pool = nn.AdaptiveAvgPool2d((1,1))\n",
        "    self.output_layer = nn.Linear(64,10)\n",
        "\n",
        "\n",
        "    def forward(self, x):\n",
        "        out = self.input_layer(x)\n",
        "        out = self.layer_1(out)\n",
        "        out = self.layer_2(out)\n",
        "        out = self.layer_3(out)\n",
        "        out = self.layer_4(out)\n",
        "        out = self.layer_5(out)\n",
        "        out = self.layer_6(out)\n",
        "        out = self.layer_7(out)\n",
        "        out = self.layer_8(out)\n",
        "        out = self.layer_9(out)\n",
        "        out = self.pool(out)\n",
        "        out = self.output_layer(out)\n",
        "        return out\n",
        "\n",
        "model = ResNetV2().to(device)\n",
        "\n",
        "criterion = nn.CrossEntropyLoss()\n",
        "optimizer = torch.optim.Adam(model.parameters(), lr=learning_rate)\n",
        "\n",
        "\n",
        "        \n",
        "\n",
        "\n",
        "\n",
        "\n",
        "\n",
        "\n",
        "    \n"
      ],
      "metadata": {
        "colab": {
          "base_uri": "https://localhost:8080/",
          "height": 356
        },
        "id": "tkPlw69bQPBE",
        "outputId": "c7440013-2721-4809-f11e-198f1a2d4fa0"
      },
      "execution_count": 42,
      "outputs": [
        {
          "output_type": "error",
          "ename": "TypeError",
          "evalue": "ignored",
          "traceback": [
            "\u001b[0;31m---------------------------------------------------------------------------\u001b[0m",
            "\u001b[0;31mTypeError\u001b[0m                                 Traceback (most recent call last)",
            "\u001b[0;32m<ipython-input-42-859a8d866892>\u001b[0m in \u001b[0;36m<module>\u001b[0;34m\u001b[0m\n\u001b[1;32m     36\u001b[0m         \u001b[0;32mreturn\u001b[0m \u001b[0mout\u001b[0m\u001b[0;34m\u001b[0m\u001b[0;34m\u001b[0m\u001b[0m\n\u001b[1;32m     37\u001b[0m \u001b[0;34m\u001b[0m\u001b[0m\n\u001b[0;32m---> 38\u001b[0;31m \u001b[0mmodel\u001b[0m \u001b[0;34m=\u001b[0m \u001b[0mResNetV2\u001b[0m\u001b[0;34m(\u001b[0m\u001b[0;34m)\u001b[0m\u001b[0;34m.\u001b[0m\u001b[0mto\u001b[0m\u001b[0;34m(\u001b[0m\u001b[0mdevice\u001b[0m\u001b[0;34m)\u001b[0m\u001b[0;34m\u001b[0m\u001b[0;34m\u001b[0m\u001b[0m\n\u001b[0m\u001b[1;32m     39\u001b[0m \u001b[0;34m\u001b[0m\u001b[0m\n\u001b[1;32m     40\u001b[0m \u001b[0mcriterion\u001b[0m \u001b[0;34m=\u001b[0m \u001b[0mnn\u001b[0m\u001b[0;34m.\u001b[0m\u001b[0mCrossEntropyLoss\u001b[0m\u001b[0;34m(\u001b[0m\u001b[0;34m)\u001b[0m\u001b[0;34m\u001b[0m\u001b[0;34m\u001b[0m\u001b[0m\n",
            "\u001b[0;32m<ipython-input-42-859a8d866892>\u001b[0m in \u001b[0;36m__init__\u001b[0;34m(self)\u001b[0m\n\u001b[1;32m      5\u001b[0m     \u001b[0mself\u001b[0m\u001b[0;34m.\u001b[0m\u001b[0minput_layer\u001b[0m \u001b[0;34m=\u001b[0m \u001b[0mnn\u001b[0m\u001b[0;34m.\u001b[0m\u001b[0mConv2d\u001b[0m\u001b[0;34m(\u001b[0m\u001b[0;36m3\u001b[0m\u001b[0;34m,\u001b[0m \u001b[0;36m16\u001b[0m\u001b[0;34m,\u001b[0m \u001b[0;34m(\u001b[0m\u001b[0;36m3\u001b[0m\u001b[0;34m,\u001b[0m\u001b[0;36m3\u001b[0m\u001b[0;34m)\u001b[0m\u001b[0;34m,\u001b[0m \u001b[0mpadding\u001b[0m\u001b[0;34m=\u001b[0m\u001b[0;36m1\u001b[0m\u001b[0;34m)\u001b[0m\u001b[0;34m\u001b[0m\u001b[0;34m\u001b[0m\u001b[0m\n\u001b[1;32m      6\u001b[0m \u001b[0;34m\u001b[0m\u001b[0m\n\u001b[0;32m----> 7\u001b[0;31m     \u001b[0mself\u001b[0m\u001b[0;34m.\u001b[0m\u001b[0mlayer_1\u001b[0m \u001b[0;34m=\u001b[0m \u001b[0mResidualBlock\u001b[0m\u001b[0;34m(\u001b[0m\u001b[0;36m16\u001b[0m\u001b[0;34m,\u001b[0m\u001b[0;36m16\u001b[0m\u001b[0;34m)\u001b[0m\u001b[0;34m\u001b[0m\u001b[0;34m\u001b[0m\u001b[0m\n\u001b[0m\u001b[1;32m      8\u001b[0m     \u001b[0mself\u001b[0m\u001b[0;34m.\u001b[0m\u001b[0mlayer_2\u001b[0m \u001b[0;34m=\u001b[0m \u001b[0mResidualBlock\u001b[0m\u001b[0;34m(\u001b[0m\u001b[0;36m16\u001b[0m\u001b[0;34m,\u001b[0m\u001b[0;36m16\u001b[0m\u001b[0;34m)\u001b[0m\u001b[0;34m\u001b[0m\u001b[0;34m\u001b[0m\u001b[0m\n\u001b[1;32m      9\u001b[0m     \u001b[0mself\u001b[0m\u001b[0;34m.\u001b[0m\u001b[0mlayer_3\u001b[0m \u001b[0;34m=\u001b[0m \u001b[0mResidualBlock\u001b[0m\u001b[0;34m(\u001b[0m\u001b[0;36m16\u001b[0m\u001b[0;34m,\u001b[0m\u001b[0;36m16\u001b[0m\u001b[0;34m)\u001b[0m\u001b[0;34m\u001b[0m\u001b[0;34m\u001b[0m\u001b[0m\n",
            "\u001b[0;31mTypeError\u001b[0m: __init__() missing 1 required positional argument: 'stride'"
          ]
        }
      ]
    }
  ]
}